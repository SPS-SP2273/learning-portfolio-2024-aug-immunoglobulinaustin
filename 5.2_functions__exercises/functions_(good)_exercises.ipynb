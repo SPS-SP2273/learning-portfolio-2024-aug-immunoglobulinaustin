{
 "cells": [
  {
   "attachments": {},
   "cell_type": "markdown",
   "id": "123456",
   "metadata": {},
   "source": [
    "<div style=\"text-align:left;font-size:2em\"><span style=\"font-weight:bolder;font-size:1.25em\">SP2273 | Learning Portfolio</span><br><br><span style=\"font-weight:bold;color:darkred\">Functions (Good) Exercises</span></div>"
   ]
  },
  {
   "cell_type": "markdown",
   "id": "6a00a7de-092a-41fb-863f-50c2d5c14883",
   "metadata": {},
   "source": [
    "# Exercise 1"
   ]
  },
  {
   "cell_type": "code",
   "execution_count": 27,
   "id": "98d02430-1715-4d41-afea-104b754d567b",
   "metadata": {},
   "outputs": [
    {
     "name": "stdin",
     "output_type": "stream",
     "text": [
      "What is your temperature in celsius? 5\n",
      "Do you want it to be converted to Fahrenheit or Kelvin? Kelvin\n"
     ]
    },
    {
     "name": "stdout",
     "output_type": "stream",
     "text": [
      "\n"
     ]
    }
   ],
   "source": [
    "temperature_celsius = int(input('What is your temperature in celsius?'))\n",
    "target_scale = str(input('Do you want it to be converted to Fahrenheit or Kelvin?'))\n",
    "converted = ''\n",
    "\n",
    "def convert_celsius(temperature_celcius, target_scale):\n",
    "    if target_scale == 'Fahrenheit':\n",
    "        converted = (temperature_celcius * 9/5) + 32 #for fahrenheit\n",
    "    elif target_scale == 'Kelvin':\n",
    "        converted  = temperature_celcius + 273.15\n",
    "    else:\n",
    "        print('Please input a valid response. Take note of the capitalisation')\n",
    "\n",
    "#print(f'') input the variables into this"
   ]
  }
 ],
 "metadata": {
  "kernelspec": {
   "display_name": "Python 3 (ipykernel)",
   "language": "python",
   "name": "python3"
  },
  "language_info": {
   "codemirror_mode": {
    "name": "ipython",
    "version": 3
   },
   "file_extension": ".py",
   "mimetype": "text/x-python",
   "name": "python",
   "nbconvert_exporter": "python",
   "pygments_lexer": "ipython3",
   "version": "3.12.3"
  },
  "toc": {
   "base_numbering": 1,
   "nav_menu": {},
   "number_sections": true,
   "sideBar": true,
   "skip_h1_title": false,
   "title_cell": "Table of Contents",
   "title_sidebar": "Contents",
   "toc_cell": false,
   "toc_position": {},
   "toc_section_display": true,
   "toc_window_display": false
  },
  "vscode": {
   "interpreter": {
    "hash": "31f2aee4e71d21fbe5cf8b01ff0e069b9275f58929596ceb00d14d90e3e16cd6"
   }
  }
 },
 "nbformat": 4,
 "nbformat_minor": 5
}
