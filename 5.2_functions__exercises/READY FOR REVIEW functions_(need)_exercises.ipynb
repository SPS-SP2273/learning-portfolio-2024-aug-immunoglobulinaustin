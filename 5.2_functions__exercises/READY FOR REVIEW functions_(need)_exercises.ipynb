{
 "cells": [
  {
   "attachments": {},
   "cell_type": "markdown",
   "id": "123456",
   "metadata": {},
   "source": [
    "<div style=\"text-align:left;font-size:2em\"><span style=\"font-weight:bolder;font-size:1.25em\">SP2273 | Learning Portfolio</span><br><br><span style=\"font-weight:bold;color:darkred\">Functions (Need) Exercises</span></div>"
   ]
  },
  {
   "cell_type": "markdown",
   "id": "467fff59-2871-45bd-ae6b-96372d117267",
   "metadata": {},
   "source": [
    "# Exercise 1"
   ]
  },
  {
   "cell_type": "code",
   "execution_count": 2,
   "id": "c9719a51-51bd-4edc-87bc-134c195e36c2",
   "metadata": {},
   "outputs": [],
   "source": [
    "def greeting(name):\n",
    "    if name == 'Batman':\n",
    "        return 'Hello Batman! So, nice to meet you!'\n",
    "    return f'Hello {name}!'"
   ]
  },
  {
   "cell_type": "markdown",
   "id": "67b69b31-7fdd-4db0-83df-8a50c4a432de",
   "metadata": {},
   "source": [
    "If the name is 'batman', it will exit the function and is expected to generate an output, which is defined as output 'Hello Batman! So, nice to meet you!'. If the name is anything else, it will print 'Hello {name}'."
   ]
  },
  {
   "cell_type": "markdown",
   "id": "00cdeb9d-734d-405d-a506-1e326cf3e383",
   "metadata": {},
   "source": [
    "# Exercise 2\n",
    "| Category      | BMI Range                 |\n",
    "|---------------|---------------------------|\n",
    "| Underweight   | BMI less than 18.5        |\n",
    "| Normal weight | BMI between 18.5 and 24.9 |\n",
    "| Overweight    | BMI between 25 and 29.9   |\n",
    "| Obese         | BbMI 30 or more            |"
   ]
  },
  {
   "cell_type": "code",
   "execution_count": 18,
   "id": "74b4eefc-592d-42f8-a5b7-01c5f979c4c6",
   "metadata": {},
   "outputs": [
    {
     "name": "stdin",
     "output_type": "stream",
     "text": [
      "What is your weight in KG? 100000\n",
      "What is your height in meters? 2\n"
     ]
    },
    {
     "data": {
      "text/plain": [
       "'Fatass'"
      ]
     },
     "execution_count": 18,
     "metadata": {},
     "output_type": "execute_result"
    }
   ],
   "source": [
    "weight = float(input('What is your weight in KG?'))\n",
    "height = float(input('What is your height in meters?'))\n",
    "\n",
    "def calculate_bmi(weight, height): #defining the two argument\n",
    "    bmi = weight / (height**2)\n",
    "    if bmi <= 18.5:\n",
    "        return 'Underweight, you r too skinny, go bulk up '\n",
    "    if 18.5 <= bmi <= 24.9:\n",
    "        return 'U average'\n",
    "    if 25 <= bmi <= 29.9:\n",
    "        return 'Slightly fat'\n",
    "    if bmi >= 30:\n",
    "        return 'Fatass'\n",
    "    else:\n",
    "        return 'Not valid'\n",
    "\n",
    "calculate_bmi(weight, height)"
   ]
  },
  {
   "cell_type": "markdown",
   "id": "cef46a92-9281-415d-a5bd-80fbc01c070a",
   "metadata": {},
   "source": [
    "# Exercise 3"
   ]
  },
  {
   "cell_type": "code",
   "execution_count": 27,
   "id": "a87b4cd4-8edc-4e42-a6da-2b1916fc4d67",
   "metadata": {},
   "outputs": [
    {
     "name": "stdin",
     "output_type": "stream",
     "text": [
      "What integer you want 5\n"
     ]
    },
    {
     "data": {
      "text/plain": [
       "120"
      ]
     },
     "execution_count": 27,
     "metadata": {},
     "output_type": "execute_result"
    }
   ],
   "source": [
    "n = int(input('What integer you want'))\n",
    "\n",
    "def factorial(n):\n",
    "    if n <= 0: #fixed, negative no longer generaetes valid input\n",
    "        return \"Invalid input\"\n",
    "    elif n == 0: #As 0! is =1, you're telling it to give 1 when n is 0\n",
    "        return 1\n",
    "    else:\n",
    "        result = 1 \n",
    "        for number in range(1, n+1): #upper limit will not be counted. Take upper - lower limit gives you the position it will carry on.\n",
    "            result *= number #change + to *, as factorial uses multiplication\n",
    "        return result\n",
    "\n",
    "factorial(n)\n",
    "\n",
    "#copied from fundamentals (good exercise), need edit"
   ]
  }
 ],
 "metadata": {
  "kernelspec": {
   "display_name": "Python 3 (ipykernel)",
   "language": "python",
   "name": "python3"
  },
  "language_info": {
   "codemirror_mode": {
    "name": "ipython",
    "version": 3
   },
   "file_extension": ".py",
   "mimetype": "text/x-python",
   "name": "python",
   "nbconvert_exporter": "python",
   "pygments_lexer": "ipython3",
   "version": "3.12.3"
  },
  "toc": {
   "base_numbering": 1,
   "nav_menu": {},
   "number_sections": true,
   "sideBar": true,
   "skip_h1_title": false,
   "title_cell": "Table of Contents",
   "title_sidebar": "Contents",
   "toc_cell": false,
   "toc_position": {},
   "toc_section_display": true,
   "toc_window_display": false
  },
  "vscode": {
   "interpreter": {
    "hash": "31f2aee4e71d21fbe5cf8b01ff0e069b9275f58929596ceb00d14d90e3e16cd6"
   }
  }
 },
 "nbformat": 4,
 "nbformat_minor": 5
}
