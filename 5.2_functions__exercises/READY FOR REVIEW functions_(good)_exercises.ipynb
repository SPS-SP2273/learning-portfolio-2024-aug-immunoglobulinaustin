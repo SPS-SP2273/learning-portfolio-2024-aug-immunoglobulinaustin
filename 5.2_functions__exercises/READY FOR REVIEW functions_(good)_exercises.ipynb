{
 "cells": [
  {
   "attachments": {},
   "cell_type": "markdown",
   "id": "123456",
   "metadata": {},
   "source": [
    "<div style=\"text-align:left;font-size:2em\"><span style=\"font-weight:bolder;font-size:1.25em\">SP2273 | Learning Portfolio</span><br><br><span style=\"font-weight:bold;color:darkred\">Functions (Good) Exercises</span></div>"
   ]
  },
  {
   "cell_type": "markdown",
   "id": "6a00a7de-092a-41fb-863f-50c2d5c14883",
   "metadata": {},
   "source": [
    "# Exercise 1"
   ]
  },
  {
   "cell_type": "markdown",
   "id": "725f7d6a-00ee-469d-af6c-f8024688322c",
   "metadata": {},
   "source": [
    "Old code\n",
    "```temperature_celsius = int(input('What is your temperature in Celsius?'))\n",
    "target_scale = str(input('Do you want it to be converted to Fahrenheit or Kelvin?'))\n",
    "converted = ''\n",
    "\n",
    "def convert_celsius(temperature_celsius, target_scale):\n",
    "    if target_scale == 'Fahrenheit':\n",
    "        converted = (temperature_celsius * 9/5) + 32 #for fahrenheit\n",
    "    elif target_scale == 'Kelvin':\n",
    "        converted = temperature_celsius + 273.15\n",
    "    else:\n",
    "        print('Please input a valid response. Take note of the capitalisation')\n",
    "    print(f'Your converted temperature is {converted}')\n",
    "\n",
    "convert_celsius(temperature_celsius, target_scale)```"
   ]
  },
  {
   "cell_type": "code",
   "execution_count": 1,
   "id": "4978f01b-f530-4fa7-87ad-c892f5039dcf",
   "metadata": {},
   "outputs": [
    {
     "name": "stdin",
     "output_type": "stream",
     "text": [
      "What is your temperature in Celsius? 50\n",
      "Input \"Kelvin\" for Kelvin conversion. If not just hit enter \n"
     ]
    },
    {
     "name": "stdout",
     "output_type": "stream",
     "text": [
      "Your converted temperature is 122.0\n"
     ]
    }
   ],
   "source": [
    "# #First amend\n",
    "# temperature_celsius = int(input('What is your temperature in Celsius?'))\n",
    "# target_scale = str(input('Input \"Kelvin\" for Kelvin conversion. If not just hit enter'))\n",
    "# converted = ''\n",
    "\n",
    "# def convert_celsius(temperature_celsius, target_scale = 'Fahrenheit'):\n",
    "#     if target_scale == 'Kelvin':\n",
    "#         converted = temperature_celsius + 273.15 #for kelvin\n",
    "#     else:\n",
    "#         target_scale == 'Fahrenheit'\n",
    "#         converted = (temperature_celsius * 9/5) + 32 #for fahrenheit\n",
    "#     print(f'Your converted temperature is {converted}')\n",
    "\n",
    "# convert_celsius(temperature_celsius, target_scale)"
   ]
  },
  {
   "cell_type": "code",
   "execution_count": 18,
   "id": "5ee9bdb5-481d-4cbc-a6ab-7c0ec01f2ccb",
   "metadata": {},
   "outputs": [
    {
     "name": "stdin",
     "output_type": "stream",
     "text": [
      "What is your temperature in Celsius? 50\n",
      "Input \"Kelvin\" for Kelvin conversion. If not just hit enter \n"
     ]
    },
    {
     "name": "stdout",
     "output_type": "stream",
     "text": [
      "Your converted temperature is 122.0\n"
     ]
    }
   ],
   "source": [
    "#Second amend, check w Bijaya\n",
    "temperature_celsius = int(input('What is your temperature in Celsius?'))\n",
    "target_scale = str(input('Input \"Kelvin\" for Kelvin conversion. If not just hit enter'))\n",
    "Fahrenheit = (temperature_celsius * 9/5) + 32\n",
    "Kelvin = temperature_celsius + 273.15\n",
    "\n",
    "\n",
    "def convert_celsius(temperature, target_scale = Fahrenheit):\n",
    "    if target_scale == \"Kelvin\":\n",
    "        print(f'Your converted temperature is {Kelvin}')\n",
    "    else:\n",
    "        print(f'Your converted temperature is {Fahrenheit}')\n",
    "\n",
    "convert_celsius(temperature_celsius, target_scale)"
   ]
  },
  {
   "cell_type": "markdown",
   "id": "729d957f-3013-4d6d-a395-43bcd89e972e",
   "metadata": {},
   "source": [
    "# Exercise 2"
   ]
  },
  {
   "cell_type": "code",
   "execution_count": 2,
   "id": "f1da2a0d-b4c4-4ee3-b60a-c0f13e0f9c4b",
   "metadata": {},
   "outputs": [
    {
     "name": "stdin",
     "output_type": "stream",
     "text": [
      "What is your temperature in Fahrenheit? 50\n",
      "Input \"Kelvin\" for Kelvin conversion. If not just hit enter \n"
     ]
    },
    {
     "name": "stdout",
     "output_type": "stream",
     "text": [
      "Your converted temperature is 10.0\n"
     ]
    }
   ],
   "source": [
    "# temperature_fahrenheit = int(input('What is your temperature in Fahrenheit?'))\n",
    "# target_scale = str(input('Input \"Kelvin\" for Kelvin conversion. If not just hit enter'))\n",
    "# converted = ''\n",
    "\n",
    "# def convert_fahrenheit(temperature_fahrenheit, target_scale = \"Celsius\"):\n",
    "#     if target_scale == 'Kelvin':\n",
    "#         converted = (temperature_fahrenheit - 32) * 5/9 + 273.15 #kelvin\n",
    "#     else:\n",
    "#         converted = (temperature_fahrenheit - 32) * 5/9 #for celsius\n",
    "#     print(f'Your converted temperature is {converted}')\n",
    "\n",
    "# convert_fahrenheit(temperature_fahrenheit, target_scale)"
   ]
  },
  {
   "cell_type": "code",
   "execution_count": 12,
   "id": "25daf80c-ac29-4d6e-b743-bd79f10b677c",
   "metadata": {},
   "outputs": [
    {
     "name": "stdin",
     "output_type": "stream",
     "text": [
      "What is your temperature in Fahrenheit? 50\n",
      "Input \"Kelvin\" for Kelvin conversion. If not just hit enter \n"
     ]
    },
    {
     "name": "stdout",
     "output_type": "stream",
     "text": [
      "Your converted temperature is 10.0\n"
     ]
    }
   ],
   "source": [
    "#Second amend, check w Bijaya\n",
    "temperature_fahrenheit = int(input('What is your temperature in Fahrenheit?'))\n",
    "target_scale = str(input('Input \"Kelvin\" for Kelvin conversion. If not just hit enter'))\n",
    "Celsius = (temperature_fahrenheit - 32) * 5/9 #for celsius\n",
    "Kelvin = (temperature_fahrenheit - 32) * 5/9 + 273.15 #kelvin\n",
    "\n",
    "\n",
    "def convert_fahrenheit(temperature_fahrenheit, target_scale = Celsius):\n",
    "    if target_scale == 'Kelvin':\n",
    "        print(f'Your converted temperature is {Kelvin}')\n",
    "    else:\n",
    "        print(f'Your converted temperature is {Celsius}')\n",
    "\n",
    "convert_fahrenheit(temperature_fahrenheit, target_scale)"
   ]
  },
  {
   "cell_type": "markdown",
   "id": "3dc14926-29d9-4281-8bc7-9d674ecb51c4",
   "metadata": {},
   "source": [
    "# Exercise 3"
   ]
  },
  {
   "cell_type": "markdown",
   "id": "47e7a6c8-ffdd-463d-aec2-80e92acd7cbd",
   "metadata": {},
   "source": [
    "#Original code, please ignore this\n",
    "```temperature = int(input('What is your temperature?'))\n",
    "source_scale = str(input('What unit is it? Please capitalise the first letter.'))\n",
    "target_scale = str(input('Do you want to convert it into Celsius, Fahrenheit or Kelvin?'))\n",
    "converted = ''\n",
    "\n",
    "def convert_temperature(temperature, source_scale, target_scale):\n",
    "    if source_scale == 'Celsius':\n",
    "        if target_scale == 'Kelvin':\n",
    "            converted = (temperature + 273.15)\n",
    "        elif target_scale == 'Fahrenheit':\n",
    "            converted = (temperature_celsius * 9/5) + 32\n",
    "    elif source_scale == 'Fahrenheit':\n",
    "        if target_scale == 'Celsius':\n",
    "            converted = (temperature - 32) * 5/9\n",
    "        elif target_scale == 'Kelvin':\n",
    "            converted = (temperature - 32) * 5/9 + 273.15\n",
    "    elif source_scale == 'Kelvin':\n",
    "        if target_scale == 'Celsius':\n",
    "            converted = temperature - 273.15\n",
    "        elif target_scale == 'Fahrenheit':\n",
    "            converted = (temperature - 273.15) * 9/5 + 32\n",
    "    else:\n",
    "         print(f'You cannot convert {source_scale} to itself!')\n",
    "    print(f'Your converted temperature is {converted}')\n",
    "\n",
    "convert_temperature(temperature, source_scale, target_scale)```"
   ]
  },
  {
   "cell_type": "code",
   "execution_count": 23,
   "id": "c4b38c18-cb9f-4d73-ba26-ce321fe57d7d",
   "metadata": {},
   "outputs": [
    {
     "name": "stdin",
     "output_type": "stream",
     "text": [
      "What is your temperature? 50\n",
      "What unit is it? Please capitalise the first letter. Fahrenheit\n",
      "Do you want to convert it into Celsius, Fahrenheit or Kelvin? Kelvin\n"
     ]
    },
    {
     "name": "stdout",
     "output_type": "stream",
     "text": [
      "Your converted temperature is 323.15\n"
     ]
    }
   ],
   "source": [
    "#Correct answer\n",
    "temperature = int(input('What is your temperature?'))\n",
    "source_scale = str(input('What unit is it? Please capitalise the first letter.'))\n",
    "target_scale = str(input('Do you want to convert it into Celsius, Fahrenheit or Kelvin?'))\n",
    "converted = ''\n",
    "\n",
    "def convert_temperature(temperature, source_scale, target_scale):\n",
    "    if source_scale == 'Celsius':\n",
    "        converted = convert_celsius(temperature, target_scale)\n",
    "    elif source_scale == 'Fahrenheit':\n",
    "        converted = convert_fahrenheit(temperature, target_scale)\n",
    "    elif source_scale == 'Kelvin':\n",
    "        if target_scale == 'Celsius':\n",
    "            converted = temperature - 273.15\n",
    "        elif target_scale == 'Fahrenheit':\n",
    "            converted = (temperature - 273.15) * 9/5 + 32\n",
    "            print(f'Your converted temperature is {converted}')\n",
    "    else:\n",
    "         print(f'Wrong input, try again')\n",
    "\n",
    "convert_temperature(temperature, source_scale, target_scale)"
   ]
  }
 ],
 "metadata": {
  "kernelspec": {
   "display_name": "Python 3 (ipykernel)",
   "language": "python",
   "name": "python3"
  },
  "language_info": {
   "codemirror_mode": {
    "name": "ipython",
    "version": 3
   },
   "file_extension": ".py",
   "mimetype": "text/x-python",
   "name": "python",
   "nbconvert_exporter": "python",
   "pygments_lexer": "ipython3",
   "version": "3.12.3"
  },
  "toc": {
   "base_numbering": 1,
   "nav_menu": {},
   "number_sections": true,
   "sideBar": true,
   "skip_h1_title": false,
   "title_cell": "Table of Contents",
   "title_sidebar": "Contents",
   "toc_cell": false,
   "toc_position": {},
   "toc_section_display": true,
   "toc_window_display": false
  },
  "vscode": {
   "interpreter": {
    "hash": "31f2aee4e71d21fbe5cf8b01ff0e069b9275f58929596ceb00d14d90e3e16cd6"
   }
  }
 },
 "nbformat": 4,
 "nbformat_minor": 5
}
