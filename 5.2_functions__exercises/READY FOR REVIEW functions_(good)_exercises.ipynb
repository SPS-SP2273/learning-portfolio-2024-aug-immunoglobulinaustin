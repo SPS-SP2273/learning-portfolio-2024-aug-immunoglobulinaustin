{
 "cells": [
  {
   "attachments": {},
   "cell_type": "markdown",
   "id": "123456",
   "metadata": {},
   "source": [
    "<div style=\"text-align:left;font-size:2em\"><span style=\"font-weight:bolder;font-size:1.25em\">SP2273 | Learning Portfolio</span><br><br><span style=\"font-weight:bold;color:darkred\">Functions (Good) Exercises</span></div>"
   ]
  },
  {
   "cell_type": "markdown",
   "id": "6a00a7de-092a-41fb-863f-50c2d5c14883",
   "metadata": {},
   "source": [
    "# Exercise 1"
   ]
  },
  {
   "cell_type": "code",
   "execution_count": 42,
   "id": "98d02430-1715-4d41-afea-104b754d567b",
   "metadata": {},
   "outputs": [
    {
     "name": "stdin",
     "output_type": "stream",
     "text": [
      "What is your temperature in celsius? 35\n",
      "Do you want it to be converted to Fahrenheit or Kelvin? Fahrenheit\n"
     ]
    },
    {
     "name": "stdout",
     "output_type": "stream",
     "text": [
      "Your converted temperature is 95.0\n"
     ]
    }
   ],
   "source": [
    "temperature_celsius = int(input('What is your temperature in celsius?'))\n",
    "target_scale = str(input('Do you want it to be converted to Fahrenheit or Kelvin?'))\n",
    "converted = ''\n",
    "\n",
    "def convert_celsius(temperature_celsius, target_scale):\n",
    "    if target_scale == 'Fahrenheit':\n",
    "        converted = (temperature_celsius * 9/5) + 32 #for fahrenheit\n",
    "    elif target_scale == 'Kelvin':\n",
    "        converted = temperature_celsius + 273.15\n",
    "    else:\n",
    "        print('Please input a valid response. Take note of the capitalisation')\n",
    "    print(f'Your converted temperature is {converted}')\n",
    "\n",
    "convert_celsius(temperature_celsius, target_scale)"
   ]
  },
  {
   "cell_type": "code",
   "execution_count": 30,
   "id": "fc8765f3-c69f-4798-9de2-d74b64fd17c1",
   "metadata": {},
   "outputs": [
    {
     "name": "stdin",
     "output_type": "stream",
     "text": [
      "What is your temperature in Fahrenheit? 100\n",
      "Do you want it to be converted to Celsius or Kelvin? Kelvin\n"
     ]
    },
    {
     "name": "stdout",
     "output_type": "stream",
     "text": [
      "Your converted temperature is 310.92777777777775\n"
     ]
    }
   ],
   "source": [
    "temperature_fahrenheit = int(input('What is your temperature in Fahrenheit?'))\n",
    "target_scale = str(input('Do you want it to be converted to Celsius or Kelvin?'))\n",
    "converted = ''\n",
    "\n",
    "def convert_fahrenheit(temperature_fahrenheit, target_scale):\n",
    "    if target_scale == 'Celsius':\n",
    "        converted = (temperature_fahrenheit - 32) * 5/9 #for celcius\n",
    "    elif target_scale == 'Kelvin':\n",
    "        converted = (temperature_fahrenheit - 32) * 5/9 + 273.15 #kelvin\n",
    "    else:\n",
    "        print('Please input a valid response. Take note of the capitalisation')\n",
    "    print(f'Your converted temperature is {converted}')\n",
    "\n",
    "convert_fahrenheit(temperature_fahrenheit, target_scale)"
   ]
  },
  {
   "cell_type": "code",
   "execution_count": 44,
   "id": "c720c4b3-fce6-4745-b45b-ac6d39e2e7b2",
   "metadata": {},
   "outputs": [
    {
     "name": "stdin",
     "output_type": "stream",
     "text": [
      "What is your temperature? 100\n",
      "What unit is it? Please capitalise the first letter. Fahrenheit\n",
      "Do you want to convert it into Celsius, Fahrenheit or Kelvin? Celsius\n"
     ]
    },
    {
     "name": "stdout",
     "output_type": "stream",
     "text": [
      "Your converted temperature is 37.77777777777778\n"
     ]
    }
   ],
   "source": [
    "temperature = int(input('What is your temperature?'))\n",
    "source_scale = str(input('What unit is it? Please capitalise the first letter.'))\n",
    "target_scale = str(input('Do you want to convert it into Celsius, Fahrenheit or Kelvin?'))\n",
    "converted = ''\n",
    "\n",
    "def convert_temperature(temperature, source_scale, target_scale):\n",
    "    if source_scale == 'Celsius':\n",
    "        if target_scale == 'Kelvin':\n",
    "            converted = (temperature + 273.15)\n",
    "        elif target_scale == 'Fahrenheit':\n",
    "            converted = (temperature_celsius * 9/5) + 32\n",
    "    elif source_scale == 'Fahrenheit':\n",
    "        if target_scale == 'Celsius':\n",
    "            converted = (temperature - 32) * 5/9\n",
    "        elif target_scale == 'Kelvin':\n",
    "            converted = (temperature - 32) * 5/9 + 273.15\n",
    "    elif source_scale == 'Kelvin':\n",
    "        if target_scale == 'Celsius':\n",
    "            converted = temperature - 273.15\n",
    "        elif target_scale == 'Fahrenheit':\n",
    "            converted = (temperature - 273.15) * 9/5 + 32\n",
    "    else:\n",
    "         print(f'You cannot convert {source_scale} to itself!')\n",
    "    print(f'Your converted temperature is {converted}')\n",
    "\n",
    "convert_temperature(temperature, source_scale, target_scale)"
   ]
  }
 ],
 "metadata": {
  "kernelspec": {
   "display_name": "Python 3 (ipykernel)",
   "language": "python",
   "name": "python3"
  },
  "language_info": {
   "codemirror_mode": {
    "name": "ipython",
    "version": 3
   },
   "file_extension": ".py",
   "mimetype": "text/x-python",
   "name": "python",
   "nbconvert_exporter": "python",
   "pygments_lexer": "ipython3",
   "version": "3.12.3"
  },
  "toc": {
   "base_numbering": 1,
   "nav_menu": {},
   "number_sections": true,
   "sideBar": true,
   "skip_h1_title": false,
   "title_cell": "Table of Contents",
   "title_sidebar": "Contents",
   "toc_cell": false,
   "toc_position": {},
   "toc_section_display": true,
   "toc_window_display": false
  },
  "vscode": {
   "interpreter": {
    "hash": "31f2aee4e71d21fbe5cf8b01ff0e069b9275f58929596ceb00d14d90e3e16cd6"
   }
  }
 },
 "nbformat": 4,
 "nbformat_minor": 5
}
