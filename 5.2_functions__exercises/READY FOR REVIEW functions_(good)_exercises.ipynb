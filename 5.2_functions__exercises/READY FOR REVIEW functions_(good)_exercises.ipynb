{
 "cells": [
  {
   "attachments": {},
   "cell_type": "markdown",
   "id": "123456",
   "metadata": {},
   "source": [
    "<div style=\"text-align:left;font-size:2em\"><span style=\"font-weight:bolder;font-size:1.25em\">SP2273 | Learning Portfolio</span><br><br><span style=\"font-weight:bold;color:darkred\">Functions (Good) Exercises</span></div>"
   ]
  },
  {
   "cell_type": "markdown",
   "id": "6a00a7de-092a-41fb-863f-50c2d5c14883",
   "metadata": {},
   "source": [
    "# Exercise 1"
   ]
  },
  {
   "cell_type": "code",
   "execution_count": 19,
   "id": "98d02430-1715-4d41-afea-104b754d567b",
   "metadata": {},
   "outputs": [
    {
     "name": "stdin",
     "output_type": "stream",
     "text": [
      "What is your temperature in Celsius? 50\n",
      "Do you want it to be converted to Kelvin? Default would be Fahrenheit. (Yes/No) Yes\n"
     ]
    },
    {
     "name": "stdout",
     "output_type": "stream",
     "text": [
      "Your converted temperature is 323.15\n"
     ]
    }
   ],
   "source": [
    "temperature_celsius = int(input('What is your temperature in Celsius?'))\n",
    "target_scale = str(input('Do you want it to be converted to Kelvin? Default would be Fahrenheit. (Yes/No)'))\n",
    "converted = ''\n",
    "\n",
    "def convert_celsius(temperature_celsius, target_scale):\n",
    "    if target_scale == 'No':\n",
    "        converted = (temperature_celsius * 9/5) + 32 #for fahrenheit\n",
    "    elif target_scale == 'Yes':\n",
    "        converted = temperature_celsius + 273.15\n",
    "    else:\n",
    "        print('Please input a valid response. Take note of the capitalisation')\n",
    "    print(f'Your converted temperature is {converted}')\n",
    "\n",
    "convert_celsius(temperature_celsius, target_scale)"
   ]
  },
  {
   "cell_type": "markdown",
   "id": "729d957f-3013-4d6d-a395-43bcd89e972e",
   "metadata": {},
   "source": [
    "# Exercise 2"
   ]
  },
  {
   "cell_type": "code",
   "execution_count": 10,
   "id": "fc8765f3-c69f-4798-9de2-d74b64fd17c1",
   "metadata": {},
   "outputs": [
    {
     "name": "stdin",
     "output_type": "stream",
     "text": [
      "What is your temperature in Fahrenheit? 200\n",
      "Do you want it to be converted to Celsius? Default would be Kelvin. (Yes/No) Yes\n"
     ]
    },
    {
     "name": "stdout",
     "output_type": "stream",
     "text": [
      "Your converted temperature is 93.33333333333333\n"
     ]
    }
   ],
   "source": [
    "temperature_fahrenheit = int(input('What is your temperature in Fahrenheit?'))\n",
    "target_scale = str(input('Do you want it to be converted to Celsius? Default would be Kelvin. (Yes/No)'))\n",
    "converted = ''\n",
    "\n",
    "def convert_fahrenheit(temperature_fahrenheit, target_scale):\n",
    "    if target_scale == 'No':\n",
    "        converted = (temperature_fahrenheit - 32) * 5/9 + 273.15 #kelvin\n",
    "    elif target_scale == 'Yes':\n",
    "        converted = (temperature_fahrenheit - 32) * 5/9 #for celcius\n",
    "    else:\n",
    "        print('Please input a valid response. Take note of the capitalisation')\n",
    "    print(f'Your converted temperature is {converted}')\n",
    "\n",
    "convert_fahrenheit(temperature_fahrenheit, target_scale)"
   ]
  },
  {
   "cell_type": "markdown",
   "id": "3dc14926-29d9-4281-8bc7-9d674ecb51c4",
   "metadata": {},
   "source": [
    "# Exercise 3"
   ]
  },
  {
   "cell_type": "code",
   "execution_count": 18,
   "id": "44734d13-3fbd-43e8-9945-e84f2fb53370",
   "metadata": {},
   "outputs": [
    {
     "name": "stdin",
     "output_type": "stream",
     "text": [
      "What is your temperature? 50\n",
      "What unit is it? Celsius, Fahrenheit or Kelvin? Celsius\n",
      "Do you want to convert it into Celsius, Fahrenheit or Kelvin? Kelvin\n"
     ]
    },
    {
     "name": "stdout",
     "output_type": "stream",
     "text": [
      "Please input a valid response. Take note of the capitalisation\n"
     ]
    },
    {
     "ename": "UnboundLocalError",
     "evalue": "cannot access local variable 'converted' where it is not associated with a value",
     "output_type": "error",
     "traceback": [
      "\u001b[1;31m---------------------------------------------------------------------------\u001b[0m",
      "\u001b[1;31mUnboundLocalError\u001b[0m                         Traceback (most recent call last)",
      "Cell \u001b[1;32mIn[18], line 20\u001b[0m\n\u001b[0;32m     17\u001b[0m          \u001b[38;5;28mprint\u001b[39m(\u001b[38;5;124mf\u001b[39m\u001b[38;5;124m'\u001b[39m\u001b[38;5;124mYou cannot convert \u001b[39m\u001b[38;5;132;01m{\u001b[39;00msource_scale\u001b[38;5;132;01m}\u001b[39;00m\u001b[38;5;124m to itself!\u001b[39m\u001b[38;5;124m'\u001b[39m)\n\u001b[0;32m     18\u001b[0m     \u001b[38;5;28mprint\u001b[39m(\u001b[38;5;124mf\u001b[39m\u001b[38;5;124m'\u001b[39m\u001b[38;5;124mYour converted temperature is \u001b[39m\u001b[38;5;132;01m{\u001b[39;00mconverted\u001b[38;5;132;01m}\u001b[39;00m\u001b[38;5;124m'\u001b[39m)\n\u001b[1;32m---> 20\u001b[0m \u001b[43mconvert_temperature\u001b[49m\u001b[43m(\u001b[49m\u001b[43mtemperature\u001b[49m\u001b[43m,\u001b[49m\u001b[43m \u001b[49m\u001b[43msource_scale\u001b[49m\u001b[43m,\u001b[49m\u001b[43m \u001b[49m\u001b[43mtarget_scale\u001b[49m\u001b[43m)\u001b[49m\n",
      "Cell \u001b[1;32mIn[18], line 8\u001b[0m, in \u001b[0;36mconvert_temperature\u001b[1;34m(temperature, source_scale, target_scale)\u001b[0m\n\u001b[0;32m      6\u001b[0m \u001b[38;5;28;01mdef\u001b[39;00m \u001b[38;5;21mconvert_temperature\u001b[39m(temperature, source_scale, target_scale):\n\u001b[0;32m      7\u001b[0m     \u001b[38;5;28;01mif\u001b[39;00m source_scale \u001b[38;5;241m==\u001b[39m \u001b[38;5;124m'\u001b[39m\u001b[38;5;124mCelsius\u001b[39m\u001b[38;5;124m'\u001b[39m:\n\u001b[1;32m----> 8\u001b[0m         \u001b[43mconvert_celsius\u001b[49m\u001b[43m(\u001b[49m\u001b[43mtemperature\u001b[49m\u001b[43m,\u001b[49m\u001b[43m \u001b[49m\u001b[43mtarget_scale\u001b[49m\u001b[43m)\u001b[49m\n\u001b[0;32m      9\u001b[0m     \u001b[38;5;28;01melif\u001b[39;00m source_scale \u001b[38;5;241m==\u001b[39m \u001b[38;5;124m'\u001b[39m\u001b[38;5;124mFahrenheit\u001b[39m\u001b[38;5;124m'\u001b[39m:\n\u001b[0;32m     10\u001b[0m         convert_fahrenheit(temperature, target_scale)\n",
      "Cell \u001b[1;32mIn[9], line 12\u001b[0m, in \u001b[0;36mconvert_celsius\u001b[1;34m(temperature_celsius, target_scale)\u001b[0m\n\u001b[0;32m     10\u001b[0m \u001b[38;5;28;01melse\u001b[39;00m:\n\u001b[0;32m     11\u001b[0m     \u001b[38;5;28mprint\u001b[39m(\u001b[38;5;124m'\u001b[39m\u001b[38;5;124mPlease input a valid response. Take note of the capitalisation\u001b[39m\u001b[38;5;124m'\u001b[39m)\n\u001b[1;32m---> 12\u001b[0m \u001b[38;5;28mprint\u001b[39m(\u001b[38;5;124mf\u001b[39m\u001b[38;5;124m'\u001b[39m\u001b[38;5;124mYour converted temperature is \u001b[39m\u001b[38;5;132;01m{\u001b[39;00m\u001b[43mconverted\u001b[49m\u001b[38;5;132;01m}\u001b[39;00m\u001b[38;5;124m'\u001b[39m)\n",
      "\u001b[1;31mUnboundLocalError\u001b[0m: cannot access local variable 'converted' where it is not associated with a value"
     ]
    }
   ],
   "source": [
    "temperature = int(input('What is your temperature?'))\n",
    "source_scale = str(input('What unit is it? Celsius, Fahrenheit or Kelvin?'))\n",
    "target_scale = str(input('Do you want to convert it into Celsius, Fahrenheit or Kelvin?'))\n",
    "converted = ''\n",
    "\n",
    "def convert_temperature(temperature, source_scale, target_scale):\n",
    "    if source_scale == 'Celsius':\n",
    "        converted = convert_celsius(temperature, target_scale)\n",
    "    elif source_scale == 'Fahrenheit':\n",
    "        converted = convert_fahrenheit(temperature, target_scale)\n",
    "    elif source_scale == 'Kelvin':\n",
    "        if target_scale == 'Celsius':\n",
    "            converted = temperature - 273.15\n",
    "        elif target_scale == 'Fahrenheit':\n",
    "            converted = (temperature - 273.15) * 9/5 + 32\n",
    "    else:\n",
    "         print(f'You cannot convert {source_scale} to itself!')\n",
    "    print(f'Your converted temperature is {converted}')\n",
    "\n",
    "convert_temperature(temperature, source_scale, target_scale)"
   ]
  },
  {
   "cell_type": "code",
   "execution_count": null,
   "id": "c720c4b3-fce6-4745-b45b-ac6d39e2e7b2",
   "metadata": {},
   "outputs": [],
   "source": [
    "temperature = int(input('What is your temperature?'))\n",
    "source_scale = str(input('What unit is it? Please capitalise the first letter.'))\n",
    "target_scale = str(input('Do you want to convert it into Celsius, Fahrenheit or Kelvin?'))\n",
    "converted = ''\n",
    "\n",
    "def convert_temperature(temperature, source_scale, target_scale):\n",
    "    if source_scale == 'Celsius':\n",
    "        if target_scale == 'Kelvin':\n",
    "            converted = (temperature + 273.15)\n",
    "        elif target_scale == 'Fahrenheit':\n",
    "            converted = (temperature_celsius * 9/5) + 32\n",
    "    elif source_scale == 'Fahrenheit':\n",
    "        if target_scale == 'Celsius':\n",
    "            converted = (temperature - 32) * 5/9\n",
    "        elif target_scale == 'Kelvin':\n",
    "            converted = (temperature - 32) * 5/9 + 273.15\n",
    "    elif source_scale == 'Kelvin':\n",
    "        if target_scale == 'Celsius':\n",
    "            converted = temperature - 273.15\n",
    "        elif target_scale == 'Fahrenheit':\n",
    "            converted = (temperature - 273.15) * 9/5 + 32\n",
    "    else:\n",
    "         print(f'You cannot convert {source_scale} to itself!')\n",
    "    print(f'Your converted temperature is {converted}')\n",
    "\n",
    "convert_temperature(temperature, source_scale, target_scale)"
   ]
  }
 ],
 "metadata": {
  "kernelspec": {
   "display_name": "Python 3 (ipykernel)",
   "language": "python",
   "name": "python3"
  },
  "language_info": {
   "codemirror_mode": {
    "name": "ipython",
    "version": 3
   },
   "file_extension": ".py",
   "mimetype": "text/x-python",
   "name": "python",
   "nbconvert_exporter": "python",
   "pygments_lexer": "ipython3",
   "version": "3.12.3"
  },
  "toc": {
   "base_numbering": 1,
   "nav_menu": {},
   "number_sections": true,
   "sideBar": true,
   "skip_h1_title": false,
   "title_cell": "Table of Contents",
   "title_sidebar": "Contents",
   "toc_cell": false,
   "toc_position": {},
   "toc_section_display": true,
   "toc_window_display": false
  },
  "vscode": {
   "interpreter": {
    "hash": "31f2aee4e71d21fbe5cf8b01ff0e069b9275f58929596ceb00d14d90e3e16cd6"
   }
  }
 },
 "nbformat": 4,
 "nbformat_minor": 5
}
