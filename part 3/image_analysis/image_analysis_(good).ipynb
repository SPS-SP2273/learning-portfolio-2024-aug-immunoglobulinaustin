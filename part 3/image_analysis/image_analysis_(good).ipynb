{
 "cells": [
  {
   "cell_type": "code",
   "execution_count": 5,
   "id": "cc411f25-97c6-4539-bb7d-ff45ad2a8e9e",
   "metadata": {},
   "outputs": [
    {
     "ename": "ImportError",
     "evalue": "cannot import name 'rgb2grey' from 'skimage.color' (C:\\Users\\austi\\miniconda3\\Lib\\site-packages\\skimage\\color\\__init__.py)",
     "output_type": "error",
     "traceback": [
      "\u001b[1;31m---------------------------------------------------------------------------\u001b[0m",
      "\u001b[1;31mImportError\u001b[0m                               Traceback (most recent call last)",
      "Cell \u001b[1;32mIn[5], line 2\u001b[0m\n\u001b[0;32m      1\u001b[0m \u001b[38;5;28;01mfrom\u001b[39;00m \u001b[38;5;21;01mskimage\u001b[39;00m \u001b[38;5;28;01mimport\u001b[39;00m io\n\u001b[1;32m----> 2\u001b[0m \u001b[38;5;28;01mfrom\u001b[39;00m \u001b[38;5;21;01mskimage\u001b[39;00m\u001b[38;5;21;01m.\u001b[39;00m\u001b[38;5;21;01mcolor\u001b[39;00m \u001b[38;5;28;01mimport\u001b[39;00m rgb2grey\n",
      "\u001b[1;31mImportError\u001b[0m: cannot import name 'rgb2grey' from 'skimage.color' (C:\\Users\\austi\\miniconda3\\Lib\\site-packages\\skimage\\color\\__init__.py)"
     ]
    }
   ],
   "source": [
    "from skimage import io\n",
    "from skimage.color import rgb2grey"
   ]
  },
  {
   "cell_type": "code",
   "execution_count": null,
   "id": "42ef82cf-c7b8-49ec-9247-20e65e9e499c",
   "metadata": {},
   "outputs": [],
   "source": [
    "img_original = io.imread('three-circles.png')\n",
    "img_grey = rgb2grey(img_original)\n",
    "\n",
    "fig, ax = plt.subplots(nrows=1, ncols=2, figsize=(8, 4))\n",
    "ax_original, ax_grey = ax\n",
    "\n",
    "ax_original.imshow(img_original)\n",
    "ax_original.set_title(f'Original: shape={img_original.shape}')\n",
    "\n",
    "ax_grey.imshow(img_grey, cmap='gray')\n",
    "ax_grey.set_title(f'Grayscale: shape={img_grey.shape}')\n",
    "\n",
    "for a in ax.flat:\n",
    "    a.axis('off')"
   ]
  },
  {
   "cell_type": "code",
   "execution_count": 2,
   "id": "52bcc857-2526-4bfc-9fc1-8b61a2ef8bad",
   "metadata": {},
   "outputs": [
    {
     "ename": "NameError",
     "evalue": "name 'io' is not defined",
     "output_type": "error",
     "traceback": [
      "\u001b[1;31m---------------------------------------------------------------------------\u001b[0m",
      "\u001b[1;31mNameError\u001b[0m                                 Traceback (most recent call last)",
      "Cell \u001b[1;32mIn[2], line 1\u001b[0m\n\u001b[1;32m----> 1\u001b[0m img_original \u001b[38;5;241m=\u001b[39m \u001b[43mio\u001b[49m\u001b[38;5;241m.\u001b[39mimread(\u001b[38;5;124m'\u001b[39m\u001b[38;5;124mthree-circles.png\u001b[39m\u001b[38;5;124m'\u001b[39m)\n\u001b[0;32m      2\u001b[0m img_grey \u001b[38;5;241m=\u001b[39m rgb2grey(img_original)\n\u001b[0;32m      4\u001b[0m \u001b[38;5;28mprint\u001b[39m(\u001b[38;5;124m'\u001b[39m\u001b[38;5;124m{\u001b[39m\u001b[38;5;124mthreshold_otsu(img_grey)=}\u001b[39m\u001b[38;5;124m'\u001b[39m)\n",
      "\u001b[1;31mNameError\u001b[0m: name 'io' is not defined"
     ]
    }
   ],
   "source": [
    "img_original = io.imread('three-circles.png')\n",
    "img_grey = rgb2grey(img_original)\n",
    "\n",
    "print('{threshold_otsu(img_grey)=}')\n",
    "print('{threshold_yen(img_grey)=}') "
   ]
  },
  {
   "cell_type": "code",
   "execution_count": 5,
   "id": "567e78c5-8b6f-4a84-8dc9-1fa2d46aba0f",
   "metadata": {},
   "outputs": [
    {
     "ename": "NameError",
     "evalue": "name 'img_grey' is not defined",
     "output_type": "error",
     "traceback": [
      "\u001b[1;31m---------------------------------------------------------------------------\u001b[0m",
      "\u001b[1;31mNameError\u001b[0m                                 Traceback (most recent call last)",
      "Cell \u001b[1;32mIn[5], line 3\u001b[0m\n\u001b[0;32m      1\u001b[0m \u001b[38;5;28;01mfrom\u001b[39;00m \u001b[38;5;21;01mskimage\u001b[39;00m\u001b[38;5;21;01m.\u001b[39;00m\u001b[38;5;21;01mfilters\u001b[39;00m \u001b[38;5;28;01mimport\u001b[39;00m try_all_threshold  \n\u001b[1;32m----> 3\u001b[0m fig, ax \u001b[38;5;241m=\u001b[39m try_all_threshold(\u001b[43mimg_grey\u001b[49m, figsize\u001b[38;5;241m=\u001b[39m(\u001b[38;5;241m10\u001b[39m, \u001b[38;5;241m8\u001b[39m), verbose\u001b[38;5;241m=\u001b[39m\u001b[38;5;28;01mFalse\u001b[39;00m)\n\u001b[0;32m      4\u001b[0m plt\u001b[38;5;241m.\u001b[39mshow()\n",
      "\u001b[1;31mNameError\u001b[0m: name 'img_grey' is not defined"
     ]
    }
   ],
   "source": [
    "from skimage.filters import try_all_threshold  \n",
    "\n",
    "fig, ax = try_all_threshold(img_grey, figsize=(10, 8), verbose=False)\n",
    "plt.show()"
   ]
  }
 ],
 "metadata": {
  "kernelspec": {
   "display_name": "Python 3 (ipykernel)",
   "language": "python",
   "name": "python3"
  },
  "language_info": {
   "codemirror_mode": {
    "name": "ipython",
    "version": 3
   },
   "file_extension": ".py",
   "mimetype": "text/x-python",
   "name": "python",
   "nbconvert_exporter": "python",
   "pygments_lexer": "ipython3",
   "version": "3.12.3"
  }
 },
 "nbformat": 4,
 "nbformat_minor": 5
}
