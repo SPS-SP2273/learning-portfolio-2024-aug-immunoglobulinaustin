{
 "cells": [
  {
   "attachments": {},
   "cell_type": "markdown",
   "id": "123456",
   "metadata": {},
   "source": [
    "<div style=\"text-align:left;font-size:2em\"><span style=\"font-weight:bolder;font-size:1.25em\">SP2273 | Learning Portfolio</span><br><br><span style=\"font-weight:bold;color:darkred\">Files, Folders & OS (Need)</span></div>"
   ]
  },
  {
   "cell_type": "code",
   "execution_count": 1,
   "id": "8365cd10-48f0-4ad5-9b61-4b811c5cd289",
   "metadata": {},
   "outputs": [],
   "source": [
    "import os, glob, shutil"
   ]
  },
  {
   "cell_type": "code",
   "execution_count": 17,
   "id": "f0d0ac34-98ee-4184-bed8-333f4d92de81",
   "metadata": {},
   "outputs": [
    {
     "data": {
      "text/plain": [
       "True"
      ]
     },
     "execution_count": 17,
     "metadata": {},
     "output_type": "execute_result"
    }
   ],
   "source": [
    "#do not do this, hardcoded only for windows\n",
    "filepath = '.\\\\data-files\\\\hahaha.txt' #look for designated file in this folder\n",
    "os.path.exists(filepath) #see if exists"
   ]
  },
  {
   "cell_type": "code",
   "execution_count": 23,
   "id": "86015fc5-b42f-4411-87c3-200de7a31de9",
   "metadata": {},
   "outputs": [
    {
     "data": {
      "text/plain": [
       "('hahaha', '.txt')"
      ]
     },
     "execution_count": 23,
     "metadata": {},
     "output_type": "execute_result"
    }
   ],
   "source": [
    "os.path.split('hahaha.txt') #tells me what the file name is, and the folder. in this case, its one up.\n",
    "os.path.splitext('hahaha.txt') #file name and extension"
   ]
  },
  {
   "cell_type": "code",
   "execution_count": 92,
   "id": "7b8ae0a0-03ae-44da-8df5-4a934b98b06f",
   "metadata": {},
   "outputs": [
    {
     "data": {
      "text/plain": [
       "['..\\\\',\n",
       " '..\\\\0.1_hello,_github!',\n",
       " '..\\\\0.1_hello,_github!\\\\hello,_github!_(need).ipynb',\n",
       " '..\\\\0.2_hello,_jupyter!',\n",
       " '..\\\\0.2_hello,_jupyter!\\\\hello,_jupyter!_(need).ipynb',\n",
       " '..\\\\0.3_Virtual_Environments_(Nice!)',\n",
       " '..\\\\0.3_Virtual_Environments_(Nice!)\\\\virtual_environments_(nice!).ipynb',\n",
       " '..\\\\1.1_using_jupyter',\n",
       " '..\\\\1.1_using_jupyter\\\\jupyter_need_2.ipynb',\n",
       " '..\\\\1.1_using_jupyter\\\\READY FOR REVIEW jupyter_need_2.ipynb',\n",
       " '..\\\\1.1_using_jupyter\\\\READY FOR REVIEW using_jupyter_(good).ipynb',\n",
       " '..\\\\1.1_using_jupyter\\\\using_jupyter_(need).ipynb',\n",
       " '..\\\\1.2_using_jupyter_,_exercises',\n",
       " '..\\\\1.2_using_jupyter_,_exercises\\\\READY FOR REVIEW using_jupyter_(good),_exercises.ipynb',\n",
       " '..\\\\1.2_using_jupyter_,_exercises\\\\READY FOR REVIEW using_jupyter_(need),_exercises.ipynb',\n",
       " '..\\\\2.1_fundamentals',\n",
       " '..\\\\2.1_fundamentals\\\\fundamentals_(nice).ipynb',\n",
       " '..\\\\2.1_fundamentals\\\\READY FOR REVIEW fundamentals_(good).ipynb',\n",
       " '..\\\\2.1_fundamentals\\\\READY FOR REVIEW fundamentals_(need).ipynb',\n",
       " '..\\\\2.2_fundamentals__exercises',\n",
       " '..\\\\2.2_fundamentals__exercises\\\\READY FOR REVIEW fundamentals_(good)_exercises.ipynb',\n",
       " '..\\\\2.2_fundamentals__exercises\\\\READY FOR REVIEW fundamentals_(need)_exercises.ipynb',\n",
       " '..\\\\3.1_storing_data',\n",
       " '..\\\\3.1_storing_data\\\\READY FOR REVIEW storing_data_(good).ipynb',\n",
       " '..\\\\3.1_storing_data\\\\READY FOR REVIEW storing_data_(need).ipynb',\n",
       " '..\\\\3.2_storing_data__exercises',\n",
       " '..\\\\3.2_storing_data__exercises\\\\READY FOR REVIEW storing_data_(good)_exercises.ipynb',\n",
       " '..\\\\3.2_storing_data__exercises\\\\READY FOR REVIEW storing_data_(need)_exercises.ipynb',\n",
       " '..\\\\4.1_loops',\n",
       " '..\\\\4.1_loops\\\\loops_(nice).ipynb',\n",
       " '..\\\\4.1_loops\\\\READY FOR REVIEW loops_(good).ipynb',\n",
       " '..\\\\4.1_loops\\\\READY FOR REVIEW loops_(need).ipynb',\n",
       " '..\\\\4.2_loops__exercises',\n",
       " '..\\\\4.2_loops__exercises\\\\READY FOR REVIEW loops_(good)_exercises.ipynb',\n",
       " '..\\\\4.2_loops__exercises\\\\READY FOR REVIEW loops_(need)_exercises.ipynb',\n",
       " '..\\\\5.1_functions',\n",
       " '..\\\\5.1_functions\\\\functions_(nice).ipynb',\n",
       " '..\\\\5.1_functions\\\\READY FOR REVIEW functions_(good).ipynb',\n",
       " '..\\\\5.1_functions\\\\READY FOR REVIEW functions_(need).ipynb',\n",
       " '..\\\\5.2_functions__exercises',\n",
       " '..\\\\5.2_functions__exercises\\\\functions_(good)_exercises.ipynb',\n",
       " '..\\\\5.2_functions__exercises\\\\READY FOR REVIEW functions_(need)_exercises.ipynb',\n",
       " '..\\\\6.1_files,_folders_&_os',\n",
       " '..\\\\6.1_files,_folders_&_os\\\\data-files',\n",
       " '..\\\\6.1_files,_folders_&_os\\\\files,_folders_&_os_(need).ipynb',\n",
       " '..\\\\6.1_files,_folders_&_os\\\\hahaha.txt',\n",
       " '..\\\\6.1_files,_folders_&_os\\\\not-there.txt',\n",
       " '..\\\\6.1_files,_folders_&_os\\\\Wooo',\n",
       " '..\\\\6.2_files,_folders_&_os__exercises',\n",
       " '..\\\\6.2_files,_folders_&_os__exercises\\\\files,_folders_&_os_(need)_exercises.ipynb',\n",
       " '..\\\\7.1_plotting',\n",
       " '..\\\\7.1_plotting\\\\plotting_(good).ipynb',\n",
       " '..\\\\7.1_plotting\\\\plotting_(need).ipynb',\n",
       " '..\\\\7.2_plotting__exercises',\n",
       " '..\\\\7.2_plotting__exercises\\\\plotting_(good)_exercises.ipynb',\n",
       " '..\\\\7.2_plotting__exercises\\\\plotting_(need)_exercises.ipynb',\n",
       " '..\\\\LICENSE',\n",
       " '..\\\\README.md',\n",
       " '..\\\\testing',\n",
       " '..\\\\testing\\\\my-new-file.txt']"
      ]
     },
     "execution_count": 92,
     "metadata": {},
     "output_type": "execute_result"
    }
   ],
   "source": [
    "import glob\n",
    "\n",
    "#glob.glob('*/*ha*.txt') #* denotes a directory\n",
    "glob.glob('..\\\\**', recursive = True)\n",
    "\n",
    "#searching in the directory before the wd, all files"
   ]
  },
  {
   "cell_type": "code",
   "execution_count": 83,
   "id": "239ed8d9-91e0-4698-b5eb-58f1c8a88819",
   "metadata": {},
   "outputs": [
    {
     "data": {
      "text/plain": [
       "['READY FOR REVIEW using_jupyter_(good).ipynb',\n",
       " 'READY FOR REVIEW fundamentals_(good).ipynb',\n",
       " 'READY FOR REVIEW storing_data_(good).ipynb',\n",
       " 'READY FOR REVIEW loops_(good).ipynb',\n",
       " 'READY FOR REVIEW functions_(good).ipynb',\n",
       " 'plotting_(good).ipynb']"
      ]
     },
     "execution_count": 83,
     "metadata": {},
     "output_type": "execute_result"
    }
   ],
   "source": [
    "all_files = glob.glob('..\\\\**\\\\*good).ipynb', recursive = True) #just want path name\n",
    "\n",
    "# .. denotes the previous directory\n",
    "#** denotes search\n",
    "#* is a placeholder, where it will seacrh anything after it\n",
    "\n",
    "[os.path.split(file)[-1]for file in all_files]"
   ]
  },
  {
   "attachments": {},
   "cell_type": "markdown",
   "id": "b3bdd7d8",
   "metadata": {},
   "source": [
    "# What to expect in this chapter"
   ]
  },
  {
   "attachments": {},
   "cell_type": "markdown",
   "id": "cce42ac4",
   "metadata": {},
   "source": [
    "# 1 Important concepts"
   ]
  },
  {
   "attachments": {},
   "cell_type": "markdown",
   "id": "18da34d2",
   "metadata": {},
   "source": [
    "## 1.1 Path"
   ]
  },
  {
   "cell_type": "code",
   "execution_count": null,
   "id": "b9766c9a-150b-4483-b51c-06f31a4783af",
   "metadata": {},
   "outputs": [],
   "source": [
    "os.getcwd() #get current work directory, absolute path"
   ]
  },
  {
   "cell_type": "code",
   "execution_count": 85,
   "id": "89134933-fe44-47a6-8256-8f934a91198a",
   "metadata": {},
   "outputs": [
    {
     "data": {
      "text/plain": [
       "True"
      ]
     },
     "execution_count": 85,
     "metadata": {},
     "output_type": "execute_result"
    }
   ],
   "source": [
    "os.path.exists('hahaha.txt') #insert file name inside, tells you t or f"
   ]
  },
  {
   "cell_type": "code",
   "execution_count": 84,
   "id": "993e695e-7d7f-4957-a55e-ace8b9e336c6",
   "metadata": {},
   "outputs": [
    {
     "data": {
      "text/plain": [
       "False"
      ]
     },
     "execution_count": 84,
     "metadata": {},
     "output_type": "execute_result"
    }
   ],
   "source": [
    "os.path.exists('C:\\\\Users\\\\austi\\\\Documents\\\\hahaha.txt') #have to insert absolute path"
   ]
  },
  {
   "cell_type": "code",
   "execution_count": 87,
   "id": "b8a8b131-423a-4b57-868c-32a136cf533f",
   "metadata": {},
   "outputs": [
    {
     "data": {
      "text/plain": [
       "True"
      ]
     },
     "execution_count": 87,
     "metadata": {},
     "output_type": "execute_result"
    }
   ],
   "source": [
    "os.path.exists('/Users/austi/Documents/learning-portfolio-2024-aug-immunoglobulinaustin/6.1_files,_folders_&_os/hahaha.txt')\n",
    "#using '/' for macOS or linux."
   ]
  },
  {
   "attachments": {},
   "cell_type": "markdown",
   "id": "d6c062be",
   "metadata": {},
   "source": [
    "## 1.2 More about relative paths"
   ]
  },
  {
   "cell_type": "markdown",
   "id": "967de44f-a271-421e-bb1d-a2fd90bd2af1",
   "metadata": {},
   "source": [
    "#shorter, neater and will work on any other machine\n",
    "'.' - refers to this folder. e.g., .\\data-files\\data-01.txt means the file data-01.txt in the folder data-files in the current folder.\n",
    "\n",
    "'..' - refers to one folder above ..\\data-files\\data-01.txt means the file data-01.txt in the folder data-files located in the folder above."
   ]
  },
  {
   "cell_type": "code",
   "execution_count": 86,
   "id": "ea3624b2-ce0d-4c98-8daf-d494435cbfd9",
   "metadata": {},
   "outputs": [
    {
     "data": {
      "text/plain": [
       "False"
      ]
     },
     "execution_count": 86,
     "metadata": {},
     "output_type": "execute_result"
    }
   ],
   "source": [
    "os.path.exists('..\\\\..\\\\..\\\\hahaha.txt') #asking it to search 3 folders above for this file"
   ]
  },
  {
   "attachments": {},
   "cell_type": "markdown",
   "id": "c90279ed",
   "metadata": {},
   "source": [
    "### macOS or Linux"
   ]
  },
  {
   "cell_type": "markdown",
   "id": "f121cff5-4d1c-4dba-8961-6d1e3d519238",
   "metadata": {},
   "source": [
    "~\\Desktop\\data-01.txt\n",
    "\n",
    "'~' refers to your home directory"
   ]
  },
  {
   "attachments": {},
   "cell_type": "markdown",
   "id": "12229d85",
   "metadata": {},
   "source": [
    "## 1.3 Path separator"
   ]
  },
  {
   "cell_type": "markdown",
   "id": "79624dbe-e7c1-486e-99f7-79920b94994e",
   "metadata": {},
   "source": [
    "Windows uses \\ as path separators while macOS or Linux use /"
   ]
  },
  {
   "cell_type": "code",
   "execution_count": 88,
   "id": "901206be-e9e2-4f72-8176-9ef5718a913f",
   "metadata": {},
   "outputs": [
    {
     "data": {
      "text/plain": [
       "'\\\\'"
      ]
     },
     "execution_count": 88,
     "metadata": {},
     "output_type": "execute_result"
    }
   ],
   "source": [
    "#tells you the separator, if \\\\ means windows. if / mean mac/linux\n",
    "os.path.sep "
   ]
  },
  {
   "attachments": {},
   "cell_type": "markdown",
   "id": "9be2e8b1",
   "metadata": {},
   "source": [
    "## 1.4 Text files vs. Binary files"
   ]
  },
  {
   "cell_type": "markdown",
   "id": "316bf45c-3a95-4e67-90ff-c0578153bd90",
   "metadata": {},
   "source": [
    ".txt, .md, .csv are text files, easy to write and read.\n",
    "Binary files can be exported fast, can contain large amount of data but can get bulky\n",
    "\n",
    ".png is binary files, which require some processing. Excel.app (mac) will not run on windows, and excel.exe will not run on mac."
   ]
  },
  {
   "cell_type": "markdown",
   "id": "7c71b07c-4095-41ff-9149-3b89b7117c50",
   "metadata": {},
   "source": [
    "Binary files runs on ones and zeros, and only certain applications can understand what it means. If change a pptx into txt file, it will generate garbage.\n",
    "This is why you cannot run some applications on different OS"
   ]
  },
  {
   "attachments": {},
   "cell_type": "markdown",
   "id": "99cb810e",
   "metadata": {},
   "source": [
    "## 1.5 Extensions"
   ]
  },
  {
   "cell_type": "markdown",
   "id": "be6a5b7f-cc3e-4773-8650-f98dde8fc3f1",
   "metadata": {},
   "source": [
    "files end with an extension separated by a '.' like .xlsx. Lets OS know what software to extract the details in a file"
   ]
  },
  {
   "cell_type": "markdown",
   "id": "aa9c1066-7186-4baa-8d5c-597e0478add2",
   "metadata": {},
   "source": [
    "filename.exe # will run on windows but not run on mac or linus"
   ]
  },
  {
   "attachments": {},
   "cell_type": "markdown",
   "id": "38aef9d4",
   "metadata": {},
   "source": [
    "# 2 Opening and closing files"
   ]
  },
  {
   "cell_type": "markdown",
   "id": "e3eb7683-c20b-4570-aef3-8191a5c77710",
   "metadata": {},
   "source": [
    "```\n",
    "with open('spectrum-01.txt', 'r') as file:\n",
    "    file_content = file.read()\n",
    "\n",
    "print(file_content)\n",
    "```\n",
    "open() function opens your file, 'r' specifies that you only want to read and 'with' allows you to not care about closing the file after you r done"
   ]
  },
  {
   "attachments": {},
   "cell_type": "markdown",
   "id": "1b2b6ecb",
   "metadata": {},
   "source": [
    "## 2.1 Reading data"
   ]
  },
  {
   "cell_type": "code",
   "execution_count": 89,
   "id": "62b07c1a-64d3-4eff-b363-3f30a04a88c3",
   "metadata": {},
   "outputs": [
    {
     "name": "stdout",
     "output_type": "stream",
     "text": [
      "Far out in the uncharted backwaters of the unfashionable end of the western spiral arm of the Galaxy lies a small unregarded yellow sun.\n",
      "\n",
      "xx\n",
      "\n",
      "Orbiting this at a distance of roughly ninety-two million miles is an utterly insignificant little blue green planet whose ape-descended life forms are so amazingly primitive that they still think digital watches are a pretty neat idea.\n",
      "^C\n"
     ]
    }
   ],
   "source": [
    "with open('hahaha.txt', 'r') as file: #'r' to read, so to not override the file. w is writing and a is appending\n",
    "    filetext = file.read()\n",
    "\n",
    "print(filetext)\n",
    "\n",
    "!more hahaha.txt #peeking into file"
   ]
  },
  {
   "attachments": {},
   "cell_type": "markdown",
   "id": "78d97c93",
   "metadata": {},
   "source": [
    "## 2.2 Writing data"
   ]
  },
  {
   "cell_type": "code",
   "execution_count": null,
   "id": "86ed76d2-a194-4326-b885-c852defde71f",
   "metadata": {},
   "outputs": [],
   "source": [
    "# DONT RUN THIS PLS, FOR RECORD PURPOSES ONLY\n",
    "with open('hahaha.txt', 'w') as file: \n",
    "    file.write('\\nGone') #when use w, use file.write(). overwrites your file. can use \\n to breakline\n",
    "\n",
    "print(filetext)"
   ]
  },
  {
   "attachments": {},
   "cell_type": "markdown",
   "id": "1b356626",
   "metadata": {},
   "source": [
    "### Writing to a file in one go"
   ]
  },
  {
   "cell_type": "code",
   "execution_count": null,
   "id": "d1fe162c-d895-4af1-9a85-5ee65c10e417",
   "metadata": {},
   "outputs": [],
   "source": []
  },
  {
   "attachments": {},
   "cell_type": "markdown",
   "id": "30e5f6e1",
   "metadata": {},
   "source": [
    "### Writing to a file, line by line"
   ]
  },
  {
   "attachments": {},
   "cell_type": "markdown",
   "id": "ba3a93c3",
   "metadata": {},
   "source": [
    "# 3 Some useful packages"
   ]
  },
  {
   "attachments": {},
   "cell_type": "markdown",
   "id": "d521ed1b",
   "metadata": {},
   "source": [
    "# 4 OS safe paths"
   ]
  },
  {
   "attachments": {},
   "cell_type": "markdown",
   "id": "e8e9c9b0",
   "metadata": {},
   "source": [
    "# 5 Folders"
   ]
  },
  {
   "attachments": {},
   "cell_type": "markdown",
   "id": "e6d402be",
   "metadata": {},
   "source": [
    "## 5.1 Creating folders"
   ]
  },
  {
   "cell_type": "code",
   "execution_count": null,
   "id": "5fce7a8f-3e62-461e-b40d-bbeb9060b329",
   "metadata": {},
   "outputs": [],
   "source": [
    "#for i in range(1000):\n",
    "    #os.mkdir(f'Wooo_{i}')\n",
    "\n",
    "os.mkdir('Wooo') #Creating directories"
   ]
  },
  {
   "cell_type": "code",
   "execution_count": null,
   "id": "e18b3a07-1704-4632-a564-5ab7cb02f6a1",
   "metadata": {},
   "outputs": [],
   "source": []
  },
  {
   "cell_type": "code",
   "execution_count": 1,
   "id": "fcea2e1d-e506-44f4-af96-abb6ac8fc58e",
   "metadata": {},
   "outputs": [
    {
     "data": {
      "text/plain": [
       "'txt'"
      ]
     },
     "execution_count": 1,
     "metadata": {},
     "output_type": "execute_result"
    }
   ],
   "source": [
    "filename = 'hahaha.txt'\n",
    "filename.split('.')[1] #splitting the file name and using indexes to extract the element"
   ]
  },
  {
   "attachments": {},
   "cell_type": "markdown",
   "id": "298625eb",
   "metadata": {},
   "source": [
    "## 5.2 Checking for existence"
   ]
  },
  {
   "attachments": {},
   "cell_type": "markdown",
   "id": "b3e8a4d2",
   "metadata": {},
   "source": [
    "### Using try-except"
   ]
  },
  {
   "cell_type": "code",
   "execution_count": null,
   "id": "0da7b52e-6620-442f-b100-1fc3a78881d1",
   "metadata": {},
   "outputs": [],
   "source": [
    "#Telling you to find a file. if its not there, create a file\n",
    "filename = 'not-there.txt'\n",
    "\n",
    "try:\n",
    "    with open(filename, 'r') as file:\n",
    "        text = file.read()\n",
    "\n",
    "except FileNotFoundError:\n",
    "    print('No file so I am creating it')\n",
    "    with open(filename, 'w') as file:\n",
    "        text = file.write('New file') #create new file 'Not-there.txt' with 'New file' as its content\n",
    "    print(f'No {filename}')"
   ]
  },
  {
   "attachments": {},
   "cell_type": "markdown",
   "id": "1c8fb336",
   "metadata": {},
   "source": [
    "### Using os.path.exists()"
   ]
  },
  {
   "cell_type": "code",
   "execution_count": null,
   "id": "ecad0c65",
   "metadata": {},
   "outputs": [],
   "source": [
    "filename = 'not-there.txt'\n",
    "\n",
    "if os.path.exists(filename):\n",
    "    with open('filename', 'r') as file:\n",
    "          text = file.read()\n",
    "\n",
    "#checking if file exists, generate true false"
   ]
  },
  {
   "cell_type": "code",
   "execution_count": null,
   "id": "082afa3d-7ec0-4222-9030-ab58b5037769",
   "metadata": {},
   "outputs": [],
   "source": [
    "#for windows, mac and linux\n",
    "filepath = f'.{os.path.sep}data-files{os.path.sep}hahaha.txt' #look for designated file in this folder\n",
    "print(filepath)\n",
    "os.path.exists(filepath) #see if exists\n",
    "\n",
    "#OR\n",
    "\n",
    "filepath= os.path.join('.', 'data-files', 'hahaha.txt') #cleaner\n",
    "print(filepath)\n",
    "os.path.exists(filepath)"
   ]
  },
  {
   "attachments": {},
   "cell_type": "markdown",
   "id": "b39e72cf",
   "metadata": {},
   "source": [
    "## 5.3 Copying files"
   ]
  },
  {
   "attachments": {},
   "cell_type": "markdown",
   "id": "e01e1c92",
   "metadata": {},
   "source": [
    "# 6 Listing and looking for files"
   ]
  },
  {
   "attachments": {},
   "cell_type": "markdown",
   "id": "b491cc83",
   "metadata": {},
   "source": [
    "# 7 Extracting file info"
   ]
  },
  {
   "attachments": {},
   "cell_type": "markdown",
   "id": "4ef8f5d8",
   "metadata": {},
   "source": [
    "# 8 Deleting stuff"
   ]
  }
 ],
 "metadata": {
  "kernelspec": {
   "display_name": "Python 3 (ipykernel)",
   "language": "python",
   "name": "python3"
  },
  "language_info": {
   "codemirror_mode": {
    "name": "ipython",
    "version": 3
   },
   "file_extension": ".py",
   "mimetype": "text/x-python",
   "name": "python",
   "nbconvert_exporter": "python",
   "pygments_lexer": "ipython3",
   "version": "3.12.3"
  },
  "toc": {
   "base_numbering": 1,
   "nav_menu": {},
   "number_sections": true,
   "sideBar": true,
   "skip_h1_title": false,
   "title_cell": "Table of Contents",
   "title_sidebar": "Contents",
   "toc_cell": false,
   "toc_position": {},
   "toc_section_display": true,
   "toc_window_display": false
  },
  "vscode": {
   "interpreter": {
    "hash": "31f2aee4e71d21fbe5cf8b01ff0e069b9275f58929596ceb00d14d90e3e16cd6"
   }
  }
 },
 "nbformat": 4,
 "nbformat_minor": 5
}
