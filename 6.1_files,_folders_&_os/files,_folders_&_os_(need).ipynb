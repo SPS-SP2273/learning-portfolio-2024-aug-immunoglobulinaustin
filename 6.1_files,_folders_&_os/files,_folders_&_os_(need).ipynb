{
 "cells": [
  {
   "attachments": {},
   "cell_type": "markdown",
   "id": "123456",
   "metadata": {},
   "source": [
    "<div style=\"text-align:left;font-size:2em\"><span style=\"font-weight:bolder;font-size:1.25em\">SP2273 | Learning Portfolio</span><br><br><span style=\"font-weight:bold;color:darkred\">Files, Folders & OS (Need)</span></div>"
   ]
  },
  {
   "attachments": {},
   "cell_type": "markdown",
   "id": "b3bdd7d8",
   "metadata": {},
   "source": [
    "# What to expect in this chapter"
   ]
  },
  {
   "attachments": {},
   "cell_type": "markdown",
   "id": "cce42ac4",
   "metadata": {},
   "source": [
    "# 1 Important concepts"
   ]
  },
  {
   "attachments": {},
   "cell_type": "markdown",
   "id": "18da34d2",
   "metadata": {},
   "source": [
    "## 1.1 Path"
   ]
  },
  {
   "cell_type": "code",
   "execution_count": null,
   "id": "89134933-fe44-47a6-8256-8f934a91198a",
   "metadata": {},
   "outputs": [],
   "source": [
    "C:\\Users\\austi\\Documents\\learning-portfolio-2024-aug-immunoglobulinaustin"
   ]
  },
  {
   "attachments": {},
   "cell_type": "markdown",
   "id": "d6c062be",
   "metadata": {},
   "source": [
    "## 1.2 More about relative paths"
   ]
  },
  {
   "cell_type": "code",
   "execution_count": null,
   "id": "1dc9f4d4-250f-4d6b-bb5f-28b9d75a5843",
   "metadata": {},
   "outputs": [],
   "source": [
    "'.' - refers to this folder. e.g., .\\data-files\\data-01.txt means the file data-01.txt in the folder data-files in the current folder.\n",
    "\n",
    "'..' - refers to one folder above ..\\data-files\\data-01.txt means the file data-01.txt in the folder data-files located in the folder above."
   ]
  },
  {
   "attachments": {},
   "cell_type": "markdown",
   "id": "c90279ed",
   "metadata": {},
   "source": [
    "### macOS or Linux"
   ]
  },
  {
   "cell_type": "markdown",
   "id": "f121cff5-4d1c-4dba-8961-6d1e3d519238",
   "metadata": {},
   "source": [
    "~\\Desktop\\data-01.txt\n",
    "\n",
    "'~' refers to your home directory"
   ]
  },
  {
   "attachments": {},
   "cell_type": "markdown",
   "id": "12229d85",
   "metadata": {},
   "source": [
    "## 1.3 Path separator"
   ]
  },
  {
   "cell_type": "markdown",
   "id": "79624dbe-e7c1-486e-99f7-79920b94994e",
   "metadata": {},
   "source": [
    "Windows uses \\ as path separators while macOS or Linux use /"
   ]
  },
  {
   "attachments": {},
   "cell_type": "markdown",
   "id": "9be2e8b1",
   "metadata": {},
   "source": [
    "## 1.4 Text files vs. Binary files"
   ]
  },
  {
   "cell_type": "markdown",
   "id": "316bf45c-3a95-4e67-90ff-c0578153bd90",
   "metadata": {},
   "source": [
    ".txt, .md, .csv are text files\n",
    ".png is binary files, which require some processing. Excel.app (mac) will not run on windows, and excel.exe will not run on mac.\n",
    "Binary files can be exported fast, can contain large amount of data but can get bulky"
   ]
  },
  {
   "attachments": {},
   "cell_type": "markdown",
   "id": "99cb810e",
   "metadata": {},
   "source": [
    "## 1.5 Extensions"
   ]
  },
  {
   "cell_type": "markdown",
   "id": "be6a5b7f-cc3e-4773-8650-f98dde8fc3f1",
   "metadata": {},
   "source": [
    "files end with an extension separated by a '.' like .xlsx. Lets OS know what software to extract the details in a file"
   ]
  },
  {
   "attachments": {},
   "cell_type": "markdown",
   "id": "38aef9d4",
   "metadata": {},
   "source": [
    "# 2 Opening and closing files"
   ]
  },
  {
   "cell_type": "markdown",
   "id": "e3eb7683-c20b-4570-aef3-8191a5c77710",
   "metadata": {},
   "source": [
    "```\n",
    "with open('spectrum-01.txt', 'r') as file:\n",
    "    file_content = file.read()\n",
    "\n",
    "print(file_content)\n",
    "```\n",
    "open() function opens your file, 'r' specifies that you only want to read and 'with' allows you to not care about closing the file after you r done"
   ]
  },
  {
   "attachments": {},
   "cell_type": "markdown",
   "id": "1b2b6ecb",
   "metadata": {},
   "source": [
    "## 2.1 Reading data"
   ]
  },
  {
   "attachments": {},
   "cell_type": "markdown",
   "id": "78d97c93",
   "metadata": {},
   "source": [
    "## 2.2 Writing data"
   ]
  },
  {
   "attachments": {},
   "cell_type": "markdown",
   "id": "1b356626",
   "metadata": {},
   "source": [
    "### Writing to a file in one go"
   ]
  },
  {
   "cell_type": "code",
   "execution_count": null,
   "id": "b5176709",
   "metadata": {},
   "outputs": [],
   "source": [
    "\n",
    "# Your code here\n"
   ]
  },
  {
   "attachments": {},
   "cell_type": "markdown",
   "id": "30e5f6e1",
   "metadata": {},
   "source": [
    "### Writing to a file, line by line"
   ]
  },
  {
   "cell_type": "code",
   "execution_count": null,
   "id": "6e5699ff",
   "metadata": {},
   "outputs": [],
   "source": [
    "\n",
    "# Your code here\n"
   ]
  },
  {
   "attachments": {},
   "cell_type": "markdown",
   "id": "ba3a93c3",
   "metadata": {},
   "source": [
    "# 3 Some useful packages"
   ]
  },
  {
   "attachments": {},
   "cell_type": "markdown",
   "id": "d521ed1b",
   "metadata": {},
   "source": [
    "# 4 OS safe paths"
   ]
  },
  {
   "attachments": {},
   "cell_type": "markdown",
   "id": "e8e9c9b0",
   "metadata": {},
   "source": [
    "# 5 Folders"
   ]
  },
  {
   "attachments": {},
   "cell_type": "markdown",
   "id": "e6d402be",
   "metadata": {},
   "source": [
    "## 5.1 Creating folders"
   ]
  },
  {
   "attachments": {},
   "cell_type": "markdown",
   "id": "298625eb",
   "metadata": {},
   "source": [
    "## 5.2 Checking for existence"
   ]
  },
  {
   "attachments": {},
   "cell_type": "markdown",
   "id": "b3e8a4d2",
   "metadata": {},
   "source": [
    "### Using try-except"
   ]
  },
  {
   "cell_type": "code",
   "execution_count": null,
   "id": "df089e4b",
   "metadata": {},
   "outputs": [],
   "source": [
    "\n",
    "# Your code here\n"
   ]
  },
  {
   "attachments": {},
   "cell_type": "markdown",
   "id": "1c8fb336",
   "metadata": {},
   "source": [
    "### Using os.path.exists()"
   ]
  },
  {
   "cell_type": "code",
   "execution_count": null,
   "id": "ecad0c65",
   "metadata": {},
   "outputs": [],
   "source": [
    "\n",
    "# Your code here\n"
   ]
  },
  {
   "attachments": {},
   "cell_type": "markdown",
   "id": "b39e72cf",
   "metadata": {},
   "source": [
    "## 5.3 Copying files"
   ]
  },
  {
   "attachments": {},
   "cell_type": "markdown",
   "id": "e01e1c92",
   "metadata": {},
   "source": [
    "# 6 Listing and looking for files"
   ]
  },
  {
   "attachments": {},
   "cell_type": "markdown",
   "id": "b491cc83",
   "metadata": {},
   "source": [
    "# 7 Extracting file info"
   ]
  },
  {
   "attachments": {},
   "cell_type": "markdown",
   "id": "4ef8f5d8",
   "metadata": {},
   "source": [
    "# 8 Deleting stuff"
   ]
  }
 ],
 "metadata": {
  "kernelspec": {
   "display_name": "Python 3 (ipykernel)",
   "language": "python",
   "name": "python3"
  },
  "language_info": {
   "codemirror_mode": {
    "name": "ipython",
    "version": 3
   },
   "file_extension": ".py",
   "mimetype": "text/x-python",
   "name": "python",
   "nbconvert_exporter": "python",
   "pygments_lexer": "ipython3",
   "version": "3.12.3"
  },
  "toc": {
   "base_numbering": 1,
   "nav_menu": {},
   "number_sections": true,
   "sideBar": true,
   "skip_h1_title": false,
   "title_cell": "Table of Contents",
   "title_sidebar": "Contents",
   "toc_cell": false,
   "toc_position": {},
   "toc_section_display": true,
   "toc_window_display": false
  },
  "vscode": {
   "interpreter": {
    "hash": "31f2aee4e71d21fbe5cf8b01ff0e069b9275f58929596ceb00d14d90e3e16cd6"
   }
  }
 },
 "nbformat": 4,
 "nbformat_minor": 5
}
