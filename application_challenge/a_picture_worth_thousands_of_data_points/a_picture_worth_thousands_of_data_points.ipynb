{
 "cells": [
  {
   "cell_type": "code",
   "execution_count": 1,
   "id": "5de55063-5b5b-439f-a0c0-7dcfff99af87",
   "metadata": {},
   "outputs": [],
   "source": [
    "from skimage import io \n",
    "from skimage.color import rgb2gray\n",
    "from skimage.filters import threshold_otsu, threshold_yen\n",
    "from matplotlib import pyplot as plt"
   ]
  },
  {
   "cell_type": "code",
   "execution_count": 2,
   "id": "46cd48af-cdac-430f-b7c0-7ed425d12503",
   "metadata": {},
   "outputs": [
    {
     "ename": "NameError",
     "evalue": "name 'golgi' is not defined",
     "output_type": "error",
     "traceback": [
      "\u001b[1;31m---------------------------------------------------------------------------\u001b[0m",
      "\u001b[1;31mNameError\u001b[0m                                 Traceback (most recent call last)",
      "Cell \u001b[1;32mIn[2], line 1\u001b[0m\n\u001b[1;32m----> 1\u001b[0m img_data \u001b[38;5;241m=\u001b[39m plt\u001b[38;5;241m.\u001b[39mimread(\u001b[43mgolgi\u001b[49m\u001b[38;5;241m-\u001b[39mmovie_robert_frame_01_gray\u001b[38;5;241m.\u001b[39mjpg)\n\u001b[0;32m      2\u001b[0m plt\u001b[38;5;241m.\u001b[39mimshow(img_data, cmap\u001b[38;5;241m=\u001b[39m\u001b[38;5;124m'\u001b[39m\u001b[38;5;124mjet\u001b[39m\u001b[38;5;124m'\u001b[39m)\n\u001b[0;32m      3\u001b[0m plt\u001b[38;5;241m.\u001b[39mcolorbar()\n",
      "\u001b[1;31mNameError\u001b[0m: name 'golgi' is not defined"
     ]
    }
   ],
   "source": [
    "img_data = plt.imread(golgi-movie_robert_frame_01_gray.jpg)\n",
    "plt.imshow(img_data, cmap='jet')\n",
    "plt.colorbar()"
   ]
  }
 ],
 "metadata": {
  "kernelspec": {
   "display_name": "Python 3 (ipykernel)",
   "language": "python",
   "name": "python3"
  },
  "language_info": {
   "codemirror_mode": {
    "name": "ipython",
    "version": 3
   },
   "file_extension": ".py",
   "mimetype": "text/x-python",
   "name": "python",
   "nbconvert_exporter": "python",
   "pygments_lexer": "ipython3",
   "version": "3.12.3"
  }
 },
 "nbformat": 4,
 "nbformat_minor": 5
}
