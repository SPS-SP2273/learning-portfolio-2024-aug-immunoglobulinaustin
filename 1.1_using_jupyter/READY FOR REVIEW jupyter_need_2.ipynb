{
 "cells": [
  {
   "cell_type": "code",
   "execution_count": 11,
   "id": "57ce0e91-b6d7-4979-adc9-5e1b81ef70f0",
   "metadata": {},
   "outputs": [
    {
     "name": "stdout",
     "output_type": "stream",
     "text": [
      "Hello world!\n"
     ]
    }
   ],
   "source": [
    "print('Hello world!') #Green is command, Red is text"
   ]
  },
  {
   "cell_type": "markdown",
   "id": "4f84bfdb-ffac-4ed4-bd1b-a9c0065eebb7",
   "metadata": {},
   "source": [
    "# This is a start\n",
    "\n",
    "## Subsection 1\n",
    "\n",
    "### Subsection 2\n",
    "The **ships** hung in the *sky* in much the same way that bricks don’t. \n",
    "#'in' is green because python identify it as a text. use markdown ESC + M to change it into text\n",
    "\n",
    "# Displaying code\n",
    "```{python} #use this to show code\n",
    "print('Hello world!')\n",
    "```\n",
    "\n",
    "# Equation\n",
    "$$\\int f(x)ds$$ \n",
    "#rendering equations with $ or $$\n",
    "\n",
    "# Links\n",
    "\n",
    "[This is SPS](https://sps.nus.edu.sg/)\n",
    "\n",
    "# Images\n",
    "![](https://lumiere-a.akamaihd.net/v1/images/Yoda-Retina_2a7ecc26.jpeg?region=0%2C0%2C1536%2C864) #Put !, same synthax. Copy image address and paste\n",
    "\n",
    "# Tables\n",
    "| A    |  B   |    C |\n",
    "| :--- | :--: | ---: |\n",
    "| a1   |  b1  |   c1 |\n",
    "| a2   |  b2  |   c2 |\n",
    "| a3   |  b3  |   c3 |\n",
    "\n",
    "# Lists\n",
    "\n",
    "1. Master Yoda\n",
    "   1. Was a Jedi\n",
    "   1. Was a bit green\n",
    "1. Luke Skywalker\n",
    "   1. Was a Jedi\n",
    "   1. Is Anakin's son.\n",
    "1. Anakin Skywalker\n",
    "   1. Was a Jedi then became a baddie\n",
    "   1. Is famous for saying 'Luke, I am your father'\n",
    "Master Yoda\n",
    "Was a Jedi\n",
    "Was a bit green\n",
    "Luke Skywalker\n",
    "Was a Jedi\n",
    "Is Anakin’s son.\n",
    "Anakin Skywalker\n",
    "Was a Jedi then became a baddie\n",
    "Is famous for saying ‘Luke, I am your father’\n",
    "\n",
    "# Equation\n",
    "$$\n",
    "x = \\dfrac{-b \\pm \\sqrt{b^2-4ac}}{2a}\n",
    "$$\n",
    "\n",
    "This is inline $x = \\dfrac{-b \\pm \\sqrt{b^2-4ac}}{2a}$ #When want to put it with text, use $. If want block, use $$\n",
    "\n",
    "- Master Yoda\n",
    "- Luke Skywalker\n",
    "- Anakin Skywalker\n",
    "Master Yoda\n",
    "Luke Skywalker\n",
    "Anakin Skywalker"
   ]
  }
 ],
 "metadata": {
  "kernelspec": {
   "display_name": "Python 3 (ipykernel)",
   "language": "python",
   "name": "python3"
  },
  "language_info": {
   "codemirror_mode": {
    "name": "ipython",
    "version": 3
   },
   "file_extension": ".py",
   "mimetype": "text/x-python",
   "name": "python",
   "nbconvert_exporter": "python",
   "pygments_lexer": "ipython3",
   "version": "3.12.3"
  }
 },
 "nbformat": 4,
 "nbformat_minor": 5
}
