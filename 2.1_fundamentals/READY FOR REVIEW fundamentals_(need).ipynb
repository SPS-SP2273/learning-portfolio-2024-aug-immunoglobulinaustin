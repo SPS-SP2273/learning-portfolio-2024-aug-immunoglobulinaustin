{
 "cells": [
  {
   "cell_type": "code",
   "execution_count": 4,
   "id": "c6ee4c0f-83d7-4189-9ef5-a7c7e1255435",
   "metadata": {},
   "outputs": [
    {
     "data": {
      "text/html": [
       "<iframe width=\"470\" height=\"265\" src=\"https://www.youtube.com/embed/e0QZcNCmdjw\" title=\"NUS SPS - What Makes the Special Programme in Science (SPS) Special?\" frameborder=\"0\" allow=\"accelerometer; autoplay; clipboard-write; encrypted-media; gyroscope; picture-in-picture; web-%%share\" referrerpolicy=\"strict-origin-when-cross-origin\" allowfullscreen></iframe>\n",
       "%%\n",
       "\n",
       "#Changing behaviour of cell, magic behaviour. Inserting videos.\n"
      ],
      "text/plain": [
       "<IPython.core.display.HTML object>"
      ]
     },
     "metadata": {},
     "output_type": "display_data"
    }
   ],
   "source": [
    "%%HTML\n",
    "<iframe width=\"470\" height=\"265\" src=\"https://www.youtube.com/embed/e0QZcNCmdjw\" title=\"NUS SPS - What Makes the Special Programme in Science (SPS) Special?\" frameborder=\"0\" allow=\"accelerometer; autoplay; clipboard-write; encrypted-media; gyroscope; picture-in-picture; web-%%share\" referrerpolicy=\"strict-origin-when-cross-origin\" allowfullscreen></iframe>\n",
    "%%\n",
    "\n",
    "#Changing behaviour of cell, magic behaviour. Inserting videos."
   ]
  },
  {
   "attachments": {},
   "cell_type": "markdown",
   "id": "123456",
   "metadata": {},
   "source": [
    "<div style=\"text-align:left;font-size:2em\"><span style=\"font-weight:bolder;font-size:1.25em\">SP2273 | Learning Portfolio</span><br><br><span style=\"font-weight:bold;color:darkred\">Fundamentals (Need)</span></div>"
   ]
  },
  {
   "attachments": {},
   "cell_type": "markdown",
   "id": "46e3813e",
   "metadata": {},
   "source": [
    "# 1 Functions"
   ]
  },
  {
   "cell_type": "code",
   "execution_count": 3,
   "id": "bc7cdb7f-6169-4f5b-baa9-c8f7decb7b93",
   "metadata": {},
   "outputs": [
    {
     "name": "stdout",
     "output_type": "stream",
     "text": [
      "Hello world!\n"
     ]
    }
   ],
   "source": [
    "print('Hello world!')#Must give the function an argument. Py functions always use brackets"
   ]
  },
  {
   "attachments": {},
   "cell_type": "markdown",
   "id": "0386d801",
   "metadata": {},
   "source": [
    "# 2 Python is interpreted"
   ]
  },
  {
   "cell_type": "code",
   "execution_count": 1,
   "id": "2b84d98e-c42d-4f6d-bb22-9860056f7d2e",
   "metadata": {},
   "outputs": [
    {
     "name": "stdout",
     "output_type": "stream",
     "text": [
      "Hello World\n",
      "Hello World again\n",
      "10\n"
     ]
    }
   ],
   "source": [
    "print('Hello World')\n",
    "x=10\n",
    "print('Hello World again') #python runs sequentially\n",
    "print(x) #printing variable x"
   ]
  },
  {
   "attachments": {},
   "cell_type": "markdown",
   "id": "ece3bd6d",
   "metadata": {},
   "source": [
    "# 3 Python is sensitive."
   ]
  },
  {
   "cell_type": "code",
   "execution_count": 1,
   "id": "f726cbe1-adaf-47f5-b946-799f255b7d3f",
   "metadata": {},
   "outputs": [
    {
     "name": "stdout",
     "output_type": "stream",
     "text": [
      "Hello World\n"
     ]
    },
    {
     "ename": "NameError",
     "evalue": "name 'Print' is not defined",
     "output_type": "error",
     "traceback": [
      "\u001b[1;31m---------------------------------------------------------------------------\u001b[0m",
      "\u001b[1;31mNameError\u001b[0m                                 Traceback (most recent call last)",
      "Cell \u001b[1;32mIn[1], line 2\u001b[0m\n\u001b[0;32m      1\u001b[0m \u001b[38;5;28mprint\u001b[39m(\u001b[38;5;124m'\u001b[39m\u001b[38;5;124mHello World\u001b[39m\u001b[38;5;124m'\u001b[39m) \u001b[38;5;66;03m#color changes when capitalisation. no longer identified as function.\u001b[39;00m\n\u001b[1;32m----> 2\u001b[0m \u001b[43mPrint\u001b[49m(\u001b[38;5;124m'\u001b[39m\u001b[38;5;124mHello World again\u001b[39m\u001b[38;5;124m'\u001b[39m) \n\u001b[0;32m      4\u001b[0m \u001b[38;5;28mprint\u001b[39m(\u001b[38;5;124m'\u001b[39m\u001b[38;5;124mHello hahahah world\u001b[39m\u001b[38;5;124m'\u001b[39m) \u001b[38;5;66;03m#control L click (pt1) cntrl L click (pt2) to add text into both lines hahahaha\u001b[39;00m\n\u001b[0;32m      5\u001b[0m \u001b[38;5;28mprint\u001b[39m(\u001b[38;5;124m'\u001b[39m\u001b[38;5;124mHello hahahah world\u001b[39m\u001b[38;5;124m'\u001b[39m)\n",
      "\u001b[1;31mNameError\u001b[0m: name 'Print' is not defined"
     ]
    }
   ],
   "source": [
    "Print('Hello World') #color changes when capitalisation. no longer identified as function.\n",
    "print('Hello World again')\n",
    "\n",
    "print('Hello hahahah world') #control L click (pt1) cntrl L click (pt2) to add text into both lines hahahaha\n",
    "print('Hello hahahah world')"
   ]
  },
  {
   "attachments": {},
   "cell_type": "markdown",
   "id": "276f24b9",
   "metadata": {},
   "source": [
    "# 4 Comments"
   ]
  },
  {
   "cell_type": "code",
   "execution_count": 3,
   "id": "decbe524-e5c9-47ce-a736-a538f72ee88f",
   "metadata": {},
   "outputs": [
    {
     "name": "stdout",
     "output_type": "stream",
     "text": [
      "One\n",
      "Three\n",
      "Hello world\n"
     ]
    }
   ],
   "source": [
    "# Usage of # makes anything after a comment, it will not be ran as a code\n",
    "print('One')\n",
    "#print('Two') #identified as a comment and thus is ignored\n",
    "print('Three')\n",
    "\n",
    "print('Hello world') # Testing comment"
   ]
  },
  {
   "cell_type": "code",
   "execution_count": 13,
   "id": "58e5c053-2ad9-401b-ab36-d7c84f04859c",
   "metadata": {},
   "outputs": [
    {
     "name": "stdout",
     "output_type": "stream",
     "text": [
      "0.0\n",
      "4.9922619939094404e-05\n",
      "9.984523987818881e-05\n",
      "0.0001497678598172832\n",
      "0.00019969047975637762\n",
      "0.000249613099695472\n",
      "0.0002995357196345664\n",
      "0.00034945833957366083\n",
      "0.00039938095951275523\n",
      "0.00044930357945184964\n"
     ]
    }
   ],
   "source": [
    "for age_in_thousand_of_years in range(10):\n",
    "    print(age_in_thousand_of_years/20031) #Need to use comments to annotate your work so others can understand\n",
    "#use variables that are indicative of what you understand"
   ]
  },
  {
   "attachments": {},
   "cell_type": "markdown",
   "id": "3639febb",
   "metadata": {},
   "source": [
    "# 5 = is not the same as =="
   ]
  },
  {
   "cell_type": "code",
   "execution_count": 15,
   "id": "ade851a3-84cb-4527-bee1-b3b211b652c7",
   "metadata": {},
   "outputs": [
    {
     "data": {
      "text/plain": [
       "False"
      ]
     },
     "execution_count": 15,
     "metadata": {},
     "output_type": "execute_result"
    }
   ],
   "source": [
    "name = 'Batman' #making \"name\" a variable containing \"Batman\"\n",
    "\n",
    "name == 'Batman' #Telling you if \"name\" variable is \"Batman\" or not. True or false. Don't forget to restart kernel to clear variables.\n",
    "name == 'Robin'"
   ]
  },
  {
   "attachments": {},
   "cell_type": "markdown",
   "id": "37e3be40",
   "metadata": {},
   "source": [
    "# 6 Use if to make decisions"
   ]
  },
  {
   "cell_type": "code",
   "execution_count": 17,
   "id": "de7a55d4-d1b6-4f9d-adab-bdedcee99389",
   "metadata": {},
   "outputs": [
    {
     "name": "stdout",
     "output_type": "stream",
     "text": [
      "Hello Batman!\n"
     ]
    }
   ],
   "source": [
    "name = 'Batman'\n",
    "\n",
    "if name == 'Batman': #if the 'name == Batman' = true, it will run the next line.\n",
    "    print('Hello Batman!')\n",
    "else: #if 'if' is not fulfilled, it will run the next line\n",
    "    print('Hello World!')\n",
    "\n",
    "#Be weary of the indentations."
   ]
  },
  {
   "cell_type": "code",
   "execution_count": 16,
   "id": "8da93712-61c0-40f1-92e6-bc65c774f9f2",
   "metadata": {},
   "outputs": [
    {
     "name": "stdout",
     "output_type": "stream",
     "text": [
      "Hello Batman!\n",
      "You are cool\n",
      "Thank goodness\n"
     ]
    }
   ],
   "source": [
    "name = 'Batman'\n",
    "\n",
    "if name == 'Batman':\n",
    "    print('Hello Batman!')\n",
    "    print('You are cool')\n",
    "    print('Thank goodness') #Testing inputting multiple functions\n",
    "else:\n",
    "    print('Hello World!')"
   ]
  },
  {
   "cell_type": "code",
   "execution_count": null,
   "id": "1810f44d-c7da-4293-bbe8-65d4e6efc9b3",
   "metadata": {},
   "outputs": [],
   "source": [
    "# Written in C\n",
    "if (name == 'Batman') {\n",
    "  print('Hello Hero | Batman!') #can be sloppy with indentations, it will still run\n",
    "} else {                        #as long as it is within the curly brackets\n",
    "  print('Hello World!')\n",
    "} #curly bracket tells it the true and false blocks"
   ]
  },
  {
   "attachments": {},
   "cell_type": "markdown",
   "id": "eb25387f",
   "metadata": {},
   "source": [
    "# 7 Indentations (spaces) are sooo IMPORTANT!"
   ]
  },
  {
   "cell_type": "code",
   "execution_count": 18,
   "id": "5b20e013-ca94-4a01-9392-1fb0085ca02e",
   "metadata": {},
   "outputs": [
    {
     "name": "stdout",
     "output_type": "stream",
     "text": [
      "10\n"
     ]
    }
   ],
   "source": [
    "x = 10\n",
    "print(x)\n",
    "# If have indentation, it will think there will be another code line/block"
   ]
  },
  {
   "cell_type": "code",
   "execution_count": 9,
   "id": "69b02299-4a34-4431-a088-05c605b7d1e9",
   "metadata": {},
   "outputs": [
    {
     "ename": "IndentationError",
     "evalue": "unexpected indent (125569996.py, line 2)",
     "output_type": "error",
     "traceback": [
      "\u001b[1;36m  Cell \u001b[1;32mIn[9], line 2\u001b[1;36m\u001b[0m\n\u001b[1;33m    print(x) #indentations are used to separate the True and False blocks of 'if' statements.\u001b[0m\n\u001b[1;37m    ^\u001b[0m\n\u001b[1;31mIndentationError\u001b[0m\u001b[1;31m:\u001b[0m unexpected indent\n"
     ]
    }
   ],
   "source": [
    "x = 10\n",
    "    print(x) #indentations are used to separate the True and False blocks of 'if' statements."
   ]
  },
  {
   "attachments": {},
   "cell_type": "markdown",
   "id": "08836052",
   "metadata": {},
   "source": [
    "# 8 ‘age’ is English, age is a variable."
   ]
  },
  {
   "cell_type": "code",
   "execution_count": 23,
   "id": "8a536fbe-693d-4e25-a2ce-390fcf4d80e1",
   "metadata": {},
   "outputs": [
    {
     "name": "stdout",
     "output_type": "stream",
     "text": [
      "23\n",
      "age\n"
     ]
    }
   ],
   "source": [
    "age = 23\n",
    "\n",
    "print(age) #Prints the variable age, which needs to be assigned beforehand\n",
    "print('age') #Prints the word age"
   ]
  },
  {
   "cell_type": "code",
   "execution_count": 5,
   "id": "5601261d-23f9-435c-a95a-6c4c9f07f562",
   "metadata": {},
   "outputs": [
    {
     "name": "stdout",
     "output_type": "stream",
     "text": [
      "You're twenty four years old.\n"
     ]
    }
   ],
   "source": [
    "print(\"You're twenty four years old.\") \n",
    "#Always be consistence with types of quotation mark you use. If there is a sentence that need ', use \" as quotations instead"
   ]
  },
  {
   "cell_type": "code",
   "execution_count": 4,
   "id": "9c55be15-b19d-45c5-9fea-20c9c543cc36",
   "metadata": {},
   "outputs": [
    {
     "ename": "SyntaxError",
     "evalue": "unterminated string literal (detected at line 1) (2516581879.py, line 1)",
     "output_type": "error",
     "traceback": [
      "\u001b[1;36m  Cell \u001b[1;32mIn[4], line 1\u001b[1;36m\u001b[0m\n\u001b[1;33m    print('You're twenty four years old.') #does not print as there is multiple\u001b[0m\n\u001b[1;37m                                        ^\u001b[0m\n\u001b[1;31mSyntaxError\u001b[0m\u001b[1;31m:\u001b[0m unterminated string literal (detected at line 1)\n"
     ]
    }
   ],
   "source": [
    "print('You're twenty four years old.') #does not print"
   ]
  },
  {
   "attachments": {},
   "cell_type": "markdown",
   "id": "291ea862",
   "metadata": {},
   "source": [
    "# 9 Brackets"
   ]
  },
  {
   "cell_type": "code",
   "execution_count": 7,
   "id": "5514e680-4ae1-453b-b9d5-15d346d34909",
   "metadata": {},
   "outputs": [
    {
     "name": "stdout",
     "output_type": "stream",
     "text": [
      "Hello!\n"
     ]
    },
    {
     "data": {
      "text/plain": [
       "15"
      ]
     },
     "execution_count": 7,
     "metadata": {},
     "output_type": "execute_result"
    }
   ],
   "source": [
    "print('Hello!') #() used for functions\n",
    "(1 + 2) * 5 #() used for maths"
   ]
  },
  {
   "cell_type": "code",
   "execution_count": 11,
   "id": "0488df3d-c43e-4a38-bc59-c5dc3e7d7cff",
   "metadata": {},
   "outputs": [
    {
     "name": "stdout",
     "output_type": "stream",
     "text": [
      "[1, 2, 3, 4, 5]\n"
     ]
    }
   ],
   "source": [
    "py_list =[1, 2, 3, 4, 5] #1 dimension list\n",
    "\n",
    "py_list_2 = [ #2 dimension list, 2 types of variables\n",
    "    [1, \"A\"],\n",
    "    [2,\"B\"],\n",
    "    [3,\"C\"],\n",
    "    [4,\"D\"],\n",
    "    [5,\"E\"]\n",
    "]\n",
    "\n",
    "#[] used for lists of data"
   ]
  },
  {
   "cell_type": "code",
   "execution_count": 14,
   "id": "839e095e-2e12-43bf-bbf0-a88c0a10383c",
   "metadata": {},
   "outputs": [
    {
     "name": "stdout",
     "output_type": "stream",
     "text": [
      "Bruce Wayne\n",
      "Justice League\n"
     ]
    }
   ],
   "source": [
    "#{} store data in dictionaries, where it uses a key to identify a value. Neat data storage and access information quick\n",
    "personal_info = {\n",
    "    'Names': 'Batman', \n",
    "    'Real Name': 'Bruce Wayne', #Uses a key 'Real name' to identify a value 'Bruce Wayne'\n",
    "    'Age': 55,\n",
    "    'Affiliation': 'Justice League',\n",
    "    'Universe': 'DC'\n",
    "}\n",
    "\n",
    "print(personal_info['Real Name']) #telling it to print from the disctionary from personal_info -> Real name\n",
    "print(personal_info['Affiliation'])"
   ]
  },
  {
   "attachments": {},
   "cell_type": "markdown",
   "id": "6bb6256f",
   "metadata": {},
   "source": [
    "# 10 Giving Python superpowers with Packages"
   ]
  },
  {
   "attachments": {},
   "cell_type": "markdown",
   "id": "c6693f45",
   "metadata": {},
   "source": [
    "## 10.1 Some Context"
   ]
  },
  {
   "cell_type": "code",
   "execution_count": 21,
   "id": "04da6ca4-2449-4090-9e43-5aa6300e77aa",
   "metadata": {},
   "outputs": [
    {
     "ename": "NameError",
     "evalue": "name 'sqrt' is not defined",
     "output_type": "error",
     "traceback": [
      "\u001b[1;31m---------------------------------------------------------------------------\u001b[0m",
      "\u001b[1;31mNameError\u001b[0m                                 Traceback (most recent call last)",
      "Cell \u001b[1;32mIn[21], line 3\u001b[0m\n\u001b[0;32m      1\u001b[0m \u001b[38;5;241m1\u001b[39m \u001b[38;5;241m*\u001b[39m ((\u001b[38;5;241m2\u001b[39m \u001b[38;5;241m-\u001b[39m \u001b[38;5;241m3\u001b[39m) \u001b[38;5;241m+\u001b[39m \u001b[38;5;241m4\u001b[39m) \u001b[38;5;241m*\u001b[39m\u001b[38;5;241m*\u001b[39m \u001b[38;5;241m5\u001b[39m \u001b[38;5;241m/\u001b[39m \u001b[38;5;241m6\u001b[39m \u001b[38;5;66;03m#40.5\u001b[39;00m\n\u001b[1;32m----> 3\u001b[0m \u001b[43msqrt\u001b[49m(\u001b[38;5;241m4\u001b[39m) \u001b[38;5;66;03m#does not work as no appropriate package is loaded to perform this function\u001b[39;00m\n",
      "\u001b[1;31mNameError\u001b[0m: name 'sqrt' is not defined"
     ]
    }
   ],
   "source": [
    "1 * ((2 - 3) + 4) ** 5 / 6 #40.5\n",
    "\n",
    "sqrt(4) #does not work as no appropriate package is loaded to perform this function"
   ]
  },
  {
   "attachments": {},
   "cell_type": "markdown",
   "id": "641c48fd",
   "metadata": {},
   "source": [
    "## 10.2 Importing the math package"
   ]
  },
  {
   "cell_type": "code",
   "execution_count": 23,
   "id": "e7d9dc25-b13e-42ab-987d-d237337050cd",
   "metadata": {},
   "outputs": [
    {
     "data": {
      "text/plain": [
       "2.0"
      ]
     },
     "execution_count": 23,
     "metadata": {},
     "output_type": "execute_result"
    }
   ],
   "source": [
    "import math #adding math package to python"
   ]
  },
  {
   "cell_type": "code",
   "execution_count": 24,
   "id": "7d19cda5-a8d3-4bf4-9bb3-aaf94c8b1c0b",
   "metadata": {},
   "outputs": [
    {
     "data": {
      "text/plain": [
       "2.0"
      ]
     },
     "execution_count": 24,
     "metadata": {},
     "output_type": "execute_result"
    }
   ],
   "source": [
    "math.sqrt(4) #need to add the package name at the front, with the function from the package."
   ]
  },
  {
   "attachments": {},
   "cell_type": "markdown",
   "id": "965eb078",
   "metadata": {},
   "source": [
    "## 10.3 Importing the numpy package"
   ]
  },
  {
   "cell_type": "code",
   "execution_count": 25,
   "id": "77d258e2-57e6-4e58-93b7-f1174e93fb10",
   "metadata": {},
   "outputs": [],
   "source": [
    "import numpy as np #telling python to import numpy into np, so dont have to type full package name"
   ]
  },
  {
   "cell_type": "code",
   "execution_count": 28,
   "id": "6144053c-45a0-4428-a4dc-f36c886a91bc",
   "metadata": {},
   "outputs": [
    {
     "data": {
      "text/plain": [
       "np.float64(2.0)"
      ]
     },
     "execution_count": 28,
     "metadata": {},
     "output_type": "execute_result"
    }
   ],
   "source": [
    "np.sqrt(4) #Need make sure to add the package before running associated commands to prevent error\n",
    "\n",
    "#np.float64(2.0) <- output of mine is different from SP2273 website"
   ]
  },
  {
   "attachments": {},
   "cell_type": "markdown",
   "id": "6e56ad07",
   "metadata": {},
   "source": [
    "## 10.4 Why so many packages?"
   ]
  },
  {
   "cell_type": "code",
   "execution_count": 31,
   "id": "23357607-7e59-4331-9e7d-6e57db467e22",
   "metadata": {},
   "outputs": [
    {
     "data": {
      "text/plain": [
       "array([2., 3., 4.])"
      ]
     },
     "execution_count": 31,
     "metadata": {},
     "output_type": "execute_result"
    }
   ],
   "source": [
    "np.sqrt([4, 9, 16]) #Different packages have different capabilities and efficiencies. e.g., numpy can handle a list of numbers\n",
    "\n",
    "#You only need to load packages once"
   ]
  },
  {
   "attachments": {},
   "cell_type": "markdown",
   "id": "551f1be5",
   "metadata": {},
   "source": [
    "# 11 The dot (.)"
   ]
  },
  {
   "cell_type": "code",
   "execution_count": 35,
   "id": "12c61960-7b2f-42e9-a76e-7624dee29ef1",
   "metadata": {},
   "outputs": [
    {
     "data": {
      "text/plain": [
       "np.float64(2.0)"
      ]
     },
     "execution_count": 35,
     "metadata": {},
     "output_type": "execute_result"
    }
   ],
   "source": [
    "#. indicate ownership, particularly which package it will use to run\n",
    "math.sqrt(4) \n",
    "np.sqrt(4)"
   ]
  },
  {
   "cell_type": "code",
   "execution_count": 36,
   "id": "5711a9ec-103f-4e2b-973a-1c16d9e97e24",
   "metadata": {},
   "outputs": [
    {
     "data": {
      "text/plain": [
       "['I', 'am', 'Batman']"
      ]
     },
     "execution_count": 36,
     "metadata": {},
     "output_type": "execute_result"
    }
   ],
   "source": [
    "#py has functions and attributes, where we can access using .\n",
    "'I am Batman'.split() #splits the sentences into words, needs to have space in between"
   ]
  },
  {
   "cell_type": "code",
   "execution_count": 37,
   "id": "e75737f3-830b-4da2-a178-da901fc9b219",
   "metadata": {},
   "outputs": [
    {
     "ename": "SyntaxError",
     "evalue": "invalid decimal literal (3897031440.py, line 1)",
     "output_type": "error",
     "traceback": [
      "\u001b[1;36m  Cell \u001b[1;32mIn[37], line 1\u001b[1;36m\u001b[0m\n\u001b[1;33m    1234.split()\u001b[0m\n\u001b[1;37m        ^\u001b[0m\n\u001b[1;31mSyntaxError\u001b[0m\u001b[1;31m:\u001b[0m invalid decimal literal\n"
     ]
    }
   ],
   "source": [
    "1234.split() #does not work as splitting numbers makes no sense. \n",
    "#If you want, need to add '' to make the numbers become string (words), but it changes the variable type"
   ]
  },
  {
   "cell_type": "code",
   "execution_count": 39,
   "id": "2b159530-14ad-4add-aeef-b77aef6e4b21",
   "metadata": {},
   "outputs": [
    {
     "data": {
      "text/plain": [
       "['1', '2', '3', '4']"
      ]
     },
     "execution_count": 39,
     "metadata": {},
     "output_type": "execute_result"
    }
   ],
   "source": [
    "'1 2 3 4'.split() #Need to have space in between the numbers for .split() function to work\n",
    "#Showing that converting numerical to str variable allows .split() to be used"
   ]
  },
  {
   "attachments": {},
   "cell_type": "markdown",
   "id": "e297e64f",
   "metadata": {},
   "source": [
    "## Footnotes"
   ]
  }
 ],
 "metadata": {
  "kernelspec": {
   "display_name": "Python 3 (ipykernel)",
   "language": "python",
   "name": "python3"
  },
  "language_info": {
   "codemirror_mode": {
    "name": "ipython",
    "version": 3
   },
   "file_extension": ".py",
   "mimetype": "text/x-python",
   "name": "python",
   "nbconvert_exporter": "python",
   "pygments_lexer": "ipython3",
   "version": "3.12.3"
  },
  "toc": {
   "base_numbering": 1,
   "nav_menu": {},
   "number_sections": true,
   "sideBar": true,
   "skip_h1_title": false,
   "title_cell": "Table of Contents",
   "title_sidebar": "Contents",
   "toc_cell": false,
   "toc_position": {},
   "toc_section_display": true,
   "toc_window_display": false
  },
  "vscode": {
   "interpreter": {
    "hash": "31f2aee4e71d21fbe5cf8b01ff0e069b9275f58929596ceb00d14d90e3e16cd6"
   }
  }
 },
 "nbformat": 4,
 "nbformat_minor": 5
}
