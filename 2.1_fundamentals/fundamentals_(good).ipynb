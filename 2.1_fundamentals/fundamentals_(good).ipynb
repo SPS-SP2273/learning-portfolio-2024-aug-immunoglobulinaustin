{
 "cells": [
  {
   "attachments": {},
   "cell_type": "markdown",
   "id": "123456",
   "metadata": {},
   "source": [
    "<div style=\"text-align:left;font-size:2em\"><span style=\"font-weight:bolder;font-size:1.25em\">SP2273 | Learning Portfolio</span><br><br><span style=\"font-weight:bold;color:darkred\">Fundamentals (Good)</span></div>"
   ]
  },
  {
   "attachments": {},
   "cell_type": "markdown",
   "id": "347b8cae",
   "metadata": {},
   "source": [
    "# What to expect in this chapter"
   ]
  },
  {
   "attachments": {},
   "cell_type": "markdown",
   "id": "30654e29",
   "metadata": {},
   "source": [
    "# 1 There is more to if"
   ]
  },
  {
   "cell_type": "code",
   "execution_count": 5,
   "id": "d7582163-8cc8-445b-9298-24185ef029c4",
   "metadata": {},
   "outputs": [
    {
     "name": "stdout",
     "output_type": "stream",
     "text": [
      "Hello Batman!\n"
     ]
    }
   ],
   "source": [
    "name = 'Batman'\n",
    "\n",
    "if name == 'Batman':\n",
    "    print('Hello Batman!')\n",
    "elif name == 'Robin':\n",
    "    print('Hello sidekickies')\n",
    "else: #using else is the last of the if statement\n",
    "    print('Get out')\n",
    "\n",
    "#Depending on the name, you can get it to carry out different functions or print different names in this case.\n",
    "#name = Batman will print 'Hello Batman', name = Robin will print Hello sidekickies and if name is not either, it will print Get out"
   ]
  },
  {
   "attachments": {},
   "cell_type": "markdown",
   "id": "33b955dd",
   "metadata": {},
   "source": [
    "# 2 Asking questions"
   ]
  },
  {
   "cell_type": "code",
   "execution_count": 1,
   "id": "713088c3-5698-411f-84bb-022964637648",
   "metadata": {},
   "outputs": [
    {
     "data": {
      "text/plain": [
       "True"
      ]
     },
     "execution_count": 1,
     "metadata": {},
     "output_type": "execute_result"
    }
   ],
   "source": [
    "fruits = ['apple', 'banana', 'pineapple', 'jackfruit'] \n",
    "vegetables = ['celery', 'potato', 'broccoli', 'kale']\n",
    "\n",
    "#[] tagging list of data to variables\n",
    "\n",
    "'apple' in fruits #Asking whether there is apple in fruits, generates T or F answer based on data list\n",
    "'peach' in fruits\n",
    "'peach' not in fruits #asking whether peach is not in fruits, will generate T or F"
   ]
  },
  {
   "cell_type": "code",
   "execution_count": 4,
   "id": "fda71dad-48ae-4e30-bda6-9b672d357dd1",
   "metadata": {},
   "outputs": [
    {
     "name": "stdout",
     "output_type": "stream",
     "text": [
      "Hahahah\n"
     ]
    }
   ],
   "source": [
    "fruits = ['apple', 'banana', 'pineapple', 'jackfruit'] \n",
    "vegetables = ['celery', 'potato', 'broccoli', 'kale']\n",
    "\n",
    "if 'apple' in fruits:\n",
    "    print('Hahahah')\n",
    "else:\n",
    "    print('Nooooo')\n",
    "#trying ifelse statements "
   ]
  },
  {
   "cell_type": "code",
   "execution_count": 5,
   "id": "e7ec4250-f28e-4a04-8df3-f994ea190db5",
   "metadata": {},
   "outputs": [
    {
     "data": {
      "text/plain": [
       "False"
      ]
     },
     "execution_count": 5,
     "metadata": {},
     "output_type": "execute_result"
    }
   ],
   "source": [
    "('apple' in fruits) and ('celery' in vegetables) \n",
    "#Asking whether both apple in fruits and celery in veg is correct. If one of them is wrong, generate F\n",
    "#Brackets make things neater\n",
    "\n",
    "('apple' in fruits) or ('celery' in vegetables) #if either is correct, generate true\n",
    "\n",
    "#Testing\n",
    "('tomato' in fruits) or ('celery' in vegetables) #T\n",
    "('tomato' in fruits) or ('tomato' in vegetables) #F, both are wrong"
   ]
  },
  {
   "cell_type": "code",
   "execution_count": 7,
   "id": "d8bffcd1-1b21-440a-827c-541a40840a81",
   "metadata": {},
   "outputs": [
    {
     "data": {
      "text/plain": [
       "True"
      ]
     },
     "execution_count": 7,
     "metadata": {},
     "output_type": "execute_result"
    }
   ],
   "source": [
    "'app' in 'apple' #asking if there is 'app' in apple"
   ]
  },
  {
   "cell_type": "code",
   "execution_count": 8,
   "id": "6b6df5ee-82fd-41b9-911d-dab3fa3ed53c",
   "metadata": {},
   "outputs": [
    {
     "data": {
      "text/plain": [
       "False"
      ]
     },
     "execution_count": 8,
     "metadata": {},
     "output_type": "execute_result"
    }
   ],
   "source": [
    "'apples' > 'oranges'\n",
    "#py can only compare similar things, numbers or english\n",
    "#T or F answer\n",
    "#comparison works cause a = 97, o = 111. it will only see the first 2 numbers and compare"
   ]
  },
  {
   "attachments": {},
   "cell_type": "markdown",
   "id": "f118a257",
   "metadata": {},
   "source": [
    "## 2.1 Asking Math questions"
   ]
  },
  {
   "cell_type": "markdown",
   "id": "24ccd313-4be3-4bff-b794-d6102103f4a7",
   "metadata": {},
   "source": [
    "| Question/Condition     | Math Symbol | Python Symbols |   |   |\n",
    "|------------------------|:-----------:|:--------------:|---|---|\n",
    "| Equals?                |      =      |       ==       |   |   |\n",
    "| Not equal?             |      ≠      |       !=       |   |   |\n",
    "| Less than?             |      <      |        <       |   |   |\n",
    "| Greater than?          |      >      |        >       |   |   |\n",
    "| Less than or equal?    |      ≤      |       <=       |   |   |\n",
    "| Greater than or equal? |      ≥      |       >=       |   |   |\n"
   ]
  },
  {
   "cell_type": "code",
   "execution_count": 13,
   "id": "d74150e9-5d4a-4834-b591-c1b289231ff4",
   "metadata": {},
   "outputs": [
    {
     "data": {
      "text/plain": [
       "False"
      ]
     },
     "execution_count": 13,
     "metadata": {},
     "output_type": "execute_result"
    }
   ],
   "source": [
    "#All of these 3 are the same, with the last format being neatest\n",
    "x = 5\n",
    "x > 5 and x < 15\n",
    "(x > 5) and (x < 15)\n",
    "5 < x < 15"
   ]
  },
  {
   "attachments": {},
   "cell_type": "markdown",
   "id": "14285b7e",
   "metadata": {},
   "source": [
    "# 3 Python stores information in different formats or types"
   ]
  },
  {
   "cell_type": "code",
   "execution_count": 7,
   "id": "3a297a8e-52f1-4b51-b0b4-8d81a20966a5",
   "metadata": {},
   "outputs": [
    {
     "name": "stdout",
     "output_type": "stream",
     "text": [
      "1 <class 'int'>\n",
      "1.234 <class 'str'>\n",
      "1.234 <class 'float'>\n",
      "(1.234+0j) <class 'complex'>\n"
     ]
    }
   ],
   "source": [
    "x = int(1.234) #storing as an integer\n",
    "print(x, type(x))\n",
    "#type() is asking what format py is storing the info in. Drops the decimal place\n",
    "\n",
    "x = str(1.234)\n",
    "print(x, type(x)) #str() stores as an english word. Will not drop decimal places\n",
    "\n",
    "x = float(1.234) #float coverts values into decimal values or fractional numbers\n",
    "print(x, type(x))\n",
    "\n",
    "x = complex(1.234) #complex number, real + imaginary part of the number e.g., 5+2j\n",
    "print(x, type(x))\n",
    "\n",
    "#doing math with int and str format will generate same data, but float will not"
   ]
  },
  {
   "cell_type": "code",
   "execution_count": 19,
   "id": "f837a4c7-eed8-488c-b392-3728cd2f99ed",
   "metadata": {},
   "outputs": [
    {
     "data": {
      "text/plain": [
       "np.float32(2.0)"
      ]
     },
     "execution_count": 19,
     "metadata": {},
     "output_type": "execute_result"
    }
   ],
   "source": [
    "import numpy as np\n",
    "np.sqrt(4) #float64/32/8, types of storage format. 64 have higher precision than 32\n",
    "np.sqrt(4, dtype='float32') #asking it to store in float32, lower precision. depends on how you want to run your simulations"
   ]
  },
  {
   "attachments": {},
   "cell_type": "markdown",
   "id": "58cdb13a",
   "metadata": {},
   "source": [
    "# 4 Never compare floats directly"
   ]
  },
  {
   "attachments": {},
   "cell_type": "markdown",
   "id": "1701c047",
   "metadata": {},
   "source": [
    "## 4.1 The Problem"
   ]
  },
  {
   "cell_type": "code",
   "execution_count": 21,
   "id": "27390b1a-c3fa-472f-827a-4b8e3e13b268",
   "metadata": {},
   "outputs": [
    {
     "data": {
      "text/plain": [
       "True"
      ]
     },
     "execution_count": 21,
     "metadata": {},
     "output_type": "execute_result"
    }
   ],
   "source": [
    "A = 1\n",
    "A3 = 3\n",
    "A * 3 == A3"
   ]
  },
  {
   "cell_type": "code",
   "execution_count": 20,
   "id": "afba5403-3f19-4cb1-83ca-ce6075c9244b",
   "metadata": {},
   "outputs": [
    {
     "data": {
      "text/plain": [
       "'0.29999999999999999'"
      ]
     },
     "execution_count": 20,
     "metadata": {},
     "output_type": "execute_result"
    }
   ],
   "source": [
    "#floating numbers cannot be exactly stored, leading to roundoff errors\n",
    "a = 0.1\n",
    "a3 = 0.3\n",
    "a * 3 == a3\n",
    "\n",
    "f'{0.3:.17f}' #printing 0.3 to 17 decimal places"
   ]
  },
  {
   "cell_type": "code",
   "execution_count": 22,
   "id": "5c0f0096-89a9-46d5-a115-cab37d311790",
   "metadata": {},
   "outputs": [
    {
     "data": {
      "text/plain": [
       "0.30000000000000004"
      ]
     },
     "execution_count": 22,
     "metadata": {},
     "output_type": "execute_result"
    }
   ],
   "source": [
    "a*3 #0.30000000000000004, truncation error. Never compare float directly\n",
    "#If need to compare floats, can compare whether they are very close. Decide on a precision you are interested\n",
    "#use eps/abs and numpy.isclose() to compare"
   ]
  },
  {
   "attachments": {},
   "cell_type": "markdown",
   "id": "14cfd2e5",
   "metadata": {},
   "source": [
    "## 4.2 A solution"
   ]
  },
  {
   "cell_type": "code",
   "execution_count": 14,
   "id": "8d826987-0c5c-4365-9f42-547ebc031b3a",
   "metadata": {},
   "outputs": [
    {
     "data": {
      "text/plain": [
       "True"
      ]
     },
     "execution_count": 14,
     "metadata": {},
     "output_type": "execute_result"
    }
   ],
   "source": [
    "#Asking is variable is close to expected values\n",
    "eps = 1E-10 #1 * 10**15\n",
    "abs(a * 3 - a3) < eps \n",
    "#abs() means absolute, converting anything inside into a positive number. can be int or float"
   ]
  },
  {
   "cell_type": "code",
   "execution_count": 18,
   "id": "b96b5226-2839-4f08-a84c-5609c39d140a",
   "metadata": {},
   "outputs": [
    {
     "name": "stdout",
     "output_type": "stream",
     "text": [
      "5\n",
      "5\n"
     ]
    }
   ],
   "source": [
    "#Testing abs\n",
    "x = 5\n",
    "y = -5\n",
    "\n",
    "print(abs(x))\n",
    "print(abs(y))\n",
    "\n",
    "#Converts negative to positive values to make comparisons easier"
   ]
  },
  {
   "cell_type": "code",
   "execution_count": 24,
   "id": "5e977310-624b-4771-b361-0354041cf8b7",
   "metadata": {},
   "outputs": [
    {
     "data": {
      "text/plain": [
       "np.True_"
      ]
     },
     "execution_count": 24,
     "metadata": {},
     "output_type": "execute_result"
    }
   ],
   "source": [
    "import numpy as np\n",
    "\n",
    "np.isclose(a * 3, a3)\n",
    "#using numpy to shorten the command"
   ]
  },
  {
   "attachments": {},
   "cell_type": "markdown",
   "id": "1b8cc06b",
   "metadata": {},
   "source": [
    "# 5 Combining English and variables"
   ]
  },
  {
   "cell_type": "code",
   "execution_count": 27,
   "id": "a0690b03-5aad-44bd-bda8-36479840938b",
   "metadata": {},
   "outputs": [
    {
     "name": "stdout",
     "output_type": "stream",
     "text": [
      "Hello BATMAN!\n"
     ]
    }
   ],
   "source": [
    "name = \"Batman\"\n",
    "print(f\"Hello {name}!\")"
   ]
  },
  {
   "cell_type": "code",
   "execution_count": 28,
   "id": "8e667500-e5c9-445b-8a40-d2d847be9c0d",
   "metadata": {},
   "outputs": [
    {
     "name": "stdout",
     "output_type": "stream",
     "text": [
      "name='Batman'\n"
     ]
    }
   ],
   "source": [
    "print(f'{name=}')"
   ]
  },
  {
   "cell_type": "code",
   "execution_count": null,
   "id": "82af52ff-7b9b-4ee4-b4ed-4b0344e87700",
   "metadata": {},
   "outputs": [],
   "source": [
    "filename = f'experiment_{date}_{sample}.txt'\n",
    "#string, whenever you want to combine variable and sentence, put it infront. Variable you want put it in curly brackets.\n"
   ]
  },
  {
   "cell_type": "code",
   "execution_count": 30,
   "id": "46b42564-01b6-451f-b1ff-fb3affd0dd5c",
   "metadata": {},
   "outputs": [
    {
     "name": "stdout",
     "output_type": "stream",
     "text": [
      "The value of 10 'squared' is 100!\n",
      "The value of 10 \"squared\" is 100!\n"
     ]
    }
   ],
   "source": [
    "x = 10\n",
    "print(f\"The value of {x} 'squared' is {x**2}!\")\n",
    "\n",
    "x = 10\n",
    "print(f'The value of {x} \"squared\" is {x**2}!')"
   ]
  },
  {
   "cell_type": "code",
   "execution_count": 32,
   "id": "b4c4770a-1aa9-4f01-bc11-0f7ce59e05b3",
   "metadata": {},
   "outputs": [
    {
     "name": "stdout",
     "output_type": "stream",
     "text": [
      "                                                     Bruce Wayne is Batman.\n"
     ]
    }
   ],
   "source": [
    "text = 'Bruce Wayne is Batman.'\n",
    "print(f'{text:>75}') #the number refers to no. of characters block"
   ]
  },
  {
   "attachments": {},
   "cell_type": "markdown",
   "id": "b96e4558",
   "metadata": {},
   "source": [
    "## 5.1 Structure of f-strings"
   ]
  },
  {
   "cell_type": "code",
   "execution_count": 39,
   "id": "be12852b-989b-4d12-8656-214736cd25be",
   "metadata": {},
   "outputs": [
    {
     "name": "stdout",
     "output_type": "stream",
     "text": [
      "The cube of pi to 6 decimal places is 31.006277\n",
      "The cube of pi to 6 decimal places is     31.006\n"
     ]
    }
   ],
   "source": [
    "print(f'The cube of pi to 6 decimal places is {np.pi**3:.6f}')\n",
    "#I want a total of 6 digits, 3 decimal palces\n",
    "\n",
    "print(f'The cube of pi to 6 decimal places is {np.pi**3:10.3f}')\n",
    "#I want it in 3 decimal places"
   ]
  },
  {
   "attachments": {},
   "cell_type": "markdown",
   "id": "d13967ea",
   "metadata": {},
   "source": [
    "# 6 Escape sequences"
   ]
  },
  {
   "cell_type": "code",
   "execution_count": 41,
   "id": "cd50cee5-f055-4cfd-a0d8-1d9f7b7a1266",
   "metadata": {},
   "outputs": [
    {
     "name": "stdout",
     "output_type": "stream",
     "text": [
      "Hahaha\n",
      "Wooo\n"
     ]
    }
   ],
   "source": [
    "print('Hahaha\\nWooo') #\\, tell printing engine there is a linebreak. t, add a tab"
   ]
  },
  {
   "attachments": {},
   "cell_type": "markdown",
   "id": "a2312897",
   "metadata": {},
   "source": [
    "## 6.1 Self-documenting f-strings"
   ]
  },
  {
   "attachments": {},
   "cell_type": "markdown",
   "id": "55ee3ca3",
   "metadata": {},
   "source": [
    "# 7 Computers read = from Right to Left!"
   ]
  },
  {
   "attachments": {},
   "cell_type": "markdown",
   "id": "27b96773",
   "metadata": {},
   "source": [
    "# 8 Shorter and Cleaner Code"
   ]
  },
  {
   "attachments": {},
   "cell_type": "markdown",
   "id": "f9fb2b31",
   "metadata": {},
   "source": [
    "# 9 Python can be a prima-donna."
   ]
  },
  {
   "attachments": {},
   "cell_type": "markdown",
   "id": "bdc7ce6f",
   "metadata": {},
   "source": [
    "# 10 Best Practices for Scientific Computing"
   ]
  },
  {
   "attachments": {},
   "cell_type": "markdown",
   "id": "708e93c4",
   "metadata": {},
   "source": [
    "# 11 Looking for help"
   ]
  },
  {
   "attachments": {},
   "cell_type": "markdown",
   "id": "b36e407c",
   "metadata": {},
   "source": [
    "## References"
   ]
  },
  {
   "attachments": {},
   "cell_type": "markdown",
   "id": "6be2bf96",
   "metadata": {},
   "source": [
    "## Footnotes"
   ]
  }
 ],
 "metadata": {
  "kernelspec": {
   "display_name": "Python 3 (ipykernel)",
   "language": "python",
   "name": "python3"
  },
  "language_info": {
   "codemirror_mode": {
    "name": "ipython",
    "version": 3
   },
   "file_extension": ".py",
   "mimetype": "text/x-python",
   "name": "python",
   "nbconvert_exporter": "python",
   "pygments_lexer": "ipython3",
   "version": "3.12.3"
  },
  "toc": {
   "base_numbering": 1,
   "nav_menu": {},
   "number_sections": true,
   "sideBar": true,
   "skip_h1_title": false,
   "title_cell": "Table of Contents",
   "title_sidebar": "Contents",
   "toc_cell": false,
   "toc_position": {},
   "toc_section_display": true,
   "toc_window_display": false
  },
  "vscode": {
   "interpreter": {
    "hash": "31f2aee4e71d21fbe5cf8b01ff0e069b9275f58929596ceb00d14d90e3e16cd6"
   }
  }
 },
 "nbformat": 4,
 "nbformat_minor": 5
}
