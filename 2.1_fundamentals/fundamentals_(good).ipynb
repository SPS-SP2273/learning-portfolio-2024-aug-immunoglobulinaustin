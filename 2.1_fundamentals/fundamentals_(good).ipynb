{
 "cells": [
  {
   "attachments": {},
   "cell_type": "markdown",
   "id": "123456",
   "metadata": {},
   "source": [
    "<div style=\"text-align:left;font-size:2em\"><span style=\"font-weight:bolder;font-size:1.25em\">SP2273 | Learning Portfolio</span><br><br><span style=\"font-weight:bold;color:darkred\">Fundamentals (Good)</span></div>"
   ]
  },
  {
   "attachments": {},
   "cell_type": "markdown",
   "id": "347b8cae",
   "metadata": {},
   "source": [
    "# What to expect in this chapter"
   ]
  },
  {
   "attachments": {},
   "cell_type": "markdown",
   "id": "30654e29",
   "metadata": {},
   "source": [
    "# 1 There is more to if"
   ]
  },
  {
   "cell_type": "code",
   "execution_count": 5,
   "id": "d7582163-8cc8-445b-9298-24185ef029c4",
   "metadata": {},
   "outputs": [
    {
     "name": "stdout",
     "output_type": "stream",
     "text": [
      "Hello Batman!\n"
     ]
    }
   ],
   "source": [
    "name = 'Batman'\n",
    "\n",
    "if name == 'Batman':\n",
    "    print('Hello Batman!')\n",
    "elif name == 'Robin':\n",
    "    print('Hello sidekickies')\n",
    "else: #using else is the last of the if statement\n",
    "    print('Get out')\n",
    "\n",
    "#Depending on the name, you can get it to carry out different functions or print different names in this case.\n",
    "#name = Batman will print 'Hello Batman', name = Robin will print Hello sidekickies and if name = none of the two names, it will print Get out"
   ]
  },
  {
   "attachments": {},
   "cell_type": "markdown",
   "id": "33b955dd",
   "metadata": {},
   "source": [
    "# 2 Asking questions"
   ]
  },
  {
   "cell_type": "code",
   "execution_count": 14,
   "id": "713088c3-5698-411f-84bb-022964637648",
   "metadata": {},
   "outputs": [
    {
     "data": {
      "text/plain": [
       "True"
      ]
     },
     "execution_count": 14,
     "metadata": {},
     "output_type": "execute_result"
    }
   ],
   "source": [
    "fruits = ['apple', 'banana', 'pineapple', 'jackfruit'] \n",
    "vegetables = ['celery', 'potato', 'broccoli', 'kale']\n",
    "\n",
    "#[] tagging list of data to variables\n",
    "\n",
    "'apple' in fruits #Asking whether there is apple in fruits, generates T or F answer based on data list\n",
    "'peach' in fruits\n",
    "'peach' not in fruits #asking whether peach is not in fruits, will generate T or F"
   ]
  },
  {
   "cell_type": "code",
   "execution_count": 20,
   "id": "e7ec4250-f28e-4a04-8df3-f994ea190db5",
   "metadata": {},
   "outputs": [
    {
     "data": {
      "text/plain": [
       "False"
      ]
     },
     "execution_count": 20,
     "metadata": {},
     "output_type": "execute_result"
    }
   ],
   "source": [
    "('apple' in fruits) and ('celery' in vegetables) \n",
    "#Asking whether both apple in fruits and celery in veg is correct. If one of them is wrong, generate F\n",
    "\n",
    "('apple' in fruits) or ('celery' in vegetables) #if either is correct, generate true\n",
    "\n",
    "#Testing\n",
    "('tomato' in fruits) or ('celery' in vegetables) #T\n",
    "('tomato' in fruits) or ('tomato' in vegetables) #F, both are wrong"
   ]
  },
  {
   "cell_type": "code",
   "execution_count": 27,
   "id": "d8bffcd1-1b21-440a-827c-541a40840a81",
   "metadata": {},
   "outputs": [
    {
     "data": {
      "text/plain": [
       "True"
      ]
     },
     "execution_count": 27,
     "metadata": {},
     "output_type": "execute_result"
    }
   ],
   "source": [
    "'app' in 'apple' #asking if there is 'app' in apple"
   ]
  },
  {
   "cell_type": "code",
   "execution_count": 33,
   "id": "6b6df5ee-82fd-41b9-911d-dab3fa3ed53c",
   "metadata": {},
   "outputs": [
    {
     "data": {
      "text/plain": [
       "False"
      ]
     },
     "execution_count": 33,
     "metadata": {},
     "output_type": "execute_result"
    }
   ],
   "source": [
    "'apples' > 'oranges'\n",
    "#py can only compare similar things, numbers or english\n",
    "#T or F answer\n",
    "#comparison works cause a = 97, o = 111"
   ]
  },
  {
   "attachments": {},
   "cell_type": "markdown",
   "id": "f118a257",
   "metadata": {},
   "source": [
    "## 2.1 Asking Math questions"
   ]
  },
  {
   "cell_type": "markdown",
   "id": "24ccd313-4be3-4bff-b794-d6102103f4a7",
   "metadata": {},
   "source": [
    "| Question/Condition     | Math Symbol | Python Symbols |   |   |\n",
    "|------------------------|:-----------:|:--------------:|---|---|\n",
    "| Equals?                |      =      |       ==       |   |   |\n",
    "| Not equal?             |      ≠      |       !=       |   |   |\n",
    "| Less than?             |      <      |        <       |   |   |\n",
    "| Greater than?          |      >      |        >       |   |   |\n",
    "| Less than or equal?    |      ≤      |       <=       |   |   |\n",
    "| Greater than or equal? |      ≥      |       >=       |   |   |"
   ]
  },
  {
   "cell_type": "code",
   "execution_count": 37,
   "id": "d74150e9-5d4a-4834-b591-c1b289231ff4",
   "metadata": {},
   "outputs": [
    {
     "data": {
      "text/plain": [
       "False"
      ]
     },
     "execution_count": 37,
     "metadata": {},
     "output_type": "execute_result"
    }
   ],
   "source": [
    "#All of these 3 are the same, with the last format being neatest\n",
    "x > 5 and x < 15\n",
    "(x > 5) and (x < 15)\n",
    "5 < x < 15"
   ]
  },
  {
   "attachments": {},
   "cell_type": "markdown",
   "id": "14285b7e",
   "metadata": {},
   "source": [
    "# 3 Python stores information in different formats or types"
   ]
  },
  {
   "attachments": {},
   "cell_type": "markdown",
   "id": "58cdb13a",
   "metadata": {},
   "source": [
    "# 4 Never compare floats directly"
   ]
  },
  {
   "attachments": {},
   "cell_type": "markdown",
   "id": "1701c047",
   "metadata": {},
   "source": [
    "## 4.1 The Problem"
   ]
  },
  {
   "attachments": {},
   "cell_type": "markdown",
   "id": "14cfd2e5",
   "metadata": {},
   "source": [
    "## 4.2 A solution"
   ]
  },
  {
   "attachments": {},
   "cell_type": "markdown",
   "id": "1b8cc06b",
   "metadata": {},
   "source": [
    "# 5 Combining English and variables"
   ]
  },
  {
   "attachments": {},
   "cell_type": "markdown",
   "id": "b96e4558",
   "metadata": {},
   "source": [
    "## 5.1 Structure of f-strings"
   ]
  },
  {
   "attachments": {},
   "cell_type": "markdown",
   "id": "d13967ea",
   "metadata": {},
   "source": [
    "# 6 Escape sequences"
   ]
  },
  {
   "attachments": {},
   "cell_type": "markdown",
   "id": "a2312897",
   "metadata": {},
   "source": [
    "## 6.1 Self-documenting f-strings"
   ]
  },
  {
   "attachments": {},
   "cell_type": "markdown",
   "id": "55ee3ca3",
   "metadata": {},
   "source": [
    "# 7 Computers read = from Right to Left!"
   ]
  },
  {
   "attachments": {},
   "cell_type": "markdown",
   "id": "27b96773",
   "metadata": {},
   "source": [
    "# 8 Shorter and Cleaner Code"
   ]
  },
  {
   "attachments": {},
   "cell_type": "markdown",
   "id": "f9fb2b31",
   "metadata": {},
   "source": [
    "# 9 Python can be a prima-donna."
   ]
  },
  {
   "attachments": {},
   "cell_type": "markdown",
   "id": "bdc7ce6f",
   "metadata": {},
   "source": [
    "# 10 Best Practices for Scientific Computing"
   ]
  },
  {
   "attachments": {},
   "cell_type": "markdown",
   "id": "708e93c4",
   "metadata": {},
   "source": [
    "# 11 Looking for help"
   ]
  },
  {
   "attachments": {},
   "cell_type": "markdown",
   "id": "b36e407c",
   "metadata": {},
   "source": [
    "## References"
   ]
  },
  {
   "attachments": {},
   "cell_type": "markdown",
   "id": "6be2bf96",
   "metadata": {},
   "source": [
    "## Footnotes"
   ]
  }
 ],
 "metadata": {
  "kernelspec": {
   "display_name": "Python 3 (ipykernel)",
   "language": "python",
   "name": "python3"
  },
  "language_info": {
   "codemirror_mode": {
    "name": "ipython",
    "version": 3
   },
   "file_extension": ".py",
   "mimetype": "text/x-python",
   "name": "python",
   "nbconvert_exporter": "python",
   "pygments_lexer": "ipython3",
   "version": "3.12.3"
  },
  "toc": {
   "base_numbering": 1,
   "nav_menu": {},
   "number_sections": true,
   "sideBar": true,
   "skip_h1_title": false,
   "title_cell": "Table of Contents",
   "title_sidebar": "Contents",
   "toc_cell": false,
   "toc_position": {},
   "toc_section_display": true,
   "toc_window_display": false
  },
  "vscode": {
   "interpreter": {
    "hash": "31f2aee4e71d21fbe5cf8b01ff0e069b9275f58929596ceb00d14d90e3e16cd6"
   }
  }
 },
 "nbformat": 4,
 "nbformat_minor": 5
}
