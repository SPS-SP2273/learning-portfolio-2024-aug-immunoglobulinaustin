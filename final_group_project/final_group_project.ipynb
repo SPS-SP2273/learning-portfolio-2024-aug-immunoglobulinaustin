{
 "cells": [
  {
   "cell_type": "code",
   "execution_count": 20,
   "id": "428e9306-d57a-4901-a590-f1206b0c1d8a",
   "metadata": {},
   "outputs": [],
   "source": [
    "import cv2\n",
    "import os\n",
    "import numpy as np\n",
    "import matplotlib as plt\n",
    "from skimage import io"
   ]
  },
  {
   "cell_type": "code",
   "execution_count": 2,
   "id": "d66e0631-e8ec-44de-b986-ade7ee190719",
   "metadata": {},
   "outputs": [
    {
     "name": "stdout",
     "output_type": "stream",
     "text": [
      "frames per second = 7.0\n"
     ]
    }
   ],
   "source": [
    "video = cv2.VideoCapture('LipoKDEL1ug_biotin_no drug_live_5min1h.avi')\n",
    "fps = video.get(cv2.CAP_PROP_FPS)\n",
    "print('frames per second =',fps)\n",
    "\n",
    "# seconds = 0.0857142857\n",
    "# frame_id = int(fps*(60 + seconds))\n",
    "# print('frame id =',frame_id)"
   ]
  },
  {
   "cell_type": "code",
   "execution_count": 3,
   "id": "340eafb1-5e9a-4214-8121-f588ca916e8a",
   "metadata": {},
   "outputs": [
    {
     "name": "stdout",
     "output_type": "stream",
     "text": [
      "frame id = 0\n"
     ]
    }
   ],
   "source": [
    "seconds = 0.0857142857\n",
    "frame_id = int(fps*(seconds))\n",
    "print('frame id =',frame_id)"
   ]
  },
  {
   "cell_type": "code",
   "execution_count": 4,
   "id": "9200a818-2b3a-486b-a2c6-129a27ff7804",
   "metadata": {},
   "outputs": [],
   "source": [
    "video.set(cv2.CAP_PROP_POS_FRAMES, frame_id)\n",
    "ret, frame = video.read()"
   ]
  },
  {
   "cell_type": "code",
   "execution_count": null,
   "id": "61d2b645-101d-499d-81a4-5625271829ec",
   "metadata": {},
   "outputs": [],
   "source": [
    "cv2.imshow('frame', frame); cv2.waitKey(0)\n",
    "cv2.imwrite('LipoKDEL1ug_biotin_no drug_live_5min1h.png', frame)"
   ]
  },
  {
   "cell_type": "code",
   "execution_count": 25,
   "id": "c49c8125-6c33-4773-b8fc-6ef6d6698c4b",
   "metadata": {},
   "outputs": [
    {
     "name": "stdout",
     "output_type": "stream",
     "text": [
      "Extracted 12 frames.\n"
     ]
    }
   ],
   "source": [
    "#Definitely need to change this. Just used this to get over the initial hurdle\n",
    "def extract_frames(video_path, frame_rate=12, output_dir=\"frames\"):\n",
    "  \"\"\"Extracts frames from a video file and saves them with unique names.\n",
    "\n",
    "  Args:\n",
    "    video_path: The path to the video file.\n",
    "    frame_rate: The desired frame rate for the extracted frames.\n",
    "    output_dir: The directory to save the extracted frames.\n",
    "\n",
    "  Returns:\n",
    "    A list of extracted frames.\n",
    "  \"\"\"\n",
    "\n",
    "  cap = cv2.VideoCapture(video_path)\n",
    "\n",
    "  frame_count = int(cap.get(cv2.CAP_PROP_FRAME_COUNT))\n",
    "  frame_interval = frame_count // frame_rate\n",
    "\n",
    "  frames = []\n",
    "  for i in range(frame_count):\n",
    "    ret, frame = cap.read()\n",
    "    if not ret:\n",
    "      break\n",
    "    if i % frame_interval == 0:\n",
    "      frames.append(frame)\n",
    "\n",
    "  # Create the output directory if it doesn't exist\n",
    "  if not os.path.exists(output_dir):\n",
    "    os.makedirs(output_dir)\n",
    "\n",
    "  # Save the extracted frames with unique names\n",
    "  for i, frame in enumerate(frames, start = 1):\n",
    "    filename = f\"LipoKDEL1ug_biotin_no drug_live_5min1h_frame_{i:02d}.jpg\"  # Use 2-digit padding for filenames\n",
    "    output_path = os.path.join(output_dir, filename)\n",
    "    cv2.imwrite(output_path, frame)\n",
    "\n",
    "  return frames\n",
    "\n",
    "# Extract frames from the video file\n",
    "current_directory = os.getcwd()\n",
    "video_path = os.path.join(current_directory, \"LipoKDEL1ug_biotin_drug25uM_live_5min1h.avi\")\n",
    "frames = extract_frames(video_path)\n",
    "\n",
    "print(f\"Extracted {len(frames)-1} frames.\")"
   ]
  },
  {
   "cell_type": "code",
   "execution_count": 29,
   "id": "f0fdbfad-1389-45a4-973f-923239638da5",
   "metadata": {},
   "outputs": [
    {
     "ename": "AttributeError",
     "evalue": "module 'matplotlib' has no attribute 'imshow'",
     "output_type": "error",
     "traceback": [
      "\u001b[1;31m---------------------------------------------------------------------------\u001b[0m",
      "\u001b[1;31mAttributeError\u001b[0m                            Traceback (most recent call last)",
      "Cell \u001b[1;32mIn[29], line 3\u001b[0m\n\u001b[0;32m      1\u001b[0m \u001b[38;5;66;03m#Actual start\u001b[39;00m\n\u001b[0;32m      2\u001b[0m img_data \u001b[38;5;241m=\u001b[39m io\u001b[38;5;241m.\u001b[39mimread(\u001b[38;5;124m'\u001b[39m\u001b[38;5;124mLipoKDEL1ug_biotin_no drug_live_5min1h_frame_01.jpg\u001b[39m\u001b[38;5;124m'\u001b[39m)\n\u001b[1;32m----> 3\u001b[0m \u001b[43mplt\u001b[49m\u001b[38;5;241;43m.\u001b[39;49m\u001b[43mimshow\u001b[49m(img_data, cmap\u001b[38;5;241m=\u001b[39m\u001b[38;5;124m'\u001b[39m\u001b[38;5;124mjet\u001b[39m\u001b[38;5;124m'\u001b[39m)\n\u001b[0;32m      4\u001b[0m plt\u001b[38;5;241m.\u001b[39mcolorbar()\n\u001b[0;32m      6\u001b[0m total_fluorescence \u001b[38;5;241m=\u001b[39m []\n",
      "File \u001b[1;32m~\\miniconda3\\Lib\\site-packages\\matplotlib\\_api\\__init__.py:217\u001b[0m, in \u001b[0;36mcaching_module_getattr.<locals>.__getattr__\u001b[1;34m(name)\u001b[0m\n\u001b[0;32m    215\u001b[0m \u001b[38;5;28;01mif\u001b[39;00m name \u001b[38;5;129;01min\u001b[39;00m props:\n\u001b[0;32m    216\u001b[0m     \u001b[38;5;28;01mreturn\u001b[39;00m props[name]\u001b[38;5;241m.\u001b[39m\u001b[38;5;21m__get__\u001b[39m(instance)\n\u001b[1;32m--> 217\u001b[0m \u001b[38;5;28;01mraise\u001b[39;00m \u001b[38;5;167;01mAttributeError\u001b[39;00m(\n\u001b[0;32m    218\u001b[0m     \u001b[38;5;124mf\u001b[39m\u001b[38;5;124m\"\u001b[39m\u001b[38;5;124mmodule \u001b[39m\u001b[38;5;132;01m{\u001b[39;00m\u001b[38;5;28mcls\u001b[39m\u001b[38;5;241m.\u001b[39m\u001b[38;5;18m__module__\u001b[39m\u001b[38;5;132;01m!r}\u001b[39;00m\u001b[38;5;124m has no attribute \u001b[39m\u001b[38;5;132;01m{\u001b[39;00mname\u001b[38;5;132;01m!r}\u001b[39;00m\u001b[38;5;124m\"\u001b[39m)\n",
      "\u001b[1;31mAttributeError\u001b[0m: module 'matplotlib' has no attribute 'imshow'"
     ]
    }
   ],
   "source": [
    "#Actual start\n",
    "img_data = plt.imread('LipoKDEL1ug_biotin_no drug_live_5min1h_frame_01.jpg')\n",
    "plt.imshow(img_data, cmap='jet')\n",
    "plt.colorbar()\n",
    "\n",
    "total_fluorescence = []\n",
    "\n",
    "for i in range(1, 12+1):\n",
    "    img = io.imread('LipoKDEL1ug_biotin_no drug_live_5min1h_frame_{i:02}.jpg')\n",
    "    total_fluorescence.append(img.sum())\n",
    "\n",
    "print(total_fluorescence)"
   ]
  }
 ],
 "metadata": {
  "kernelspec": {
   "display_name": "Python 3 (ipykernel)",
   "language": "python",
   "name": "python3"
  },
  "language_info": {
   "codemirror_mode": {
    "name": "ipython",
    "version": 3
   },
   "file_extension": ".py",
   "mimetype": "text/x-python",
   "name": "python",
   "nbconvert_exporter": "python",
   "pygments_lexer": "ipython3",
   "version": "3.12.3"
  }
 },
 "nbformat": 4,
 "nbformat_minor": 5
}
