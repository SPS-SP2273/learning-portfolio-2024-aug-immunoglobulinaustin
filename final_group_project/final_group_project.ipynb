{
 "cells": [
  {
   "cell_type": "code",
   "execution_count": 1,
   "id": "428e9306-d57a-4901-a590-f1206b0c1d8a",
   "metadata": {},
   "outputs": [],
   "source": [
    "import cv2\n",
    "import numpy as np"
   ]
  },
  {
   "cell_type": "code",
   "execution_count": 10,
   "id": "d66e0631-e8ec-44de-b986-ade7ee190719",
   "metadata": {},
   "outputs": [
    {
     "name": "stdout",
     "output_type": "stream",
     "text": [
      "frames per second = 7.0\n"
     ]
    }
   ],
   "source": [
    "video = cv2.VideoCapture('LipoKDEL1ug_biotin_no drug_live_5min1h.avi')\n",
    "fps = video.get(cv2.CAP_PROP_FPS)\n",
    "print('frames per second =',fps)\n",
    "\n",
    "# seconds = 0.0857142857\n",
    "# frame_id = int(fps*(60 + seconds))\n",
    "# print('frame id =',frame_id)"
   ]
  },
  {
   "cell_type": "code",
   "execution_count": 11,
   "id": "340eafb1-5e9a-4214-8121-f588ca916e8a",
   "metadata": {},
   "outputs": [
    {
     "name": "stdout",
     "output_type": "stream",
     "text": [
      "frame id = 0\n"
     ]
    }
   ],
   "source": [
    "seconds = 0.0857142857\n",
    "frame_id = int(fps*(seconds))\n",
    "print('frame id =',frame_id)"
   ]
  },
  {
   "cell_type": "code",
   "execution_count": 12,
   "id": "9200a818-2b3a-486b-a2c6-129a27ff7804",
   "metadata": {},
   "outputs": [],
   "source": [
    "video.set(cv2.CAP_PROP_POS_FRAMES, frame_id)\n",
    "ret, frame = video.read()"
   ]
  },
  {
   "cell_type": "code",
   "execution_count": null,
   "id": "61d2b645-101d-499d-81a4-5625271829ec",
   "metadata": {},
   "outputs": [],
   "source": [
    "cv2.imshow('frame', frame); cv2.waitKey(0)\n",
    "cv2.imwrite('LipoKDEL1ug_biotin_no drug_live_5min1h.png', frame)"
   ]
  }
 ],
 "metadata": {
  "kernelspec": {
   "display_name": "Python 3 (ipykernel)",
   "language": "python",
   "name": "python3"
  },
  "language_info": {
   "codemirror_mode": {
    "name": "ipython",
    "version": 3
   },
   "file_extension": ".py",
   "mimetype": "text/x-python",
   "name": "python",
   "nbconvert_exporter": "python",
   "pygments_lexer": "ipython3",
   "version": "3.12.3"
  }
 },
 "nbformat": 4,
 "nbformat_minor": 5
}
