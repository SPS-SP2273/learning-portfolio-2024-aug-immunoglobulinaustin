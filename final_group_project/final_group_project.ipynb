{
 "cells": [
  {
   "cell_type": "code",
   "execution_count": 28,
   "id": "428e9306-d57a-4901-a590-f1206b0c1d8a",
   "metadata": {},
   "outputs": [],
   "source": [
    "import cv2, os, glob\n",
    "import numpy as np\n",
    "from matplotlib import pyplot as plt\n",
    "from skimage import io\n",
    "from skimage.color import rgb2gray"
   ]
  },
  {
   "cell_type": "code",
   "execution_count": null,
   "id": "413b6c41-1909-45a6-b9cd-1d3af6b182b7",
   "metadata": {},
   "outputs": [],
   "source": [
    "#Step 1: split into images\n",
    "\n",
    "#find videos\n",
    "print(f'Current directory: {os.getcwd()}')\n",
    "\n",
    "path_to_videos = glob.glob(os.path.join('Videos','*.avi'))\n",
    "print(path_to_videos, '-'*10, sep = '\\n')\n",
    "#create required directories\n",
    "def makefolders(path):\n",
    "    folder = os.path.split(path) #create folders for extracting all images\n",
    "    folder = os.path.splitext(folder[-1])\n",
    "    folder_create = os.path.join('Videos',folder[0])\n",
    "    if os.path.exists(folder_create) == False:\n",
    "        os.mkdir(folder_create)\n",
    "    else:\n",
    "        pass\n",
    "    return folder_create\n",
    "\n",
    "#navigate into folder for the image and save images\n",
    "def saveimages(path, dir_name):\n",
    "    cam = cv2.VideoCapture(path) #access the video. Idk how this actually works\n",
    "    count, success = 0, True\n",
    "    while success:\n",
    "        success, image = cam.read() #access next image of the video\n",
    "        if not cam.isOpened():\n",
    "            print(f\"Error: Could not open video file {path}\")\n",
    "        os.chdir(dir_name) #change directory so that it saves into the directory that we want to save into\n",
    "        if success:\n",
    "            folder = os.path.split(dir_name)\n",
    "            if os.path.exists(f'{folder[-1]}_frame_{count:02}.jpg') == False:\n",
    "                cv2.imwrite(f'{folder[-1]}_frame_{count:02}.jpg', image)\n",
    "                count+=1\n",
    "            else:\n",
    "                print(f'Image {folder[-1]}_frame_{count:02}.jpg already exists, skipping save')\n",
    "                count+=1\n",
    "        else:\n",
    "            print('Image failed to save')\n",
    "        os.chdir(os.path.join('..','..'))\n",
    "    cam.release()\n",
    "    print(f'Current directory: {os.getcwd()} \\n Completed {path}\\n--------------------')"
   ]
  },
  {
   "cell_type": "code",
   "execution_count": null,
   "id": "7f4091ff-ef78-43b9-976d-b94652b6ff4c",
   "metadata": {},
   "outputs": [],
   "source": [
    "#this extracts images by calling the functions defined above\n",
    "for path in path_to_videos:\n",
    "    dir_name = makefolders(path)\n",
    "    saveimages(path, dir_name)"
   ]
  },
  {
   "cell_type": "code",
   "execution_count": null,
   "id": "e7fef2ee-fb0d-45c3-8350-e669b100bac4",
   "metadata": {},
   "outputs": [],
   "source": [
    "cwd = os.getcwd() #getting current working directory\n",
    "\n",
    "temp = glob.glob(os.path.join(cwd, 'Videos', '*')) #in my current working directory, access videos folder and list me all the files inside\n",
    "video_folders = [file for file in temp if not file.endswith(\".avi\")] #using list comprehension. access the files inside temp, isolate the files with '.avi', and exclude it. store as video_folders\n",
    "\n",
    "all_video_values = [] #empty list to add the arrays generated for all 7 videos into 1 list, for downstream works.\n",
    "\n",
    "def singular_video(folder_path): #creating a function called singular_video, to loop through the 7 different folders.\n",
    "    total_fluorescence = [] #empty list to add the max fluoresence later and plot\n",
    "    subdir_path = os.path.join(cwd, 'Videos', folder_path) #create path to directory in the iteration\n",
    "\n",
    "    if os.path.isdir(subdir_path): #checking if subdirectory path exist\n",
    "        for img in os.listdir(subdir_path):\n",
    "            img_path = os.path.join(subdir_path, img)\n",
    "            if img.lower().endswith(('.jpg')): #filter for only .jpg files inside subdir_path\n",
    "                a=plt.imread(img_path) #need save plt.imread to a variable, if not cannot plot downstream\n",
    "                img_gray = rgb2gray(a) #converting the img into grayscale\n",
    "                total_fluorescence.append(img_gray.sum()) #sum up signal inside individual frames and append into total_fluorascence\n",
    "        all_video_values.append(total_fluorescence) #append numpy total_fluorescence of this video from each iteration into video_values. Indentation has to be outside the nested if, if not it will reiterate each video 7 times and append it to the list each time.\n",
    "\n",
    "    else:\n",
    "        print(f'Subdirectory {video_folders} not found')\n",
    "    return total_fluorescence #return here so can use in \"histogrammer\" function. this variable will be 'video1' in histogrammer function\n",
    "\n",
    "\n",
    "def histogrammer(video1, i): #video1 is an array of the max fluorescence values, i simply stands for index\n",
    "    video1_normalise = video1/max(video1) #normalising to highest sum fluorescent signal in the frames. \n",
    "    name = os.path.split(video_folders[i]) #split it by \\\\ into index, where [0] = your directory and [i] in this case is folder names\n",
    "    x = range(1, len(video1)+1) #plotting frame 1 to n+1\n",
    "    \n",
    "    #plotting segment\n",
    "    plt.figure(figsize = (13, 6)) #setting the figure size, has to be before plt.plot\n",
    "    plt.plot(x, video1_normalise, linestyle = 'dashed', marker = 'o') #marker is the data point, marked as circle.\n",
    "    \n",
    "    #Labels & aesthetics\n",
    "    plt.xticks(x) #this makes it show every tick in X axis\n",
    "    plt.xlabel('Frame number', fontsize = 10)\n",
    "    plt.ylabel('Total fluorescence signal', fontsize = 10)\n",
    "    plt.grid(alpha = .25)\n",
    "    plt.title(name[1], fontsize = 10) #name[1] as my first index will be my path, second index is filename\n",
    "    plt.tight_layout()\n",
    "    # plt.savefig('test', dpi = 300) #look for how to loop this to save it \n",
    "    plt.show()\n",
    "    \n",
    "\n",
    "#calling of the functions to do all the dirty work\n",
    "for i, folder in enumerate(video_folders): #for index inside folder, count the number of folders inside the path video_folders\n",
    "    video1 = singular_video(folder) #isolate the single videos, split into frames, change to grayscale, give add sum(fluorescence) per frame and save as video1\n",
    "    histogrammer(video1, i) #store the list of fluorescence signals as video1 and plot histogram"
   ]
  },
  {
   "cell_type": "code",
   "execution_count": 63,
   "id": "5770b670-cf5d-4315-99cf-4512f6c876b3",
   "metadata": {},
   "outputs": [
    {
     "name": "stdout",
     "output_type": "stream",
     "text": [
      "[[22815.27228392157, 16526.16795960784, 13613.197476470588, 12592.679469803925, 13106.450968627454, 11860.151698823529, 9837.952113333338, 8780.41079137255, 7690.177448627452, 6506.539834901962], [35375.29842901961, 26051.15795137255, 22849.350591372553, 21302.589696078438, 22223.43023882353, 21172.410541960788, 20032.43291843138, 18274.79077176472, 17855.88923490196, 17758.80444509804], [42346.751834901974, 38215.691858431375, 36023.14272666668, 34289.95419960784, 32168.457314509807, 29311.66277490196, 27564.163793333322, 26494.8457545098, 39248.67636000001, 39204.90780156863], [22714.211033333333, 22456.174696470596, 21421.917971372557, 21212.09589176471, 20531.358345098044, 19795.16638470587, 19688.19378, 19393.43749686276, 19476.27661058824, 19544.732102745114, 17968.79300078432, 17541.83949490196, 16559.34277607843], [10732.908614901962, 12777.952719607845, 11284.83640705882, 9453.24462078432, 7932.983253333336, 7086.847475686276, 8013.87110745098, 7360.394826274509, 6459.294633725491, 6563.712282352939, 6142.080737647061, 5121.424687450981, 4932.73779882353], [26818.659749411774, 23087.128233333337, 18340.077265490196, 16388.327727843138, 15376.208085490205, 18202.792218823535, 19165.47721450981, 20308.03914392157, 20931.397993725488, 20288.192538039217, 20698.48686392157, 0.0], [22566.064382745095, 17278.316214901955, 15251.194943921573, 15877.904559607838, 15829.785640784317, 16332.38124313725, 17378.133945098038, 15458.439794509799]]\n",
      "22815.27228392157 6506.539834901962\n",
      "16308.732449019608\n"
     ]
    }
   ],
   "source": [
    "print(all_video_values)\n",
    "print(all_video_values[0][0], all_video_values[0][-1])Im \n",
    "test = all_video_values[0][0] - all_video_values[0][-1]\n",
    "print(test) #my shit works bro"
   ]
  },
  {
   "cell_type": "code",
   "execution_count": 69,
   "id": "6082c18c-0e15-4128-ba3b-adb2503f3a02",
   "metadata": {},
   "outputs": [
    {
     "data": {
      "text/plain": [
       "[20357.715840672266]"
      ]
     },
     "execution_count": 69,
     "metadata": {},
     "output_type": "execute_result"
    }
   ],
   "source": [
    "#mid testing. Want to create a function to loop through all the lists inside the list and minus last element with first in each list.\n",
    "#shits broken af\n",
    "\n",
    "def rate_change(testing):\n",
    "    rate_changes = []\n",
    "    for i in range(1, len(all_video_values)):\n",
    "        rate_change = all_video_values[i][0] - all_video_values[i][-1]/ len(all_video_values)\n",
    "    rate_changes.append(rate_change)\n",
    "    return(rate_changes)\n",
    "\n",
    "\n",
    "rate_change(all_video_values)\n"
   ]
  },
  {
   "cell_type": "code",
   "execution_count": 73,
   "id": "a4494f97-9df1-420e-ac28-cdfe58ffe107",
   "metadata": {},
   "outputs": [
    {
     "ename": "TypeError",
     "evalue": "unsupported operand type(s) for -: 'list' and 'list'",
     "output_type": "error",
     "traceback": [
      "\u001b[1;31m---------------------------------------------------------------------------\u001b[0m",
      "\u001b[1;31mTypeError\u001b[0m                                 Traceback (most recent call last)",
      "Cell \u001b[1;32mIn[73], line 8\u001b[0m\n\u001b[0;32m      5\u001b[0m         rate_change\u001b[38;5;241m.\u001b[39mappend(rate_change)\n\u001b[0;32m      6\u001b[0m         \u001b[38;5;28mprint\u001b[39m(rate_change)\n\u001b[1;32m----> 8\u001b[0m \u001b[43mrate_change\u001b[49m\u001b[43m(\u001b[49m\u001b[43mall_video_values\u001b[49m\u001b[43m)\u001b[49m\n",
      "Cell \u001b[1;32mIn[73], line 4\u001b[0m, in \u001b[0;36mrate_change\u001b[1;34m(testing)\u001b[0m\n\u001b[0;32m      2\u001b[0m rate_change \u001b[38;5;241m=\u001b[39m []\n\u001b[0;32m      3\u001b[0m \u001b[38;5;28;01mfor\u001b[39;00m i \u001b[38;5;129;01min\u001b[39;00m all_video_values:\n\u001b[1;32m----> 4\u001b[0m     rate_change \u001b[38;5;241m=\u001b[39m (\u001b[43mall_video_values\u001b[49m\u001b[43m[\u001b[49m\u001b[38;5;241;43m-\u001b[39;49m\u001b[38;5;241;43m1\u001b[39;49m\u001b[43m]\u001b[49m\u001b[43m \u001b[49m\u001b[38;5;241;43m-\u001b[39;49m\u001b[43m \u001b[49m\u001b[43mall_video_values\u001b[49m\u001b[43m[\u001b[49m\u001b[38;5;241;43m0\u001b[39;49m\u001b[43m]\u001b[49m) \u001b[38;5;241m/\u001b[39m (\u001b[38;5;28mlen\u001b[39m(video_values))\n\u001b[0;32m      5\u001b[0m     rate_change\u001b[38;5;241m.\u001b[39mappend(rate_change)\n\u001b[0;32m      6\u001b[0m     \u001b[38;5;28mprint\u001b[39m(rate_change)\n",
      "\u001b[1;31mTypeError\u001b[0m: unsupported operand type(s) for -: 'list' and 'list'"
     ]
    }
   ],
   "source": [
    "def rate_change(testing):\n",
    "    rate_change = []\n",
    "    for i in all_video_values:\n",
    "        rate_change = (all_video_values[-1] - all_video_values[0]) / len(video_values) #cannot run because all the lists differeng lengths\n",
    "        rate_change.append(rate_change)\n",
    "        print(rate_change)\n",
    "\n",
    "rate_change(all_video_values)"
   ]
  },
  {
   "cell_type": "markdown",
   "id": "231daeae-bd53-45a3-8760-18b40040705e",
   "metadata": {},
   "source": [
    "# For optimisation"
   ]
  },
  {
   "cell_type": "markdown",
   "id": "c091d44c-639a-40f5-aff2-512078421981",
   "metadata": {},
   "source": [
    "#Definitely need to change this. Just used this to get over the initial hurdle\n",
    "def extract_frames(video_path, frame_rate=13, output_dir=\"frames\"):\n",
    "  \"\"\"Extracts frames from a video file and saves them with unique names.\n",
    "\n",
    "  Args:\n",
    "    video_path: The path to the video file.\n",
    "    frame_rate: The desired frame rate for the extracted frames.\n",
    "    output_dir: The directory to save the extracted frames.\n",
    "\n",
    "  Returns:\n",
    "    A list of extracted frames.\n",
    "  \"\"\"\n",
    "\n",
    "  cap = cv2.VideoCapture(video_path)\n",
    "\n",
    "  frame_count = int(cap.get(cv2.CAP_PROP_FRAME_COUNT))\n",
    "  frame_interval = frame_count // frame_rate\n",
    "\n",
    "  frames = []\n",
    "  for i in range(frame_count):\n",
    "    ret, frame = cap.read()\n",
    "    if not ret:\n",
    "      break\n",
    "    if i % frame_interval == 0:\n",
    "      frames.append(frame)\n",
    "\n",
    "  #Create the output directory if it doesn't exist\n",
    "  if not os.path.exists(output_dir):\n",
    "    os.makedirs(output_dir)\n",
    "\n",
    "  #Save the extracted frames with unique names\n",
    "  for i, frame in enumerate(frames, start = 1): #indicate starting no.\n",
    "    filename = f\"LipoKDEL1ug_biotin_no drug_live_5min1h_frame_{i:02d}.jpg\"  #0 refers to adding leading zeros if needed, and 2 specifies the minimum character in the number which is 2. single digit no. will have leading zeros added to it.\n",
    "    total_fluorescence.append(img.sum())\n",
    "    output_path = os.path.join(output_dir, filename)\n",
    "    cv2.imwrite(output_path, frame)\n",
    "\n",
    "  return frames\n",
    "\n",
    "#Extract frames from the video file\n",
    "current_directory = os.getcwd()\n",
    "video_path = os.path.join(current_directory, \"LipoKDEL1ug_biotin_drug25uM_live_5min1h.avi\")\n",
    "frames = extract_frames(video_path)\n",
    "\n",
    "print(f\"Extracted {len(frames)} frames.\")"
   ]
  },
  {
   "cell_type": "code",
   "execution_count": null,
   "id": "ead10057-5a58-4edf-b14a-e538405d09cf",
   "metadata": {},
   "outputs": [],
   "source": [
    "print(f'{type(img_data)=}', \n",
    "      f'{img_data.shape=}', #dimension of image, 1D array.\n",
    "      f'{img_data.min()=}', #tells us the dimmest pixel, 0, background noise\n",
    "      f'{img_data.max()=}', #brightest pixel value, 255 as we converted to gray_scale\n",
    "      f'{img_data.sum()=}', #sums all the overall brightness of pixels in the image\n",
    "      sep='\\n')"
   ]
  },
  {
   "cell_type": "code",
   "execution_count": null,
   "id": "8c20955c-babc-4a3c-b816-4ee2d794c035",
   "metadata": {},
   "outputs": [],
   "source": [
    "img_data = img_data.flatten() #converting it to 1d array\n",
    "plt.hist(img_data, bins = 256) #uint8 range is 0-255\n",
    "plt.xlim(-10, 256) #change so can observe those at 0 better\n",
    "\n",
    "ticks = [i for i in range(0, 256, 25)] #using list comprehension, start 0, end 256 in intervals of 25\n",
    "\n",
    "plt.xticks(ticks) #setting x intervals\n",
    "plt.xlabel('Pixel intensity')\n",
    "plt.ylabel('Frequency')\n",
    "plt.grid(alpha = 0.25)\n",
    "plt.show()"
   ]
  }
 ],
 "metadata": {
  "kernelspec": {
   "display_name": "Python 3 (ipykernel)",
   "language": "python",
   "name": "python3"
  },
  "language_info": {
   "codemirror_mode": {
    "name": "ipython",
    "version": 3
   },
   "file_extension": ".py",
   "mimetype": "text/x-python",
   "name": "python",
   "nbconvert_exporter": "python",
   "pygments_lexer": "ipython3",
   "version": "3.12.3"
  }
 },
 "nbformat": 4,
 "nbformat_minor": 5
}
