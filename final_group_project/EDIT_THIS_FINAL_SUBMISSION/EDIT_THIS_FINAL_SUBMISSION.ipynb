{
  "nbformat": 4,
  "nbformat_minor": 0,
  "metadata": {
    "colab": {
      "provenance": []
    },
    "kernelspec": {
      "name": "python3",
      "display_name": "Python 3"
    },
    "language_info": {
      "name": "python"
    }
  },
  "cells": [
    {
      "cell_type": "markdown",
      "source": [
        "# Tackling Hyperinflammation, one Golgi at a time\n",
        "\n",
        "### Done by: Austin, Justin, Hemant, Yuyan\n",
        "### Special mentions to: Daniel Cheng (Mentor) and Dr Robert (Homie)"
      ],
      "metadata": {
        "id": "Wxh02imRaTJs"
      }
    },
    {
      "cell_type": "markdown",
      "source": [
        "## 1. Background\n",
        "\n",
        "### <ins>1.1 Lore of TNF-α</ins>\n",
        "<img src=\"https://www.mdpi.com/ijms/ijms-24-06142/article_deploy/html/images/ijms-24-06142-g002-550.jpg\" alt=\"TNF-α activation pathways\" width=\"600\"/><br>\n",
        "Figure 1: Diagram describing the pathway involving TNF-α physiological's response.\n",
        "* TNF-α is an inflammatory molecule (termed as cytokines), where it is secreted by cells under stress.\n",
        "* It initiates inflammation by triggering a cascade of other inflammatory molecules which recruit immune cells to further drive\n",
        "inflammation.\n",
        "* TNF-α levels will decrease rapidly after elimination of pathogens or undesired junk, causing cessation of inflammation.\n",
        "\n",
        "\n",
        "### <ins>1.2 Synthesis pathway of TNF-α</ins>\n",
        "D\n",
        "Figure 2: Schematic describing TNF-α synthesis, processing and export pathway.\n",
        "* Here, an inflammatory stimuli is input from the surroundings.\n",
        "* This will activate a transduction pathway, upregulating the expression of TNF-α in the cell. The TNF-α gene will be transcribed into mRNA, it will be translated in the cytoplasm by the ribosomes, forming a pre-protein (meaning immature protein).\n",
        "* The pre-TNF-α, will be transported into the endoplasmic reticulum for processing, and subsequently be transported into Golgi apparatus based for further transporting, packing and finally, transport out of the cell.\n",
        "* This transport is facilitated by Kinesin-1, which carries the package on the microtubules, out of the cell\n",
        "\n",
        "### <ins>1.3 Implications of TNF-α in hyperinflammatory diseases</ins>\n",
        "<img src=\"Cytokine storm.png\" alt=\"Cytokine storm\" width=\"600\"/><br>\n",
        "Figure 3: Simplified illustration of cytokine storm and its effects.\n",
        "* Patients with hyperinflammatory diseases such as Rheumatoid Arthritis, Crohn's Disease, Psoriasis, where they exhibit excessive release of cytokines during inflammation, known as cytokine storm\n",
        "* Following the excessive release of cytokines during inflammation, it causes hyperactivation of the immune system and (dangerously) high levels of inflammation. As it will also cause a release in TNF-α, it generates a positive feedback loop and further manifests the hyperinflammatory response.\n",
        "* This damages healthy cells and tissues, increasing the risk of developing autoimmune diseases and organ damage (as such in Crohn's Disease)\n",
        "\n",
        "\n",
        "### <ins>1.4 Existing Treatments</ins>\n",
        "<img src=\"https://www.frontiersin.org/files/Articles/533034/fcell-08-00401-HTML/image_m/fcell-08-00401-g002.jpg\" alt=\"Existing treatments for hyperinflammation involving TNF-α\" width=\"600\"/><br>\n",
        "Figure 4: Different mechanisms of TNF-α activation. **(A)** Activation of TNFR1 and TNFR2 by membrane-bound TNF (mTNF), soluble TNF and LTα. **(B)** Global inhibition of TNFR1 and TNFR2 by anti-TNF antibodies and soluble TNFR2-Fc fusion proteins. **(C)** Selective inhibition of TNFR1 by anti-TNFR1 antibodies and dominant-negative TNFR1-selective TNF muteins. **(D)** Selective activation of TNFR2 by anti-TNFR2 antibodies and multivalent TNFR2-selective TNF muteins.\n",
        "* Common treatments utilise neutralising antibodies that target TNF-α, blocking its interaction with TNF-α receptors on cell surfaces and this in turn, blocks the activation of TNF-α pathway described in Figure 1.\n",
        "* However, they are not always effective as:\n",
        "    * While they are effective at blocking the action of soluble TNF-α, it might be less effective at blocking membrane-bound TNF-α\n",
        "    * They can only 1 out of the 2 types of TNF-α, thus limiting its action on mechanism\n",
        "\n",
        "\n",
        "### <ins>1.5 Kinesin-1 plays a vital role in protein export</ins>\n",
        "<img src=\"Kinesin-1 transporting TNFa.png\" alt=\"Transporting of TNF-α via Kinesin-1\" width=\"400\"/><br>\n",
        "Figure 5: Mechanism of Kinesin-1.\n",
        "* Processed proteins are packaged in Golgi, where they are loaded onto Kinesin-1.\n",
        "* Kinesin-1 is an export protein, which travels unidirectionally outward along web-like microtubule scaffold within the cells, from Golgi to outside of the cell.\n",
        "* Kinesore inhibits Kinesin-1, prevent the action of Kinesin-1 and stops protein export out of the cell. Thus, this drug was employed to investigate its use, and potential therapeutic targets for future drugs.\n"
      ],
      "metadata": {
        "id": "otcmZfi3aTHc"
      }
    },
    {
      "cell_type": "markdown",
      "source": [
        "## 2. Robert's Golgi\n",
        "\n",
        "### <ins>2.1 Experimental outline</ins>\n",
        "<img src=\"Kinesin-1 transporting TNFa fusion.png\" alt=\"Transporting of TNF-α-SBP-GFP fusion protein via Kinesin-1\" width=\"400\"/><br>\n",
        "Figure 6: Mechanism of Kinesin 1 transporting the recombinant TNF-α-SBP-GFP fusion protein.\n",
        "* Dr Robert studied TNF-α trafficking to propose potential therapeutic targets that intervene and stop hyperinflammatory response in patients\n",
        "* Our goal here is to investigate whether a drug (kinesore) that can ***dampen the inflammatory response, but not fully eliminate it as inflammation is still required for normal homeostatic processes*** within the body, such as clearing of cell debris etc.\n",
        "* Here, Dr Robert utilised kinesore as a proof-of-concept that it can regulate magnitude of protein export. Degree of regulation depends on concentration of kinesore used.\n",
        "* By disrupting Kinesin-1, we regulate the trafficking of TNF-α.\n",
        "\n",
        "<img src=\"HeLa cells.png\" alt=\"HeLa Cells\" width=\"400\"/><br>\n",
        "Figure 7: Brightfield image of HeLa cells at high density.\n",
        "* HeLa cells, which are immortal human cells isolated from the cervix of a woman with adenocarinoma, were used in this study due to:\n",
        "    * Endless ability to undergo cell division\n",
        "    * Easy to be transfected with virus containing plasmid of interest\n",
        "    * Low cost and easy maintenance of cell line\n",
        "\n",
        "\n",
        "### <ins>2.2 Incorporation of RUSH system</ins>\n",
        "<img src=\"Incorporation of RUSH system.png\" alt=\"Incorporation of RUSH system\" width=\"800\"/><br>\n",
        "Figure 8: Schematic of Retention Using Selective Hooks (RUSH) system incorporated into human cervical adenocacinoma.\n",
        "* A plasmid with constitutive promoters are designed, containing conding sequences for:\n",
        "    * TNF-α, tagged to streptavidin binding protein (SBP) and Green Fluorescence Protein (GFP)\n",
        "    * KDEL-streptavidin\n",
        "        * KDEL refers to the alphabetical representative of the amino acids it code for: Lysine, Aspartic Acid, Glutamic Acid and Leucine respectively.\n",
        "        * These specific amino acid sequences serve as an endoplasmic reticulum retention signal, where proteins tagged with these are retained in the endoplasmic reticulum. In our case, streptavidin is tagged with KDEL sequence and will be immobilised in the endoplasmic reticulum, which will come in handy later.\n",
        "* The recombinant plasmid is then packaged into a lentivirus, where it is further added to our HeLa cells for transfection. Lentiviruses are retroviruses which has robust capacity to infect a wide variety of mammalian cells, and release their genetic material into the host cell for virus propagation.\n",
        "* In our case, the transfection allows for the introduction of our recombinant plasmid into our cells in the study, where the sequences on the plasmid will get expressed due to the involvement of a constitutive promoter.\n",
        "* As the TNF-α-SBP-GFP and KDEL-streptavidin gets transcribed and translated, KDEL-streptavidin will get immobilised in the endoplasmic reticulum, where due to the affinity of streptavidin and SBP from the TNF-α-SBP-GFP protein, they will interact and cause the trapping of TNF-α-SBP-GFP in the endoplasmic reticulum. This prevents future processing and trafficking of the TNF-α-SBP-GFP protein.\n",
        "* Biotin is a protein where it readily enters the cell through transporters. They possess high affinity for streptavidin due to its complementary shape and possessing extraordinarily high dissociation constant, making their interaction one of the strongest amongst the group of non-covalent interactions.\n",
        "* As such, as biotin is added into the cell culture media, it enters the cell and endoplasmic reticulum and binds to streptavidin. This interaction displaces the interaction and dissociates streptavidin from TNF-α-SBP-GFP, releasing TNF-α-SBP-GFP.\n",
        "* TNF-α-SBP-GFP will then be further transported to the Golgi apparatus for processing, packaging and sorting, where it will ultimately be transported out for secretion through Kinesin-1 and the web-like microtububle scaffold.\n",
        "* As mentioned in Section 1.5, kinesore inhibits the mechanism of Kinesin-1, blocking the cellular railway road that transports proteins out from the Golgi apparatus to the exterior of the cell.\n",
        "* In our case, we wanted to investigate whether:\n",
        "    1. The cells are responsive to the drug\n",
        "    2. To what extent\n",
        "* We will investigate this in the following segments and break it down pythonically for you.\n",
        "\n",
        "\n",
        "### 2.3 Raw data provided by Dr Robert\n",
        "If you have an SPS Gmail acocunt, kindly click on the link to access the videos, or refer to \"Videos\" folders of the current working directory to see the raw videos as we are unable to insert videos into markdown cells.\n",
        "\n",
        "<ins>Kinesore Treatment</ins><br>\n",
        "[0µM Kinesore Treatment](https://drive.google.com/file/d/19iW9pfbHawVdfHsKhJd2ClJoIa2KfCc5/view?usp=sharing)<br>\n",
        "[25µM Kinesore Treatment](https://drive.google.com/file/d/15jdvnvvfNW8UyuxQEalk8l7FAb7GMFiF/view?usp=sharing)<br>\n",
        "[50µM Kinesore Treatment](https://drive.google.com/file/d/1M-WMVi3Dne7ue15XITkMr7wIgeeG0Kpl/view?usp=sharing)<br>\n",
        "\n",
        "<ins>Plasmid concentration optimisation with Kinesore</ins><br>\n",
        "[0.5µg DNA Treatment with 10µM Kinesore](https://drive.google.com/file/d/1XbFDt9NVdICsWwozt_rzobdFINti1YB9/view?usp=sharing)<br>\n",
        "[0.75µg DNA Treatment with 10µM Kinesore](https://drive.google.com/file/d/1nDE82Hn1euPJ5rw_1z0IU1JwFt_io9uG/view?usp=sharing)<br>\n",
        "[1µg DNA Treatment with 10µM Kinesore](https://drive.google.com/file/d/1nvAA5RUQVJsc-xPS2i0s5Pg0aJseu00M/view?usp=sharing)<br>\n",
        "\n",
        "* Based on all the videos (less 50µM Kinesore Treatment), intially, we observe GFP from TNF-α-SBP-GFP protein to be scattered in the cell. This is due to endoplasmic reticulunm being located throughout the cell. There, TNF-α-SBP-GFP are retained in the endoplasmic reticulum.\n",
        "* Upon the addition of biotin (performed at *time = 0* in all conditions), it will cause the release of TNF-α-SBP-GFP protein from the endoplasmic reticulum as described in Section 2.2. TNF-α-SBP-GFP proteins will then move into the Golgi apparatus rapidly and causes an accumulation as the Golgi apparatus can only process, package and send the proteins for transportation at a fixed rate.\n",
        "* As TNF-α-SBP-GFP proteins are transported out of the cell, we will observe a decrease in GFP signal due to the released protein being\n",
        "    * Dispersed in the cell culture media\n",
        "    * Not being at the same Z plane of the cell, confocal microscope cannot capture\n",
        "    * Unfolding and degradation due to absence of stabilising molecules that are found within the cell\n",
        "* For the videos directed at optimising plasmid concentrations, the concentrations are investigated as:\n",
        "    * Using too high of plasmid concentration will cause cells to exhibit toxicity and insufficient.\n",
        "    * Using too low of plasmid concentration will result in insufficient protein expression.\n",
        "* Both of which will give undesirable consequences."
      ],
      "metadata": {
        "id": "fYEi0X7caTFE"
      }
    },
    {
      "cell_type": "markdown",
      "source": [
        "### 3. Methods & Results\n",
        "<img src=\"Project workflow.png\" alt=\"Project workflow\" width=\"600\"/><br>\n",
        "Figure 9: Schematic of project workflow\n",
        "* We received videos from Dr Robert in .avi format, where these videos are essentially 1 hour and 45 minute timelapses with 1 frame taken every 5 minutes.\n",
        "* Manually shifted the videos into a folder \"Videos\".\n",
        "* Created a function where it will read the .avi files inside the \"Videos\" folder, where it will create folders based on the filename. Subsequently, it will split the videos into frames.\n",
        "* Manually sieved through the folders and deleted aberrant frames. They are either blank, or duplicated glitched frames.\n",
        "* Using [SciPy Fit](http://scipy.fit/), we identified the Golgi Apparatus for each video and noted down the (y1, y2, x1, x2). Some of the videos had multiple cells, where we identified multiple ROIs.\n",
        "    * These regions of interested were identified by looking through the individual frames per video, where we observe for cells that exhibit the accumulation of GFP, where we assumed that it is indeed the Golgi.\n",
        "    * We further extrapolate this onto other videos, and also multiple cells within each videos (if applicable).\n",
        "* Converted the images to Grayscale, and cropped them based on their respective ROIs.\n",
        "    * <img src=\"ROI and cropping.png\" alt=\"ROI and Cropping\" width=\"400\"/><br>\n",
        "* Set a threshold for each frame for each video, and disregarded the points below.\n",
        "* Process the video. In our case, we applied weighted average\n",
        "    * <img src=\"Weighted average diagram.png\" alt=\"Weighted Average Diagram\" width=\"400\"/><br>\n",
        "    * The idea was to identify the regions where the Golgi is *most* likely to be located at (which is determined by our ROI), which we can achieve this by\n",
        "        * Assigning a higher weight to pixels where the Golgi is more likely to be located.\n",
        "        * Assigning a lower weight to pixels where the Golgi is less likely to be located.\n",
        "* Plot the different graphs to observe trends\n",
        "    * Sum of fluorescence - Compiled plots of all the video files and frames, normalised to the maximum sum of fluorescence signal for that video.\n",
        "        * <img src=\"Graph of all regions of interest.jpg\" alt=\"Graph of all regions of interest\" width=\"800\"/><br>\n",
        "    * Different data processing methods - Here, we showed the different normalisation methods to better visualise the changes in fluorescence levels, whilst maintaining its integrity as an array (Not butchering it by reducing noise drastically)\n",
        "    * Based on the plots above, we chose a data processing method which best visualises the phases we previously identified for accumulation and subsequent dispersion phases.\n",
        "    * We attempted to apply a gradient descent algorithm for linear regression modelling onto our dataset, where we ploted the best-fit model for all the videos and chosen to show two specific videos with best-fit lines (0.75µg DNA Treatment with 10µM Kinesore, ROI [0]), (1µg Biotin, 0µM Kinesore, ROI [0])\n",
        "<img src=\"0.75ugDNA_drug10uM_5min45min_1_ROI 0.png\" alt=\"0.75ugDNA_drug10uM_5min45min_1_ROI 0\" width=\"500\"/><br>\n",
        "<img src=\"LipoKDEL1ug_biotin_no drug_live_5min1h_ROI 0.png\" alt=\"LipoKDEL1ug_biotin_no drug_live_5min1h_ROI 0\" width=\"500\"/><br>\n",
        "\n",
        "#### Compiled data for best-fit lines\n",
        "  | Video                                                             | ROI   | Gradient             | Intercept         | r2 values         |\n",
        "|-------------------------------------------------------------------|-------|----------------------|-------------------|-------------------|\n",
        "| 0.5ug DNA, 10uM drug                                              | 0     | -0.028               | 1.178             | 0..983            |\n",
        "| 0.75ug DNA, 10uM drug 0.75ug DNA, 10uM drug 0.75ug DNA, 10uM drug | 0 1 2 | -0.018 -0.024 -0.025 | 1.091 1.097 0.980 | 0.958 0.962 0.854 |\n",
        "| 1ug DNA, 10uM drug  1ug DNA, 10uM drug                            | 0 1   | -0.040 -0.031        | 1.360 0.856       | 0.902 0.673       |\n",
        "| 1ug biotin, 25uM drug 1ug biotin, no drug                         | 0 0   | -0.011 -0.018        | 1.095 1.108       | 0.763 0.995       |\n",
        "| 1.5ug biotin, 50uM drug 1.5ug biotin, 50uM drug                   | 0 1   | -0.001 -0.012        | 0.934 0.827       | 0.089 0.526       |"
      ],
      "metadata": {
        "id": "dFjezX2taTCf"
      }
    },
    {
      "cell_type": "markdown",
      "source": [
        "# Plotting Best Fit Lines for GFP export\n",
        "\n",
        "To evaluate if Kinesore is able to generate sufficient effect on the cells to control the export rate of GFP-TNF out of the cell, we assume that at maximum relative fluorescence in our plot would be the point in time at which accummulation in the golgi is maximum. This means that from that image onwards, there is only export of GFP-TNF out of the cell.\n",
        "\n",
        "It is also assumed that the concentration of GFP-TNF is positively related to the level of fluorescence that is observed.\n",
        "\n",
        "We will use a simple linear relation to evaluate if the rate of decrease of fluorescence is related to the concentration of drug that is added to the media of the plates.\n",
        "\n"
      ],
      "metadata": {
        "id": "v_ZrHN0VSytC"
      }
    },
    {
      "cell_type": "code",
      "execution_count": null,
      "metadata": {
        "id": "6vXvEhBsEQdF"
      },
      "outputs": [],
      "source": [
        "import os, glob, shutil, cv2\n",
        "import numpy as np\n",
        "import matplotlib.pyplot as plt\n",
        "from skimage.color import rgb2gray\n",
        "from scipy.stats import linregress\n",
        "from skimage.filters import threshold_otsu, threshold_yen, try_all_threshold, threshold_minimum, threshold_isodata\n",
        "import skimage.measure as measure"
      ]
    },
    {
      "cell_type": "markdown",
      "source": [
        "# Extracting frames from video using cv2 package"
      ],
      "metadata": {
        "id": "eOS87E7aEtzH"
      }
    },
    {
      "cell_type": "code",
      "source": [
        "#find videos\n",
        "print(f'Current directory: {os.getcwd()}')\n",
        "\n",
        "path_to_videos = glob.glob(os.path.join('Videos','*.avi'))\n",
        "print(path_to_videos, '-'*10, sep = '\\n')\n",
        "#create required directories\n",
        "def makefolders(path):\n",
        "    folder = os.path.split(path) #create folders for extracting all images\n",
        "    folder = os.path.splitext(folder[-1])\n",
        "    folder_create = os.path.join('Videos',folder[0])\n",
        "    if os.path.exists(folder_create) == False:\n",
        "        os.mkdir(folder_create)\n",
        "    else:\n",
        "        pass\n",
        "    return folder_create\n",
        "\n",
        "#navigate into folder for the image and save images\n",
        "def saveimages(path, dir_name):\n",
        "    cam = cv2.VideoCapture(path)\n",
        "    count, success = 0, True\n",
        "    video_index = []\n",
        "    while success:\n",
        "        success, image = cam.read()\n",
        "        if not cam.isOpened():\n",
        "            print(f\"Error: Could not open video file {path}\")\n",
        "        os.chdir(dir_name)\n",
        "        if success:\n",
        "            folder = os.path.split(dir_name)\n",
        "            frame = f'{folder[-1]}_frame_{count:02}.jpg'\n",
        "            video_index.append(frame)\n",
        "            if os.path.exists(frame) == False:\n",
        "                cv2.imwrite(frame, image)\n",
        "                print(f'{frame} successfully saved')\n",
        "                count+=1\n",
        "            else:\n",
        "                print(f'{frame} already exists, skipping save')\n",
        "                count+=1\n",
        "        else:\n",
        "            print('End of file')\n",
        "        os.chdir(os.path.join('..','..'))\n",
        "    cam.release()\n",
        "    print(f'Current directory: {os.getcwd()} \\n Completed {path}\\n--------------------')\n",
        "    return video_index"
      ],
      "metadata": {
        "id": "Oz3sZ_OqEdF2",
        "colab": {
          "base_uri": "https://localhost:8080/"
        },
        "outputId": "9a51df1d-77a6-4c92-88c0-50d18160cc00"
      },
      "execution_count": null,
      "outputs": [
        {
          "output_type": "stream",
          "name": "stdout",
          "text": [
            "Current directory: /content\n",
            "[]\n",
            "----------\n"
          ]
        }
      ]
    },
    {
      "cell_type": "code",
      "source": [
        "#using the functions defined earlier to split the video\n",
        "video_indexes, folder_indexes = [], []\n",
        "vf_dict = {}\n",
        "for path in path_to_videos:\n",
        "    dir_name = makefolders(path)\n",
        "    folder_indexes.append(dir_name)\n",
        "    img_names = saveimages(path, dir_name)\n",
        "    video_indexes.append(img_names)\n",
        "    vf_dict[os.path.split(dir_name)[-1]] = img_names\n",
        "\n",
        "#show structure of the dictionary\n",
        "for key, item in vf_dict.items():\n",
        "    print(key, item, '\\n')"
      ],
      "metadata": {
        "id": "Gg9dqj-_Ey6L"
      },
      "execution_count": null,
      "outputs": []
    },
    {
      "cell_type": "markdown",
      "source": [
        "# Process fluorescence data - First pass"
      ],
      "metadata": {
        "id": "EAwURZlkE5Er"
      }
    },
    {
      "cell_type": "code",
      "source": [
        "# Functions for extracting and plotting the raw data\n",
        "cwd = os.getcwd() #getting current working directory\n",
        "\n",
        "folders_to_process = ('LipoKDEL1ug_biotin_no drug_live_5min1h',  'LipoKDEL1ug_biotin_drug25uM_live_5min1h',\n",
        "                      'XtremeStr-li1.5ug_biotin_drug50uM_live_5min1h',\n",
        "                      '0.5ugDNA_drug10uM_5min45min_1', '0.75ugDNA_drug10uM_5min45min_1', '1ugDNA_drug10uM_5min45min_1')\n",
        "\n",
        "region_of_interest = {'0.5ugDNA_drug10uM_5min45min_1': [(300,500, 400,600)],\n",
        "           '0.75ugDNA_drug10uM_5min45min_1': [(300,475, 375,550),(690,780, 400,500), (530,630, 530,630)],\n",
        "           '1ugDNA_drug10uM_5min45min_1': [(400,550, 180,300),(695,790, 655,725)],\n",
        "           'LipoKDEL1ug_biotin_drug25uM_live_5min1h': [(625,740, 600,720)],\n",
        "           'LipoKDEL1ug_biotin_no drug_live_5min1h': [(550,690, 450,600)],\n",
        "           'XtremeStr-li1.5ug_biotin_drug50uM_live_5min1h': [(285,400, 70,150),(615,675, 650,715), (170,260, 970,1024)]\n",
        "}\n",
        "\n",
        "golgi_frame = {'0.5ugDNA_drug10uM_5min45min_1': '0.5ugDNA_drug10uM_5min45min_1_frame_03.jpg',\n",
        "           '0.75ugDNA_drug10uM_5min45min_1': '0.75ugDNA_drug10uM_5min45min_1_frame_02.jpg',\n",
        "           '1ugDNA_drug10uM_5min45min_1': '1ugDNA_drug10uM_5min45min_1_frame_03.jpg',\n",
        "           'LipoKDEL1ug_biotin_drug25uM_live_5min1h': 'LipoKDEL1ug_biotin_drug25uM_live_5min1h_frame_06.jpg',\n",
        "           'LipoKDEL1ug_biotin_no drug_live_5min1h': 'LipoKDEL1ug_biotin_no drug_live_5min1h_frame_04.jpg',\n",
        "           'XtremeStr-li1.5ug_biotin_drug50uM_live_5min1h': 'XtremeStr-li1.5ug_biotin_drug50uM_live_5min1h_frame_06.jpg'\n",
        "              }\n",
        "\n",
        "#creating a function called extract_fluorescenceData, to loop through the 7 different folders.\n",
        "def extract_fluorescenceData(folder_path, img_order, resolutions):\n",
        "    total_fluorescence = [] #empty list to add the max fluoresence later and plot\n",
        "    subdir_path = os.path.join(cwd,'Videos', folder_path) #create path to directory in the iteration\n",
        "\n",
        "    if os.path.isdir(subdir_path): #checking if subdirectory path exist\n",
        "        for img in img_order:\n",
        "            img_path = os.path.join(subdir_path, img)\n",
        "            if os.path.exists(img_path): #filter for only .jpg files inside subdir_path\n",
        "                a=plt.imread(img_path) #need save plt.imread to a variable, if not cannot plot downstream\n",
        "                img_gray = rgb2gray(a) #converting the img into grayscale\n",
        "                y1, y2, x1, x2 = resolutions\n",
        "                cropped_img = img_gray[y1:y2, x1:x2] #setting the parameters for the resolutions\n",
        "                total_fluorescence.append(cropped_img.sum()) #sum up signal inside individual frames and append into total_fluorascence\n",
        "    else:\n",
        "        print(f'Subdirectory {video_folders} not found')\n",
        "    return total_fluorescence #return here so can use in \"histogrammer\" function. this variable will be 'video1' in histogrammer function\n",
        "\n",
        "def histogrammer(video1, n, i=0, label = False): #video1 is an array of the max fluorescence values, i simply stands for index\n",
        "    video1_normalise = video1/max(video1) #normalising to highest sum fluorescent signal in the frames.\n",
        "    name = os.path.split(n) #split it by \\\\ into index, where [0] = your directory and [i] in this case is folder names\n",
        "    x = range(1, len(video1)+1) #plotting frame 1 to n+1\n",
        "\n",
        "    #plotting segment\n",
        "    if label == True:\n",
        "        plt.plot(x, video1_normalise, linestyle = 'dashed', marker = 'o', label = 'Original Data') #marker is the data point, marked as circle.\n",
        "    else:\n",
        "        plt.plot(x, video1_normalise, linestyle = 'dashed', marker = 'o', label = f'{name} ROI {i}')\n",
        "    #Labels & aesthetics\n",
        "    # plt.xticks(x) #this makes it show every tick in X axis\n",
        "    plt.xlabel('Frame number', fontsize = 10)\n",
        "    plt.ylabel('Total fluorescence signal', fontsize = 10)\n",
        "    plt.grid(alpha = .25)\n",
        "    plt.tight_layout()\n"
      ],
      "metadata": {
        "id": "vy_AyRYCE2NX"
      },
      "execution_count": null,
      "outputs": []
    },
    {
      "cell_type": "code",
      "source": [
        "# plotting the graphs of the normalised fluorescence values for all the frames in the videos using the functions from earlier\n",
        "longest_video = 0\n",
        "plt.figure(figsize =(20,6))\n",
        "for key in region_of_interest.keys():\n",
        "    for i in range(len(region_of_interest[key])):\n",
        "        video1 = extract_fluorescenceData(key, vf_dict[key], region_of_interest[key][i])\n",
        "        if longest_video < len(video1):\n",
        "            longest_video = len(video1)\n",
        "        histogrammer(video1, key, i)\n",
        "plt.title('Graph of all regions of interest', fontsize = 10)\n",
        "plt.xticks(np.arange(1,longest_video+1))\n",
        "plt.legend(loc = 'upper right', bbox_to_anchor = (1.5,1))\n",
        "plt.tight_layout()\n",
        "plt.savefig(f'Graph of all regions of interest', format = 'jpg')\n",
        "plt.show()"
      ],
      "metadata": {
        "id": "YtI1q2F0FDji",
        "colab": {
          "base_uri": "https://localhost:8080/",
          "height": 228
        },
        "outputId": "4efa0ed8-886b-4611-87b1-be439fec52a0"
      },
      "execution_count": null,
      "outputs": [
        {
          "output_type": "error",
          "ename": "KeyError",
          "evalue": "'0.5ugDNA_drug10uM_5min45min_1'",
          "traceback": [
            "\u001b[0;31m---------------------------------------------------------------------------\u001b[0m",
            "\u001b[0;31mKeyError\u001b[0m                                  Traceback (most recent call last)",
            "\u001b[0;32m<ipython-input-11-ab85f06d2da4>\u001b[0m in \u001b[0;36m<cell line: 4>\u001b[0;34m()\u001b[0m\n\u001b[1;32m      4\u001b[0m \u001b[0;32mfor\u001b[0m \u001b[0mkey\u001b[0m \u001b[0;32min\u001b[0m \u001b[0mregion_of_interest\u001b[0m\u001b[0;34m.\u001b[0m\u001b[0mkeys\u001b[0m\u001b[0;34m(\u001b[0m\u001b[0;34m)\u001b[0m\u001b[0;34m:\u001b[0m\u001b[0;34m\u001b[0m\u001b[0;34m\u001b[0m\u001b[0m\n\u001b[1;32m      5\u001b[0m     \u001b[0;32mfor\u001b[0m \u001b[0mi\u001b[0m \u001b[0;32min\u001b[0m \u001b[0mrange\u001b[0m\u001b[0;34m(\u001b[0m\u001b[0mlen\u001b[0m\u001b[0;34m(\u001b[0m\u001b[0mregion_of_interest\u001b[0m\u001b[0;34m[\u001b[0m\u001b[0mkey\u001b[0m\u001b[0;34m]\u001b[0m\u001b[0;34m)\u001b[0m\u001b[0;34m)\u001b[0m\u001b[0;34m:\u001b[0m\u001b[0;34m\u001b[0m\u001b[0;34m\u001b[0m\u001b[0m\n\u001b[0;32m----> 6\u001b[0;31m         \u001b[0mvideo1\u001b[0m \u001b[0;34m=\u001b[0m \u001b[0mextract_fluorescenceData\u001b[0m\u001b[0;34m(\u001b[0m\u001b[0mkey\u001b[0m\u001b[0;34m,\u001b[0m \u001b[0mvf_dict\u001b[0m\u001b[0;34m[\u001b[0m\u001b[0mkey\u001b[0m\u001b[0;34m]\u001b[0m\u001b[0;34m,\u001b[0m \u001b[0mregion_of_interest\u001b[0m\u001b[0;34m[\u001b[0m\u001b[0mkey\u001b[0m\u001b[0;34m]\u001b[0m\u001b[0;34m[\u001b[0m\u001b[0mi\u001b[0m\u001b[0;34m]\u001b[0m\u001b[0;34m)\u001b[0m\u001b[0;34m\u001b[0m\u001b[0;34m\u001b[0m\u001b[0m\n\u001b[0m\u001b[1;32m      7\u001b[0m         \u001b[0;32mif\u001b[0m \u001b[0mlongest_video\u001b[0m \u001b[0;34m<\u001b[0m \u001b[0mlen\u001b[0m\u001b[0;34m(\u001b[0m\u001b[0mvideo1\u001b[0m\u001b[0;34m)\u001b[0m\u001b[0;34m:\u001b[0m\u001b[0;34m\u001b[0m\u001b[0;34m\u001b[0m\u001b[0m\n\u001b[1;32m      8\u001b[0m             \u001b[0mlongest_video\u001b[0m \u001b[0;34m=\u001b[0m \u001b[0mlen\u001b[0m\u001b[0;34m(\u001b[0m\u001b[0mvideo1\u001b[0m\u001b[0;34m)\u001b[0m\u001b[0;34m\u001b[0m\u001b[0;34m\u001b[0m\u001b[0m\n",
            "\u001b[0;31mKeyError\u001b[0m: '0.5ugDNA_drug10uM_5min45min_1'"
          ]
        },
        {
          "output_type": "display_data",
          "data": {
            "text/plain": [
              "<Figure size 2000x600 with 0 Axes>"
            ]
          },
          "metadata": {}
        }
      ]
    },
    {
      "cell_type": "markdown",
      "source": [
        "### 3.1 Methods\n",
        "* We identified regions of interest in the isolated images, where the GFP is the most accumulated.\n",
        "  * We did this by looking through the individual frames per video, where we observe for cells that exhibit accumulation of GFP, where we assumed that it is the Golgi.\n",
        "* This helps to focus our analysis on where the Golgi is most likely to be."
      ],
      "metadata": {
        "id": "nKfYkC-oCuYI"
      }
    },
    {
      "cell_type": "markdown",
      "source": [
        "# Attempting to assess the cropping of the images"
      ],
      "metadata": {
        "id": "j8-TfedmFH8j"
      }
    },
    {
      "cell_type": "code",
      "source": [
        "#goal: identify green regions and calculate intensity to area ratio for lipoKDEL1ug_biotin_drug25uM\n",
        "video = {'LipoKDEL1ug_biotin_drug25uM_live_5min1h': (625,740, 600,720)}\n",
        "\n",
        "img_path = 'LipoKDEL1ug_biotin_drug25uM_live_5min1h_frame_03.jpg'\n",
        "img = plt.imread(os.path.join('Videos',list(video.keys())[0], img_path))\n",
        "img = img[625:740,600:720]\n",
        "\n",
        "plt.imshow(img)\n",
        "\n",
        "img_grey = rgb2gray(img)\n",
        "plt.show()"
      ],
      "metadata": {
        "id": "08WDQM-JFExr",
        "colab": {
          "base_uri": "https://localhost:8080/",
          "height": 373
        },
        "outputId": "a4492db4-fd5a-48bd-add9-85b3b54d98b1"
      },
      "execution_count": null,
      "outputs": [
        {
          "output_type": "error",
          "ename": "FileNotFoundError",
          "evalue": "[Errno 2] No such file or directory: '/content/Videos/LipoKDEL1ug_biotin_drug25uM_live_5min1h/LipoKDEL1ug_biotin_drug25uM_live_5min1h_frame_03.jpg'",
          "traceback": [
            "\u001b[0;31m---------------------------------------------------------------------------\u001b[0m",
            "\u001b[0;31mFileNotFoundError\u001b[0m                         Traceback (most recent call last)",
            "\u001b[0;32m<ipython-input-13-c9713376e7cd>\u001b[0m in \u001b[0;36m<cell line: 5>\u001b[0;34m()\u001b[0m\n\u001b[1;32m      3\u001b[0m \u001b[0;34m\u001b[0m\u001b[0m\n\u001b[1;32m      4\u001b[0m \u001b[0mimg_path\u001b[0m \u001b[0;34m=\u001b[0m \u001b[0;34m'LipoKDEL1ug_biotin_drug25uM_live_5min1h_frame_03.jpg'\u001b[0m\u001b[0;34m\u001b[0m\u001b[0;34m\u001b[0m\u001b[0m\n\u001b[0;32m----> 5\u001b[0;31m \u001b[0mimg\u001b[0m \u001b[0;34m=\u001b[0m \u001b[0mplt\u001b[0m\u001b[0;34m.\u001b[0m\u001b[0mimread\u001b[0m\u001b[0;34m(\u001b[0m\u001b[0mos\u001b[0m\u001b[0;34m.\u001b[0m\u001b[0mpath\u001b[0m\u001b[0;34m.\u001b[0m\u001b[0mjoin\u001b[0m\u001b[0;34m(\u001b[0m\u001b[0;34m'Videos'\u001b[0m\u001b[0;34m,\u001b[0m\u001b[0mlist\u001b[0m\u001b[0;34m(\u001b[0m\u001b[0mvideo\u001b[0m\u001b[0;34m.\u001b[0m\u001b[0mkeys\u001b[0m\u001b[0;34m(\u001b[0m\u001b[0;34m)\u001b[0m\u001b[0;34m)\u001b[0m\u001b[0;34m[\u001b[0m\u001b[0;36m0\u001b[0m\u001b[0;34m]\u001b[0m\u001b[0;34m,\u001b[0m \u001b[0mimg_path\u001b[0m\u001b[0;34m)\u001b[0m\u001b[0;34m)\u001b[0m\u001b[0;34m\u001b[0m\u001b[0;34m\u001b[0m\u001b[0m\n\u001b[0m\u001b[1;32m      6\u001b[0m \u001b[0mimg\u001b[0m \u001b[0;34m=\u001b[0m \u001b[0mimg\u001b[0m\u001b[0;34m[\u001b[0m\u001b[0;36m625\u001b[0m\u001b[0;34m:\u001b[0m\u001b[0;36m740\u001b[0m\u001b[0;34m,\u001b[0m\u001b[0;36m600\u001b[0m\u001b[0;34m:\u001b[0m\u001b[0;36m720\u001b[0m\u001b[0;34m]\u001b[0m\u001b[0;34m\u001b[0m\u001b[0;34m\u001b[0m\u001b[0m\n\u001b[1;32m      7\u001b[0m \u001b[0;34m\u001b[0m\u001b[0m\n",
            "\u001b[0;32m/usr/local/lib/python3.10/dist-packages/matplotlib/pyplot.py\u001b[0m in \u001b[0;36mimread\u001b[0;34m(fname, format)\u001b[0m\n\u001b[1;32m   2193\u001b[0m \u001b[0;34m@\u001b[0m\u001b[0m_copy_docstring_and_deprecators\u001b[0m\u001b[0;34m(\u001b[0m\u001b[0mmatplotlib\u001b[0m\u001b[0;34m.\u001b[0m\u001b[0mimage\u001b[0m\u001b[0;34m.\u001b[0m\u001b[0mimread\u001b[0m\u001b[0;34m)\u001b[0m\u001b[0;34m\u001b[0m\u001b[0;34m\u001b[0m\u001b[0m\n\u001b[1;32m   2194\u001b[0m \u001b[0;32mdef\u001b[0m \u001b[0mimread\u001b[0m\u001b[0;34m(\u001b[0m\u001b[0mfname\u001b[0m\u001b[0;34m,\u001b[0m \u001b[0mformat\u001b[0m\u001b[0;34m=\u001b[0m\u001b[0;32mNone\u001b[0m\u001b[0;34m)\u001b[0m\u001b[0;34m:\u001b[0m\u001b[0;34m\u001b[0m\u001b[0;34m\u001b[0m\u001b[0m\n\u001b[0;32m-> 2195\u001b[0;31m     \u001b[0;32mreturn\u001b[0m \u001b[0mmatplotlib\u001b[0m\u001b[0;34m.\u001b[0m\u001b[0mimage\u001b[0m\u001b[0;34m.\u001b[0m\u001b[0mimread\u001b[0m\u001b[0;34m(\u001b[0m\u001b[0mfname\u001b[0m\u001b[0;34m,\u001b[0m \u001b[0mformat\u001b[0m\u001b[0;34m)\u001b[0m\u001b[0;34m\u001b[0m\u001b[0;34m\u001b[0m\u001b[0m\n\u001b[0m\u001b[1;32m   2196\u001b[0m \u001b[0;34m\u001b[0m\u001b[0m\n\u001b[1;32m   2197\u001b[0m \u001b[0;34m\u001b[0m\u001b[0m\n",
            "\u001b[0;32m/usr/local/lib/python3.10/dist-packages/matplotlib/image.py\u001b[0m in \u001b[0;36mimread\u001b[0;34m(fname, format)\u001b[0m\n\u001b[1;32m   1561\u001b[0m             \u001b[0;34m\"``np.array(PIL.Image.open(urllib.request.urlopen(url)))``.\"\u001b[0m\u001b[0;34m\u001b[0m\u001b[0;34m\u001b[0m\u001b[0m\n\u001b[1;32m   1562\u001b[0m             )\n\u001b[0;32m-> 1563\u001b[0;31m     \u001b[0;32mwith\u001b[0m \u001b[0mimg_open\u001b[0m\u001b[0;34m(\u001b[0m\u001b[0mfname\u001b[0m\u001b[0;34m)\u001b[0m \u001b[0;32mas\u001b[0m \u001b[0mimage\u001b[0m\u001b[0;34m:\u001b[0m\u001b[0;34m\u001b[0m\u001b[0;34m\u001b[0m\u001b[0m\n\u001b[0m\u001b[1;32m   1564\u001b[0m         return (_pil_png_to_float_array(image)\n\u001b[1;32m   1565\u001b[0m                 \u001b[0;32mif\u001b[0m \u001b[0misinstance\u001b[0m\u001b[0;34m(\u001b[0m\u001b[0mimage\u001b[0m\u001b[0;34m,\u001b[0m \u001b[0mPIL\u001b[0m\u001b[0;34m.\u001b[0m\u001b[0mPngImagePlugin\u001b[0m\u001b[0;34m.\u001b[0m\u001b[0mPngImageFile\u001b[0m\u001b[0;34m)\u001b[0m \u001b[0;32melse\u001b[0m\u001b[0;34m\u001b[0m\u001b[0;34m\u001b[0m\u001b[0m\n",
            "\u001b[0;32m/usr/local/lib/python3.10/dist-packages/PIL/Image.py\u001b[0m in \u001b[0;36mopen\u001b[0;34m(fp, mode, formats)\u001b[0m\n\u001b[1;32m   3429\u001b[0m \u001b[0;34m\u001b[0m\u001b[0m\n\u001b[1;32m   3430\u001b[0m     \u001b[0;32mif\u001b[0m \u001b[0mfilename\u001b[0m\u001b[0;34m:\u001b[0m\u001b[0;34m\u001b[0m\u001b[0;34m\u001b[0m\u001b[0m\n\u001b[0;32m-> 3431\u001b[0;31m         \u001b[0mfp\u001b[0m \u001b[0;34m=\u001b[0m \u001b[0mbuiltins\u001b[0m\u001b[0;34m.\u001b[0m\u001b[0mopen\u001b[0m\u001b[0;34m(\u001b[0m\u001b[0mfilename\u001b[0m\u001b[0;34m,\u001b[0m \u001b[0;34m\"rb\"\u001b[0m\u001b[0;34m)\u001b[0m\u001b[0;34m\u001b[0m\u001b[0;34m\u001b[0m\u001b[0m\n\u001b[0m\u001b[1;32m   3432\u001b[0m         \u001b[0mexclusive_fp\u001b[0m \u001b[0;34m=\u001b[0m \u001b[0;32mTrue\u001b[0m\u001b[0;34m\u001b[0m\u001b[0;34m\u001b[0m\u001b[0m\n\u001b[1;32m   3433\u001b[0m     \u001b[0;32melse\u001b[0m\u001b[0;34m:\u001b[0m\u001b[0;34m\u001b[0m\u001b[0;34m\u001b[0m\u001b[0m\n",
            "\u001b[0;31mFileNotFoundError\u001b[0m: [Errno 2] No such file or directory: '/content/Videos/LipoKDEL1ug_biotin_drug25uM_live_5min1h/LipoKDEL1ug_biotin_drug25uM_live_5min1h_frame_03.jpg'"
          ]
        }
      ]
    },
    {
      "cell_type": "code",
      "source": [
        "threshold = threshold_minimum(img_grey)\n",
        "img_binarised = img_grey < threshold\n",
        "\n",
        "img_labelled = measure.label(img_binarised.astype('uint8'))\n",
        "plt.imshow(img_labelled)\n",
        " # measure.label() requires an image of type int\n",
        "img_labelled = measure.label(img_binarised.astype('uint8'))\n",
        "region_info = measure.regionprops(img_labelled)\n",
        "print(region_info[0].area)\n",
        "\n",
        "no_of_regions = len(region_info)\n",
        "\n",
        "for count, region in enumerate(region_info):\n",
        "    print('-'*10, f'Region {count}', '-'*10)\n",
        "    print(f'Centre\\t: {region.centroid}')\n",
        "    print(f'Area\\t: {region.area}')\n",
        "    print('\\n')"
      ],
      "metadata": {
        "id": "_8LqkwHtFUDQ"
      },
      "execution_count": null,
      "outputs": []
    },
    {
      "cell_type": "code",
      "source": [
        "img_masked = img_labelled == 1\n",
        "plt.imshow(img_masked)\n",
        "plt.show()"
      ],
      "metadata": {
        "id": "l7VFhGtEFNFK"
      },
      "execution_count": null,
      "outputs": []
    },
    {
      "cell_type": "markdown",
      "source": [
        "### Identifying the Golgi\n",
        "\n",
        "Each video has its images’ intensity values summed at each pixel to generate a heat map of where GFP was located in the cell.\n",
        "\n",
        "This is then used as a weight for the summing of intensities.\n"
      ],
      "metadata": {
        "id": "ec_HY_5zDMyQ"
      }
    },
    {
      "cell_type": "code",
      "source": [
        "def ratio_Data(folder_path, img_order, resolutions): #attempting to find fluorescence/area ratio\n",
        "    total_fluorescence, areas = [], []\n",
        "    subdir_path = os.path.join(cwd,'Videos', folder_path) #create path to directory in the iteration\n",
        "\n",
        "    if os.path.isdir(subdir_path): #checking if subdirectory path exist\n",
        "        for img in img_order:\n",
        "            img_path = os.path.join(subdir_path, img)\n",
        "            if os.path.exists(img_path):\n",
        "            # if img.lower().endswith('.jpg'): #filter for only .jpg files inside subdir_path\n",
        "                a=plt.imread(img_path) #need save plt.imread to a variable, if not cannot plot downstream\n",
        "                img_gray = rgb2gray(a) #converting the img into grayscale\n",
        "                y1, y2, x1, x2 = resolutions\n",
        "                cropped_img = img_gray[y1:y2, x1:x2]\n",
        "\n",
        "                try:\n",
        "                    threshold = threshold_yen(cropped_img)\n",
        "                    binarised_img = cropped_img < threshold\n",
        "                    img_labelled = measure.label(binarised_img.astype('uint8'))\n",
        "                    region_info = measure.regionprops(img_labelled)\n",
        "\n",
        "                    total_fluorescence.append(cropped_img.sum()) #sum up signal inside individual frames and append into total_fluorascence\n",
        "                    areas.append((y2-y1)*(x2-x1) - region_info[0].area)\n",
        "                except RuntimeError:\n",
        "                    print(f'Error with {img} image')\n",
        "                    pass\n",
        "    else:\n",
        "        print(f'Subdirectory {video_folders} not found')\n",
        "    ratio = np.array(total_fluorescence)/np.array(areas)\n",
        "    return ratio\n",
        "\n",
        "def overlay_threshold(folder_path, img_order, resolutions, return_base = True):\n",
        "    total_fluorescence, areas = [], []\n",
        "    subdir_path = os.path.join(cwd,'Videos', folder_path) #create path to directory in the iteration\n",
        "    y1, y2, x1, x2 = resolutions\n",
        "    overlay = np.zeros((y2-y1,x2-x1))\n",
        "\n",
        "    if os.path.isdir(subdir_path): #checking if subdirectory path exist\n",
        "        for img in img_order:\n",
        "            img_path = os.path.join(subdir_path, img)\n",
        "            if os.path.exists(img_path):\n",
        "                a=plt.imread(img_path) #need save plt.imread to a variable, if not cannot plot downstream\n",
        "                img_gray = rgb2gray(a) #converting the img into grayscale\n",
        "                cropped_img = img_gray[y1:y2, x1:x2]\n",
        "                cropped_img = noise_remove(cropped_img)\n",
        "                overlay+=cropped_img\n",
        "\n",
        "    else:\n",
        "        print(f'Subdirectory {video_folders} not found')\n",
        "    if return_base == True:\n",
        "        return extract_Data(folder_path, img_order, resolutions, overlay), overlay\n",
        "    else:\n",
        "        return overlay\n",
        "\n",
        "def extract_Data(folder_path, img_order, resolutions, overlay, use_threshold = False, reference = None):\n",
        "    total_fluorescence = [] #empty list to add the max fluoresence later and plot\n",
        "    subdir_path = os.path.join(cwd,'Videos', folder_path) #create path to directory in the iteration\n",
        "    if use_threshold == True and reference != None:\n",
        "        threshold = extract_threshold(folder_path, resolutions, reference)\n",
        "\n",
        "    if os.path.isdir(subdir_path): #checking if subdirectory path exist\n",
        "        for img in img_order:\n",
        "            img_path = os.path.join(subdir_path, img)\n",
        "            if os.path.exists(img_path): #filter for only .jpg files inside subdir_path\n",
        "                a=plt.imread(img_path) #need save plt.imread to a variable, if not cannot plot downstream\n",
        "                img_gray = rgb2gray(a) #converting the img into grayscale\n",
        "                y1, y2, x1, x2 = resolutions\n",
        "                cropped_img = img_gray[y1:y2, x1:x2]\n",
        "                cropped_img = noise_remove(cropped_img)\n",
        "                if use_threshold == True:\n",
        "                    cropped_img[cropped_img < threshold] = 0\n",
        "                cropped_img *= overlay\n",
        "                total_fluorescence.append(cropped_img.sum()) #sum up signal inside individual frames and append into total_fluorascence\n",
        "    else:\n",
        "        print(f'Subdirectory {video_folders} not found')\n",
        "    return total_fluorescence\n",
        "\n",
        "def extract_thresholdData(folder_path, img_order, resolutions, reference):\n",
        "    total_fluorescence = [] #empty list to add the max fluoresence later and plot\n",
        "    subdir_path = os.path.join(cwd,'Videos', folder_path) #create path to directory in the iteration\n",
        "    threshold = extract_threshold(folder_path, resolutions, reference)\n",
        "    y1, y2, x1, x2 = resolutions\n",
        "\n",
        "    if os.path.isdir(subdir_path): #checking if subdirectory path exist\n",
        "        for img in img_order:\n",
        "            img_path = os.path.join(subdir_path, img)\n",
        "            if os.path.exists(img_path): #filter for only .jpg files inside subdir_path\n",
        "                a=plt.imread(img_path) #need save plt.imread to a variable, if not cannot plot downstream\n",
        "                img_gray = rgb2gray(a) #converting the img into grayscale\n",
        "                cropped_img = img_gray[y1:y2, x1:x2]\n",
        "                cropped_img[cropped_img<threshold] = 0\n",
        "                total_fluorescence.append(cropped_img.sum()) #sum up signal inside individual frames and append into total_fluorascence\n",
        "    else:\n",
        "        print(f'Subdirectory {video_folders} not found')\n",
        "    return total_fluorescence\n",
        "\n",
        "def extract_threshold(folder_path, resolutions, reference):\n",
        "    ref_path = os.path.join(cwd, 'Videos', folder_path, reference)\n",
        "    img_ref = plt.imread(ref_path)\n",
        "\n",
        "    #reference threshold\n",
        "    img_ref = rgb2gray(img_ref)\n",
        "    y1, y2, x1, x2 = resolutions\n",
        "    img_ref_cropped = img_ref[y1:y2, x1:x2]\n",
        "    threshold = threshold_isodata(img_ref_cropped)\n",
        "    return threshold\n",
        "\n",
        "def power_overlay(overlay):\n",
        "    overlay = overlay**4\n",
        "    return overlay\n",
        "\n",
        "def norm_overlay(overlay):\n",
        "    overlay = overlay/np.max(overlay)\n",
        "    return overlay\n",
        "\n",
        "def get_label(filepath):\n",
        "    # x=list(region_of_interest.keys())[4]\n",
        "    label=[fragments for fragments in filepath.split('_') if 'drug' in fragments]\n",
        "    return label[0].upper()\n",
        "\n",
        "def noise_remove(img):\n",
        "    mask = img < 0.15\n",
        "    img[mask] = 0\n",
        "    return img"
      ],
      "metadata": {
        "id": "ReXYViaXFYxF"
      },
      "execution_count": null,
      "outputs": []
    },
    {
      "cell_type": "code",
      "source": [
        "# This cycles through all video folders and creates the graphs\n",
        "for key in region_of_interest:\n",
        "    for i in range(len(region_of_interest[key])):\n",
        "        video1 = extract_fluorescenceData(key, vf_dict[key], region_of_interest[key][i])\n",
        "\n",
        "        #first overlay without any configuration to heat map\n",
        "        img_overlay, overlay = overlay_threshold(key, vf_dict[key], region_of_interest[key][i])\n",
        "        img_overlay = img_overlay/max(img_overlay)\n",
        "\n",
        "        #increasing the heat map by power of 4, not 2. squared is just an old name and im lazy\n",
        "        overlay1 = power_overlay(overlay)\n",
        "        img_squared = extract_Data(key, vf_dict[key], region_of_interest[key][i], overlay1)\n",
        "        img_squared = img_squared/max(img_squared)\n",
        "\n",
        "        #this is normalising the heat map, but it does the same as the first function\n",
        "        overlay2 = norm_overlay(overlay)\n",
        "        img_norm = extract_Data(key, vf_dict[key], region_of_interest[key][i], overlay2)\n",
        "        img_norm = img_norm/max(img_norm)\n",
        "\n",
        "        #fluorescence of ratio\n",
        "        ratio_f = ratio_Data(key, vf_dict[key], region_of_interest[key][i])\n",
        "        ratio_f = ratio_f/max(ratio_f)\n",
        "\n",
        "        img_mask = extract_thresholdData(key, vf_dict[key], region_of_interest[key][i], golgi_frame[key])\n",
        "        img_mask = img_mask/max(img_mask)\n",
        "\n",
        "        threshold_weighted = extract_Data(key, vf_dict[key], region_of_interest[key][i], overlay1,\n",
        "                                          use_threshold = True, reference = golgi_frame[key])\n",
        "        threshold_weighted = threshold_weighted/max(threshold_weighted)\n",
        "\n",
        "        #plotting the different methods used to process the fluorescence\n",
        "        frames = np.arange(1,len(img_overlay)+1)\n",
        "        plt.figure(figsize = (12,4))\n",
        "        plt.plot(frames, img_overlay, label = \"Linear\", linestyle = 'solid', marker = '*')\n",
        "        plt.plot(frames, img_squared, label = \"Powered\", linestyle = 'solid', marker = 'v')\n",
        "        plt.plot(frames, ratio_f, label = 'Fluorescence/Area', linestyle = 'solid', marker = 's')\n",
        "        plt.plot(frames, img_mask, label = 'Threshold', linestyle = 'solid', marker = 'p')\n",
        "        plt.plot(frames, threshold_weighted, label = \"Threshold and Power weight\", linestyle = 'solid', marker = 'P')\n",
        "        histogrammer(video1, key, i, label = True) #reusing previous code\n",
        "        plt.title(f'{key} Region of Interest {i}')\n",
        "        plt.legend(loc = 'upper right', bbox_to_anchor = (1.38,1))\n",
        "        plt.tight_layout()\n",
        "        plt.savefig(f'{key} Region of Interest {i}', format = \"jpg\")\n",
        "        plt.show()"
      ],
      "metadata": {
        "id": "Hun3EGAoFQCe"
      },
      "execution_count": null,
      "outputs": []
    },
    {
      "cell_type": "markdown",
      "source": [
        "# Plotting Best Fit Lines for GFP export\n",
        "\n",
        "To evaluate if Kinesore is able to generate sufficient effect on the cells to control the export rate of GFP-TNF out of the cell, we assume that at maximum relative fluorescence in our plot would be the point in time at which accummulation in the golgi is maximum. This means that from that image onwards, there is only export of GFP-TNF out of the cell.\n",
        "\n",
        "It is also assumed that the concentration of GFP-TNF is positively related to the level of fluorescence that is observed, and any decrease in fluorescence level is due to GFP export and not due to degradation. However, as we do not have data on how the fluorescence levels of GFP may be correlated to the concentration of TNF, we are not able to calculate directly the rate of export with respect to concentration of TNF.\n",
        "\n",
        "While we are not able to assess exactly how fast it is exported and express it in terms of concentration per unit time, we can still assess whether the rate of export is linearly related or if other mathematical equations may better suit the rate of export.\n",
        "\n",
        "We will use a simple linear relation to evaluate if the rate of decrease of fluorescence is related to the concentration of drug that is added to the media of the plates.\n",
        "\n",
        "## The Math\n",
        "To do linear regression, we used `scipy.stats.linregress` to find the gradient and intercept of the best fit line, as well as the $r^2$ values for our best fit line.\n",
        "\n",
        "However, to better our understanding of how linear regression can be done, we have also created our own linear regression function using the gradient descent algorithm.\n",
        "\n",
        "The idea behind gradient descent algorithm is to minimise the value of the function that is the input by taking steps in the opposite direction of the gradient. The minima of the function would be found when the gradient of the function, $f'(x)$ is 0. If the gradient is increasing in the positive x direction, then we want to take a step in the opposite x direction where the gradient is decreasing, and vice versa.\n",
        "\n",
        "Mathematically, this is represented as:\n",
        "$$\n",
        "p_{n+1} = p_{n} - \\mu\\nabla p(n)\n",
        "$$\n",
        "where p refers to the function to be minimised, and $\\mu$ is the step size, or learning rate as others may call it.\n",
        "\n",
        "$\\nabla p(n)$ is the gradient vector of function $p(n)$, where its direction points towards the direction of maximum increase.\n",
        "\n",
        "As we approach the minima of the function, the gradient becomes increasingly small, leading to the overall step per iteration of the algorithm becoming smaller as well.\n",
        "\n",
        "This can be illustrated in a graph visually, which we have taken from an external source. The red lines show how the gradient descent algorithm attempts to move towards the minima of the input function, in this case, a quadratic equation, with different step sizes. In general, a larger step size may be able to reach the minima faster, but it may also overshoot the minima as can be see n in the rightmost graph in the image.\n",
        "\n",
        "![](https://miro.medium.com/v2/resize:fit:4800/format:webp/1*GR914FuA4pVTTXEpVDJ2Ng.png)\n",
        "\n",
        "For further reading, see [Gradient Descent Algorithm explained](https://towardsdatascience.com/gradient-descent-algorithm-a-deep-dive-cf04e8115f21).\n",
        "\n",
        "## Mean Square Errors, MSE\n",
        "The function that we will use to evaluate whether the line is a good fit for the graph would be the mean squared errors function. We will refer to this function as the cost function for gradient descent algorithm.\n",
        "\n",
        "$$\n",
        "\\mathrm{Mean\\ Squared\\ Errors,\\ J} = \\dfrac{1}{n} \\sum^n_{n=0} (\\bar{y} - y_i)^2 \\tag{1}\n",
        "$$\n",
        "\n",
        "where $n$ is total number of data points, $\\bar{y}$ is the predicted y values, and $y_i$ is the original y values.\n",
        "\n",
        "$\\bar{y} - y_i$ is the residual, or the error, between the predicted y values and the actual data input.\n",
        "\n",
        "For linear regression, $\\bar{y}$ would be represented by $\\bar{y} = mx_i + c$ where $m$ is the gradient and $c$ is the intercept.\n",
        "\n",
        "To obtain the best fit line, we would want the predicted best fit line to have the smallest possible mean squared error. In other words, we want to minimise equation (1). This is where gradient descent algorithm would come in to help minimise the function. In order to use the algorithm, however, the partial derivatives with respect to the constant and the gradient of the graph needs to be found. Simply put, we need to know how does the MSE function change as the gradient and constant are varied individually.\n",
        "\n",
        "The partial derivatives for the cost function can be found below:\n",
        "\n",
        "$$\n",
        "\\frac{\\partial J}{\\partial c} = \\frac{2}{n} \\sum^n_{n=0}(c + mx_i - y_i) \\tag{2}\n",
        "$$\n",
        "$$\n",
        "\\frac{\\partial J}{\\partial m} = \\frac{2}{n} \\sum^n_{n=0}(c + mx_i - y_i)(x_i) \\tag{3}\n",
        "$$\n",
        "\n",
        "These are found in `djdc` and `djdm`, and the gradient descent algorithm is written in `get_lineEqn`.\n",
        "\n",
        "## Explaining the code of gradient descent\n",
        "`diff1` and `diff2` are the gradients multiplied by the step size, $\\mu$, and compared against a tolerance value. If both `diff1` and `diff2` are less than the tolerance value of $1e^{-4}$, then the function is stopped and the values of the gradient and intercept are returned.\n",
        "\n",
        "`max_iter` controls the maximum number of times that the function will loop and calculate the next step of the gradient and intercept. This is set to prevent the function from running into an issue where the tolerance value may be set too low and the function overshoots the minimum point.\n",
        "\n",
        "Initialisation values for our linear regression function are $m$ = -1 and $c = 1$. $m$ is set to be negative as the export of GFP out of the cell would lead to a decrease in the fluorescence values, and therefore a downward trend on the graph. Hence, a negative gradient should be expected. $c$ is set to be 1 as the maximum relative fluorescence is 1, which at t = 0 should be maximum, and therefore the intercept of the graph should be at 1.\n",
        "\n",
        "## Evaluating the fit of the lines\n",
        "To evaluate how well these lines fit to the data points, the $r^2$ value is calculated. This is done using `r2calc` function. The $r^2$ function can be found below:\n",
        "\n",
        "$$\n",
        "r^2 = 1 - \\frac{\\mathrm{Sum\\ of\\ squares\\ of\\ residuals}}{\\mathrm{Total\\ sum\\ of\\ squares}}\n",
        "$$\n",
        "\n",
        "## Comparison against scipy's linregress\n",
        "In general, we observe that scipy's function is able to provide better fits for the linear equations, as the $r^2$ values given by `linregress` is consistently higher than that of our own `get_lineEqn` function."
      ],
      "metadata": {
        "id": "OY7lG5vIFh4d"
      }
    },
    {
      "cell_type": "code",
      "source": [
        "#chosen function: power\n",
        "def linear_relation(t,m,c):\n",
        "    export = m*t + c\n",
        "    return export\n",
        "\n",
        "def djdc(t,m,c,f_actual): #vary intercept\n",
        "    f_predicted = linear_relation(t,m,c)\n",
        "    a = np.sum(f_actual - f_predicted)\n",
        "    b = -2/len(f_actual)\n",
        "    const = a * b\n",
        "    return const\n",
        "\n",
        "def djdm(t,m,c,f_actual): #vary gradient\n",
        "    f_predicted = linear_relation(t,m,c)\n",
        "    a = np.sum((f_actual - f_predicted) * t)\n",
        "    b = -2/len(f_actual)\n",
        "    gradient = a * b\n",
        "    return gradient\n",
        "\n",
        "def get_lineEqn(m, c, t, f_i, max_iter=10000, lr = 1e-4, tol = 1e-5):\n",
        "    for _ in range(max_iter):\n",
        "        diff1 = djdc(t,m,c,f_i)*lr\n",
        "        diff2 = djdm(t,m,c,f_i)*lr\n",
        "        if abs(diff1) < tol and abs(diff2) < tol:\n",
        "            break\n",
        "        else:\n",
        "            c-=diff1\n",
        "            m-=diff2\n",
        "    return m,c\n",
        "\n",
        "def rss(y_predicted, y_actual):\n",
        "    return np.sum((y_actual-y_predicted)**2)\n",
        "\n",
        "def tss(y_predicted, y_actual):\n",
        "    y_ave = np.average(y_actual)\n",
        "    return np.sum((y_predicted-y_ave)**2)\n",
        "\n",
        "def r2calc(y1, ya):\n",
        "    r2 = 1 - (rss(y1,ya)/tss(y1,ya))\n",
        "    return r2"
      ],
      "metadata": {
        "id": "KNehsYBxFi5g"
      },
      "execution_count": null,
      "outputs": []
    },
    {
      "cell_type": "code",
      "source": [
        "# We are calling both scipy's linear regression function, and our own linear\n",
        "# regression model that is seen in get_lineEqn().\n",
        "for key in region_of_interest.keys():\n",
        "    for i in range(len(region_of_interest[key])):\n",
        "        heat_map = overlay_threshold(key, vf_dict[key], region_of_interest[key][i], return_base = False)\n",
        "        weighted_fluorescence = extract_Data(key, vf_dict[key], region_of_interest[key][i], power_overlay(heat_map))\n",
        "        weighted_fluorescence = weighted_fluorescence/np.max(weighted_fluorescence)\n",
        "        max_index = np.where(weighted_fluorescence == np.max(weighted_fluorescence))\n",
        "        export = weighted_fluorescence[max_index[0][0]:]\n",
        "        frames = np.arange(max_index[0][0],len(weighted_fluorescence))\n",
        "        t = (np.arange(1,len(export)+1))*5\n",
        "        plt.figure(figsize = (10,4))\n",
        "        plt.grid(alpha = 0.25)\n",
        "        plt.plot(frames, export, '.')\n",
        "        plt.title(f'{key} \\nRegion of Interest {i} \\n{region_of_interest[key][i]}')\n",
        "\n",
        "        function = linregress(t,export, alternative = 'less')\n",
        "        line = linear_relation(t, function.slope, function.intercept)\n",
        "        plt.plot(frames, line, label = r'export = {:.3f}t + {:.3f}, $r^2$ = {:.3f}'.format(function.slope,function.intercept,function.rvalue**2))\n",
        "\n",
        "        m, c = get_lineEqn(m=-1,c=1, t=t, f_i = export)\n",
        "        my_line = linear_relation(t,m,c)\n",
        "        r2 = r2calc(my_line, export)\n",
        "        plt.plot(frames, my_line, label = r'export = {:.3f}t + {:.3f}, $r^2$ = {:.3f}'.format(m, c, r2), linestyle = 'dashed')\n",
        "        plt.legend(loc = 'upper right')\n",
        "        plt.xlabel('Frame Number')\n",
        "        plt.ylabel('Relative fluorescence', rotation = 90)\n",
        "        plt.show()"
      ],
      "metadata": {
        "id": "IqMXSRZbFoY1"
      },
      "execution_count": null,
      "outputs": []
    },
    {
      "cell_type": "code",
      "source": [
        "# this shows the heat maps\n",
        "for key in region_of_interest.keys():\n",
        "    for i in range(len(region_of_interest[key])):\n",
        "        heat_map = overlay_threshold(key, vf_dict[key], region_of_interest[key][i], return_base = False)\n",
        "        plt.imshow(heat_map, cmap = 'jet')\n",
        "        plt.axis('off')\n",
        "        plt.colorbar()\n",
        "        plt.show()"
      ],
      "metadata": {
        "id": "JHtJasJtFtRU"
      },
      "execution_count": null,
      "outputs": []
    },
    {
      "cell_type": "markdown",
      "source": [
        "### Applications\n",
        "* Quantitative analysis that best captures your identified area of interest\n",
        "* Train an algorithmic model to predict the rate of protein export based on the differing conditions i.e., Drug concentration.\n",
        "* Measuring the rate of protein trafficking from Golgi apparatus to out of the cell with differing kinesore provides insights into dampening inflammatory responses, ultimately serving as a potential therapeutic drug in patients.\n"
      ],
      "metadata": {
        "id": "c-HZxCJ8NE5K"
      }
    },
    {
      "cell_type": "markdown",
      "source": [
        "### 4 Discussion of our results\n",
        "\n",
        "### 4.1 Answering the research question\n",
        "\n",
        "**\"Can Kinesore be used as a therapeutic agent for controlling hyperinflammation?\"**\n",
        "\n",
        "\n",
        "After our analysis, we have determined that while kinesore may be used as a therapeutic drug to treat hyperinflammatory disease. However, it is not guaranteed to work and faces some unavoidable limitations.\n",
        "\n",
        "* Kinesore is insoluble in water, where for in-vitro and in-vivo testing, the powder form of the drug needs to be reconstituted in Dimethylsulfoxide (DMSO)\n",
        "* When DMSO-reconstituted drug is added into the cell culture media for treatment, due to the temperature and pH, it might precipitate out from the cell culture media where the full amount of the drug is not readily delivered to the cell.\n",
        "  * As there are varying amounts of drugs reaching the cells, it will  \n",
        " generate high batch to batch variation in the experiments.\n",
        "* Translating this to humans, DMSO reconstituted drugs are generally unsafe for human consumption as its mechanisms of action in the human body are unexplored i.e., drug-food, drug-drug and drug-medical condition interactions.\n",
        "* So far, only DMSO alone was approved by the FDA to treat intestinal cystitis. Other than that, there are no other instance of this for other conditions, or its implications.\n",
        "\n",
        "\n",
        "### 4.2 Challenges we faced with the implementation of code\n",
        "\n",
        "In such experiments, challenges are bound to arise.\n",
        "\n",
        "* Had limited dataset to work with, with the data provided being of different durations.\n",
        "* The timing of the start of the timelapse has variability.\n",
        "* Difficult to fit the data to a mathematical model.\n",
        "* The relationship between concentration of TNF-α-SBP-GFP and level of fluorescence is not known.\n",
        "* Had issues identifying Golgi Apparatus, where a counterstain would allow for more exact isolation of the region of interest.\n",
        "* Cannot use sum of fluorescence to calculate and plot as:\n",
        "  * Some videos had multiple cells, generating varying responses due to stochastic noise.\n",
        "  * Aggregation of proteins in the cytosol will be captured.\n",
        "\n",
        "\n",
        "### 4.3 Challenges we faced with the processing of the results\n",
        "\n",
        "* We originally intended to normalise the fluorescence signals to pixel count, but it does not work. 2 methods we thought of doing:\n",
        "  * Pick the centre of the Golgi, then take a fixed number of pixels away from the centre (both width and height wise) then crop it\n",
        "  * Using maximum intensity, draw a radius around it and this will be regarded as our ROI, which includes the Golgi.\n",
        "* In our case, fluorescence/area does not work because of the way we calculate area.\n",
        "* We calculated area by finding the area that does not have GFP, minus the total area to find the area of GFP which hopefully tells us the location of the Golgi, but instead, found the area of the GFP, which is not specific to the Golgi.\n",
        "* Furthermore, the rate of export of GFP does not appear to follow a linear trend in some graphs, such as the one seen below. A linear relationship is insufficient to explain the rate of export of GFP.\n",
        "\n",
        "<img src=\"nonfitting graph.png\" alt=\"Non-fitting Graph\" width=\"600\"/><br>\n",
        "\n"
      ],
      "metadata": {
        "id": "yGXJWfX3NN1g"
      }
    },
    {
      "cell_type": "markdown",
      "source": [
        "##5 Further work and extension of our project\n",
        "\n",
        "We believe we can extend the scope of our project by:\n",
        "* Quiver plot to show the flow of GFP-TNF into the golgi over time, and from there analyse the shape of the golgi.\n",
        "* Use a counterstain to identify the position of the golgi.\n",
        "* Find the relationship between concentration of GFP-TNF and the fluorescence intensity.\n"
      ],
      "metadata": {
        "id": "Y2j4jJF2Vtb-"
      }
    }
  ]
}