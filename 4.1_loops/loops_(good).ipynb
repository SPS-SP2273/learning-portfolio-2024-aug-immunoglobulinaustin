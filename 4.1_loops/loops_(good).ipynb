{
 "cells": [
  {
   "attachments": {},
   "cell_type": "markdown",
   "id": "123456",
   "metadata": {},
   "source": [
    "<div style=\"text-align:left;font-size:2em\"><span style=\"font-weight:bolder;font-size:1.25em\">SP2273 | Learning Portfolio</span><br><br><span style=\"font-weight:bold;color:darkred\">Loops (Good)</span></div>"
   ]
  },
  {
   "attachments": {},
   "cell_type": "markdown",
   "id": "f969c062",
   "metadata": {},
   "source": [
    "# What to expect in this chapter"
   ]
  },
  {
   "attachments": {},
   "cell_type": "markdown",
   "id": "626cf34b",
   "metadata": {},
   "source": [
    "# 1 Interrupting the flow"
   ]
  },
  {
   "cell_type": "code",
   "execution_count": 22,
   "id": "823f984b-0ff9-4c47-b441-f5eed78aa2e7",
   "metadata": {},
   "outputs": [
    {
     "name": "stdout",
     "output_type": "stream",
     "text": [
      "2\n",
      "3\n",
      "4\n",
      "5\n",
      "5\n"
     ]
    }
   ],
   "source": [
    "for power in range(2, 5+1):\n",
    "    print(power)\n",
    "\n",
    "print(power) #only prints the last stored value"
   ]
  },
  {
   "cell_type": "code",
   "execution_count": 5,
   "id": "a450ff02-900a-400d-b7ff-98cc3506cc2f",
   "metadata": {},
   "outputs": [
    {
     "name": "stdout",
     "output_type": "stream",
     "text": [
      "0 1\n",
      "1 10\n",
      "2 100\n",
      "3 1000\n"
     ]
    }
   ],
   "source": [
    "for power in range(5): #power that goes 0,1,2,3,4\n",
    "    number = 10**power\n",
    "    if number > 5000:\n",
    "        break #using break to interupt the loop, procees to next line\n",
    "    print(power, number)"
   ]
  },
  {
   "cell_type": "code",
   "execution_count": 8,
   "id": "f8a90b04-4fd8-4540-a622-97de15497959",
   "metadata": {},
   "outputs": [
    {
     "name": "stdout",
     "output_type": "stream",
     "text": [
      "0 1\n",
      "1 10\n",
      "2 100\n",
      "4 10000\n"
     ]
    }
   ],
   "source": [
    "for power in range(5):\n",
    "    if power == 3:\n",
    "        continue #telling it to go to the next iterate without proceeding down in the loop\n",
    "    number = 10**power\n",
    "    print(power, number)\n",
    "    #print(power)"
   ]
  },
  {
   "cell_type": "code",
   "execution_count": 9,
   "id": "76d2c665-a80c-42ca-919e-a6c0f6136407",
   "metadata": {},
   "outputs": [
    {
     "name": "stdout",
     "output_type": "stream",
     "text": [
      "1\n",
      "3\n",
      "5\n",
      "7\n",
      "9\n"
     ]
    }
   ],
   "source": [
    "for number in range(10):\n",
    "    # Don't proceed if the remainder is zero\n",
    "    # I.e. if the number is even\n",
    "    if number % 2 == 0: #if the number is even, dont print, go back into the loop\n",
    "        continue\n",
    "    print(number)"
   ]
  },
  {
   "cell_type": "code",
   "execution_count": 11,
   "id": "b63098d4-6110-4564-8557-f443f949bd23",
   "metadata": {},
   "outputs": [
    {
     "name": "stdout",
     "output_type": "stream",
     "text": [
      "Hahahah\n",
      "Hahahah\n",
      "Hahahah\n",
      "Hahahah\n"
     ]
    }
   ],
   "source": [
    "number=0\n",
    "\n",
    "while True:\n",
    "    print('Hahahah')\n",
    "    number += 1\n",
    "    if number > 4: break #if number is greater than 4, braeks."
   ]
  },
  {
   "cell_type": "code",
   "execution_count": 13,
   "id": "46eb8153-19b0-4542-b644-7a640bb171e5",
   "metadata": {},
   "outputs": [
    {
     "name": "stdout",
     "output_type": "stream",
     "text": [
      "ha\n",
      "haha\n",
      "hahaha\n",
      "hahahaha\n",
      "hahahahaha\n",
      "hahahahahaha\n"
     ]
    }
   ],
   "source": [
    "#does not necessarily have to use for numbers\n",
    "my_haha = ''\n",
    "\n",
    "while True:\n",
    "    my_haha += 'ha'\n",
    "    print(my_haha)\n",
    "    \n",
    "    if len(my_haha) > 10: break\n",
    "\n",
    "#OR \n",
    "\n",
    "while len(my_haha) < 10:\n",
    "    my_haha += 'ha'\n",
    "    print(my_haha)"
   ]
  },
  {
   "attachments": {},
   "cell_type": "markdown",
   "id": "c789295a",
   "metadata": {},
   "source": [
    "# 2 List comprehension!"
   ]
  },
  {
   "attachments": {},
   "cell_type": "markdown",
   "id": "7052665b",
   "metadata": {},
   "source": [
    "## 2.1 Basic syntax"
   ]
  },
  {
   "cell_type": "code",
   "execution_count": 16,
   "id": "24e63463-6a67-4f7d-b248-a85f3f271781",
   "metadata": {},
   "outputs": [
    {
     "name": "stdout",
     "output_type": "stream",
     "text": [
      "0 1\n",
      "1 10\n",
      "2 100\n",
      "3 1000\n",
      "4 10000\n"
     ]
    },
    {
     "data": {
      "text/plain": [
       "[1, 10, 100, 1000, 10000]"
      ]
     },
     "execution_count": 16,
     "metadata": {},
     "output_type": "execute_result"
    }
   ],
   "source": [
    "my_numbers =[]\n",
    "for power in range(5): #0,1,2,3,4\n",
    "    number = 10**power\n",
    "    my_numbers.append(number) #creating a list of numbers from powers\n",
    "    \n",
    "    print(power, number)\n",
    "\n",
    "my_numbers"
   ]
  },
  {
   "cell_type": "code",
   "execution_count": 20,
   "id": "06be179b-d2df-4bbb-b830-fb6db69387ad",
   "metadata": {},
   "outputs": [
    {
     "data": {
      "text/plain": [
       "[10, 1000, 100000, 10000000, 1000000000]"
      ]
     },
     "execution_count": 20,
     "metadata": {},
     "output_type": "execute_result"
    }
   ],
   "source": [
    "[10**power for power in range(10)] #highly optimised way of creating a list from a list\n",
    "[10**power for power in range(10) if power % 2 == 1] #asking for powers thats only odd. if power is odd, run it. if its not then dont."
   ]
  },
  {
   "cell_type": "code",
   "execution_count": null,
   "id": "75e70e33-0256-4981-8648-bca00875c7d4",
   "metadata": {},
   "outputs": [],
   "source": [
    "super_names = [\"Black Widow\", \"Iron Man\", \"Doctor Strange\"]\n",
    "real_names = [\"Natasha Romanoff\", \"Tony Stark\", \"Stephen Strange\"]\n"
   ]
  },
  {
   "attachments": {},
   "cell_type": "markdown",
   "id": "7cb355a9",
   "metadata": {},
   "source": [
    "## 2.2 List comprehension with conditions"
   ]
  },
  {
   "attachments": {},
   "cell_type": "markdown",
   "id": "09d65c23",
   "metadata": {},
   "source": [
    "# 3 Other useful stuff"
   ]
  },
  {
   "attachments": {},
   "cell_type": "markdown",
   "id": "d88d0835",
   "metadata": {},
   "source": [
    "## 3.1 for with unpacking"
   ]
  },
  {
   "cell_type": "code",
   "execution_count": 39,
   "id": "2acc44d9-288e-43c8-bd02-7f5ed167c6ae",
   "metadata": {},
   "outputs": [
    {
     "data": {
      "text/plain": [
       "[3, 0, 4, 5]"
      ]
     },
     "execution_count": 39,
     "metadata": {},
     "output_type": "execute_result"
    }
   ],
   "source": [
    "x, y, z = [1, 2, 3] #unpacks a list\n",
    "x, y, z = [1, 2, [3,0,4,5]]\n",
    "z"
   ]
  },
  {
   "cell_type": "code",
   "execution_count": 32,
   "id": "3dbc11dc-a9bf-4283-bbed-b6bfa10e112f",
   "metadata": {},
   "outputs": [],
   "source": [
    "py_superhero_info=[\n",
    "    [\"Natasha Romanoff\", \"Black Widow\"],\n",
    "                [\"Tony Stark\", \"Iron Man\"],\n",
    "                [\"Stephen Strange\", \"Doctor Strange\"]\n",
    "]"
   ]
  },
  {
   "cell_type": "code",
   "execution_count": 48,
   "id": "57c75ad4-b1a7-4bd1-b334-5cc03d64ea10",
   "metadata": {},
   "outputs": [
    {
     "name": "stdout",
     "output_type": "stream",
     "text": [
      "['Natasha Romanoff', 'Black Widow']\n",
      "['Tony Stark', 'Iron Man']\n",
      "['Stephen Strange', 'Doctor Strange']\n",
      "Natasha Romanoff Black Widow\n",
      "Tony Stark Iron Man\n",
      "Stephen Strange Doctor Strange\n"
     ]
    }
   ],
   "source": [
    "for c in py_superhero_info: #parking py_superhero_info into variable c.\n",
    "    print(c)\n",
    "\n",
    "for i,j in py_superhero_info: #i, j are two variable names you can set yourself.\n",
    "    print(i, j) #unpacking the inner list both elements into i and j variables, repeat for the number of inner lists\n",
    "\n",
    "#print(i ,j)\n",
    "\n",
    "#you are unpacking inner list 1st element\n",
    "\n",
    "#for super_name, value in py_superhero_info:\n",
    "    #print(f\"{real_name} is Marvel's {super_name}!\")"
   ]
  },
  {
   "cell_type": "code",
   "execution_count": null,
   "id": "303a152d-0101-456f-94e3-9ce21da6dbf6",
   "metadata": {},
   "outputs": [],
   "source": [
    "for super_name, value in py_superhero_info:\n",
    "    print(f\"{real_name} is Marvel's {super_name}!\")\n",
    "#"
   ]
  },
  {
   "attachments": {},
   "cell_type": "markdown",
   "id": "547345cd",
   "metadata": {},
   "source": [
    "## 3.2 for with zip()"
   ]
  },
  {
   "cell_type": "code",
   "execution_count": 44,
   "id": "bf59354d-6965-4d50-a7ed-c78d1e47f973",
   "metadata": {},
   "outputs": [
    {
     "name": "stdout",
     "output_type": "stream",
     "text": [
      "[('Natasha Romanoff', 'Black Widow'), ('Tony Stark', 'Iron Man'), ('Stephen Strange', 'Doctor Strange')]\n",
      "Natasha Romanoff is Marvel's Black Widow!\n",
      "Tony Stark is Marvel's Iron Man!\n",
      "Stephen Strange is Marvel's Doctor Strange!\n"
     ]
    }
   ],
   "source": [
    "super_names = [\"Black Widow\", \"Iron Man\", \"Doctor Strange\"]\n",
    "real_names = [\"Natasha Romanoff\", \"Tony Stark\", \"Stephen Strange\"]\n",
    "\n",
    "print(list(zip(real_names,super_names))) #testing\n",
    "\n",
    "for real_name, super_name in zip(real_names,super_names):\n",
    "    print(f\"{real_name} is Marvel's {super_name}!\")"
   ]
  },
  {
   "cell_type": "code",
   "execution_count": 37,
   "id": "f9175b2c-d2ab-4a9a-9668-41bb090fe8f9",
   "metadata": {},
   "outputs": [
    {
     "name": "stdout",
     "output_type": "stream",
     "text": [
      "Black Widow is Marvel's Natasha Romanoff!\n",
      "Iron Man is Marvel's Tony Stark!\n",
      "Doctor Strange is Marvel's Stephen Strange!\n"
     ]
    }
   ],
   "source": [
    "super_names = [\"Black Widow\", \"Iron Man\", \"Doctor Strange\"]\n",
    "real_names = [\"Natasha Romanoff\", \"Tony Stark\", \"Stephen Strange\"]\n",
    "\n",
    "for super_name, real_name in zip(real_names,super_names):\n",
    "    print(f\"{real_name} is Marvel's {super_name}!\")"
   ]
  },
  {
   "attachments": {},
   "cell_type": "markdown",
   "id": "d8418400",
   "metadata": {},
   "source": [
    "## 3.3 for with dictionaries"
   ]
  },
  {
   "attachments": {},
   "cell_type": "markdown",
   "id": "940bffa7",
   "metadata": {},
   "source": [
    "## Footnotes"
   ]
  }
 ],
 "metadata": {
  "kernelspec": {
   "display_name": "Python 3 (ipykernel)",
   "language": "python",
   "name": "python3"
  },
  "language_info": {
   "codemirror_mode": {
    "name": "ipython",
    "version": 3
   },
   "file_extension": ".py",
   "mimetype": "text/x-python",
   "name": "python",
   "nbconvert_exporter": "python",
   "pygments_lexer": "ipython3",
   "version": "3.12.3"
  },
  "toc": {
   "base_numbering": 1,
   "nav_menu": {},
   "number_sections": true,
   "sideBar": true,
   "skip_h1_title": false,
   "title_cell": "Table of Contents",
   "title_sidebar": "Contents",
   "toc_cell": false,
   "toc_position": {},
   "toc_section_display": true,
   "toc_window_display": false
  },
  "vscode": {
   "interpreter": {
    "hash": "31f2aee4e71d21fbe5cf8b01ff0e069b9275f58929596ceb00d14d90e3e16cd6"
   }
  }
 },
 "nbformat": 4,
 "nbformat_minor": 5
}
