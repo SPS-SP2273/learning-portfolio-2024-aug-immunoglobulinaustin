{
 "cells": [
  {
   "attachments": {},
   "cell_type": "markdown",
   "id": "123456",
   "metadata": {},
   "source": [
    "<div style=\"text-align:left;font-size:2em\"><span style=\"font-weight:bolder;font-size:1.25em\">SP2273 | Learning Portfolio</span><br><br><span style=\"font-weight:bold;color:darkred\">Loops (Need)</span></div>"
   ]
  },
  {
   "attachments": {},
   "cell_type": "markdown",
   "id": "453242a4",
   "metadata": {},
   "source": [
    "# What to expect in this chapter"
   ]
  },
  {
   "attachments": {},
   "cell_type": "markdown",
   "id": "9fc5453e",
   "metadata": {},
   "source": [
    "# 1 The for iterator"
   ]
  },
  {
   "cell_type": "code",
   "execution_count": null,
   "id": "aa633c08-9268-4b96-973b-c39fade1b0b4",
   "metadata": {},
   "outputs": [],
   "source": [
    "real_names = [\"Natasha Romanoff\", \"Tony Stark\", \"Stephen Strange\"]"
   ]
  },
  {
   "cell_type": "code",
   "execution_count": null,
   "id": "9638e2b2-3c50-4d02-966c-51dbfd31f717",
   "metadata": {},
   "outputs": [],
   "source": [
    "#Bad example\n",
    "name=real_names[0]\n",
    "print(f\"{name} is a Marvel superhero!\")\n",
    "\n",
    "name=real_names[1]\n",
    "print(f\"{name} is a Marvel superhero!\")\n",
    "\n",
    "name=real_names[2]\n",
    "print(f\"{name} is a Marvel superhero!\")"
   ]
  },
  {
   "attachments": {},
   "cell_type": "markdown",
   "id": "06f08c3e",
   "metadata": {},
   "source": [
    "## 1.1 for with a list"
   ]
  },
  {
   "cell_type": "code",
   "execution_count": null,
   "id": "652f36aa-624b-48ad-b58d-246e5e0dab4b",
   "metadata": {},
   "outputs": [],
   "source": [
    "for name in real_names: #using for loop\n",
    "    print(f\"{name} is a Marvel superhero!\")\n",
    "#goes through the list and assigns indices to each element in the list\n",
    "#runs code-block using the index\n",
    "#code block denoted by using : and tabs like if, for"
   ]
  },
  {
   "cell_type": "code",
   "execution_count": null,
   "id": "47041a48-45ab-4616-95cd-68e932729b50",
   "metadata": {},
   "outputs": [],
   "source": [
    "for name in real_names: #must we set the variable 'name'?\n",
    "    print(f\"{name.upper()} is a Marvel superhero! Wooo\")\n",
    "    print('-'*50)"
   ]
  },
  {
   "attachments": {},
   "cell_type": "markdown",
   "id": "dbb5c608",
   "metadata": {},
   "source": [
    "## 1.2 for with enumerate"
   ]
  },
  {
   "cell_type": "code",
   "execution_count": 1,
   "id": "b519409b-c6d4-4896-9c2d-967548d56f27",
   "metadata": {},
   "outputs": [],
   "source": [
    "super_names = [\"Black Widow\", \"Iron Man\", \"Doctor Strange\"]\n",
    "real_names = [\"Natasha Romanoff\", \"Tony Stark\", \"Stephen Strange\"]"
   ]
  },
  {
   "cell_type": "code",
   "execution_count": null,
   "id": "2684850d-cf33-460d-b4bb-baadf7d4d777",
   "metadata": {},
   "outputs": [],
   "source": [
    "count = 1 #specify count start from 1\n",
    "for name in real_names:\n",
    "    print(f\"{count}:{name.upper()} is a Marvel superhero! Wooo\") #adding of {count}\n",
    "    count += 1 #telling it to count up everytime it prints\n",
    "#if want count how many times"
   ]
  },
  {
   "cell_type": "code",
   "execution_count": 2,
   "id": "ed6ca492-bb65-4328-8b7c-0b28d51bdc85",
   "metadata": {},
   "outputs": [
    {
     "name": "stdout",
     "output_type": "stream",
     "text": [
      "100: NATASHA ROMANOFF is a Marvel superhero! Yeahhhhh~~\n",
      "101: TONY STARK is a Marvel superhero! Yeahhhhh~~\n",
      "102: STEPHEN STRANGE is a Marvel superhero! Yeahhhhh~~\n"
     ]
    }
   ],
   "source": [
    "#Method 2, adding of enumerate functions\n",
    "for count, name in enumerate(real_names, start = 100): #for loops only accept 1 list. Using enumerate can access both\n",
    "    print(f'{count}: {name.upper()} is a Marvel superhero! Yeahhhhh~~')\n"
   ]
  },
  {
   "cell_type": "code",
   "execution_count": 2,
   "id": "6140efa6-737d-4c60-9ca5-5d759f15ed5d",
   "metadata": {},
   "outputs": [
    {
     "name": "stdout",
     "output_type": "stream",
     "text": [
      "Natasha Romanoff ----> Black Widow ----> Marvel\n",
      "Tony Stark ----> Iron Man ----> Marvel\n",
      "Stephen Strange ----> Doctor Strange ----> Marvel\n"
     ]
    }
   ],
   "source": [
    "super_names = [\"Black Widow\", \"Iron Man\", \"Doctor Strange\"]\n",
    "real_names = [\"Natasha Romanoff\", \"Tony Stark\", \"Stephen Strange\"]\n",
    "universe = ['Marvel'] * 3\n",
    "\n",
    "for index, real_name in enumerate(real_names):\n",
    "    print(real_name,'---->', super_names[index],'---->', universe[index])\n",
    "\n",
    "#enumerate counts from 0, use that to index the super names.\n",
    "#combining data from many lists"
   ]
  },
  {
   "cell_type": "code",
   "execution_count": null,
   "id": "dbf4816a-117f-484c-af69-7787aee6dd46",
   "metadata": {},
   "outputs": [],
   "source": [
    "for index, name in enumerate(real_names):\n",
    "    superhero_name = super_names[index]\n",
    "    print(f'{name} is {superhero_name}!')"
   ]
  },
  {
   "cell_type": "code",
   "execution_count": null,
   "id": "30233534-6e8c-4356-ad63-93022e4cf0e8",
   "metadata": {},
   "outputs": [],
   "source": [
    "for index in [0, 1, 2]:\n",
    "    print(real_names[index],'---->', super_names[index],'---->', universe[index])\n",
    "\n",
    "for index in range(3): #stop by 3rd index\n",
    "    print(real_names[index],'---->', super_names[index],'---->', universe[index])"
   ]
  },
  {
   "attachments": {},
   "cell_type": "markdown",
   "id": "2ef23dd2",
   "metadata": {},
   "source": [
    "## 1.3 for with range"
   ]
  },
  {
   "cell_type": "code",
   "execution_count": 1,
   "id": "25a0a5d1-5c81-48f5-a2e0-879cc7437097",
   "metadata": {},
   "outputs": [
    {
     "name": "stdout",
     "output_type": "stream",
     "text": [
      "0\n",
      "1\n",
      "2\n",
      "3\n",
      "4\n",
      "5\n",
      "6\n",
      "7\n",
      "8\n",
      "9\n",
      "1\n",
      "4\n",
      "7\n"
     ]
    }
   ],
   "source": [
    "for i in range(5): #let the for loop run the stated number of time in ()\n",
    "    print(i)\n",
    "\n",
    "for i in range(5,10): #can alter start and end values\n",
    "    print(i)\n",
    "\n",
    "for i in range(1, 10, 3): #altering interval, last digit is the interval\n",
    "    print(i)"
   ]
  },
  {
   "cell_type": "code",
   "execution_count": 3,
   "id": "22dea390-b146-4175-91bb-fa986c35e9fd",
   "metadata": {},
   "outputs": [
    {
     "name": "stdout",
     "output_type": "stream",
     "text": [
      "Natasha Romanoff is Marvel's Black Widow!\n",
      "Tony Stark is Marvel's Iron Man!\n",
      "Stephen Strange is Marvel's Doctor Strange!\n"
     ]
    }
   ],
   "source": [
    "for i in range(len(real_names)):\n",
    "    real_name = real_names[i]\n",
    "    super_name = super_names[i]        \n",
    "    print(f\"{real_name} is Marvel's {super_name}!\")"
   ]
  },
  {
   "attachments": {},
   "cell_type": "markdown",
   "id": "f0c1303f",
   "metadata": {},
   "source": [
    "# 2 while"
   ]
  },
  {
   "cell_type": "code",
   "execution_count": null,
   "id": "325d0187-a375-4194-a29b-22199ae4ea24",
   "metadata": {},
   "outputs": [],
   "source": [
    "number = 0\n",
    "\n",
    "while number < 5:\n",
    "    print(number)\n",
    "    number += 1\n",
    "\n",
    "#keeps on running until a condition it met"
   ]
  }
 ],
 "metadata": {
  "kernelspec": {
   "display_name": "Python 3 (ipykernel)",
   "language": "python",
   "name": "python3"
  },
  "language_info": {
   "codemirror_mode": {
    "name": "ipython",
    "version": 3
   },
   "file_extension": ".py",
   "mimetype": "text/x-python",
   "name": "python",
   "nbconvert_exporter": "python",
   "pygments_lexer": "ipython3",
   "version": "3.12.3"
  },
  "toc": {
   "base_numbering": 1,
   "nav_menu": {},
   "number_sections": true,
   "sideBar": true,
   "skip_h1_title": false,
   "title_cell": "Table of Contents",
   "title_sidebar": "Contents",
   "toc_cell": false,
   "toc_position": {},
   "toc_section_display": true,
   "toc_window_display": false
  },
  "vscode": {
   "interpreter": {
    "hash": "31f2aee4e71d21fbe5cf8b01ff0e069b9275f58929596ceb00d14d90e3e16cd6"
   }
  }
 },
 "nbformat": 4,
 "nbformat_minor": 5
}
