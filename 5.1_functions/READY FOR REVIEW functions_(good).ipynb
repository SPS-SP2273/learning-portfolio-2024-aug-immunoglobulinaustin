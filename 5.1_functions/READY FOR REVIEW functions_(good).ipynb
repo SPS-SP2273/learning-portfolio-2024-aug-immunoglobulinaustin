{
 "cells": [
  {
   "attachments": {},
   "cell_type": "markdown",
   "id": "123456",
   "metadata": {},
   "source": [
    "<div style=\"text-align:left;font-size:2em\"><span style=\"font-weight:bolder;font-size:1.25em\">SP2273 | Learning Portfolio</span><br><br><span style=\"font-weight:bold;color:darkred\">Functions (Good)</span></div>"
   ]
  },
  {
   "attachments": {},
   "cell_type": "markdown",
   "id": "8ce5ca5a",
   "metadata": {},
   "source": [
    "# What to expect in this chapter"
   ]
  },
  {
   "attachments": {},
   "cell_type": "markdown",
   "id": "95d86ab9",
   "metadata": {},
   "source": [
    "# 1 Checks, balances, and contingencies"
   ]
  },
  {
   "attachments": {},
   "cell_type": "markdown",
   "id": "43cc2bfd",
   "metadata": {},
   "source": [
    "## 1.1 assert"
   ]
  },
  {
   "cell_type": "code",
   "execution_count": 11,
   "id": "6ce2685e-a70f-4b61-934b-79a588e87b93",
   "metadata": {},
   "outputs": [
    {
     "name": "stdin",
     "output_type": "stream",
     "text": [
      "What is your age 1\n"
     ]
    },
    {
     "name": "stdout",
     "output_type": "stream",
     "text": [
      "2\n"
     ]
    }
   ],
   "source": [
    "age = input('What is your age')\n",
    "age = int(age)\n",
    "assert type(age) == int, \"Age must be a number\" #asking py to check the type of data\n",
    "print(age*2) #Doesn't makes sense"
   ]
  },
  {
   "cell_type": "code",
   "execution_count": 1,
   "id": "d8b20994-67dd-4eca-aef1-461c878ee943",
   "metadata": {},
   "outputs": [
    {
     "ename": "SyntaxError",
     "evalue": "incomplete input (2879161000.py, line 3)",
     "output_type": "error",
     "traceback": [
      "\u001b[1;36m  Cell \u001b[1;32mIn[1], line 3\u001b[1;36m\u001b[0m\n\u001b[1;33m    print(age*2)\u001b[0m\n\u001b[1;37m                ^\u001b[0m\n\u001b[1;31mSyntaxError\u001b[0m\u001b[1;31m:\u001b[0m incomplete input\n"
     ]
    }
   ],
   "source": [
    "age = input('What is your age?')\n",
    "try:\n",
    "    print(age*2)"
   ]
  },
  {
   "attachments": {},
   "cell_type": "markdown",
   "id": "a9495066",
   "metadata": {},
   "source": [
    "## 1.2 try-except"
   ]
  },
  {
   "cell_type": "code",
   "execution_count": 12,
   "id": "8d6594e7-9924-4cc1-bc74-340881ce85d1",
   "metadata": {},
   "outputs": [
    {
     "name": "stdin",
     "output_type": "stream",
     "text": [
      "Give me a number and I will calculate its square. 1\n"
     ]
    },
    {
     "name": "stdout",
     "output_type": "stream",
     "text": [
      "The square of 1 is 1!\n"
     ]
    }
   ],
   "source": [
    "number=input(\"Give me a number and I will calculate its square.\")\n",
    "square=int(number)**2              # Convert English to number\n",
    "print(f'The square of {number} is {square}!')"
   ]
  },
  {
   "cell_type": "code",
   "execution_count": 15,
   "id": "1f7e98df-822e-4d77-b335-13913b250ae0",
   "metadata": {},
   "outputs": [
    {
     "name": "stdin",
     "output_type": "stream",
     "text": [
      "Give me a number and I will calculate its square. 10, 20\n"
     ]
    },
    {
     "name": "stdout",
     "output_type": "stream",
     "text": [
      "Oh oh! I cannot square 10, 20!\n"
     ]
    }
   ],
   "source": [
    "try:\n",
    "    number=input(\"Give me a number and I will calculate its square.\")\n",
    "    square=int(number)**2\n",
    "    print(f'The square of {number} is {square}!')\n",
    "except:\n",
    "    print(f\"Oh oh! I cannot square {number}!\")"
   ]
  },
  {
   "cell_type": "code",
   "execution_count": 16,
   "id": "f9478247-04f8-484c-8d38-9b72bfbeaa7a",
   "metadata": {},
   "outputs": [
    {
     "name": "stdin",
     "output_type": "stream",
     "text": [
      "Give me a number and I will calculate its square. 20\n"
     ]
    },
    {
     "name": "stdout",
     "output_type": "stream",
     "text": [
      "Oh oh! I cannot square 20!\n"
     ]
    }
   ],
   "source": [
    "#always unsuccessful if never convert to integer.\n",
    "number=input(\"Give me a number and I will calculate its square.\")\n",
    "try:\n",
    "    square=(number)**2 #removed int here \n",
    "    print(f'The square of {number} is {square}!')\n",
    "except: #you can pick the error you want to error\n",
    "    print(f\"Oh oh! I cannot square {number}!\")\n",
    "\n",
    "#except: ZeroDivisionError\n",
    "#except: AssertionError "
   ]
  },
  {
   "attachments": {},
   "cell_type": "markdown",
   "id": "a452c94d",
   "metadata": {},
   "source": [
    "## 1.3 A simple suggestion"
   ]
  },
  {
   "attachments": {},
   "cell_type": "markdown",
   "id": "e564a654",
   "metadata": {},
   "source": [
    "# 2 Some loose ends"
   ]
  },
  {
   "attachments": {},
   "cell_type": "markdown",
   "id": "bcc5e64b",
   "metadata": {},
   "source": [
    "## 2.1 Positional, keyword and default arguments"
   ]
  },
  {
   "cell_type": "code",
   "execution_count": 27,
   "id": "b07feaf6-3838-421a-a6b3-f1fa8fe4bd0b",
   "metadata": {},
   "outputs": [],
   "source": [
    "def side_by_side(a, b, c=42): #c argument is optional, if dont give c, by default it will be 42\n",
    "    return f'{a: 2d}|{b: 2d}|{c: 2d}' #only accepts 3 values"
   ]
  },
  {
   "cell_type": "code",
   "execution_count": 24,
   "id": "93028fde-3f49-480a-a232-5eb34e8ac4c6",
   "metadata": {},
   "outputs": [
    {
     "ename": "SyntaxError",
     "evalue": "positional argument follows keyword argument (1511969883.py, line 1)",
     "output_type": "error",
     "traceback": [
      "\u001b[1;36m  Cell \u001b[1;32mIn[24], line 1\u001b[1;36m\u001b[0m\n\u001b[1;33m    side_by_side(b=1, 2) #need specify both\u001b[0m\n\u001b[1;37m                       ^\u001b[0m\n\u001b[1;31mSyntaxError\u001b[0m\u001b[1;31m:\u001b[0m positional argument follows keyword argument\n"
     ]
    }
   ],
   "source": [
    "side_by_side(b=1, 2) #need specify both"
   ]
  },
  {
   "attachments": {},
   "cell_type": "markdown",
   "id": "964e7aad",
   "metadata": {},
   "source": [
    "## 2.2 Docstrings"
   ]
  },
  {
   "cell_type": "code",
   "execution_count": 31,
   "id": "245c9e39-23c7-4fd7-82e1-2abe7931f570",
   "metadata": {},
   "outputs": [],
   "source": [
    "def side_by_side(a, b, c=42): #c argument is optional, if dont give c, by default it will be 42\n",
    "    ''' known as a docstrings. Can describe how the function is used when you type help(side_by_side)\n",
    "    This is a description test\n",
    "    '''\n",
    "    return f'{a: 2d}|{b: 2d}|{c: 2d}' #only accepts 3 values"
   ]
  },
  {
   "cell_type": "code",
   "execution_count": 32,
   "id": "1948d02e-5860-4e6c-bdc1-bb646532847f",
   "metadata": {},
   "outputs": [
    {
     "name": "stdout",
     "output_type": "stream",
     "text": [
      "Help on function side_by_side in module __main__:\n",
      "\n",
      "side_by_side(a, b, c=42)\n",
      "    known as a docstrings. Can describe how the function is used when you type help(side_by_side)\n",
      "    This is a description test\n",
      "\n"
     ]
    }
   ],
   "source": [
    "help(side_by_side)"
   ]
  },
  {
   "attachments": {},
   "cell_type": "markdown",
   "id": "f43dfb1d",
   "metadata": {},
   "source": [
    "## 2.3 Function are first-class citizens"
   ]
  },
  {
   "cell_type": "code",
   "execution_count": 34,
   "id": "4a8e0310-8935-4435-9706-0fa8cfa8a2bd",
   "metadata": {},
   "outputs": [
    {
     "data": {
      "text/plain": [
       "np.float64(1.0)"
      ]
     },
     "execution_count": 34,
     "metadata": {},
     "output_type": "execute_result"
    }
   ],
   "source": [
    "import numpy as np\n",
    "def my_function(angle, trig_function):\n",
    "        return trig_function(angle)\n",
    "\n",
    "my_function(np.pi/2, np.cos)\n",
    "my_function(np.pi/2, np.sin)"
   ]
  },
  {
   "attachments": {},
   "cell_type": "markdown",
   "id": "b2e8382c",
   "metadata": {},
   "source": [
    "## 2.4 More about unpacking"
   ]
  },
  {
   "cell_type": "code",
   "execution_count": 36,
   "id": "90679ba4-f6df-4e61-a82c-4d7e7c7024f8",
   "metadata": {},
   "outputs": [
    {
     "name": "stdout",
     "output_type": "stream",
     "text": [
      "x=1, y=[0, 2, 4], z=3\n"
     ]
    }
   ],
   "source": [
    "x, y, z = [1, 2, 3]\n",
    "print(f'{x=}, {y=}, {z=}')"
   ]
  },
  {
   "cell_type": "code",
   "execution_count": 7,
   "id": "3d2bbd98-4969-4519-817c-9e8d6a42a580",
   "metadata": {},
   "outputs": [
    {
     "name": "stdout",
     "output_type": "stream",
     "text": [
      "x=1, [2, 2, 2], z=3\n"
     ]
    }
   ],
   "source": [
    "x, *_, z = [1, 2, 2, 2, 3] #unpack first element into x, last into z, and anything inbetween into _\n",
    "print(f'{x=}, {_}, {z=}')"
   ]
  },
  {
   "cell_type": "code",
   "execution_count": null,
   "id": "8cd4b3ac-9305-4afb-bb17-cccd530b8e57",
   "metadata": {},
   "outputs": [],
   "source": [
    "for _ in range(10)"
   ]
  }
 ],
 "metadata": {
  "kernelspec": {
   "display_name": "Python 3 (ipykernel)",
   "language": "python",
   "name": "python3"
  },
  "language_info": {
   "codemirror_mode": {
    "name": "ipython",
    "version": 3
   },
   "file_extension": ".py",
   "mimetype": "text/x-python",
   "name": "python",
   "nbconvert_exporter": "python",
   "pygments_lexer": "ipython3",
   "version": "3.12.3"
  },
  "toc": {
   "base_numbering": 1,
   "nav_menu": {},
   "number_sections": true,
   "sideBar": true,
   "skip_h1_title": false,
   "title_cell": "Table of Contents",
   "title_sidebar": "Contents",
   "toc_cell": false,
   "toc_position": {},
   "toc_section_display": true,
   "toc_window_display": false
  },
  "vscode": {
   "interpreter": {
    "hash": "31f2aee4e71d21fbe5cf8b01ff0e069b9275f58929596ceb00d14d90e3e16cd6"
   }
  }
 },
 "nbformat": 4,
 "nbformat_minor": 5
}
