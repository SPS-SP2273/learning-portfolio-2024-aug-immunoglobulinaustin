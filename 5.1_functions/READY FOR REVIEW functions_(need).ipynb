{
 "cells": [
  {
   "attachments": {},
   "cell_type": "markdown",
   "id": "123456",
   "metadata": {},
   "source": [
    "<div style=\"text-align:left;font-size:2em\"><span style=\"font-weight:bolder;font-size:1.25em\">SP2273 | Learning Portfolio</span><br><br><span style=\"font-weight:bold;color:darkred\">Functions (Need)</span></div>"
   ]
  },
  {
   "attachments": {},
   "cell_type": "markdown",
   "id": "455ff87f",
   "metadata": {},
   "source": [
    "# What to expect in this chapter"
   ]
  },
  {
   "cell_type": "code",
   "execution_count": 1,
   "id": "21f02371-07d3-47ba-a3f1-2f5bbf6fa5b6",
   "metadata": {},
   "outputs": [],
   "source": [
    "import numpy as np"
   ]
  },
  {
   "cell_type": "code",
   "execution_count": 4,
   "id": "82941d79-43ef-4560-bd88-597e0b915070",
   "metadata": {},
   "outputs": [
    {
     "name": "stdout",
     "output_type": "stream",
     "text": [
      "Hahaha\n"
     ]
    }
   ],
   "source": [
    "x=print('Hahaha') #does not assign x with print('Haha')"
   ]
  },
  {
   "cell_type": "code",
   "execution_count": 1,
   "id": "03455960-ba3e-48e0-95c5-7d58c212cb5a",
   "metadata": {},
   "outputs": [],
   "source": [
    "y=sum([1, 2]) #return xxxx"
   ]
  },
  {
   "cell_type": "code",
   "execution_count": 3,
   "id": "f3347100-6a4a-446d-98cb-45cc140fb2ee",
   "metadata": {},
   "outputs": [
    {
     "name": "stdout",
     "output_type": "stream",
     "text": [
      "x=None y=3\n"
     ]
    }
   ],
   "source": [
    "print(f'{x=} {y=}')"
   ]
  },
  {
   "attachments": {},
   "cell_type": "markdown",
   "id": "68e9c704",
   "metadata": {},
   "source": [
    "# 1 User-defined functions"
   ]
  },
  {
   "attachments": {},
   "cell_type": "markdown",
   "id": "55b7938d",
   "metadata": {},
   "source": [
    "## 1.1 Named Functions"
   ]
  },
  {
   "attachments": {},
   "cell_type": "markdown",
   "id": "87cce35c",
   "metadata": {},
   "source": [
    "### Named functions that return"
   ]
  },
  {
   "cell_type": "code",
   "execution_count": 14,
   "id": "7d67bc52",
   "metadata": {},
   "outputs": [],
   "source": [
    "def greeting(name, sidekick): #2 arguments are required to run the function\n",
    "    if name == 'Batman':\n",
    "        return 'Hello Batman! So, nice to meet you!'\n",
    "    else:\n",
    "        return f'Hello {name}!'\n",
    "\n",
    "#whenever a function sees return, it takes the code afterward and leaves the program"
   ]
  },
  {
   "cell_type": "code",
   "execution_count": 9,
   "id": "b0ab8f79-4c2a-4c68-b76c-39e6c30dfebd",
   "metadata": {},
   "outputs": [
    {
     "data": {
      "text/plain": [
       "'Hello Joker!'"
      ]
     },
     "execution_count": 9,
     "metadata": {},
     "output_type": "execute_result"
    }
   ],
   "source": [
    "name_aba = 'Joker'\n",
    "greeting(name_aba) #takes the name_xx variable, run it through greeting function that was assigned"
   ]
  },
  {
   "cell_type": "code",
   "execution_count": 19,
   "id": "b9de0ea7-d10f-4291-a49f-79a93f0b28a9",
   "metadata": {},
   "outputs": [
    {
     "data": {
      "text/plain": [
       "'Hello Joker!'"
      ]
     },
     "execution_count": 19,
     "metadata": {},
     "output_type": "execute_result"
    }
   ],
   "source": [
    "greeting('Rbbin', 'Joker')\n",
    "#greeting(name='Joker')\n",
    "#order which I give the arguments is impt\n",
    "\n",
    "greeting(name='Joker', sidekick='Robin') #making it explicit"
   ]
  },
  {
   "cell_type": "code",
   "execution_count": 11,
   "id": "a20e39e0-2781-4ada-acef-bb9f2813808d",
   "metadata": {},
   "outputs": [],
   "source": [
    "def basic_stats(numbers):\n",
    "    np_numbers = np.array(numbers)\n",
    "    my_min = np_numbers.min()\n",
    "    my_max = np_numbers.max()\n",
    "    my_mean = np_numbers.mean()\n",
    "    return my_max, my_min, my_mean\n",
    "    #return np.array([my_max, my_min, my_mean]) can use as an array"
   ]
  },
  {
   "cell_type": "code",
   "execution_count": 10,
   "id": "df8c3f31-00de-4fbf-82ce-255fef4ed766",
   "metadata": {},
   "outputs": [
    {
     "data": {
      "text/plain": [
       "[np.int64(5), np.int64(1), np.float64(3.0)]"
      ]
     },
     "execution_count": 10,
     "metadata": {},
     "output_type": "execute_result"
    }
   ],
   "source": [
    "basic_stats([1, 2, 3, 4, 5])"
   ]
  },
  {
   "cell_type": "code",
   "execution_count": 15,
   "id": "6246b597-d12e-422f-9e86-b43b367974d7",
   "metadata": {},
   "outputs": [
    {
     "data": {
      "text/plain": [
       "np.float64(3.0)"
      ]
     },
     "execution_count": 15,
     "metadata": {},
     "output_type": "execute_result"
    }
   ],
   "source": [
    "list_max, list_min, list_mean = basic_stats([1, 2, 3, 4, 5])\n",
    "list_mean"
   ]
  },
  {
   "attachments": {},
   "cell_type": "markdown",
   "id": "42af76a7",
   "metadata": {},
   "source": [
    "### Named functions that don’t return\n",
    "Anonymous functions, it runs and it goes away"
   ]
  },
  {
   "cell_type": "code",
   "execution_count": 16,
   "id": "f146807c",
   "metadata": {},
   "outputs": [],
   "source": [
    "numbers=[[9, 0, -10],\n",
    "         [8, 1, -11],\n",
    "         [7, 2, -12],\n",
    "         [6, 3, -13],\n",
    "         [5, 4, -14],\n",
    "         [4, 5, -15],\n",
    "         [3, 6, -16],\n",
    "         [2, 7, -17],\n",
    "         [1, 8, -18],\n",
    "         [0, 9, -19]]"
   ]
  },
  {
   "cell_type": "code",
   "execution_count": 17,
   "id": "41619a2a-4499-4690-8c84-d81098d0204b",
   "metadata": {},
   "outputs": [
    {
     "data": {
      "text/plain": [
       "[[0, 9, -19],\n",
       " [1, 8, -18],\n",
       " [2, 7, -17],\n",
       " [3, 6, -16],\n",
       " [4, 5, -15],\n",
       " [5, 4, -14],\n",
       " [6, 3, -13],\n",
       " [7, 2, -12],\n",
       " [8, 1, -11],\n",
       " [9, 0, -10]]"
      ]
     },
     "execution_count": 17,
     "metadata": {},
     "output_type": "execute_result"
    }
   ],
   "source": [
    "sorted(numbers) #sort the number based on the first index of each element"
   ]
  },
  {
   "cell_type": "code",
   "execution_count": 31,
   "id": "40f76630-3a46-4dd4-b55c-9a1913ed5262",
   "metadata": {},
   "outputs": [
    {
     "data": {
      "text/plain": [
       "[[9, 0, -10],\n",
       " [8, 1, -11],\n",
       " [7, 2, -12],\n",
       " [6, 3, -13],\n",
       " [5, 4, -14],\n",
       " [4, 5, -15],\n",
       " [3, 6, -16],\n",
       " [2, 7, -17],\n",
       " [1, 8, -18],\n",
       " [0, 9, -19]]"
      ]
     },
     "execution_count": 31,
     "metadata": {},
     "output_type": "execute_result"
    }
   ],
   "source": [
    "def my_sort_function(numbers):\n",
    "    return numbers[0] #can choose which index you want to sort based\n",
    "\n",
    "#def my_sort_function(numbers):\n",
    "#    return sum(numbers) #ask it sort based on sum.\n",
    "\n",
    "sorted(numbers, key=lambda numbers: numbers[1]) #does not have a name, it is a function but only for\n",
    "#sorted(numbers, key=lambda numbers: 'a')"
   ]
  },
  {
   "cell_type": "code",
   "execution_count": 33,
   "id": "529f0900-ad7a-4a7f-942d-bf83bdccfc29",
   "metadata": {},
   "outputs": [],
   "source": [
    "my_short_function = lambda name, sidekick: f\"Hello {name}!\" #can insert 2 arguments"
   ]
  },
  {
   "cell_type": "code",
   "execution_count": 37,
   "id": "3f7623bd-429d-4675-bef5-ac22abc0f152",
   "metadata": {},
   "outputs": [
    {
     "data": {
      "text/plain": [
       "'Hello Super Man!'"
      ]
     },
     "execution_count": 37,
     "metadata": {},
     "output_type": "execute_result"
    }
   ],
   "source": [
    "my_short_function(name=\"Super Man\", sidekick=\"boi\")"
   ]
  },
  {
   "attachments": {},
   "cell_type": "markdown",
   "id": "3acb2c8d",
   "metadata": {},
   "source": [
    "## 1.2 Anonymous functions"
   ]
  },
  {
   "attachments": {},
   "cell_type": "markdown",
   "id": "39561994",
   "metadata": {},
   "source": [
    "## 1.3 Optional arguments"
   ]
  },
  {
   "cell_type": "code",
   "execution_count": 38,
   "id": "2bec0391-f0bc-48f5-a147-263fa4bb1ddd",
   "metadata": {},
   "outputs": [
    {
     "name": "stdout",
     "output_type": "stream",
     "text": [
      "Help on built-in function print in module builtins:\n",
      "\n",
      "print(*args, sep=' ', end='\\n', file=None, flush=False)\n",
      "    Prints the values to a stream, or to sys.stdout by default.\n",
      "\n",
      "    sep\n",
      "      string inserted between values, default a space.\n",
      "    end\n",
      "      string appended after the last value, default a newline.\n",
      "    file\n",
      "      a file-like object (stream); defaults to the current sys.stdout.\n",
      "    flush\n",
      "      whether to forcibly flush the stream.\n",
      "\n"
     ]
    }
   ],
   "source": [
    "help(print)\n",
    "\n",
    "#print(*args, sep=' ', end='\\n', file=None, flush=False), anything after *args is optional argument, no need input"
   ]
  },
  {
   "cell_type": "code",
   "execution_count": 42,
   "id": "4c34627a-a905-4b00-bb1b-42a5ef12ed94",
   "metadata": {},
   "outputs": [],
   "source": [
    "def greeting(name='no one', pre = 'Super'): #optional argument, denoted by =. if want mandated, just put name, pre\n",
    "    if name == 'Batman':\n",
    "        return 'Hello Batman! So, nice to meet you!'\n",
    "    else:\n",
    "        return f'Hello {pre}{name}!'"
   ]
  },
  {
   "cell_type": "code",
   "execution_count": 44,
   "id": "606dc83d-0104-4286-924a-35b4930a5397",
   "metadata": {},
   "outputs": [
    {
     "data": {
      "text/plain": [
       "'Hello SuperRobin!'"
      ]
     },
     "execution_count": 44,
     "metadata": {},
     "output_type": "execute_result"
    }
   ],
   "source": [
    "greeting() #can run without anything\n",
    "greeting('Robin')"
   ]
  },
  {
   "cell_type": "code",
   "execution_count": null,
   "id": "d20414e0-9170-499e-b480-995c08ead6fe",
   "metadata": {},
   "outputs": [],
   "source": [
    "# Using default values\n",
    "print('I', 'am', 'Batman!')\n",
    "# Specifying an optional argument\n",
    "print('I', 'am', 'Batman!', sep='---') #separate spaces with 3 dashes"
   ]
  },
  {
   "attachments": {},
   "cell_type": "markdown",
   "id": "80ea4d68",
   "metadata": {},
   "source": [
    "## 1.4 The importance of functions?"
   ]
  },
  {
   "attachments": {},
   "cell_type": "markdown",
   "id": "fcaa54aa",
   "metadata": {},
   "source": [
    "### An argument for functions"
   ]
  },
  {
   "cell_type": "code",
   "execution_count": null,
   "id": "767c2faa",
   "metadata": {},
   "outputs": [],
   "source": [
    "#only need make change in 1 place (function def portion)\n"
   ]
  },
  {
   "attachments": {},
   "cell_type": "markdown",
   "id": "589fdaf1",
   "metadata": {},
   "source": [
    "### A word of caution"
   ]
  },
  {
   "cell_type": "code",
   "execution_count": null,
   "id": "dd32576f",
   "metadata": {},
   "outputs": [],
   "source": [
    "#function should only do 1 function"
   ]
  }
 ],
 "metadata": {
  "kernelspec": {
   "display_name": "Python 3 (ipykernel)",
   "language": "python",
   "name": "python3"
  },
  "language_info": {
   "codemirror_mode": {
    "name": "ipython",
    "version": 3
   },
   "file_extension": ".py",
   "mimetype": "text/x-python",
   "name": "python",
   "nbconvert_exporter": "python",
   "pygments_lexer": "ipython3",
   "version": "3.12.3"
  },
  "toc": {
   "base_numbering": 1,
   "nav_menu": {},
   "number_sections": true,
   "sideBar": true,
   "skip_h1_title": false,
   "title_cell": "Table of Contents",
   "title_sidebar": "Contents",
   "toc_cell": false,
   "toc_position": {},
   "toc_section_display": true,
   "toc_window_display": false
  },
  "vscode": {
   "interpreter": {
    "hash": "31f2aee4e71d21fbe5cf8b01ff0e069b9275f58929596ceb00d14d90e3e16cd6"
   }
  }
 },
 "nbformat": 4,
 "nbformat_minor": 5
}
