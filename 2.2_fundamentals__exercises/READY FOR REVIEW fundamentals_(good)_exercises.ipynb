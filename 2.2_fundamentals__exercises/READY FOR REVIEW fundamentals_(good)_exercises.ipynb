{
 "cells": [
  {
   "attachments": {},
   "cell_type": "markdown",
   "id": "123456",
   "metadata": {},
   "source": [
    "<div style=\"text-align:left;font-size:2em\"><span style=\"font-weight:bolder;font-size:1.25em\">SP2273 | Learning Portfolio</span><br><br><span style=\"font-weight:bold;color:darkred\">Fundamentals (Good) Exercises</span></div>"
   ]
  },
  {
   "cell_type": "markdown",
   "id": "0dd11675-0f5d-4ec5-8e98-765bef4287c7",
   "metadata": {},
   "source": [
    "# Exercise 1 (f-strings to the rescue)"
   ]
  },
  {
   "cell_type": "code",
   "execution_count": 3,
   "id": "fc0582d5-61b2-4c28-9895-6dc042586336",
   "metadata": {},
   "outputs": [
    {
     "name": "stdout",
     "output_type": "stream",
     "text": [
      "How you doin AUSTIN!\n"
     ]
    }
   ],
   "source": [
    "#Task 1\n",
    "name = 'Austin'\n",
    "print(f'How you doin {name.upper()}!')"
   ]
  },
  {
   "cell_type": "code",
   "execution_count": 5,
   "id": "6d8c9920-9ec9-4b80-84ab-7e03e313bf1e",
   "metadata": {},
   "outputs": [
    {
     "name": "stdout",
     "output_type": "stream",
     "text": [
      "My name is AUSTIN and I am 23 years old.\n"
     ]
    }
   ],
   "source": [
    "#Task 2\n",
    "name = 'Austin'\n",
    "age = '23'\n",
    "print(f'My name is {name.upper()} and I am {age} years old.')"
   ]
  },
  {
   "cell_type": "code",
   "execution_count": 9,
   "id": "87773e4e-dcba-4434-8b70-ad9bcbed0913",
   "metadata": {},
   "outputs": [
    {
     "name": "stdout",
     "output_type": "stream",
     "text": [
      "The value of pi to 2 decimal places is: 3.14\n",
      "The value of pi to 2 decimal places is: 3.142\n",
      "The value of pi to 2 decimal places is: 3.1416\n"
     ]
    }
   ],
   "source": [
    "#Task 3\n",
    "pi = 3.141592653589793\n",
    "print(f'The value of pi to 2 decimal places is: {pi:.2f}')\n",
    "print(f'The value of pi to 2 decimal places is: {pi:.3f}') #not sure if this is correct?\n",
    "print(f'The value of pi to 2 decimal places is: {pi:.4f}') #not sure if this is correct?"
   ]
  },
  {
   "cell_type": "code",
   "execution_count": 22,
   "id": "4a9ac4d4-1242-44ae-a426-4dd40eb37820",
   "metadata": {},
   "outputs": [
    {
     "name": "stdout",
     "output_type": "stream",
     "text": [
      "Apple      $ 0.99\n",
      "Banana     $ 0.59\n",
      "Orange     $ 1.29\n"
     ]
    }
   ],
   "source": [
    "x, y, z = \"Apple\", \"Banana\", \"Orange\"\n",
    "xp, yp, zp = 0.99, 0.59, 1.29\n",
    "\n",
    "print(f'{x:10} ${xp:5}\\n{y:10} ${yp:5}\\n{z:10} ${zp:5}')"
   ]
  },
  {
   "cell_type": "markdown",
   "id": "98dee751-47a0-487d-88bf-815ee6661636",
   "metadata": {},
   "source": [
    "# Exercise 2 (What is your grade?)\n",
    "Write a Python program that takes a numerical grade (0-100) as input and outputs the corresponding letter grade based on the following criteria:\n",
    "| Grade | Score Range |   |   |   |\n",
    "|-------|-------------|---|---|---|\n",
    "| A     | 70 - 100    |   |   |   |\n",
    "| B     | 50 - 69     |   |   |   |\n",
    "| C     | 35 - 49     |   |   |   |\n",
    "| Fail  | 0 - 34      |   |   |   |"
   ]
  },
  {
   "cell_type": "code",
   "execution_count": 20,
   "id": "8b35e249-8407-4326-a83a-5987d8deffa5",
   "metadata": {},
   "outputs": [
    {
     "name": "stdin",
     "output_type": "stream",
     "text": [
      "What is your score? 85\n"
     ]
    },
    {
     "name": "stdout",
     "output_type": "stream",
     "text": [
      "Enter the student's score: 85\n",
      "The student's letter grade is: A\n"
     ]
    }
   ],
   "source": [
    "x = int(input('What is your score?')) #using int(input())\n",
    "grade = '' #Have to put the variable here, in order for the bottom parts to assign to it\n",
    "\n",
    "if 70 <= x <= 100:\n",
    "    grade = 'A'\n",
    "elif 50 <= x <= 69:\n",
    "    grade = 'B'\n",
    "elif 35 <= x <= 49:\n",
    "    grade = 'C'\n",
    "elif 0 <= x <= 34:\n",
    "    grade = 'Fail'\n",
    "else:\n",
    "    grade = 'Invalid, try again >:(' #Handling invalid responses gracefully\n",
    "\n",
    "print(f\"Enter the student's score: {x}\\nThe student's letter grade is: {grade}\")"
   ]
  },
  {
   "cell_type": "markdown",
   "id": "1f08e6e2-a43c-4e70-85ca-a07d60e6aaab",
   "metadata": {},
   "source": [
    "```\n",
    "# Wrong solution, ignore this\n",
    "x = 75 #Insert student's score\n",
    "grade = ''\n",
    "\n",
    "# Do not have to put 'x =='. you're kind of defining the parameters of x already.\n",
    "if x == 70 <= x <= 100:\n",
    "    grade = 'A'\n",
    "elif x == 50 <= x <= 69:\n",
    "    grade = 'B'\n",
    "elif x == 35 <= x <= 49:\n",
    "    grade = 'C'\n",
    "else:\n",
    "    print('Fail')\n",
    "\n",
    "print(f\"Enter the student's score: {x}\\nThe student's letter grade is: {grade}\") #why is the grade variable not being set?\n",
    "```"
   ]
  },
  {
   "cell_type": "markdown",
   "id": "20cde617-8e01-4db7-a8fe-5df5b7cf39c1",
   "metadata": {},
   "source": [
    "# Excerise 3"
   ]
  },
  {
   "cell_type": "code",
   "execution_count": 22,
   "id": "6c5972df-3996-4143-a6eb-19d7b3c414c8",
   "metadata": {},
   "outputs": [
    {
     "name": "stdout",
     "output_type": "stream",
     "text": [
      "120\n",
      "Invalid input\n"
     ]
    }
   ],
   "source": [
    "def factorial(n):\n",
    "    if n <= 0: #fixed, negative no longer generaetes valid input\n",
    "        return \"Invalid input\"\n",
    "    elif n == 0: #As 0! is =1, you're telling it to give 1 when n is 0\n",
    "        return 1\n",
    "    else:\n",
    "        result = 1 \n",
    "        for number in range(1, n+1): #upper limit will not be counted. Take upper - lower limit gives you the position it will carry on.\n",
    "            result *= number #change + to *, as factorial uses multiplication\n",
    "        return result\n",
    "\n",
    "\n",
    "print(factorial(5))   # Testing, expected output: 120\n",
    "print(factorial(-1))  # Testing, expected output: Invalid input"
   ]
  }
 ],
 "metadata": {
  "kernelspec": {
   "display_name": "Python 3 (ipykernel)",
   "language": "python",
   "name": "python3"
  },
  "language_info": {
   "codemirror_mode": {
    "name": "ipython",
    "version": 3
   },
   "file_extension": ".py",
   "mimetype": "text/x-python",
   "name": "python",
   "nbconvert_exporter": "python",
   "pygments_lexer": "ipython3",
   "version": "3.12.3"
  },
  "toc": {
   "base_numbering": 1,
   "nav_menu": {},
   "number_sections": true,
   "sideBar": true,
   "skip_h1_title": false,
   "title_cell": "Table of Contents",
   "title_sidebar": "Contents",
   "toc_cell": false,
   "toc_position": {},
   "toc_section_display": true,
   "toc_window_display": false
  },
  "vscode": {
   "interpreter": {
    "hash": "31f2aee4e71d21fbe5cf8b01ff0e069b9275f58929596ceb00d14d90e3e16cd6"
   }
  }
 },
 "nbformat": 4,
 "nbformat_minor": 5
}
