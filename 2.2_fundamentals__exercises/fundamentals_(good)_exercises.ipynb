{
 "cells": [
  {
   "attachments": {},
   "cell_type": "markdown",
   "id": "123456",
   "metadata": {},
   "source": [
    "<div style=\"text-align:left;font-size:2em\"><span style=\"font-weight:bolder;font-size:1.25em\">SP2273 | Learning Portfolio</span><br><br><span style=\"font-weight:bold;color:darkred\">Fundamentals (Good) Exercises</span></div>"
   ]
  },
  {
   "cell_type": "markdown",
   "id": "0dd11675-0f5d-4ec5-8e98-765bef4287c7",
   "metadata": {},
   "source": [
    "# Exercise 1 (f-strings to the rescue)"
   ]
  },
  {
   "cell_type": "code",
   "execution_count": 3,
   "id": "fc0582d5-61b2-4c28-9895-6dc042586336",
   "metadata": {},
   "outputs": [
    {
     "name": "stdout",
     "output_type": "stream",
     "text": [
      "How you doin AUSTIN!\n"
     ]
    }
   ],
   "source": [
    "#Task 1\n",
    "name = 'Austin'\n",
    "print(f'How you doin {name.upper()}!')"
   ]
  },
  {
   "cell_type": "code",
   "execution_count": 5,
   "id": "6d8c9920-9ec9-4b80-84ab-7e03e313bf1e",
   "metadata": {},
   "outputs": [
    {
     "name": "stdout",
     "output_type": "stream",
     "text": [
      "My name is AUSTIN and I am 23 years old.\n"
     ]
    }
   ],
   "source": [
    "#Task 2\n",
    "name = 'Austin'\n",
    "age = '23'\n",
    "print(f'My name is {name.upper()} and I am {age} years old.')"
   ]
  },
  {
   "cell_type": "code",
   "execution_count": 9,
   "id": "87773e4e-dcba-4434-8b70-ad9bcbed0913",
   "metadata": {},
   "outputs": [
    {
     "name": "stdout",
     "output_type": "stream",
     "text": [
      "The value of pi to 2 decimal places is: 3.14\n",
      "The value of pi to 2 decimal places is: 3.142\n",
      "The value of pi to 2 decimal places is: 3.1416\n"
     ]
    }
   ],
   "source": [
    "#Task 3\n",
    "pi = 3.141592653589793\n",
    "print(f'The value of pi to 2 decimal places is: {pi:.2f}')\n",
    "print(f'The value of pi to 2 decimal places is: {pi:.3f}') #not sure if this is correct?\n",
    "print(f'The value of pi to 2 decimal places is: {pi:.4f}') #not sure if this is correct?"
   ]
  },
  {
   "cell_type": "code",
   "execution_count": 22,
   "id": "4a9ac4d4-1242-44ae-a426-4dd40eb37820",
   "metadata": {},
   "outputs": [
    {
     "name": "stdout",
     "output_type": "stream",
     "text": [
      "Apple      $ 0.99\n",
      "Banana     $ 0.59\n",
      "Orange     $ 1.29\n"
     ]
    }
   ],
   "source": [
    "x, y, z = \"Apple\", \"Banana\", \"Orange\"\n",
    "xp, yp, zp = 0.99, 0.59, 1.29\n",
    "\n",
    "print(f'{x:10} ${xp:5}\\n{y:10} ${yp:5}\\n{z:10} ${zp:5}')"
   ]
  },
  {
   "cell_type": "code",
   "execution_count": null,
   "id": "4bbc0dd2-5c5e-43f0-9c17-3597ab39321d",
   "metadata": {},
   "outputs": [],
   "source": []
  }
 ],
 "metadata": {
  "kernelspec": {
   "display_name": "Python 3 (ipykernel)",
   "language": "python",
   "name": "python3"
  },
  "language_info": {
   "codemirror_mode": {
    "name": "ipython",
    "version": 3
   },
   "file_extension": ".py",
   "mimetype": "text/x-python",
   "name": "python",
   "nbconvert_exporter": "python",
   "pygments_lexer": "ipython3",
   "version": "3.12.3"
  },
  "toc": {
   "base_numbering": 1,
   "nav_menu": {},
   "number_sections": true,
   "sideBar": true,
   "skip_h1_title": false,
   "title_cell": "Table of Contents",
   "title_sidebar": "Contents",
   "toc_cell": false,
   "toc_position": {},
   "toc_section_display": true,
   "toc_window_display": false
  },
  "vscode": {
   "interpreter": {
    "hash": "31f2aee4e71d21fbe5cf8b01ff0e069b9275f58929596ceb00d14d90e3e16cd6"
   }
  }
 },
 "nbformat": 4,
 "nbformat_minor": 5
}
