{
 "cells": [
  {
   "attachments": {},
   "cell_type": "markdown",
   "id": "123456",
   "metadata": {},
   "source": [
    "<div style=\"text-align:left;font-size:2em\"><span style=\"font-weight:bolder;font-size:1.25em\">SP2273 | Learning Portfolio</span><br><br><span style=\"font-weight:bold;color:darkred\">Fundamentals (Need) Exercises</span></div>"
   ]
  },
  {
   "cell_type": "markdown",
   "id": "44a99885-e9d4-48cc-a223-1092fc765fc2",
   "metadata": {},
   "source": [
    "```python\n",
    "#Basic syntax\n",
    "\n",
    "*\n",
    "** Bold **\n",
    "* Italic *\n",
    "*** All bold and italic ***\n",
    "<sub> Subscript </sub>\n",
    "<sup> Superscript </sup>\n",
    "*\n",
    "\n",
    "\n",
    "print()\n",
    "%timeit\n",
    "%%timeit\n",
    "\n",
    "[This is immunoglobulin and B cell development](https://oncologypro.esmo.org/education-library/esmo-books/essentials-for-clinicians/lymphomas/immunoglobulins-and-b-cell-development)\n",
    "\n",
    "![Immunoglobulin Structure](https://oncologypro.esmo.org/var/esmo/storage/images/media/oncologypro/oncologypro-images/essentials-for-clinicians/lymphomas/chapter1/antibody-structure-figure-4/320686-8-eng-GB/antibody-structure-figure-4.png)\n",
    "\n",
    "name = 'Fatty'{\n",
    "if name == 'Fatty'\n",
    "    print('Hello fatty')\n",
    "}else{\n",
    "    print('Not Fatty')}\n",
    "\n",
    "import math\n",
    "import numpy as np\n",
    "\n",
    "#usage of .\n",
    "math.sqrt(4)\n",
    "np.sqrt(4)\n",
    "'This is testing my memory'.split() #cannot do it for numericals\n",
    "\n",
    "=\n",
    "\n",
    "_ == #Telling you if your variable is exactly the same, true or false response. Used for if else functions _\n",
    "\n",
    "#backets\n",
    "[] #- Used for list of data\n",
    "{} #- Store data in dictionary\n",
    "() #- Math and py functions\n",
    "\n",
    "``"
   ]
  }
 ],
 "metadata": {
  "kernelspec": {
   "display_name": "Python 3 (ipykernel)",
   "language": "python",
   "name": "python3"
  },
  "language_info": {
   "codemirror_mode": {
    "name": "ipython",
    "version": 3
   },
   "file_extension": ".py",
   "mimetype": "text/x-python",
   "name": "python",
   "nbconvert_exporter": "python",
   "pygments_lexer": "ipython3",
   "version": "3.12.3"
  },
  "toc": {
   "base_numbering": 1,
   "nav_menu": {},
   "number_sections": true,
   "sideBar": true,
   "skip_h1_title": false,
   "title_cell": "Table of Contents",
   "title_sidebar": "Contents",
   "toc_cell": false,
   "toc_position": {},
   "toc_section_display": true,
   "toc_window_display": false
  },
  "vscode": {
   "interpreter": {
    "hash": "31f2aee4e71d21fbe5cf8b01ff0e069b9275f58929596ceb00d14d90e3e16cd6"
   }
  }
 },
 "nbformat": 4,
 "nbformat_minor": 5
}
