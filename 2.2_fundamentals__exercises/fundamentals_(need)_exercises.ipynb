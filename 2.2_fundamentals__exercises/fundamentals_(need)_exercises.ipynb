{
 "cells": [
  {
   "attachments": {},
   "cell_type": "markdown",
   "id": "123456",
   "metadata": {},
   "source": [
    "<div style=\"text-align:left;font-size:2em\"><span style=\"font-weight:bolder;font-size:1.25em\">SP2273 | Learning Portfolio</span><br><br><span style=\"font-weight:bold;color:darkred\">Fundamentals (Need) Exercises</span></div>"
   ]
  },
  {
   "cell_type": "markdown",
   "id": "9c8195e8-4199-4ac9-be01-c12cba38fa14",
   "metadata": {},
   "source": [
    "# Exercise 1"
   ]
  },
  {
   "cell_type": "markdown",
   "id": "44a99885-e9d4-48cc-a223-1092fc765fc2",
   "metadata": {},
   "source": [
    "Basic synthax\n",
    "\n",
    "**Bold**, *Italic*, ***All bold and italic***, <sub> Subscript </sub>, <sup> Superscript </sup>\n",
    "\n",
    "```print()```\n",
    "\n",
    "``` %timeit ```\n",
    "\n",
    "```%%timeit``` #more for code optimisation\n",
    "\n",
    "[This is immunoglobulin and B cell development](https://oncologypro.esmo.org/education-library/esmo-books/essentials-for-clinicians/lymphomas/immunoglobulins-and-b-cell-development) #Hyperlinking the texts\n",
    "\n",
    "![Immunoglobulin Structure](https://oncologypro.esmo.org/var/esmo/storage/images/media/oncologypro/oncologypro-images/essentials-for-clinicians/lymphomas/chapter1/antibody-structure-figure-4/320686-8-eng-GB/antibody-structure-figure-4.png) #Inserting images\n",
    "\n",
    "*[Markdown Table Generator](https://www.tablesgenerator.com/markdown_tables)*\n",
    "\n",
    "```{python}\n",
    "name = 'Fatty'{\n",
    "if name == 'Fatty'\n",
    "    print('Hello fatty')\n",
    "}else{\n",
    "    print('Not Fatty')}\n",
    "```\n",
    "\n",
    "```\n",
    "import math\n",
    "import numpy as np\n",
    "```\n",
    "#usage of .\n",
    "\n",
    "```\n",
    "math.sqrt(4)\n",
    "np.sqrt(4)\n",
    "'This is testing my memory'.split() #cannot do it for numericals\n",
    "```\n",
    "\n",
    "*=*\n",
    "\n",
    "*== #Telling you if your variable is exactly the same, true or false response. Used for if else functions*\n",
    "\n",
    "#brackets\n",
    "[] #- Used for list of data\n",
    "{} #- Store data in dictionary\n",
    "() #- Math and py functions\n"
   ]
  },
  {
   "cell_type": "markdown",
   "id": "646020b0-f62e-46cd-8b12-3c1797737bde",
   "metadata": {},
   "source": [
    "# Exercise 2\n",
    "Fix (debug) the following code to create a Pythagorean triple 3, 4, 5 (because 3<sup>2</sup> + 4<sup>2</sup> = 5<sup>2</sup>)."
   ]
  },
  {
   "cell_type": "code",
   "execution_count": 4,
   "id": "a25d1e36-239f-4cb9-a8ec-bd0a02559ae3",
   "metadata": {},
   "outputs": [
    {
     "name": "stdout",
     "output_type": "stream",
     "text": [
      "3 4 2.6457513110645907\n"
     ]
    }
   ],
   "source": [
    "import math\n",
    "\n",
    "x, y = (3, 4)\n",
    "\n",
    "z = math.sqrt(x^2 + y^2)\n",
    "\n",
    "print(x, y, z)"
   ]
  }
 ],
 "metadata": {
  "kernelspec": {
   "display_name": "Python 3 (ipykernel)",
   "language": "python",
   "name": "python3"
  },
  "language_info": {
   "codemirror_mode": {
    "name": "ipython",
    "version": 3
   },
   "file_extension": ".py",
   "mimetype": "text/x-python",
   "name": "python",
   "nbconvert_exporter": "python",
   "pygments_lexer": "ipython3",
   "version": "3.12.3"
  },
  "toc": {
   "base_numbering": 1,
   "nav_menu": {},
   "number_sections": true,
   "sideBar": true,
   "skip_h1_title": false,
   "title_cell": "Table of Contents",
   "title_sidebar": "Contents",
   "toc_cell": false,
   "toc_position": {},
   "toc_section_display": true,
   "toc_window_display": false
  },
  "vscode": {
   "interpreter": {
    "hash": "31f2aee4e71d21fbe5cf8b01ff0e069b9275f58929596ceb00d14d90e3e16cd6"
   }
  }
 },
 "nbformat": 4,
 "nbformat_minor": 5
}
