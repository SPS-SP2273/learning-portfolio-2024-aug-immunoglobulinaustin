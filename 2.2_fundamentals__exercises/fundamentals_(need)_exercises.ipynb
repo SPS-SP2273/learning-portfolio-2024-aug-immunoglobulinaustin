{
 "cells": [
  {
   "attachments": {},
   "cell_type": "markdown",
   "id": "123456",
   "metadata": {},
   "source": [
    "<div style=\"text-align:left;font-size:2em\"><span style=\"font-weight:bolder;font-size:1.25em\">SP2273 | Learning Portfolio</span><br><br><span style=\"font-weight:bold;color:darkred\">Fundamentals (Need) Exercises</span></div>"
   ]
  },
  {
   "cell_type": "markdown",
   "id": "9c8195e8-4199-4ac9-be01-c12cba38fa14",
   "metadata": {},
   "source": [
    "# Exercise 1"
   ]
  },
  {
   "cell_type": "markdown",
   "id": "44a99885-e9d4-48cc-a223-1092fc765fc2",
   "metadata": {},
   "source": [
    "Basic synthax\n",
    "\n",
    "**Bold**, *Italic*, ***All bold and italic***, <sub> Subscript </sub>, <sup> Superscript </sup>\n",
    "\n",
    "```print()```\n",
    "\n",
    "``` %timeit ```\n",
    "\n",
    "```%%timeit``` #more for code optimisation\n",
    "\n",
    "[This is immunoglobulin and B cell development](https://oncologypro.esmo.org/education-library/esmo-books/essentials-for-clinicians/lymphomas/immunoglobulins-and-b-cell-development) #Hyperlinking the texts\n",
    "\n",
    "![Immunoglobulin Structure](https://oncologypro.esmo.org/var/esmo/storage/images/media/oncologypro/oncologypro-images/essentials-for-clinicians/lymphomas/chapter1/antibody-structure-figure-4/320686-8-eng-GB/antibody-structure-figure-4.png) #Inserting images\n",
    "\n",
    "*[Markdown Table Generator](https://www.tablesgenerator.com/markdown_tables)*\n",
    "\n",
    "```{python}\n",
    "name = 'Fatty'{\n",
    "if name == 'Fatty'\n",
    "    print('Hello fatty')\n",
    "}else{\n",
    "    print('Not Fatty')}\n",
    "```\n",
    "\n",
    "```\n",
    "import math\n",
    "import numpy as np\n",
    "```\n",
    "#usage of .\n",
    "\n",
    "```\n",
    "math.sqrt(4)\n",
    "np.sqrt(4)\n",
    "'This is testing my memory'.split() #cannot do it for numericals\n",
    "```\n",
    "\n",
    "*=*\n",
    "\n",
    "*== #Telling you if your variable is exactly the same, true or false response. Used for if else functions*\n",
    "\n",
    "#brackets\n",
    "[] #- Used for list of data\n",
    "{} #- Store data in dictionary\n",
    "() #- Math and py functions\n"
   ]
  },
  {
   "cell_type": "markdown",
   "id": "646020b0-f62e-46cd-8b12-3c1797737bde",
   "metadata": {},
   "source": [
    "# Exercise 2\n",
    "Fix (debug) the following code to create a Pythagorean triple 3, 4, 5 (because 3<sup>2</sup> + 4<sup>2</sup> = 5<sup>2</sup>)."
   ]
  },
  {
   "cell_type": "code",
   "execution_count": 18,
   "id": "b4eeca8a-774a-4a62-bf42-426a9ecd5e05",
   "metadata": {},
   "outputs": [
    {
     "name": "stdout",
     "output_type": "stream",
     "text": [
      "3 4 2.6457513110645907\n"
     ]
    }
   ],
   "source": [
    "import math\n",
    "\n",
    "x, y = (3, 4)\n",
    "\n",
    "z = math.sqrt(x^2 + y^2)\n",
    "\n",
    "print(x, y, z)\n",
    "\n",
    "#3 4 2.6457513110645907, output is wrong for z"
   ]
  },
  {
   "cell_type": "markdown",
   "id": "c323ec02-1819-42f4-879f-42cb42684669",
   "metadata": {},
   "source": [
    "# Exercise 3\n",
    "Using your own words, write a single sentence to describe what each of the following means or the role they serve in Python."
   ]
  },
  {
   "cell_type": "markdown",
   "id": "74327855-5620-4d30-82ee-8caecb490087",
   "metadata": {},
   "source": [
    "1. Function - code that performs specific tasks when specified, and can choose which data/variable.\n",
    "2. Arguments - values passed to a function when its called. ***I googled this***\n",
    "3. Comments - indicated by #, used to annotate your work for users.\n",
    "4. Indentations - used to separate the True and False blocks of 'if' statements.\n",
    "5. Packages - external packages that assist, clean up and/or speed up processes. Different packages have different capabilities.\n",
    "6. . - has function and attributes in basic py. indicate ownership and which package / function it will use with reference to using packages.\n",
    "7. : - indicate the start of a loop, function or conditional statement. ***I googled this***\n",
    "8. [] - used to create lists of ordered elements. can be used to extract infroamtion as well.\n",
    "9. [[],[]] - used to access elements from dictionaries or lists.\n",
    "10. {}- used to store data in a form of dictionary, where it uses a key to indentify a value. Neat storage and can access/extract data easily with identifiers e.g., real name, ID, alliance."
   ]
  },
  {
   "cell_type": "markdown",
   "id": "31f2b946-7cb6-4a86-8aa2-ea95b6b842bf",
   "metadata": {},
   "source": [
    "# Exercise 4\n",
    "This difference in division is brought about to provide integer-division operator that would be consistent between Python 2 and 3"
   ]
  },
  {
   "cell_type": "code",
   "execution_count": 26,
   "id": "db45721e-8309-4c4b-bd51-45bae7813d5e",
   "metadata": {},
   "outputs": [
    {
     "data": {
      "text/plain": [
       "2.5"
      ]
     },
     "execution_count": 26,
     "metadata": {},
     "output_type": "execute_result"
    }
   ],
   "source": [
    "5/2 #divides 5 equally into 2"
   ]
  },
  {
   "cell_type": "code",
   "execution_count": 25,
   "id": "409e3cb8-f7ca-4c8b-9412-cf7ce4e5eb0d",
   "metadata": {},
   "outputs": [
    {
     "data": {
      "text/plain": [
       "2"
      ]
     },
     "execution_count": 25,
     "metadata": {},
     "output_type": "execute_result"
    }
   ],
   "source": [
    "5//2 #divides 5 by 2, and remainder is disregarded. Counts how many wholes of 2 can be utilised in 5"
   ]
  },
  {
   "cell_type": "code",
   "execution_count": 27,
   "id": "9c17e86e-b0fa-4df9-bded-b4782378cf2c",
   "metadata": {},
   "outputs": [
    {
     "data": {
      "text/plain": [
       "1"
      ]
     },
     "execution_count": 27,
     "metadata": {},
     "output_type": "execute_result"
    }
   ],
   "source": [
    "5%2 #divides 5 by 2, returning back the remainder as the output. Counts how much cannot be divided by whole 2"
   ]
  }
 ],
 "metadata": {
  "kernelspec": {
   "display_name": "Python 3 (ipykernel)",
   "language": "python",
   "name": "python3"
  },
  "language_info": {
   "codemirror_mode": {
    "name": "ipython",
    "version": 3
   },
   "file_extension": ".py",
   "mimetype": "text/x-python",
   "name": "python",
   "nbconvert_exporter": "python",
   "pygments_lexer": "ipython3",
   "version": "3.12.3"
  },
  "toc": {
   "base_numbering": 1,
   "nav_menu": {},
   "number_sections": true,
   "sideBar": true,
   "skip_h1_title": false,
   "title_cell": "Table of Contents",
   "title_sidebar": "Contents",
   "toc_cell": false,
   "toc_position": {},
   "toc_section_display": true,
   "toc_window_display": false
  },
  "vscode": {
   "interpreter": {
    "hash": "31f2aee4e71d21fbe5cf8b01ff0e069b9275f58929596ceb00d14d90e3e16cd6"
   }
  }
 },
 "nbformat": 4,
 "nbformat_minor": 5
}
