{
 "cells": [
  {
   "attachments": {},
   "cell_type": "markdown",
   "id": "123456",
   "metadata": {},
   "source": [
    "<div style=\"text-align:left;font-size:2em\"><span style=\"font-weight:bolder;font-size:1.25em\">SP2273 | Learning Portfolio</span><br><br><span style=\"font-weight:bold;color:darkred\">Loops (Good) Exercises</span></div>"
   ]
  },
  {
   "cell_type": "markdown",
   "id": "d450b2ec-5941-445f-870c-bdf9911d4c86",
   "metadata": {},
   "source": [
    "# Exercise 1 (Make an odd list)"
   ]
  },
  {
   "cell_type": "code",
   "execution_count": null,
   "id": "6e6b6615-cd10-497e-94de-3e0a11972538",
   "metadata": {},
   "outputs": [],
   "source": [
    "for number in range(10):\n",
    "    if number % 2 == 0:\n",
    "        continue #if no. is divisible by 2, continue in the loop\n",
    "    print(number) #if no. cant divide by 2, exit the loop and print"
   ]
  },
  {
   "cell_type": "markdown",
   "id": "a602d5b0-c4b1-4334-aa12-e37d7cb1c67f",
   "metadata": {},
   "source": [
    "# Exercise 2 (Make an odd list using list comprehension)"
   ]
  },
  {
   "cell_type": "code",
   "execution_count": null,
   "id": "f1890e78-0864-4b04-bf79-7174ccf233a2",
   "metadata": {},
   "outputs": [],
   "source": [
    "[odd for odd in range(10) if odd % 2 == 1] #asking for no. thats only odd. if power is odd, run it. if its not then dont."
   ]
  },
  {
   "cell_type": "markdown",
   "id": "6eb2c328-6594-4ee3-b36d-8022cfa4e5d8",
   "metadata": {},
   "source": [
    "# Exercise 3 (Timeit)"
   ]
  },
  {
   "cell_type": "code",
   "execution_count": null,
   "id": "5d97f6d5-5af2-4ce4-8bc7-e06d16fa0b07",
   "metadata": {},
   "outputs": [],
   "source": [
    "%%timeit #why does this keep running?\n",
    "\n",
    "for number in range(10):\n",
    "    if number % 2 == 0:\n",
    "        continue #if no. is divisible by 2, continue in the loop\n",
    "    print(number) #if no. cant divide by 2, exit the loop and print"
   ]
  },
  {
   "cell_type": "code",
   "execution_count": null,
   "id": "bb56904d-7b9c-4df2-a7a6-58547415ac28",
   "metadata": {},
   "outputs": [],
   "source": [
    "%%timeit\n",
    "[odd for odd in range(10) if odd % 2 == 1] #asking for no. thats only odd. if power is odd, run it. if its not then dont."
   ]
  }
 ],
 "metadata": {
  "kernelspec": {
   "display_name": "Python 3 (ipykernel)",
   "language": "python",
   "name": "python3"
  },
  "language_info": {
   "codemirror_mode": {
    "name": "ipython",
    "version": 3
   },
   "file_extension": ".py",
   "mimetype": "text/x-python",
   "name": "python",
   "nbconvert_exporter": "python",
   "pygments_lexer": "ipython3",
   "version": "3.12.3"
  },
  "toc": {
   "base_numbering": 1,
   "nav_menu": {},
   "number_sections": true,
   "sideBar": true,
   "skip_h1_title": false,
   "title_cell": "Table of Contents",
   "title_sidebar": "Contents",
   "toc_cell": false,
   "toc_position": {},
   "toc_section_display": true,
   "toc_window_display": false
  },
  "vscode": {
   "interpreter": {
    "hash": "31f2aee4e71d21fbe5cf8b01ff0e069b9275f58929596ceb00d14d90e3e16cd6"
   }
  }
 },
 "nbformat": 4,
 "nbformat_minor": 5
}
