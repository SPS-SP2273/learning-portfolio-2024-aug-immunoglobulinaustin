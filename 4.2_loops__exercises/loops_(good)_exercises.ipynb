{
 "cells": [
  {
   "attachments": {},
   "cell_type": "markdown",
   "id": "123456",
   "metadata": {},
   "source": [
    "<div style=\"text-align:left;font-size:2em\"><span style=\"font-weight:bolder;font-size:1.25em\">SP2273 | Learning Portfolio</span><br><br><span style=\"font-weight:bold;color:darkred\">Loops (Good) Exercises</span></div>"
   ]
  },
  {
   "cell_type": "markdown",
   "id": "d450b2ec-5941-445f-870c-bdf9911d4c86",
   "metadata": {},
   "source": [
    "# Exercise 1 (Make an odd list)"
   ]
  },
  {
   "cell_type": "code",
   "execution_count": null,
   "id": "6e6b6615-cd10-497e-94de-3e0a11972538",
   "metadata": {},
   "outputs": [],
   "source": [
    "for number in range(10):\n",
    "    if number % 2 == 0:\n",
    "        continue #if no. is divisible by 2, continue in the loop\n",
    "    print(number) #if no. cant divide by 2, exit the loop and print"
   ]
  },
  {
   "cell_type": "markdown",
   "id": "a602d5b0-c4b1-4334-aa12-e37d7cb1c67f",
   "metadata": {},
   "source": [
    "# Exercise 2 (Make an odd list using list comprehension)"
   ]
  },
  {
   "cell_type": "code",
   "execution_count": null,
   "id": "f1890e78-0864-4b04-bf79-7174ccf233a2",
   "metadata": {},
   "outputs": [],
   "source": [
    "[odd for odd in range(10) if odd % 2 == 1] #asking for no. thats only odd. if power is odd, run it. if its not then dont."
   ]
  },
  {
   "cell_type": "markdown",
   "id": "6eb2c328-6594-4ee3-b36d-8022cfa4e5d8",
   "metadata": {},
   "source": [
    "# Exercise 3 (Timeit)"
   ]
  },
  {
   "cell_type": "code",
   "execution_count": null,
   "id": "5d97f6d5-5af2-4ce4-8bc7-e06d16fa0b07",
   "metadata": {},
   "outputs": [],
   "source": [
    "%%timeit #why does this keep running?\n",
    "\n",
    "for number in range(10):\n",
    "    if number % 2 == 0:\n",
    "        continue #if no. is divisible by 2, continue in the loop\n",
    "    print(number) #if no. cant divide by 2, exit the loop and print"
   ]
  },
  {
   "cell_type": "code",
   "execution_count": null,
   "id": "bb56904d-7b9c-4df2-a7a6-58547415ac28",
   "metadata": {},
   "outputs": [],
   "source": [
    "%%timeit\n",
    "[odd for odd in range(10) if odd % 2 == 1] #asking for no. thats only odd. if power is odd, run it. if its not then dont."
   ]
  },
  {
   "cell_type": "markdown",
   "id": "dfe1fd97-de29-4659-852d-5942d87dd9d5",
   "metadata": {},
   "source": [
    "# Exercise 4"
   ]
  },
  {
   "cell_type": "code",
   "execution_count": 90,
   "id": "6e18569d-06a6-4c40-96a2-c962eb04ef92",
   "metadata": {},
   "outputs": [
    {
     "name": "stdout",
     "output_type": "stream",
     "text": [
      "Half-life of unknown radioactive substance: 13 years\n"
     ]
    }
   ],
   "source": [
    "unit = 100\n",
    "years = 0 #need define\n",
    "\n",
    "while True:\n",
    "    unit *= 0.95 #adding of *= makes it amend the variable 'unit' everytime it runs through the loop\n",
    "    years += 1 #everytime this while loops run, add 1 year\n",
    "    #print(years) for sanitary checks\n",
    "    if unit <= 50: break\n",
    "\n",
    "print(f'Half-life of unknown radioactive substance: {years-1} years') # Minus 1 as run 14 will generate unit = 48.76. We only want successive runs that does not go below unit = 50"
   ]
  },
  {
   "cell_type": "markdown",
   "id": "9cf5cd19-aa5c-4097-bde9-26dd9e6ae6f7",
   "metadata": {},
   "source": [
    "# Exercise 5"
   ]
  },
  {
   "cell_type": "code",
   "execution_count": 54,
   "id": "b90e0892-2bce-412f-be05-e1dc7e00dd3b",
   "metadata": {},
   "outputs": [
    {
     "name": "stdout",
     "output_type": "stream",
     "text": [
      "Year: 2000 and Change in concentration (ppm): 269.55\n",
      "Year: 2001 and Change in concentration (ppm): 271.14\n",
      "Year: 2002 and Change in concentration (ppm): 273.28\n",
      "Year: 2003 and Change in concentration (ppm): 275.8\n",
      "Year: 2004 and Change in concentration (ppm): 277.52\n",
      "Year: 2005 and Change in concentration (ppm): 279.8\n",
      "Year: 2006 and Change in concentration (ppm): 281.9\n",
      "Year: 2007 and Change in concentration (ppm): 283.79\n",
      "Year: 2008 and Change in concentration (ppm): 285.6\n",
      "Year: 2009 and Change in concentration (ppm): 287.43\n",
      "Year: 2010 and Change in concentration (ppm): 289.9\n",
      "Year: 2011 and Change in concentration (ppm): 291.65\n",
      "Year: 2012 and Change in concentration (ppm): 293.85\n",
      "Year: 2013 and Change in concentration (ppm): 296.52\n",
      "Year: 2014 and Change in concentration (ppm): 298.65\n",
      "Year: 2015 and Change in concentration (ppm): 300.83\n",
      "Year: 2016 and Change in concentration (ppm): 304.24\n",
      "Year: 2017 and Change in concentration (ppm): 306.55\n",
      "Year: 2018 and Change in concentration (ppm): 308.52\n",
      "Year: 2019 and Change in concentration (ppm): 311.44\n",
      "Year: 2020 and Change in concentration (ppm): 314.24\n"
     ]
    }
   ],
   "source": [
    "co2_data = [\n",
    "    (2000, 369.55), (2001, 371.14), (2002, 373.28), \n",
    "    (2003, 375.80), (2004, 377.52), (2005, 379.80), \n",
    "    (2006, 381.90), (2007, 383.79), (2008, 385.60), \n",
    "    (2009, 387.43), (2010, 389.90), (2011, 391.65), \n",
    "    (2012, 393.85), (2013, 396.52), (2014, 398.65),\n",
    "    (2015, 400.83), (2016, 404.24), (2017, 406.55), \n",
    "    (2018, 408.52), (2019, 411.44), (2020, 414.24)\n",
    "]\n",
    "\n",
    "years = []\n",
    "change = []\n",
    "\n",
    "for year, CO2_level in co2_data:\n",
    "    CO2_level -= 100 #is there a way to go to the next element per loop?!\n",
    "    if CO2_level >= 3:\n",
    "        print(f'Year: {year} and Change in concentration (ppm): {CO2_level}')"
   ]
  }
 ],
 "metadata": {
  "kernelspec": {
   "display_name": "Python 3 (ipykernel)",
   "language": "python",
   "name": "python3"
  },
  "language_info": {
   "codemirror_mode": {
    "name": "ipython",
    "version": 3
   },
   "file_extension": ".py",
   "mimetype": "text/x-python",
   "name": "python",
   "nbconvert_exporter": "python",
   "pygments_lexer": "ipython3",
   "version": "3.12.3"
  },
  "toc": {
   "base_numbering": 1,
   "nav_menu": {},
   "number_sections": true,
   "sideBar": true,
   "skip_h1_title": false,
   "title_cell": "Table of Contents",
   "title_sidebar": "Contents",
   "toc_cell": false,
   "toc_position": {},
   "toc_section_display": true,
   "toc_window_display": false
  },
  "vscode": {
   "interpreter": {
    "hash": "31f2aee4e71d21fbe5cf8b01ff0e069b9275f58929596ceb00d14d90e3e16cd6"
   }
  }
 },
 "nbformat": 4,
 "nbformat_minor": 5
}
