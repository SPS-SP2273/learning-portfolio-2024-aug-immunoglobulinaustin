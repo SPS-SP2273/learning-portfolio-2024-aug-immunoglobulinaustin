{
 "cells": [
  {
   "attachments": {},
   "cell_type": "markdown",
   "id": "123456",
   "metadata": {},
   "source": [
    "<div style=\"text-align:left;font-size:2em\"><span style=\"font-weight:bolder;font-size:1.25em\">SP2273 | Learning Portfolio</span><br><br><span style=\"font-weight:bold;color:darkred\">Loops (Need) Exercises</span></div>"
   ]
  },
  {
   "cell_type": "markdown",
   "id": "146bb40b-b983-43a1-90d4-e3704f30d815",
   "metadata": {},
   "source": [
    "# Exercise 1"
   ]
  },
  {
   "cell_type": "code",
   "execution_count": 28,
   "id": "a7803349-1c4e-4d09-9742-2ad86838f7b5",
   "metadata": {},
   "outputs": [
    {
     "name": "stdout",
     "output_type": "stream",
     "text": [
      "My temperature in celcius is 0, while my temperature in fahrenheit is 35!\n",
      "My temperature in celcius is 5, while my temperature in fahrenheit is 40!\n",
      "My temperature in celcius is 10, while my temperature in fahrenheit is 45!\n",
      "My temperature in celcius is 15, while my temperature in fahrenheit is 50!\n",
      "My temperature in celcius is 20, while my temperature in fahrenheit is 55!\n",
      "My temperature in celcius is 25, while my temperature in fahrenheit is 60!\n",
      "My temperature in celcius is 30, while my temperature in fahrenheit is 65!\n",
      "My temperature in celcius is 35, while my temperature in fahrenheit is 70!\n",
      "My temperature in celcius is 40, while my temperature in fahrenheit is 75!\n",
      "My temperature in celcius is 45, while my temperature in fahrenheit is 80!\n",
      "My temperature in celcius is 50, while my temperature in fahrenheit is 85!\n"
     ]
    }
   ],
   "source": [
    "import numpy as np\n",
    "temperatures_celsius = [\n",
    "    0, 5, 10, 15, 20, 25,\n",
    "    30, 35, 40, 45, 50\n",
    "]\n",
    "\n",
    "celcius_np = np.array(temperatures_celsius) #converting to an array\n",
    "fahrenheit_np = celcius_np+35 #adds 35 to all elements\n",
    "\n",
    "zip([celcius_np, fahrenheit_np]) #merge them into 1 list\n",
    "\n",
    "for celcius_np, fahrenheit_np in zip(celcius_np, fahrenheit_np): #unpacking the list into the two variables\n",
    "    print(f\"My temperature in celcius is {celcius_np}, while my temperature in fahrenheit is {fahrenheit_np}!\")"
   ]
  },
  {
   "cell_type": "markdown",
   "id": "b898b99b-a8a4-49ae-97d7-612cb609f267",
   "metadata": {},
   "source": [
    "# Exercise 2"
   ]
  },
  {
   "cell_type": "code",
   "execution_count": 29,
   "id": "98b678b2-7557-4091-9b9c-e72d5e2c26a4",
   "metadata": {},
   "outputs": [
    {
     "name": "stdout",
     "output_type": "stream",
     "text": [
      "A1\tA2\tA3\t\n",
      "\n",
      "B1\tB2\tB3\t\n",
      "\n",
      "C1\tC2\tC3\t\n",
      "\n"
     ]
    }
   ],
   "source": [
    "for letter in ['A', 'B', 'C']:\n",
    "    for number in [1, 2, 3]:\n",
    "        print(f'{letter}{number}', end='\\t')\n",
    "    print('\\n')"
   ]
  },
  {
   "cell_type": "code",
   "execution_count": null,
   "id": "c87a015a-16de-4a94-b2e0-a27a6e03f2b9",
   "metadata": {},
   "outputs": [],
   "source": [
    "for col1 in range(1,5+1):\n",
    "\n",
    "    print(f'{col1}:', end='\\t')\n",
    "    \n",
    "    for row1 in range(1,6):\n",
    "        print(f'{col1}{row1}', end='\\t')\n",
    "    print('\\n')\n",
    "\n",
    "#midst of solving, no thoughts head empty"
   ]
  },
  {
   "cell_type": "markdown",
   "id": "e74cb3ca-9d8c-4d52-ab0b-d34305c76aa7",
   "metadata": {},
   "source": [
    "# Exercise 3"
   ]
  },
  {
   "cell_type": "code",
   "execution_count": 101,
   "id": "f6193c69-fec6-4637-a61d-73b1669c6676",
   "metadata": {},
   "outputs": [
    {
     "name": "stdout",
     "output_type": "stream",
     "text": [
      "Experiment [1, 2, 3, 4, 5, 6, 7, 8, 9, 10]: No. of Heads= 0.8307325968385997\n",
      "Experiment [1, 2, 3, 4, 5, 6, 7, 8, 9, 10]: No. of Heads= 0.03318053847263813\n",
      "Experiment [1, 2, 3, 4, 5, 6, 7, 8, 9, 10]: No. of Heads= 0.8048637148916501\n",
      "Experiment [1, 2, 3, 4, 5, 6, 7, 8, 9, 10]: No. of Heads= 0.7694190780739789\n",
      "Experiment [1, 2, 3, 4, 5, 6, 7, 8, 9, 10]: No. of Heads= 0.07844585429263451\n",
      "Experiment [1, 2, 3, 4, 5, 6, 7, 8, 9, 10]: No. of Heads= 0.12601019528730273\n",
      "Experiment [1, 2, 3, 4, 5, 6, 7, 8, 9, 10]: No. of Heads= 0.46908837290651506\n",
      "Experiment [1, 2, 3, 4, 5, 6, 7, 8, 9, 10]: No. of Heads= 0.2556476564509643\n",
      "Experiment [1, 2, 3, 4, 5, 6, 7, 8, 9, 10]: No. of Heads= 0.01937944185231444\n",
      "Experiment [1, 2, 3, 4, 5, 6, 7, 8, 9, 10]: No. of Heads= 0.7948428927105546\n"
     ]
    }
   ],
   "source": [
    "import numpy as np\n",
    "number = [1, 2, 3, 4, 5, 6, 7, 8, 9, 10]\n",
    "\n",
    "for rng in np.random.rand(10):\n",
    "    print(f'Experiment {number}: No. of Heads= {rng}')"
   ]
  },
  {
   "cell_type": "code",
   "execution_count": null,
   "id": "cd2c60dc-4b03-4b89-a7a1-0d0495545ce8",
   "metadata": {},
   "outputs": [],
   "source": []
  }
 ],
 "metadata": {
  "kernelspec": {
   "display_name": "Python 3 (ipykernel)",
   "language": "python",
   "name": "python3"
  },
  "language_info": {
   "codemirror_mode": {
    "name": "ipython",
    "version": 3
   },
   "file_extension": ".py",
   "mimetype": "text/x-python",
   "name": "python",
   "nbconvert_exporter": "python",
   "pygments_lexer": "ipython3",
   "version": "3.12.3"
  },
  "toc": {
   "base_numbering": 1,
   "nav_menu": {},
   "number_sections": true,
   "sideBar": true,
   "skip_h1_title": false,
   "title_cell": "Table of Contents",
   "title_sidebar": "Contents",
   "toc_cell": false,
   "toc_position": {},
   "toc_section_display": true,
   "toc_window_display": false
  },
  "vscode": {
   "interpreter": {
    "hash": "31f2aee4e71d21fbe5cf8b01ff0e069b9275f58929596ceb00d14d90e3e16cd6"
   }
  }
 },
 "nbformat": 4,
 "nbformat_minor": 5
}
