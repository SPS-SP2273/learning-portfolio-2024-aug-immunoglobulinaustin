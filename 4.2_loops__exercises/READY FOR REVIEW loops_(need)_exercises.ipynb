{
 "cells": [
  {
   "attachments": {},
   "cell_type": "markdown",
   "id": "123456",
   "metadata": {},
   "source": [
    "<div style=\"text-align:left;font-size:2em\"><span style=\"font-weight:bolder;font-size:1.25em\">SP2273 | Learning Portfolio</span><br><br><span style=\"font-weight:bold;color:darkred\">Loops (Need) Exercises</span></div>"
   ]
  },
  {
   "cell_type": "markdown",
   "id": "146bb40b-b983-43a1-90d4-e3704f30d815",
   "metadata": {},
   "source": [
    "# Exercise 1"
   ]
  },
  {
   "cell_type": "code",
   "execution_count": 32,
   "id": "a7803349-1c4e-4d09-9742-2ad86838f7b5",
   "metadata": {},
   "outputs": [
    {
     "name": "stdout",
     "output_type": "stream",
     "text": [
      "My temperature in celcius is 0, while my temperature in fahrenheit is 32.0!\n",
      "My temperature in celcius is 5, while my temperature in fahrenheit is 41.0!\n",
      "My temperature in celcius is 10, while my temperature in fahrenheit is 50.0!\n",
      "My temperature in celcius is 15, while my temperature in fahrenheit is 59.0!\n",
      "My temperature in celcius is 20, while my temperature in fahrenheit is 68.0!\n",
      "My temperature in celcius is 25, while my temperature in fahrenheit is 77.0!\n",
      "My temperature in celcius is 30, while my temperature in fahrenheit is 86.0!\n",
      "My temperature in celcius is 35, while my temperature in fahrenheit is 95.0!\n",
      "My temperature in celcius is 40, while my temperature in fahrenheit is 104.0!\n",
      "My temperature in celcius is 45, while my temperature in fahrenheit is 113.0!\n",
      "My temperature in celcius is 50, while my temperature in fahrenheit is 122.0!\n"
     ]
    }
   ],
   "source": [
    "import numpy as np\n",
    "temperatures_celsius = [\n",
    "    0, 5, 10, 15, 20, 25,\n",
    "    30, 35, 40, 45, 50\n",
    "]\n",
    "\n",
    "celcius_np = np.array(temperatures_celsius) #converting to an array\n",
    "fahrenheit_np = celcius_np*9/5 +32 #applies the formula to all elements\n",
    "\n",
    "for celcius_np, fahrenheit_np in zip(celcius_np, fahrenheit_np): #unpacking the list into the two variables\n",
    "    print(f\"My temperature in celcius is {celcius_np}, while my temperature in fahrenheit is {fahrenheit_np}!\")"
   ]
  },
  {
   "cell_type": "code",
   "execution_count": 31,
   "id": "6c34a804-92f6-45b4-9734-bb35aa4c7f88",
   "metadata": {},
   "outputs": [
    {
     "data": {
      "text/plain": [
       "[(array([ 0,  5, 10, 15, 20, 25, 30, 35, 40, 45, 50]),),\n",
       " (array([35, 40, 45, 50, 55, 60, 65, 70, 75, 80, 85]),)]"
      ]
     },
     "execution_count": 31,
     "metadata": {},
     "output_type": "execute_result"
    }
   ],
   "source": [
    "temperatures_celsius = [\n",
    "    0, 5, 10, 15, 20, 25,\n",
    "    30, 35, 40, 45, 50\n",
    "]\n",
    "\n",
    "celcius_np = np.array(temperatures_celsius) #converting to an array\n",
    "fahrenheit_np = celcius_np+35 #adds 35 to all elements\n",
    "list(zip([celcius_np, fahrenheit_np]))"
   ]
  },
  {
   "cell_type": "markdown",
   "id": "b898b99b-a8a4-49ae-97d7-612cb609f267",
   "metadata": {},
   "source": [
    "# Exercise 2"
   ]
  },
  {
   "cell_type": "code",
   "execution_count": 2,
   "id": "98b678b2-7557-4091-9b9c-e72d5e2c26a4",
   "metadata": {},
   "outputs": [
    {
     "name": "stdout",
     "output_type": "stream",
     "text": [
      "A1\tA2\tA3\t\n",
      "\n",
      "B1\tB2\tB3\t\n",
      "\n",
      "C1\tC2\tC3\t\n",
      "\n"
     ]
    }
   ],
   "source": [
    "for letter in ['A', 'B', 'C']:\n",
    "    for number in [1, 2, 3]:\n",
    "        print(f'{letter}{number}', end='\\t')\n",
    "    print('\\n')"
   ]
  },
  {
   "cell_type": "code",
   "execution_count": 12,
   "id": "90144e38-05c3-4ed8-8dfd-eb3c33c5d5ad",
   "metadata": {},
   "outputs": [
    {
     "name": "stdout",
     "output_type": "stream",
     "text": [
      "1:\t1\t2\t3\t4\t5\t\n",
      "\n",
      "2:\t2\t4\t6\t8\t10\t\n",
      "\n",
      "3:\t3\t6\t9\t12\t15\t\n",
      "\n",
      "4:\t4\t8\t12\t16\t20\t\n",
      "\n",
      "5:\t5\t10\t15\t20\t25\t\n",
      "\n"
     ]
    }
   ],
   "source": [
    "for i in range(1,5+1):\n",
    "    print(f'{i}:', end='\\t') #print '1:' to '5:'\n",
    "\n",
    "    for x in range (1, 5+1): #since its a 5 by 5 matrix, range upper limit = 5th element\n",
    "        print(f'{i*x}', end='\\t') #as x cycles through 1-5, multiply by i and print in a tab\n",
    "    print('\\n') #after running through 1 - 5, break line and repeat for another element of 'i', till no no more elements\n",
    "    "
   ]
  },
  {
   "cell_type": "markdown",
   "id": "e74cb3ca-9d8c-4d52-ab0b-d34305c76aa7",
   "metadata": {},
   "source": [
    "# Exercise 3"
   ]
  },
  {
   "cell_type": "code",
   "execution_count": 25,
   "id": "f6193c69-fec6-4637-a61d-73b1669c6676",
   "metadata": {},
   "outputs": [
    {
     "name": "stdout",
     "output_type": "stream",
     "text": [
      "Experiment []: No. of Heads= 0.3604266700413842\n",
      "Experiment []: No. of Heads= 0.3606106183000942\n",
      "Experiment []: No. of Heads= 0.7828297222028349\n",
      "Experiment []: No. of Heads= 0.8190879302672113\n",
      "Experiment []: No. of Heads= 0.9475343790175408\n",
      "Experiment []: No. of Heads= 0.60436824445931\n",
      "Experiment []: No. of Heads= 0.15248912175862495\n",
      "Experiment []: No. of Heads= 0.9263993647166328\n",
      "Experiment []: No. of Heads= 0.43156551839765167\n",
      "Experiment []: No. of Heads= 0.46068459623768265\n"
     ]
    }
   ],
   "source": [
    "import numpy as np\n",
    "number = [1, 2, 3, 4, 5, 6, 7, 8, 9, 10]\n",
    "\n",
    "for rng in np.random.rand(10):\n",
    "    print(f'Experiment {number[10:1]}: No. of Heads= {rng}')"
   ]
  },
  {
   "cell_type": "code",
   "execution_count": 28,
   "id": "b0b434ce-6b67-43a1-9c55-fbd1bf0f254d",
   "metadata": {},
   "outputs": [
    {
     "name": "stdout",
     "output_type": "stream",
     "text": [
      "4\n",
      "5\n",
      "3\n",
      "4\n",
      "2\n",
      "4\n",
      "2\n",
      "5\n",
      "4\n",
      "6\n"
     ]
    }
   ],
   "source": [
    "#retry this again\n",
    "import numpy as np\n",
    "\n",
    "for j in range(10):\n",
    "    x = np.random.rand(10)\n",
    "    i = 0\n",
    "    for a in x:\n",
    "        if a > 0.5:\n",
    "            i += 1\n",
    "    print(i)"
   ]
  },
  {
   "cell_type": "code",
   "execution_count": 88,
   "id": "539294ac-bb67-4ce1-b289-5385d4326410",
   "metadata": {},
   "outputs": [
    {
     "name": "stdout",
     "output_type": "stream",
     "text": [
      "Experiment 1: No. of Heads = 4\n",
      "Experiment 2: No. of Heads = 4\n",
      "Experiment 3: No. of Heads = 6\n",
      "Experiment 4: No. of Heads = 5\n",
      "Experiment 5: No. of Heads = 4\n",
      "Experiment 6: No. of Heads = 2\n",
      "Experiment 7: No. of Heads = 7\n",
      "Experiment 8: No. of Heads = 4\n",
      "Experiment 9: No. of Heads = 7\n",
      "Experiment 10: No. of Heads = 5\n"
     ]
    }
   ],
   "source": [
    "import numpy as np\n",
    "\n",
    "for rolls in range(1, 10+1):\n",
    "    x = np.random.rand(10)\n",
    "    i = 0\n",
    "    for r in x:\n",
    "        if r > 0.5: #for every roll > 0.5, add 1 to i\n",
    "            i +=1 #serves as a counter to count how many times r > 0.5\n",
    "    print(f'Experiment {rolls}: No. of Heads = {i}')"
   ]
  }
 ],
 "metadata": {
  "kernelspec": {
   "display_name": "Python 3 (ipykernel)",
   "language": "python",
   "name": "python3"
  },
  "language_info": {
   "codemirror_mode": {
    "name": "ipython",
    "version": 3
   },
   "file_extension": ".py",
   "mimetype": "text/x-python",
   "name": "python",
   "nbconvert_exporter": "python",
   "pygments_lexer": "ipython3",
   "version": "3.12.3"
  },
  "toc": {
   "base_numbering": 1,
   "nav_menu": {},
   "number_sections": true,
   "sideBar": true,
   "skip_h1_title": false,
   "title_cell": "Table of Contents",
   "title_sidebar": "Contents",
   "toc_cell": false,
   "toc_position": {},
   "toc_section_display": true,
   "toc_window_display": false
  },
  "vscode": {
   "interpreter": {
    "hash": "31f2aee4e71d21fbe5cf8b01ff0e069b9275f58929596ceb00d14d90e3e16cd6"
   }
  }
 },
 "nbformat": 4,
 "nbformat_minor": 5
}
