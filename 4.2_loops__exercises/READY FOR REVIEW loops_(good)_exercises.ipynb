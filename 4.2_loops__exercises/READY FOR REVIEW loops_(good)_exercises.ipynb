{
 "cells": [
  {
   "attachments": {},
   "cell_type": "markdown",
   "id": "123456",
   "metadata": {},
   "source": [
    "<div style=\"text-align:left;font-size:2em\"><span style=\"font-weight:bolder;font-size:1.25em\">SP2273 | Learning Portfolio</span><br><br><span style=\"font-weight:bold;color:darkred\">Loops (Good) Exercises</span></div>"
   ]
  },
  {
   "cell_type": "markdown",
   "id": "d450b2ec-5941-445f-870c-bdf9911d4c86",
   "metadata": {},
   "source": [
    "# Exercise 1 (Make an odd list)"
   ]
  },
  {
   "cell_type": "code",
   "execution_count": 1,
   "id": "6e6b6615-cd10-497e-94de-3e0a11972538",
   "metadata": {},
   "outputs": [
    {
     "data": {
      "text/plain": [
       "[1, 3, 5, 7, 9]"
      ]
     },
     "execution_count": 1,
     "metadata": {},
     "output_type": "execute_result"
    }
   ],
   "source": [
    "my_number=[]\n",
    "\n",
    "for number in range(10):\n",
    "    if number % 2 == 0:\n",
    "        continue #if no. is divisible by 2, continue in the loop\n",
    "    my_number.append(number)\n",
    "\n",
    "my_number #if no. cant divide by 2, exit the loop and print"
   ]
  },
  {
   "cell_type": "markdown",
   "id": "a602d5b0-c4b1-4334-aa12-e37d7cb1c67f",
   "metadata": {},
   "source": [
    "# Exercise 2 (Make an odd list using list comprehension)"
   ]
  },
  {
   "cell_type": "code",
   "execution_count": 2,
   "id": "f1890e78-0864-4b04-bf79-7174ccf233a2",
   "metadata": {},
   "outputs": [
    {
     "data": {
      "text/plain": [
       "[1, 3, 5, 7, 9]"
      ]
     },
     "execution_count": 2,
     "metadata": {},
     "output_type": "execute_result"
    }
   ],
   "source": [
    "[odd for odd in range(10) if odd % 2 == 1] #asking for no. thats only odd. if power is odd, run it. if its not then dont."
   ]
  },
  {
   "cell_type": "markdown",
   "id": "6eb2c328-6594-4ee3-b36d-8022cfa4e5d8",
   "metadata": {},
   "source": [
    "# Exercise 3 (Timeit)"
   ]
  },
  {
   "cell_type": "code",
   "execution_count": 10,
   "id": "5d97f6d5-5af2-4ce4-8bc7-e06d16fa0b07",
   "metadata": {},
   "outputs": [
    {
     "name": "stdout",
     "output_type": "stream",
     "text": [
      "760 ns ± 6.51 ns per loop (mean ± std. dev. of 7 runs, 1,000,000 loops each)\n"
     ]
    }
   ],
   "source": [
    "%%timeit\n",
    "my_number=[]\n",
    "\n",
    "for number in range(10):\n",
    "    if number % 2 == 0:\n",
    "        continue #if no. is divisible by 2, continue in the loop\n",
    "    my_number.append(number)\n",
    "\n",
    "my_number #if no. cant divide by 2, exit the loop and print"
   ]
  },
  {
   "cell_type": "code",
   "execution_count": 9,
   "id": "bb56904d-7b9c-4df2-a7a6-58547415ac28",
   "metadata": {},
   "outputs": [
    {
     "name": "stdout",
     "output_type": "stream",
     "text": [
      "675 ns ± 5.49 ns per loop (mean ± std. dev. of 7 runs, 1,000,000 loops each)\n"
     ]
    }
   ],
   "source": [
    "%%timeit\n",
    "[odd for odd in range(10) if odd % 2 == 1] #asking for no. thats only odd. if power is odd, run it. if its not then dont.\n",
    "\n",
    "#this is faster as it is highly optimised to create a list, from a list."
   ]
  },
  {
   "cell_type": "markdown",
   "id": "dfe1fd97-de29-4659-852d-5942d87dd9d5",
   "metadata": {},
   "source": [
    "# Exercise 4"
   ]
  },
  {
   "cell_type": "code",
   "execution_count": 19,
   "id": "6e18569d-06a6-4c40-96a2-c962eb04ef92",
   "metadata": {},
   "outputs": [
    {
     "name": "stdout",
     "output_type": "stream",
     "text": [
      "Half-life of unknown radioactive substance: 14 years\n"
     ]
    }
   ],
   "source": [
    "unit = 100\n",
    "years = 0 #need define\n",
    "\n",
    "while True:\n",
    "    unit *= 0.95 #adding of *= makes it amend the variable 'unit' everytime it runs through the loop\n",
    "    years += 1 #everytime this while loops run, add 1 year\n",
    "    #print(years) for sanitary checks\n",
    "    if unit <= 50: break\n",
    "\n",
    "print(f'Half-life of unknown radioactive substance: {years} years') # Minus 1 as run 14 will generate unit = 48.76. We only want successive runs that does not go below unit = 50"
   ]
  },
  {
   "cell_type": "markdown",
   "id": "9cf5cd19-aa5c-4097-bde9-26dd9e6ae6f7",
   "metadata": {},
   "source": [
    "# Exercise 5"
   ]
  },
  {
   "cell_type": "code",
   "execution_count": 36,
   "id": "b90e0892-2bce-412f-be05-e1dc7e00dd3b",
   "metadata": {},
   "outputs": [
    {
     "ename": "IndexError",
     "evalue": "only integers, slices (`:`), ellipsis (`...`), numpy.newaxis (`None`) and integer or boolean arrays are valid indices",
     "output_type": "error",
     "traceback": [
      "\u001b[1;31m---------------------------------------------------------------------------\u001b[0m",
      "\u001b[1;31mIndexError\u001b[0m                                Traceback (most recent call last)",
      "Cell \u001b[1;32mIn[36], line 18\u001b[0m\n\u001b[0;32m     15\u001b[0m change \u001b[38;5;241m=\u001b[39m []\n\u001b[0;32m     16\u001b[0m i \u001b[38;5;241m=\u001b[39m \u001b[38;5;124m'\u001b[39m\u001b[38;5;124m'\u001b[39m\n\u001b[1;32m---> 18\u001b[0m \u001b[38;5;28;01mfor\u001b[39;00m year, CO2_level \u001b[38;5;129;01min\u001b[39;00m \u001b[43mnp_co2_data\u001b[49m\u001b[43m \u001b[49m\u001b[43m[\u001b[49m\u001b[43mi\u001b[49m\u001b[43m,\u001b[49m\u001b[43m \u001b[49m\u001b[38;5;241;43m1\u001b[39;49m\u001b[43m]\u001b[49m:\n\u001b[0;32m     19\u001b[0m     i \u001b[38;5;241m+\u001b[39m\u001b[38;5;241m=\u001b[39m \u001b[38;5;241m1\u001b[39m\n\u001b[0;32m     20\u001b[0m     \u001b[38;5;28;01mif\u001b[39;00m (CO2_level[\u001b[38;5;241m0\u001b[39m] \u001b[38;5;241m-\u001b[39m CO2_level[\u001b[38;5;241m1\u001b[39m])\u001b[38;5;241m/\u001b[39mCO2_level[\u001b[38;5;241m1\u001b[39m] \u001b[38;5;241m>\u001b[39m\u001b[38;5;241m=\u001b[39m \u001b[38;5;241m0.03\u001b[39m:\n",
      "\u001b[1;31mIndexError\u001b[0m: only integers, slices (`:`), ellipsis (`...`), numpy.newaxis (`None`) and integer or boolean arrays are valid indices"
     ]
    }
   ],
   "source": [
    "import numpy as np\n",
    "co2_data = [\n",
    "    (2000, 369.55), (2001, 371.14), (2002, 373.28), \n",
    "    (2003, 375.80), (2004, 377.52), (2005, 379.80), \n",
    "    (2006, 381.90), (2007, 383.79), (2008, 385.60), \n",
    "    (2009, 387.43), (2010, 389.90), (2011, 391.65), \n",
    "    (2012, 393.85), (2013, 396.52), (2014, 398.65),\n",
    "    (2015, 400.83), (2016, 404.24), (2017, 406.55), \n",
    "    (2018, 408.52), (2019, 411.44), (2020, 414.24)\n",
    "]\n",
    "\n",
    "np_co2_data = np.array(co2_data)\n",
    "\n",
    "years = []\n",
    "change = []\n",
    "i = ''\n",
    "\n",
    "for year, CO2_level in np_co2_data [i, 1]:\n",
    "    i += 1\n",
    "    if (CO2_level[0] - CO2_level[1])/CO2_level[1] >= 0.03:\n",
    "        years.append(year), change.append(CO2_level)\n",
    "    print(f'Year: {years} and Change in concentration (ppm): {change}')\n"
   ]
  },
  {
   "cell_type": "code",
   "execution_count": null,
   "id": "fa10eae7-8a62-4c6a-9b1e-59e3f10cea24",
   "metadata": {},
   "outputs": [],
   "source": []
  }
 ],
 "metadata": {
  "kernelspec": {
   "display_name": "Python 3 (ipykernel)",
   "language": "python",
   "name": "python3"
  },
  "language_info": {
   "codemirror_mode": {
    "name": "ipython",
    "version": 3
   },
   "file_extension": ".py",
   "mimetype": "text/x-python",
   "name": "python",
   "nbconvert_exporter": "python",
   "pygments_lexer": "ipython3",
   "version": "3.12.3"
  },
  "toc": {
   "base_numbering": 1,
   "nav_menu": {},
   "number_sections": true,
   "sideBar": true,
   "skip_h1_title": false,
   "title_cell": "Table of Contents",
   "title_sidebar": "Contents",
   "toc_cell": false,
   "toc_position": {},
   "toc_section_display": true,
   "toc_window_display": false
  },
  "vscode": {
   "interpreter": {
    "hash": "31f2aee4e71d21fbe5cf8b01ff0e069b9275f58929596ceb00d14d90e3e16cd6"
   }
  }
 },
 "nbformat": 4,
 "nbformat_minor": 5
}
