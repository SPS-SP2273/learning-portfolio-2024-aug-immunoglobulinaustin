{
 "cells": [
  {
   "attachments": {},
   "cell_type": "markdown",
   "id": "123456",
   "metadata": {},
   "source": [
    "<div style=\"text-align:left;font-size:2em\"><span style=\"font-weight:bolder;font-size:1.25em\">SP2273 | Learning Portfolio</span><br><br><span style=\"font-weight:bold;color:darkred\">Storing Data (Good) Exercises</span></div>"
   ]
  },
  {
   "cell_type": "markdown",
   "id": "11b4d7e4-54bc-474b-ad46-f1976a539941",
   "metadata": {},
   "source": [
    "# Exercise 1"
   ]
  },
  {
   "cell_type": "markdown",
   "id": "a48b21a5-a8d7-4252-9940-f9edc3f616d3",
   "metadata": {},
   "source": [
    "| Grade      | Score Range                                                                                |\n",
    "|------------|--------------------------------------------------------------------------------------------|\n",
    "|    Grade   |                                         Score Range                                        |\n",
    "| Term       | Brief description                                                                          |\n",
    "| Subsetting | Selecting data/elements from list/array                                                    |\n",
    "| Indexing   | Selecting only an element with [] from list/array                                          |\n",
    "| Slicing    | *Selecting a range of elements [0:-1]*                                                       |\n",
    "| Masking    | *Posing a true/false question to numpy arrays, normally used in conjuncture with subsetting* |"
   ]
  },
  {
   "cell_type": "markdown",
   "id": "6de34cce-fb52-4567-873e-78cf5d7fe488",
   "metadata": {},
   "source": [
    "# Exercise 2"
   ]
  },
  {
   "cell_type": "code",
   "execution_count": 44,
   "id": "44a2b294-28e9-4c54-a9bf-73533578d67d",
   "metadata": {},
   "outputs": [
    {
     "ename": "TypeError",
     "evalue": "ufunc 'remainder' not supported for the input types, and the inputs could not be safely coerced to any supported types according to the casting rule ''safe''",
     "output_type": "error",
     "traceback": [
      "\u001b[1;31m---------------------------------------------------------------------------\u001b[0m",
      "\u001b[1;31mTypeError\u001b[0m                                 Traceback (most recent call last)",
      "Cell \u001b[1;32mIn[44], line 7\u001b[0m\n\u001b[0;32m      5\u001b[0m first_element \u001b[38;5;241m=\u001b[39m np_array_2d[:\u001b[38;5;241m10\u001b[39m, \u001b[38;5;241m0\u001b[39m] \u001b[38;5;66;03m#listing first elements up to index 10. gives the first element (0) of every index (:10)\u001b[39;00m\n\u001b[0;32m      6\u001b[0m first_element\u001b[38;5;241m.\u001b[39mastype(\u001b[38;5;28mint\u001b[39m)\n\u001b[1;32m----> 7\u001b[0m \u001b[43mfirst_element\u001b[49m\u001b[43m \u001b[49m\u001b[38;5;241;43m%\u001b[39;49m\u001b[43m \u001b[49m\u001b[43m[\u001b[49m\u001b[38;5;241;43m2\u001b[39;49m\u001b[43m]\u001b[49m\n",
      "\u001b[1;31mTypeError\u001b[0m: ufunc 'remainder' not supported for the input types, and the inputs could not be safely coerced to any supported types according to the casting rule ''safe''"
     ]
    }
   ],
   "source": [
    "import numpy as np\n",
    "np_array_2d = np.array([[1, \"A\"], [3, \"C\"], [2, \"B\"], [4, \"D\"],\n",
    "                        [5, \"E\"], [7, \"G\"], [6, \"F\"], [8, \"H\"],\n",
    "                        [10, \"J\"], [9, \"I\"]])\n",
    "first_element = np_array_2d[:10, 0] #listing first elements up to index 10. gives the first element (0) of every index (:10)\n",
    "first_element.astype(int)\n",
    "first_element % 2"
   ]
  }
 ],
 "metadata": {
  "kernelspec": {
   "display_name": "Python 3 (ipykernel)",
   "language": "python",
   "name": "python3"
  },
  "language_info": {
   "codemirror_mode": {
    "name": "ipython",
    "version": 3
   },
   "file_extension": ".py",
   "mimetype": "text/x-python",
   "name": "python",
   "nbconvert_exporter": "python",
   "pygments_lexer": "ipython3",
   "version": "3.12.3"
  },
  "toc": {
   "base_numbering": 1,
   "nav_menu": {},
   "number_sections": true,
   "sideBar": true,
   "skip_h1_title": false,
   "title_cell": "Table of Contents",
   "title_sidebar": "Contents",
   "toc_cell": false,
   "toc_position": {},
   "toc_section_display": true,
   "toc_window_display": false
  },
  "vscode": {
   "interpreter": {
    "hash": "31f2aee4e71d21fbe5cf8b01ff0e069b9275f58929596ceb00d14d90e3e16cd6"
   }
  }
 },
 "nbformat": 4,
 "nbformat_minor": 5
}
