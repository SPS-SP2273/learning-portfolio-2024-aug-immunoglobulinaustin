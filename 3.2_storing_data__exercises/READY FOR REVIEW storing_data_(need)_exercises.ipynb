{
 "cells": [
  {
   "attachments": {},
   "cell_type": "markdown",
   "id": "123456",
   "metadata": {},
   "source": [
    "<div style=\"text-align:left;font-size:2em\"><span style=\"font-weight:bolder;font-size:1.25em\">SP2273 | Learning Portfolio</span><br><br><span style=\"font-weight:bold;color:darkred\">Storing Data (Need) Exercises</span></div>"
   ]
  },
  {
   "cell_type": "markdown",
   "id": "583ef368-ed47-4649-95d3-df66f43be1ea",
   "metadata": {},
   "source": [
    "# Exercise 1"
   ]
  },
  {
   "cell_type": "markdown",
   "id": "25f12472-1153-4754-8fe6-0dbac5d18d46",
   "metadata": {},
   "source": [
    "Similarities: Lists and arrays can be input-ed to store multiple variables of differing types. Both runs on 0 indice.\n",
    "\n",
    "Differences: Arrays (using numpy) are optimised for mathematical operations, allowing them to perform faster for maths-related stuff that has to do with arrays. Lists can handle elements with different data types i.e., str, int., but numpy cannot (it will convert non-int() values t<U32 format)\n",
    "\n",
    "Definition of dictionary:\n",
    "Dictionaries store key and associated values that is separated by ':'. Similarly to a dictionary, you have to know the store key in order to extract the associated values"
   ]
  },
  {
   "cell_type": "markdown",
   "id": "e867925b-fbb3-495e-9984-3d2817846dcb",
   "metadata": {},
   "source": [
    "# Exercise 2"
   ]
  },
  {
   "cell_type": "code",
   "execution_count": 9,
   "id": "b1c81128-e4d0-4350-9f80-6ad98f6399d7",
   "metadata": {},
   "outputs": [
    {
     "name": "stdout",
     "output_type": "stream",
     "text": [
      "['a1' 'c3' 'e5' 'g7' 'i9']\n"
     ]
    }
   ],
   "source": [
    "import numpy as np\n",
    "py_list = [\"a1\", \"b2\", \"c3\", \"d4\", \"e5\", \"f6\", \"g7\", \"h8\", \"i9\", \"j10\"]\n",
    "tf_list = [True, False, True, False, True, False, True, False, True, False] #assigning T or F manually to the elements above\n",
    "\n",
    "np_list = np.array(py_list) #converting the list to np.array\n",
    "tf = np.array(tf_list) #converting tf_list to array\n",
    "\n",
    "np_list[tf] #by default it will print everything as true\n",
    "# Workflow: Assign T/F to individual elements -> print only True elements"
   ]
  },
  {
   "cell_type": "markdown",
   "id": "577ead58-6ba3-4422-a5f1-ad34ea47334f",
   "metadata": {},
   "source": [
    "# Exercise 3"
   ]
  },
  {
   "cell_type": "code",
   "execution_count": 4,
   "id": "30932e55-96ad-4f1e-a2b8-1046c0eec749",
   "metadata": {},
   "outputs": [
    {
     "name": "stdout",
     "output_type": "stream",
     "text": [
      "Boron\n",
      "Boron\n"
     ]
    }
   ],
   "source": [
    "elements = ['Hydrogen',\n",
    "            'Helium', 'Lithium',\n",
    "            'Beryllium', 'Boron', 'Carbon',\n",
    "            'Nitrogen', 'Oxygen',\n",
    "            'Fluorine',\n",
    "            'Neon']\n",
    "\n",
    "print(elements[4])\n",
    "print(elements[-6])"
   ]
  },
  {
   "cell_type": "markdown",
   "id": "3c78655c-c737-4ec3-b2f0-70b431a887ed",
   "metadata": {},
   "source": [
    "# Exercise 4"
   ]
  },
  {
   "cell_type": "code",
   "execution_count": 11,
   "id": "46c56a9f-42cc-49d1-b8a2-a617b6535c9a",
   "metadata": {},
   "outputs": [
    {
     "data": {
      "text/plain": [
       "np.int64(9)"
      ]
     },
     "execution_count": 11,
     "metadata": {},
     "output_type": "execute_result"
    }
   ],
   "source": [
    "import numpy as np\n",
    "numbers = [45, 60, 1, 30, 96, 1, 96, 57, 16, 1,\n",
    "        99, 62, 86, 43, 42, 60, 59, 1, 1, 35,\n",
    "        83, 47, 34, 28, 68, 23, 22, 92, 1, 79,\n",
    "        1, 29, 94, 72, 46, 47, 1, 74, 32, 20,\n",
    "        8, 37, 35, 1, 89, 29, 86, 19, 43, 61]\n",
    "\n",
    "np_numbers = np.array(numbers) #have to assign the np.array to a variable\n",
    "sum(np_numbers == 1)"
   ]
  },
  {
   "cell_type": "markdown",
   "id": "8b5a396f-ade7-4d4e-9b33-f246101625a0",
   "metadata": {},
   "source": [
    "# Exercise 5"
   ]
  },
  {
   "cell_type": "code",
   "execution_count": 30,
   "id": "201056f3-64cb-455a-bee1-d5b41db0d0aa",
   "metadata": {},
   "outputs": [
    {
     "name": "stdout",
     "output_type": "stream",
     "text": [
      "38.5 302.5 32.41990129534635 326.0893282522444\n",
      "104362.5\n",
      "10510.5\n",
      "0.9871796626270701\n"
     ]
    },
    {
     "data": {
      "text/plain": [
       "array([[1.        , 0.98717966],\n",
       "       [0.98717966, 1.        ]])"
      ]
     },
     "execution_count": 30,
     "metadata": {},
     "output_type": "execute_result"
    }
   ],
   "source": [
    "import numpy as np\n",
    "x_1 = [1, 4, 9, 16, 25, 36, 49, 64, 81, 100]\n",
    "x_2 = [1, 8, 27, 64, 125, 216, 343, 512, 729, 1000]\n",
    "\n",
    "x1_mean = np.mean(x_1)\n",
    "x2_mean = np.mean(x_2)\n",
    "x1_std = np.std(x_1)\n",
    "x2_std = np.std(x_2)\n",
    "\n",
    "print(x1_mean, x2_mean, x1_std, x2_std)\n",
    "\n",
    "x1_element_minus_mean = np.array(x_1) - x1_mean #minusing x_1 elements with mean\n",
    "x2_element_minus_mean = np.array(x_2) - x2_mean #minusing x_2 elements with mean\n",
    "\n",
    "x1_x2 = sum(x1_element_minus_mean * x2_element_minus_mean)\n",
    "print(x1_x2)\n",
    "\n",
    "x1_element_minus_mean_sq = sum(x1_element_minus_mean**2)\n",
    "x2_element_minus_mean_sq = sum(x2_element_minus_mean**2)\n",
    "\n",
    "print(x1_element_minus_mean_sq)\n",
    "\n",
    "Pearson_correlation_coefficient_r = x1_x2 / np.sqrt(x1_element_minus_mean_sq * x2_element_minus_mean_sq)\n",
    "print(Pearson_correlation_coefficient_r) #0.9871796626270701\n",
    "\n",
    "np.corrcoef(x_1, x_2)\n",
    "\n",
    "#array([[1.        , 0.98717966],\n",
    "#       [0.98717966, 1.        ]])"
   ]
  }
 ],
 "metadata": {
  "kernelspec": {
   "display_name": "Python 3 (ipykernel)",
   "language": "python",
   "name": "python3"
  },
  "language_info": {
   "codemirror_mode": {
    "name": "ipython",
    "version": 3
   },
   "file_extension": ".py",
   "mimetype": "text/x-python",
   "name": "python",
   "nbconvert_exporter": "python",
   "pygments_lexer": "ipython3",
   "version": "3.12.3"
  },
  "toc": {
   "base_numbering": 1,
   "nav_menu": {},
   "number_sections": true,
   "sideBar": true,
   "skip_h1_title": false,
   "title_cell": "Table of Contents",
   "title_sidebar": "Contents",
   "toc_cell": false,
   "toc_position": {},
   "toc_section_display": true,
   "toc_window_display": false
  },
  "vscode": {
   "interpreter": {
    "hash": "31f2aee4e71d21fbe5cf8b01ff0e069b9275f58929596ceb00d14d90e3e16cd6"
   }
  }
 },
 "nbformat": 4,
 "nbformat_minor": 5
}
