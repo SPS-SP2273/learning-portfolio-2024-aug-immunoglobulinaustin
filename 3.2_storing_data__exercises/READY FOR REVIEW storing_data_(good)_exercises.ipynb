{
 "cells": [
  {
   "attachments": {},
   "cell_type": "markdown",
   "id": "123456",
   "metadata": {},
   "source": [
    "<div style=\"text-align:left;font-size:2em\"><span style=\"font-weight:bolder;font-size:1.25em\">SP2273 | Learning Portfolio</span><br><br><span style=\"font-weight:bold;color:darkred\">Storing Data (Good) Exercises</span></div>"
   ]
  },
  {
   "cell_type": "markdown",
   "id": "11b4d7e4-54bc-474b-ad46-f1976a539941",
   "metadata": {},
   "source": [
    "# Exercise 1"
   ]
  },
  {
   "cell_type": "markdown",
   "id": "a48b21a5-a8d7-4252-9940-f9edc3f616d3",
   "metadata": {},
   "source": [
    "| Term      | Brief description                                                                                |\n",
    "|------------|--------------------------------------------------------------------------------------------|\n",
    "| Subsetting | Selecting data/elements from list/array                                                    |\n",
    "| Indexing   | Selecting only an element with [] from list/array                                          |\n",
    "| Slicing    | *Selecting a range of elements [0:-1]*                                                       |\n",
    "| Masking    | *Using an output to filter a desired subset of answers e.g., asking t/f qns and wanting t repsonses* |"
   ]
  },
  {
   "cell_type": "markdown",
   "id": "6de34cce-fb52-4567-873e-78cf5d7fe488",
   "metadata": {},
   "source": [
    "# Exercise 2"
   ]
  },
  {
   "cell_type": "code",
   "execution_count": 14,
   "id": "44a2b294-28e9-4c54-a9bf-73533578d67d",
   "metadata": {},
   "outputs": [
    {
     "name": "stdout",
     "output_type": "stream",
     "text": [
      "[1 1 0 0 1 1 0 0 0 1]\n",
      "['A' 'C' 'E' 'G' 'I']\n"
     ]
    }
   ],
   "source": [
    "import numpy as np\n",
    "np_array_2d = np.array([[1, \"A\"], [3, \"C\"], [2, \"B\"], [4, \"D\"],\n",
    "                        [5, \"E\"], [7, \"G\"], [6, \"F\"], [8, \"H\"],\n",
    "                        [10, \"J\"], [9, \"I\"]])\n",
    "first_element = np_array_2d[:10, 0] #listing first elements up to index 10. gives the first element (0) of every index (:10)\n",
    "df = first_element.astype(int) #asking it to convert it to an integer dataframe\n",
    "print(df % 2)\n",
    "my_mask = df % 2 > 0 #since the remainders are all 0 and 1, we ask it if its >0.\n",
    "my_mask #array([True, True, False, False, True, True, False, False, False, True])\n",
    "\n",
    "print(np_array_2d[my_mask, 1]) #"
   ]
  },
  {
   "cell_type": "markdown",
   "id": "a235e1f0-73af-4128-9193-5bc65855f129",
   "metadata": {},
   "source": [
    "# Exercise 3"
   ]
  },
  {
   "cell_type": "code",
   "execution_count": 39,
   "id": "ecfb4f9f-1ce6-4bfa-a8cc-39a8ae7c5826",
   "metadata": {},
   "outputs": [
    {
     "data": {
      "text/plain": [
       "array([[ 1,  0,  1, -1, -1],\n",
       "       [ 1, -1,  1, -1, -1],\n",
       "       [ 1, -1, -1,  1, -1],\n",
       "       [-1,  1,  1, -1, -1],\n",
       "       [ 1, -1,  1, -1,  1]])"
      ]
     },
     "execution_count": 39,
     "metadata": {},
     "output_type": "execute_result"
    }
   ],
   "source": [
    "list = [[66, 50, 57, -1, -1],\n",
    "     [92, -1, 88, -1, -1],\n",
    "     [75, -1, -1, 76, -1],\n",
    "     [-1, 51, 87, -1, -1],\n",
    "     [71, -1, 67, -1, 69]]\n",
    "\n",
    "np_list = np.array(list)\n",
    "np_list[np_list < 50] = -1\n",
    "np_list[np_list > 50] = +1\n",
    "np_list[np_list == 50] = 0\n",
    "np_list"
   ]
  }
 ],
 "metadata": {
  "kernelspec": {
   "display_name": "Python 3 (ipykernel)",
   "language": "python",
   "name": "python3"
  },
  "language_info": {
   "codemirror_mode": {
    "name": "ipython",
    "version": 3
   },
   "file_extension": ".py",
   "mimetype": "text/x-python",
   "name": "python",
   "nbconvert_exporter": "python",
   "pygments_lexer": "ipython3",
   "version": "3.12.3"
  },
  "toc": {
   "base_numbering": 1,
   "nav_menu": {},
   "number_sections": true,
   "sideBar": true,
   "skip_h1_title": false,
   "title_cell": "Table of Contents",
   "title_sidebar": "Contents",
   "toc_cell": false,
   "toc_position": {},
   "toc_section_display": true,
   "toc_window_display": false
  },
  "vscode": {
   "interpreter": {
    "hash": "31f2aee4e71d21fbe5cf8b01ff0e069b9275f58929596ceb00d14d90e3e16cd6"
   }
  }
 },
 "nbformat": 4,
 "nbformat_minor": 5
}
