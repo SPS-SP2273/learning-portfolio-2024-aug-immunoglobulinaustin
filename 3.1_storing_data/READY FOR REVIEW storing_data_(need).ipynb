{
 "cells": [
  {
   "attachments": {},
   "cell_type": "markdown",
   "id": "123456",
   "metadata": {},
   "source": [
    "<div style=\"text-align:left;font-size:2em\"><span style=\"font-weight:bolder;font-size:1.25em\">SP2273 | Learning Portfolio</span><br><br><span style=\"font-weight:bold;color:darkred\">Storing Data (Need)</span></div>"
   ]
  },
  {
   "attachments": {},
   "cell_type": "markdown",
   "id": "9b56c780",
   "metadata": {},
   "source": [
    "# What to expect in this chapter"
   ]
  },
  {
   "attachments": {},
   "cell_type": "markdown",
   "id": "f4d7374a",
   "metadata": {},
   "source": [
    "# 1 Lists, Arrays & Dictionaries"
   ]
  },
  {
   "attachments": {},
   "cell_type": "markdown",
   "id": "408f808f",
   "metadata": {},
   "source": [
    "## 1.1 Let’s compare"
   ]
  },
  {
   "cell_type": "markdown",
   "id": "a01000c3-4725-4de0-9b08-461590b17e0f",
   "metadata": {},
   "source": [
    "Each array method is to allow different way of handling data. Each got its own features"
   ]
  },
  {
   "cell_type": "code",
   "execution_count": 2,
   "id": "f8778fad-53a3-46ec-9ffa-9135aba95eba",
   "metadata": {},
   "outputs": [],
   "source": [
    "py_super_names = [\"Black Widow\", \"Iron Man\", \"Doctor Strange\"]\n",
    "py_real_names = [\"Natasha Romanoff\", \"Tony Stark\", \"Stephen Strange\"]\n",
    "#python array"
   ]
  },
  {
   "cell_type": "code",
   "execution_count": 3,
   "id": "3533edea-a803-4539-a769-7ab54eb0677e",
   "metadata": {},
   "outputs": [],
   "source": [
    "import numpy as np\n",
    "np_super_names = np.array([\"Black Widow\", \"Iron Man\", \"Doctor Strange\"])\n",
    "np_real_names = np.array([\"Natasha Romanoff\", \"Tony Stark\", \"Stephen Strange\"])\n",
    "#numpy array"
   ]
  },
  {
   "cell_type": "code",
   "execution_count": 4,
   "id": "9645357e-b05e-4ab0-bf35-89ff8ee26cb3",
   "metadata": {},
   "outputs": [],
   "source": [
    "superhero_info = {\n",
    "    \"Natasha Romanoff\": \"Black Widow\",\n",
    "    \"Tony Stark\": \"Iron Man\",\n",
    "    \"Stephen Strange\": \"Doctor Strange\"\n",
    "}\n",
    "#dictionary"
   ]
  },
  {
   "attachments": {},
   "cell_type": "markdown",
   "id": "eddb384e",
   "metadata": {},
   "source": [
    "## 1.2 Accessing data from a list (or array)"
   ]
  },
  {
   "cell_type": "markdown",
   "id": "902c6c5a-301b-463e-9ca1-31bf1b730701",
   "metadata": {},
   "source": [
    "![](https://sps.nus.edu.sg/sp2273/docs/python_basics/03_storing-data/python-zero-indexed-counting.png)"
   ]
  },
  {
   "cell_type": "code",
   "execution_count": 8,
   "id": "4820645f-9dbc-4fe1-8d43-dedfe2b89532",
   "metadata": {},
   "outputs": [
    {
     "data": {
      "text/plain": [
       "'Iron Man'"
      ]
     },
     "execution_count": 8,
     "metadata": {},
     "output_type": "execute_result"
    }
   ],
   "source": [
    "py_super_names = [\"Black Widow\", \"Iron Man\", \"Doctor Strange\"]\n",
    "py_real_names = [\"Natasha Romanoff\", \"Tony Stark\", \"Stephen Strange\"]\n",
    "\n",
    "#Py runs on 0 indices, meaning if I want second element, it will be at pos. 2\n",
    "\n",
    "py_real_names[0]\n",
    "py_super_names[1] #access the second element"
   ]
  },
  {
   "cell_type": "code",
   "execution_count": 1,
   "id": "d2d46b96-9641-492d-9e27-a39d4194271e",
   "metadata": {},
   "outputs": [
    {
     "data": {
      "text/plain": [
       "np.str_('Yippe')"
      ]
     },
     "execution_count": 1,
     "metadata": {},
     "output_type": "execute_result"
    }
   ],
   "source": [
    "import numpy as np\n",
    "np_super_names = np.array([\"Black Widow\", \"Iron Man\", \"Doctor Strange\"])\n",
    "np_real_names = np.array([\"Natasha Romanoff\", \"Tony Stark\", \"Stephen Strange\"])\n",
    "\n",
    "np_super_names[0] = 'Yippe' #you can do this if you want.\n",
    "np_super_names[0]"
   ]
  },
  {
   "cell_type": "code",
   "execution_count": 3,
   "id": "cd799c92-6de8-4891-81f0-74149fc34507",
   "metadata": {},
   "outputs": [
    {
     "data": {
      "text/plain": [
       "'Doctor Strange'"
      ]
     },
     "execution_count": 3,
     "metadata": {},
     "output_type": "execute_result"
    }
   ],
   "source": [
    "py_super_names[-1] #go reverse order, for -1 it gives you the last element. -2 for last second element"
   ]
  },
  {
   "cell_type": "code",
   "execution_count": 5,
   "id": "096684f5-b41f-45db-81e2-6b32605c1f64",
   "metadata": {},
   "outputs": [
    {
     "data": {
      "text/plain": [
       "{'Natasha Romanoff': 'Black Widow',\n",
       " 'Tony Stark': 'Iron Man',\n",
       " 'Stephen Strange': 'Doctor Strange',\n",
       " 'Peter Parker': 'Spider Man'}"
      ]
     },
     "execution_count": 5,
     "metadata": {},
     "output_type": "execute_result"
    }
   ],
   "source": [
    "superhero_info['Peter Parker']= 'Spider Man' #inserting spiderman into the array\n",
    "superhero_info"
   ]
  },
  {
   "attachments": {},
   "cell_type": "markdown",
   "id": "1b61eeab",
   "metadata": {},
   "source": [
    "## 1.3 Accessing data from a dictionary"
   ]
  },
  {
   "cell_type": "code",
   "execution_count": 6,
   "id": "8e560a07-db70-4ba4-b998-2e414c8d6c55",
   "metadata": {},
   "outputs": [
    {
     "data": {
      "text/plain": [
       "dict_keys(['Natasha Romanoff', 'Tony Stark', 'Stephen Strange', 'Peter Parker'])"
      ]
     },
     "execution_count": 6,
     "metadata": {},
     "output_type": "execute_result"
    }
   ],
   "source": [
    "superhero_info.keys()"
   ]
  },
  {
   "cell_type": "code",
   "execution_count": 7,
   "id": "3fdec853-d67d-440b-bc7a-a67222b48008",
   "metadata": {},
   "outputs": [
    {
     "data": {
      "text/plain": [
       "dict_values(['Black Widow', 'Iron Man', 'Doctor Strange', 'Spider Man'])"
      ]
     },
     "execution_count": 7,
     "metadata": {},
     "output_type": "execute_result"
    }
   ],
   "source": [
    "superhero_info.values()"
   ]
  },
  {
   "attachments": {},
   "cell_type": "markdown",
   "id": "c88af892",
   "metadata": {},
   "source": [
    "## 1.4 Higher dimensional lists"
   ]
  },
  {
   "cell_type": "code",
   "execution_count": 8,
   "id": "c34143c3-13f9-4402-a64d-a1ef4a49d96f",
   "metadata": {},
   "outputs": [],
   "source": [
    "py_superhero_info = [['Natasha Romanoff', 'Black Widow'],\n",
    "                     ['Tony Stark', 'Iron Man'],\n",
    "                     ['Stephen Strange', 'Doctor Strange']]\n",
    "#storing list in a list, recommended to use a dictionary"
   ]
  },
  {
   "attachments": {},
   "cell_type": "markdown",
   "id": "125a3748",
   "metadata": {},
   "source": [
    "# 2 Lists vs. Arrays"
   ]
  },
  {
   "attachments": {},
   "cell_type": "markdown",
   "id": "a9669a2a",
   "metadata": {},
   "source": [
    "## 2.1 Size"
   ]
  },
  {
   "cell_type": "code",
   "execution_count": 9,
   "id": "c123fae8-822b-4388-8504-c42f4cf5ed47",
   "metadata": {},
   "outputs": [],
   "source": [
    "py_list_2d = [[1, \"A\"], [2, \"B\"], [3, \"C\"], [4, \"D\"],\n",
    "              [5, \"E\"], [6, \"F\"], [7, \"G\"], [8, \"H\"],\n",
    "              [9, \"I\"], [10, \"J\"]]\n",
    "\n",
    "np_array_2d = np.array(py_list_2d) #converting py list to convert into numpy arrays    "
   ]
  },
  {
   "cell_type": "code",
   "execution_count": 11,
   "id": "714cafa0-b9bc-4bf0-ae04-6c6f7f71e8f8",
   "metadata": {},
   "outputs": [
    {
     "data": {
      "text/plain": [
       "array([['1', 'A'],\n",
       "       ['2', 'B'],\n",
       "       ['3', 'C'],\n",
       "       ['4', 'D'],\n",
       "       ['5', 'E'],\n",
       "       ['6', 'F'],\n",
       "       ['7', 'G'],\n",
       "       ['8', 'H'],\n",
       "       ['9', 'I'],\n",
       "       ['10', 'J']], dtype='<U21')"
      ]
     },
     "execution_count": 11,
     "metadata": {},
     "output_type": "execute_result"
    }
   ],
   "source": [
    "np_array_2d #you get the same data, but its in an array\n",
    "#telling it to store in this data type '<U21'"
   ]
  },
  {
   "cell_type": "code",
   "execution_count": 13,
   "id": "f28f8976-c5f6-4aa0-8a36-a92f883e3bdb",
   "metadata": {},
   "outputs": [
    {
     "data": {
      "text/plain": [
       "(10, 2)"
      ]
     },
     "execution_count": 13,
     "metadata": {},
     "output_type": "execute_result"
    }
   ],
   "source": [
    "len(py_list_2d) #gives you the first dimension only. Think of it as 2D, having 10 rows and 2 cols. \n",
    "#len always give no. of rows\n",
    "len(np_array_2d) \n",
    "np_array_2d.shape #.shape gives you rows, cols."
   ]
  },
  {
   "cell_type": "code",
   "execution_count": 23,
   "id": "23948cf1-0478-4f51-9c3a-919255fb5978",
   "metadata": {},
   "outputs": [
    {
     "data": {
      "text/plain": [
       "'HAHAHAHA'"
      ]
     },
     "execution_count": 23,
     "metadata": {},
     "output_type": "execute_result"
    }
   ],
   "source": [
    "'Hahahaha'.upper() #when you use (), it runs like instructions\n",
    "np_array_2d.shape #.shape is an attribute, and is it generated when using array"
   ]
  },
  {
   "cell_type": "code",
   "execution_count": 22,
   "id": "a85e0df8-d6ec-46f9-8f2f-38051b410526",
   "metadata": {},
   "outputs": [
    {
     "data": {
      "text/plain": [
       "(10, 2)"
      ]
     },
     "execution_count": 22,
     "metadata": {},
     "output_type": "execute_result"
    }
   ],
   "source": [
    "np_array_2d.shape #tells you dimension\n",
    "#numpy takes chunk of memory and does it in a way it can process information in all rows and cols.\n",
    "#not uniform number of rows or cols in certain elements gives numpy error"
   ]
  },
  {
   "cell_type": "code",
   "execution_count": 21,
   "id": "7e3aa604-3b53-4810-9dbc-843eb6880ba6",
   "metadata": {},
   "outputs": [
    {
     "data": {
      "text/plain": [
       "[[1, 'A'],\n",
       " [2, 'B'],\n",
       " [3, 'C'],\n",
       " [4, 'D'],\n",
       " [5, 'E'],\n",
       " [6, 'F'],\n",
       " [7, 'G'],\n",
       " [8, 'H'],\n",
       " [9, 'I'],\n",
       " [10, 'J', 'hahahah']]"
      ]
     },
     "execution_count": 21,
     "metadata": {},
     "output_type": "execute_result"
    }
   ],
   "source": [
    "py_list_2d = [[1, \"A\"], [2, \"B\"], [3, \"C\"], [4, \"D\"],\n",
    "              [5, \"E\"], [6, \"F\"], [7, \"G\"], [8, \"H\"],\n",
    "              [9, \"I\"], [10, \"J\", \"hahahah\"]]\n",
    "py_list_2d #more flexible, allow you to add in str, int etc."
   ]
  },
  {
   "attachments": {},
   "cell_type": "markdown",
   "id": "b26257ec",
   "metadata": {},
   "source": [
    "## 2.2 Arrays are fussy about type"
   ]
  },
  {
   "cell_type": "code",
   "execution_count": 14,
   "id": "0b567d06-4a7a-466a-baeb-c8623fc96e50",
   "metadata": {},
   "outputs": [
    {
     "data": {
      "text/plain": [
       "[1, 1.5, 'A']"
      ]
     },
     "execution_count": 14,
     "metadata": {},
     "output_type": "execute_result"
    }
   ],
   "source": [
    "py_list = [1, 1.5, 'A']\n",
    "py_list #Runs fine, does not complain"
   ]
  },
  {
   "cell_type": "code",
   "execution_count": 15,
   "id": "ecf489b3-d9a1-459f-80f2-18aff97e4086",
   "metadata": {},
   "outputs": [
    {
     "data": {
      "text/plain": [
       "array(['1', '1.5', 'A'], dtype='<U32')"
      ]
     },
     "execution_count": 15,
     "metadata": {},
     "output_type": "execute_result"
    }
   ],
   "source": [
    "np_array = np.array(py_list)\n",
    "np_array #when convert to array, it tell you to convert to <U32 as its optimised.\n",
    "#speed, forces you to convert it to a single type\n",
    "#all numpy array must have same type."
   ]
  },
  {
   "attachments": {},
   "cell_type": "markdown",
   "id": "e28a8a43",
   "metadata": {},
   "source": [
    "## 2.3 Adding a number"
   ]
  },
  {
   "cell_type": "code",
   "execution_count": 17,
   "id": "f677d8d4-286f-4131-8e9e-354c352d9dcf",
   "metadata": {},
   "outputs": [],
   "source": [
    "py_list = [1, 2, 3, 4, 5]\n",
    "np_array = np.array(py_list)"
   ]
  },
  {
   "cell_type": "code",
   "execution_count": 18,
   "id": "7fc534b4-b2a7-49d7-86d8-22b10c924ef9",
   "metadata": {},
   "outputs": [
    {
     "data": {
      "text/plain": [
       "array([11, 12, 13, 14, 15])"
      ]
     },
     "execution_count": 18,
     "metadata": {},
     "output_type": "execute_result"
    }
   ],
   "source": [
    "np_array + 10 #useful for changing a lot of data very fast\n"
   ]
  },
  {
   "cell_type": "code",
   "execution_count": 21,
   "id": "6781340c-4f20-416e-8302-5493b872dbd2",
   "metadata": {},
   "outputs": [
    {
     "ename": "TypeError",
     "evalue": "can only concatenate list (not \"int\") to list",
     "output_type": "error",
     "traceback": [
      "\u001b[1;31m---------------------------------------------------------------------------\u001b[0m",
      "\u001b[1;31mTypeError\u001b[0m                                 Traceback (most recent call last)",
      "Cell \u001b[1;32mIn[21], line 1\u001b[0m\n\u001b[1;32m----> 1\u001b[0m \u001b[43mpy_list\u001b[49m\u001b[43m \u001b[49m\u001b[38;5;241;43m+\u001b[39;49m\u001b[43m \u001b[49m\u001b[38;5;241;43m10\u001b[39;49m \u001b[38;5;66;03m#adding a list and a number, will have error\u001b[39;00m\n\u001b[0;32m      3\u001b[0m py_list \u001b[38;5;241m+\u001b[39m[\u001b[38;5;241m10\u001b[39m] \u001b[38;5;66;03m#need to add [], list have append function that is faster than this\u001b[39;00m\n",
      "\u001b[1;31mTypeError\u001b[0m: can only concatenate list (not \"int\") to list"
     ]
    }
   ],
   "source": [
    "py_list + 10 #adding a list and a number, will have error\n",
    "\n",
    "py_list +[10] #need to add [], list have append function that is faster than this"
   ]
  },
  {
   "attachments": {},
   "cell_type": "markdown",
   "id": "3b2bbd39",
   "metadata": {},
   "source": [
    "## 2.4 Adding another list"
   ]
  },
  {
   "cell_type": "code",
   "execution_count": 22,
   "id": "cea6c1e1-453b-4878-ac78-7ce963df99e3",
   "metadata": {},
   "outputs": [],
   "source": [
    "py_list_1 = [1, 2, 3, 4, 5]\n",
    "py_list_2 = [10, 20, 30, 40, 50]\n",
    "\n",
    "np_array_1 = np.array(py_list_1)\n",
    "np_array_2 = np.array(py_list_2)"
   ]
  },
  {
   "cell_type": "code",
   "execution_count": 25,
   "id": "2980f05a-37ea-42fc-860f-546a943046b7",
   "metadata": {},
   "outputs": [
    {
     "data": {
      "text/plain": [
       "[1, 2, 3, 4, 5, 10, 20, 30, 40, 50]"
      ]
     },
     "execution_count": 25,
     "metadata": {},
     "output_type": "execute_result"
    }
   ],
   "source": [
    "py_list_1 + py_list_2 #adding lists cause them to grow"
   ]
  },
  {
   "cell_type": "code",
   "execution_count": 24,
   "id": "a3330f81-7c62-44b4-8875-67c533d3d189",
   "metadata": {},
   "outputs": [
    {
     "data": {
      "text/plain": [
       "array([11, 22, 33, 44, 55])"
      ]
     },
     "execution_count": 24,
     "metadata": {},
     "output_type": "execute_result"
    }
   ],
   "source": [
    "np_array_1 + np_array_2 #adding arrays is element-wise operation"
   ]
  },
  {
   "attachments": {},
   "cell_type": "markdown",
   "id": "e4bd9935",
   "metadata": {},
   "source": [
    "## 2.5 Multiplying by a Number"
   ]
  },
  {
   "cell_type": "code",
   "execution_count": 27,
   "id": "5da77c74-5486-4bec-9e1a-f1563e48714a",
   "metadata": {},
   "outputs": [],
   "source": [
    "py_list = [1, 2, 3, 4, 5]\n",
    "np_array = np.array(py_list)"
   ]
  },
  {
   "cell_type": "code",
   "execution_count": 32,
   "id": "aa2edfa9-665d-47c5-9729-2794efa3616c",
   "metadata": {},
   "outputs": [
    {
     "data": {
      "text/plain": [
       "[[1, 2, 3, 4, 5], [1, 2, 3, 4, 5]]"
      ]
     },
     "execution_count": 32,
     "metadata": {},
     "output_type": "execute_result"
    }
   ],
   "source": [
    "py_list*2 #replicates the list"
   ]
  },
  {
   "cell_type": "code",
   "execution_count": 30,
   "id": "ccadf74f-4094-4161-8bfe-3a997df79431",
   "metadata": {},
   "outputs": [
    {
     "data": {
      "text/plain": [
       "array([ 2,  4,  6,  8, 10])"
      ]
     },
     "execution_count": 30,
     "metadata": {},
     "output_type": "execute_result"
    }
   ],
   "source": [
    "np_array*2 #multiply its elements by the no."
   ]
  },
  {
   "cell_type": "code",
   "execution_count": 43,
   "id": "6dbbf8f6-8d6f-471b-8436-67694ccbe117",
   "metadata": {},
   "outputs": [
    {
     "ename": "TypeError",
     "evalue": "can't multiply sequence by non-int of type 'list'",
     "output_type": "error",
     "traceback": [
      "\u001b[1;31m---------------------------------------------------------------------------\u001b[0m",
      "\u001b[1;31mTypeError\u001b[0m                                 Traceback (most recent call last)",
      "Cell \u001b[1;32mIn[43], line 3\u001b[0m\n\u001b[0;32m      1\u001b[0m np_array \u001b[38;5;241m*\u001b[39m \u001b[38;5;241m10\u001b[39m \u001b[38;5;66;03m#useful for changing a lot of data very fast\u001b[39;00m\n\u001b[1;32m----> 3\u001b[0m \u001b[43mpy_list\u001b[49m\u001b[43m \u001b[49m\u001b[38;5;241;43m*\u001b[39;49m\u001b[43m \u001b[49m\u001b[43m[\u001b[49m\u001b[38;5;241;43m10\u001b[39;49m\u001b[43m]\u001b[49m \u001b[38;5;66;03m#Doesn't work\u001b[39;00m\n",
      "\u001b[1;31mTypeError\u001b[0m: can't multiply sequence by non-int of type 'list'"
     ]
    }
   ],
   "source": [
    "np_array * 10 #useful for changing a lot of data very fast\n",
    "\n",
    "py_list * [10] #Doesn't work"
   ]
  },
  {
   "attachments": {},
   "cell_type": "markdown",
   "id": "daf2c54b",
   "metadata": {},
   "source": [
    "## 2.6 Squaring"
   ]
  },
  {
   "cell_type": "code",
   "execution_count": 48,
   "id": "588f83dd-15c1-4cb7-ab95-7828e513b5c3",
   "metadata": {},
   "outputs": [],
   "source": [
    "py_list = [1, 2, 3, 4, 5]\n",
    "np_array = np.array(py_list)"
   ]
  },
  {
   "cell_type": "code",
   "execution_count": 50,
   "id": "a46d6e9e-4807-4acc-9429-b8fe78eaffbc",
   "metadata": {},
   "outputs": [
    {
     "data": {
      "text/plain": [
       "array([ 1,  4,  9, 16, 25])"
      ]
     },
     "execution_count": 50,
     "metadata": {},
     "output_type": "execute_result"
    }
   ],
   "source": [
    "#Arrays\n",
    "np_array ** 2 #element wise operation"
   ]
  },
  {
   "cell_type": "code",
   "execution_count": 51,
   "id": "f0a6905c-9766-44c7-a851-5d5712e3f0da",
   "metadata": {},
   "outputs": [
    {
     "ename": "TypeError",
     "evalue": "unsupported operand type(s) for ** or pow(): 'list' and 'int'",
     "output_type": "error",
     "traceback": [
      "\u001b[1;31m---------------------------------------------------------------------------\u001b[0m",
      "\u001b[1;31mTypeError\u001b[0m                                 Traceback (most recent call last)",
      "Cell \u001b[1;32mIn[51], line 1\u001b[0m\n\u001b[1;32m----> 1\u001b[0m \u001b[43mpy_list\u001b[49m\u001b[38;5;241;43m*\u001b[39;49m\u001b[38;5;241;43m*\u001b[39;49m\u001b[38;5;241;43m2\u001b[39;49m\n",
      "\u001b[1;31mTypeError\u001b[0m: unsupported operand type(s) for ** or pow(): 'list' and 'int'"
     ]
    }
   ],
   "source": [
    "py_list**2"
   ]
  },
  {
   "cell_type": "code",
   "execution_count": 47,
   "id": "533b8ade-9e06-418b-9fd4-7b116a791a4a",
   "metadata": {},
   "outputs": [
    {
     "ename": "TypeError",
     "evalue": "unsupported operand type(s) for ** or pow(): 'list' and 'int'",
     "output_type": "error",
     "traceback": [
      "\u001b[1;31m---------------------------------------------------------------------------\u001b[0m",
      "\u001b[1;31mTypeError\u001b[0m                                 Traceback (most recent call last)",
      "Cell \u001b[1;32mIn[47], line 3\u001b[0m\n\u001b[0;32m      1\u001b[0m \u001b[38;5;66;03m#List\u001b[39;00m\n\u001b[0;32m      2\u001b[0m [\u001b[38;5;241m1\u001b[39m, \u001b[38;5;241m2\u001b[39m] \u001b[38;5;241m*\u001b[39m \u001b[38;5;241m10\u001b[39m \u001b[38;5;66;03m#doesn't work\u001b[39;00m\n\u001b[1;32m----> 3\u001b[0m \u001b[43m[\u001b[49m\u001b[38;5;241;43m1\u001b[39;49m\u001b[43m,\u001b[49m\u001b[43m \u001b[49m\u001b[38;5;241;43m2\u001b[39;49m\u001b[43m]\u001b[49m\u001b[43m \u001b[49m\u001b[38;5;241;43m*\u001b[39;49m\u001b[38;5;241;43m*\u001b[39;49m\u001b[43m \u001b[49m\u001b[38;5;241;43m2\u001b[39;49m \u001b[38;5;66;03m#Doesn't work\u001b[39;00m\n",
      "\u001b[1;31mTypeError\u001b[0m: unsupported operand type(s) for ** or pow(): 'list' and 'int'"
     ]
    }
   ],
   "source": [
    "#List\n",
    "[1, 2] * 10 #doesn't work\n",
    "[1, 2] ** 2 #Doesn't work"
   ]
  },
  {
   "attachments": {},
   "cell_type": "markdown",
   "id": "80cc364f",
   "metadata": {},
   "source": [
    "## 2.7 Asking questions"
   ]
  },
  {
   "cell_type": "code",
   "execution_count": 65,
   "id": "3fc58ada-cf5e-4a7a-a521-bf27e48293ca",
   "metadata": {},
   "outputs": [],
   "source": [
    "py_list = [1, 2, 3, 4, 5]\n",
    "np_array = np.array(py_list)"
   ]
  },
  {
   "cell_type": "code",
   "execution_count": 68,
   "id": "3fcdb2c8-4fac-4e33-a650-95cfaa0432b7",
   "metadata": {},
   "outputs": [
    {
     "data": {
      "text/plain": [
       "False"
      ]
     },
     "execution_count": 68,
     "metadata": {},
     "output_type": "execute_result"
    }
   ],
   "source": [
    "py_list == 3 # asking if your list is 3. Wont complain, becareful when using\n",
    "#when to comes to math operation, use array"
   ]
  },
  {
   "cell_type": "code",
   "execution_count": 66,
   "id": "be0b72c1-1d87-4418-b217-2d8ec3ad194c",
   "metadata": {},
   "outputs": [
    {
     "data": {
      "text/plain": [
       "array([False, False,  True, False, False])"
      ]
     },
     "execution_count": 66,
     "metadata": {},
     "output_type": "execute_result"
    }
   ],
   "source": [
    "np_array == 3  #asking whether are you 3, goes element wise"
   ]
  },
  {
   "cell_type": "code",
   "execution_count": 67,
   "id": "db55c222-eed3-4ae3-82fa-6449246e9088",
   "metadata": {},
   "outputs": [
    {
     "data": {
      "text/plain": [
       "array([False, False, False,  True,  True])"
      ]
     },
     "execution_count": 67,
     "metadata": {},
     "output_type": "execute_result"
    }
   ],
   "source": [
    "np_array > 3   #asking whether you are >3 element wise"
   ]
  },
  {
   "attachments": {},
   "cell_type": "markdown",
   "id": "a385d721",
   "metadata": {},
   "source": [
    "## 2.8 Mathematics"
   ]
  },
  {
   "cell_type": "code",
   "execution_count": null,
   "id": "d51b076a-faf1-40ab-b76e-c7da78bbe261",
   "metadata": {},
   "outputs": [],
   "source": [
    "py_list = [1, 2, 3, 4, 5]\n",
    "np_array = np.array(py_list)         "
   ]
  },
  {
   "cell_type": "code",
   "execution_count": 60,
   "id": "d4f85dbf-deb6-476b-83a1-eade2028bcb7",
   "metadata": {},
   "outputs": [
    {
     "data": {
      "text/plain": [
       "1"
      ]
     },
     "execution_count": 60,
     "metadata": {},
     "output_type": "execute_result"
    }
   ],
   "source": [
    "sum(py_list)     # sum() is a base Python function\n",
    "max(py_list)     # max() is a base Python function\n",
    "min(py_list)     # min() is a base Python function\n",
    "#green are base python functions"
   ]
  },
  {
   "cell_type": "code",
   "execution_count": 61,
   "id": "61d609cc-1262-4f02-8c03-e3965af4851b",
   "metadata": {},
   "outputs": [
    {
     "data": {
      "text/plain": [
       "np.float64(1.4142135623730951)"
      ]
     },
     "execution_count": 61,
     "metadata": {},
     "output_type": "execute_result"
    }
   ],
   "source": [
    "np_array.sum()\n",
    "np_array.max()\n",
    "np_array.min()\n",
    "np_array.mean()\n",
    "np_array.std()\n",
    "#jupyter only shows the last result\n",
    "#hidden function method, a lot of fancy hidden functions\n",
    "#cannot mix"
   ]
  },
  {
   "cell_type": "code",
   "execution_count": 62,
   "id": "e960bc67-8d67-4561-aa4f-f72c971daa6a",
   "metadata": {},
   "outputs": [
    {
     "name": "stdout",
     "output_type": "stream",
     "text": [
      "15\n",
      "5\n",
      "1\n",
      "3.0\n",
      "1.4142135623730951\n"
     ]
    }
   ],
   "source": [
    "print(np_array.sum())\n",
    "print(np_array.max())\n",
    "print(np_array.min())\n",
    "print(np_array.mean())\n",
    "print(np_array.std())\n",
    "#add print if you want to see individual results"
   ]
  },
  {
   "cell_type": "code",
   "execution_count": 64,
   "id": "54d4111f-2db7-4f32-b87f-8933aa594c39",
   "metadata": {},
   "outputs": [
    {
     "name": "stdout",
     "output_type": "stream",
     "text": [
      "1.1 μs ± 11.2 ns per loop (mean ± std. dev. of 7 runs, 1,000,000 loops each)\n"
     ]
    }
   ],
   "source": [
    "%%timeit\n",
    "sum(np_array) #python sym function on a numpy list"
   ]
  },
  {
   "cell_type": "code",
   "execution_count": 65,
   "id": "40d0ad73-a536-4f0b-acf5-2dea4ae861f8",
   "metadata": {},
   "outputs": [
    {
     "name": "stdout",
     "output_type": "stream",
     "text": [
      "1.86 μs ± 8.1 ns per loop (mean ± std. dev. of 7 runs, 1,000,000 loops each)\n"
     ]
    }
   ],
   "source": [
    "%%timeit\n",
    "np_array.sum() #using numpy function\n",
    "#numpy generally should be faster. It appears slower cuz small data set"
   ]
  },
  {
   "attachments": {},
   "cell_type": "markdown",
   "id": "be195188",
   "metadata": {},
   "source": [
    "## Footnotes"
   ]
  },
  {
   "cell_type": "markdown",
   "id": "11b3e168-af96-4eca-a33e-9f375a6b6006",
   "metadata": {},
   "source": [
    "### Arrays"
   ]
  },
  {
   "cell_type": "code",
   "execution_count": 1,
   "id": "f7787c3d-7b9e-435b-a4d5-b31e419e080d",
   "metadata": {},
   "outputs": [],
   "source": [
    "py_list = [[1, 1], [2, 1], [3, 1], [4, 1], [5, 1]]"
   ]
  },
  {
   "cell_type": "code",
   "execution_count": 68,
   "id": "c9874e2c-1b96-4e5d-9a05-0dcc55a0c9e8",
   "metadata": {},
   "outputs": [
    {
     "ename": "TypeError",
     "evalue": "unsupported operand type(s) for +: 'int' and 'list'",
     "output_type": "error",
     "traceback": [
      "\u001b[1;31m---------------------------------------------------------------------------\u001b[0m",
      "\u001b[1;31mTypeError\u001b[0m                                 Traceback (most recent call last)",
      "Cell \u001b[1;32mIn[68], line 1\u001b[0m\n\u001b[1;32m----> 1\u001b[0m \u001b[38;5;28;43msum\u001b[39;49m\u001b[43m(\u001b[49m\u001b[43mpy_list\u001b[49m\u001b[43m)\u001b[49m\n",
      "\u001b[1;31mTypeError\u001b[0m: unsupported operand type(s) for +: 'int' and 'list'"
     ]
    }
   ],
   "source": [
    "sum(py_list)"
   ]
  },
  {
   "cell_type": "code",
   "execution_count": 7,
   "id": "d76d231a-a42b-45f6-b883-5b61c58ed341",
   "metadata": {},
   "outputs": [],
   "source": [
    "import numpy as np\n",
    "np_array = np.array(py_list) #converting py_list to array"
   ]
  },
  {
   "cell_type": "code",
   "execution_count": 6,
   "id": "bd52bae6-c2b6-4916-956b-f130c196b7d4",
   "metadata": {},
   "outputs": [
    {
     "data": {
      "text/plain": [
       "np.int64(20)"
      ]
     },
     "execution_count": 6,
     "metadata": {},
     "output_type": "execute_result"
    }
   ],
   "source": [
    "np_array.sum() #stripped it off its 2D-ness. By default give you the whole list"
   ]
  },
  {
   "cell_type": "code",
   "execution_count": null,
   "id": "233af56f-5422-4097-9188-474bba34e482",
   "metadata": {},
   "outputs": [],
   "source": [
    "#If want sum of rows or cols etc., numpy.sum() has default settings"
   ]
  },
  {
   "cell_type": "code",
   "execution_count": 8,
   "id": "a3eb2925-9296-440e-a1c9-820f17dfef67",
   "metadata": {},
   "outputs": [
    {
     "data": {
      "text/plain": [
       "array([2, 3, 4, 5, 6])"
      ]
     },
     "execution_count": 8,
     "metadata": {},
     "output_type": "execute_result"
    }
   ],
   "source": [
    "np_array.sum(axis=1) #adding elements within each []"
   ]
  }
 ],
 "metadata": {
  "kernelspec": {
   "display_name": "Python 3 (ipykernel)",
   "language": "python",
   "name": "python3"
  },
  "language_info": {
   "codemirror_mode": {
    "name": "ipython",
    "version": 3
   },
   "file_extension": ".py",
   "mimetype": "text/x-python",
   "name": "python",
   "nbconvert_exporter": "python",
   "pygments_lexer": "ipython3",
   "version": "3.12.3"
  },
  "toc": {
   "base_numbering": 1,
   "nav_menu": {},
   "number_sections": true,
   "sideBar": true,
   "skip_h1_title": false,
   "title_cell": "Table of Contents",
   "title_sidebar": "Contents",
   "toc_cell": false,
   "toc_position": {},
   "toc_section_display": true,
   "toc_window_display": false
  },
  "vscode": {
   "interpreter": {
    "hash": "31f2aee4e71d21fbe5cf8b01ff0e069b9275f58929596ceb00d14d90e3e16cd6"
   }
  }
 },
 "nbformat": 4,
 "nbformat_minor": 5
}
