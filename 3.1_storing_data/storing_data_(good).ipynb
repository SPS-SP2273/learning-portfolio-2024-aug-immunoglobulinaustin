{
 "cells": [
  {
   "attachments": {},
   "cell_type": "markdown",
   "id": "123456",
   "metadata": {},
   "source": [
    "<div style=\"text-align:left;font-size:2em\"><span style=\"font-weight:bolder;font-size:1.25em\">SP2273 | Learning Portfolio</span><br><br><span style=\"font-weight:bold;color:darkred\">Storing Data (Good)</span></div>"
   ]
  },
  {
   "cell_type": "code",
   "execution_count": 2,
   "id": "d92996ba-98a1-4ca6-9de3-ac0b0e79d53f",
   "metadata": {},
   "outputs": [],
   "source": [
    "import numpy as np #Every notebook has its own kernel"
   ]
  },
  {
   "attachments": {},
   "cell_type": "markdown",
   "id": "c6b1958a",
   "metadata": {},
   "source": [
    "# What to expect in this chapter"
   ]
  },
  {
   "attachments": {},
   "cell_type": "markdown",
   "id": "a9ac5b29",
   "metadata": {},
   "source": [
    "# 1 Subsetting (A few items): Indexing (Taking 1) and Slicing (Taking whole chunk)\n",
    "Take data and chop it up into pieces "
   ]
  },
  {
   "cell_type": "code",
   "execution_count": 5,
   "id": "515868f0-7ec0-4b22-bfd7-732ec3ed973e",
   "metadata": {},
   "outputs": [],
   "source": [
    "py_list=[\"a1\", \"b2\", \"c3\", \"d4\", \"e5\",\n",
    "         \"f6\", \"g7\", \"h8\", \"i9\", \"j10\"]\n",
    "np_array=np.array(py_list)\n",
    "\n",
    "# Pick one\n",
    "x = py_list  # OR\n",
    "#x = np_array"
   ]
  },
  {
   "cell_type": "code",
   "execution_count": 17,
   "id": "c523c270-392e-4df1-82d2-0f8bfbe18a63",
   "metadata": {},
   "outputs": [
    {
     "data": {
      "text/plain": [
       "['j10', 'i9', 'h8', 'g7', 'f6', 'e5', 'd4', 'c3', 'b2', 'a1']"
      ]
     },
     "execution_count": 17,
     "metadata": {},
     "output_type": "execute_result"
    }
   ],
   "source": [
    "py_list=[\"a1\", \"b2\", \"c3\", \"d4\", \"e5\",\n",
    "         \"f6\", \"g7\", \"h8\", \"i9\", \"j10\"]\n",
    "np_array=np.array(py_list)\n",
    "\n",
    "#\n",
    "x = py_list\n",
    "x\n",
    "x[3] #extract 3rd element\n",
    "x[2:5] #only liss element 2 and 4\n",
    "# always get difference in that many elements. always get  5 minus 2\n",
    "x[2:] #starts at index 2, list all the way\n",
    "x[2::2] #starts from index 2, intervals of 2 indexes\n",
    "x[2:8:2] #starts index 2, 6 elements, go in intervals of 2 index\n",
    "x[::-1] #starts listing from the back to front"
   ]
  },
  {
   "attachments": {},
   "cell_type": "markdown",
   "id": "05b369f7",
   "metadata": {},
   "source": [
    "## 1.1 Lists & Arrays in 1D | Subsetting & Indexing"
   ]
  },
  {
   "attachments": {},
   "cell_type": "markdown",
   "id": "62ae0375",
   "metadata": {},
   "source": [
    "## 1.2 Arrays only | Subsetting by masking"
   ]
  },
  {
   "cell_type": "code",
   "execution_count": 24,
   "id": "ebda899f-c9b2-4cbb-8144-a7a10c12441f",
   "metadata": {},
   "outputs": [
    {
     "data": {
      "text/plain": [
       "array([4, 5, 6, 7])"
      ]
     },
     "execution_count": 24,
     "metadata": {},
     "output_type": "execute_result"
    }
   ],
   "source": [
    "np_array = np.array([1, 2, 3, 4, 5, 6, 7, 8, 9, 10])\n",
    "my_mask = np_array > 3 #asking what numbers are > 3\n",
    "my_mask \n",
    "#Have to pick a set of numbers based on condition aka masking.\n",
    "\n",
    "np_array = np.array([1, 2, 3, 4, 5, 6, 7, 8, 9, 10])\n",
    "my_mask = (np_array > 3) & (np_array < 8)  #asking what numbers are > 3 & <8. cannot use 'and' as its a python function\n",
    "my_mask #only tells you t f\n",
    "np_array[my_mask] #only tells you which element is true\n"
   ]
  },
  {
   "cell_type": "code",
   "execution_count": 25,
   "id": "3c7ddd52-d9e9-46a2-bd40-56ca43f52ba2",
   "metadata": {},
   "outputs": [
    {
     "data": {
      "text/plain": [
       "np.int64(4)"
      ]
     },
     "execution_count": 25,
     "metadata": {},
     "output_type": "execute_result"
    }
   ],
   "source": [
    "my_mask.sum() #false = 0 and t = 1. When sum them, it tells you how many trues"
   ]
  },
  {
   "cell_type": "code",
   "execution_count": 26,
   "id": "2d77d0e5-34f3-4937-9945-a0d450d6fe86",
   "metadata": {},
   "outputs": [
    {
     "data": {
      "text/plain": [
       "array([ 1,  2,  3,  8,  9, 10])"
      ]
     },
     "execution_count": 26,
     "metadata": {},
     "output_type": "execute_result"
    }
   ],
   "source": [
    "np_array = np.array([1, 2, 3, 4, 5, 6, 7, 8, 9, 10])\n",
    "my_mask = (np_array > 3) & (np_array < 8)  #have to use brackets\n",
    "my_mask\n",
    "np_array[~my_mask] #only tells you which element is not true\n",
    "#addition '~' negative selects"
   ]
  },
  {
   "cell_type": "code",
   "execution_count": 31,
   "id": "b10c28fe-277c-4805-bc0b-c9b29248d043",
   "metadata": {},
   "outputs": [
    {
     "data": {
      "text/plain": [
       "array([ 1,  2,  3,  4,  5,  6,  7,  8,  9, 10])"
      ]
     },
     "execution_count": 31,
     "metadata": {},
     "output_type": "execute_result"
    }
   ],
   "source": [
    "#Asking for >3 or < 8\n",
    "np_array = np.array([1, 2, 3, 4, 5, 6, 7, 8, 9, 10])\n",
    "my_mask = (np_array > 3) | (np_array < 8)  #have to use brackets\n",
    "np_array[my_mask]\n",
    "#addition '|' denotes as or"
   ]
  },
  {
   "attachments": {},
   "cell_type": "markdown",
   "id": "81fa61db",
   "metadata": {},
   "source": [
    "## 1.3 Lists & Arrays in 2D | Indexing & Slicing"
   ]
  },
  {
   "cell_type": "code",
   "execution_count": 32,
   "id": "d1a47eb9-4f14-4bbf-86e8-b3d4d9aac2d8",
   "metadata": {},
   "outputs": [],
   "source": [
    "py_list_2d = [[1, \"A\"], [2, \"B\"], [3, \"C\"], [4, \"D\"],\n",
    "              [5, \"E\"], [6, \"F\"], [7, \"G\"], [8, \"H\"],\n",
    "              [9, \"I\"], [10, \"J\"]]\n",
    "\n",
    "np_array_2d = np.array(py_list_2d)"
   ]
  },
  {
   "cell_type": "code",
   "execution_count": 41,
   "id": "9d4b8e0a-39aa-435c-a499-e263a07c9150",
   "metadata": {},
   "outputs": [
    {
     "ename": "TypeError",
     "evalue": "list indices must be integers or slices, not tuple",
     "output_type": "error",
     "traceback": [
      "\u001b[1;31m---------------------------------------------------------------------------\u001b[0m",
      "\u001b[1;31mTypeError\u001b[0m                                 Traceback (most recent call last)",
      "Cell \u001b[1;32mIn[41], line 2\u001b[0m\n\u001b[0;32m      1\u001b[0m py_list_2d[\u001b[38;5;241m3\u001b[39m]\n\u001b[1;32m----> 2\u001b[0m \u001b[43mpy_list_2d\u001b[49m\u001b[43m[\u001b[49m\u001b[38;5;241;43m3\u001b[39;49m\u001b[43m,\u001b[49m\u001b[38;5;241;43m1\u001b[39;49m\u001b[43m]\u001b[49m \u001b[38;5;66;03m# if i want to get D, it doesn't work for array\u001b[39;00m\n\u001b[0;32m      3\u001b[0m py_list_2d[\u001b[38;5;241m3\u001b[39m][\u001b[38;5;241m1\u001b[39m] \u001b[38;5;66;03m#it will work\u001b[39;00m\n",
      "\u001b[1;31mTypeError\u001b[0m: list indices must be integers or slices, not tuple"
     ]
    }
   ],
   "source": [
    "py_list_2d[3]\n",
    "py_list_2d[3,1] # if i want to get D, it doesn't work for array\n",
    "py_list_2d[3][1] #it will work"
   ]
  },
  {
   "cell_type": "code",
   "execution_count": 35,
   "id": "05f795d0-7906-4383-af60-16e311a63f8b",
   "metadata": {},
   "outputs": [
    {
     "data": {
      "text/plain": [
       "np.str_('D')"
      ]
     },
     "execution_count": 35,
     "metadata": {},
     "output_type": "execute_result"
    }
   ],
   "source": [
    "np_array_2d[3]\n",
    "np_array_2d[3,1] #Directly gets you where you want to go"
   ]
  },
  {
   "cell_type": "code",
   "execution_count": null,
   "id": "14df63dd-67f7-4cb0-8bc3-c59d2b85bf97",
   "metadata": {},
   "outputs": [],
   "source": [
    "x=[][] #see on phone"
   ]
  },
  {
   "attachments": {},
   "cell_type": "markdown",
   "id": "92b103c2",
   "metadata": {},
   "source": [
    "## 1.4 Growing lists"
   ]
  },
  {
   "attachments": {},
   "cell_type": "markdown",
   "id": "00eaaade",
   "metadata": {},
   "source": [
    "# Some loose ends"
   ]
  },
  {
   "attachments": {},
   "cell_type": "markdown",
   "id": "72f081d8",
   "metadata": {},
   "source": [
    "## 1.5 Tuples"
   ]
  },
  {
   "attachments": {},
   "cell_type": "markdown",
   "id": "dd7b28d2",
   "metadata": {},
   "source": [
    "## 1.6 Be VERY careful when copying"
   ]
  },
  {
   "attachments": {},
   "cell_type": "markdown",
   "id": "f3827838",
   "metadata": {},
   "source": [
    "## Footnotes"
   ]
  }
 ],
 "metadata": {
  "kernelspec": {
   "display_name": "Python 3 (ipykernel)",
   "language": "python",
   "name": "python3"
  },
  "language_info": {
   "codemirror_mode": {
    "name": "ipython",
    "version": 3
   },
   "file_extension": ".py",
   "mimetype": "text/x-python",
   "name": "python",
   "nbconvert_exporter": "python",
   "pygments_lexer": "ipython3",
   "version": "3.12.3"
  },
  "toc": {
   "base_numbering": 1,
   "nav_menu": {},
   "number_sections": true,
   "sideBar": true,
   "skip_h1_title": false,
   "title_cell": "Table of Contents",
   "title_sidebar": "Contents",
   "toc_cell": false,
   "toc_position": {},
   "toc_section_display": true,
   "toc_window_display": false
  },
  "vscode": {
   "interpreter": {
    "hash": "31f2aee4e71d21fbe5cf8b01ff0e069b9275f58929596ceb00d14d90e3e16cd6"
   }
  }
 },
 "nbformat": 4,
 "nbformat_minor": 5
}
