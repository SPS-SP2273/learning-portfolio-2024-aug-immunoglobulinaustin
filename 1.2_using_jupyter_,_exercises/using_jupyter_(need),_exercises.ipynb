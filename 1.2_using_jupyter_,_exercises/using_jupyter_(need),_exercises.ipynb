{
 "cells": [
  {
   "attachments": {},
   "cell_type": "markdown",
   "id": "123456",
   "metadata": {},
   "source": [
    "<div style=\"text-align:left;font-size:2em\"><span style=\"font-weight:bolder;font-size:1.25em\">SP2273 | Learning Portfolio</span><br><br><span style=\"font-weight:bold;color:darkred\">Using Jupyter (Need), Exercises</span></div>"
   ]
  },
  {
   "attachments": {},
   "cell_type": "markdown",
   "id": "fc91f47a",
   "metadata": {},
   "source": [
    "# Quadratic Equations"
   ]
  },
  {
   "attachments": {},
   "cell_type": "markdown",
   "id": "05d75986",
   "metadata": {},
   "source": [
    "## Introduction"
   ]
  },
  {
   "cell_type": "markdown",
   "id": "dfaf1401-3fc6-4328-b9ab-d222c50ad199",
   "metadata": {},
   "source": [
    "![](https://upload.wikimedia.org/wikipedia/commons/thumb/f/f8/Polynomialdeg2.svg/300px-Polynomialdeg2.svg.png)\n",
    "\n",
    "*(Image from the [Wikipedia page on Quadratic equations](https://en.wikipedia.org/wiki/Quadratic_equation)*\n",
    "\n",
    "The general form of a quadratic equation is: \n",
    "\n",
    "<center> $a{x}^2$ + $b{x}$ + c = 0 </center>"
   ]
  },
  {
   "attachments": {},
   "cell_type": "markdown",
   "id": "1aeea781",
   "metadata": {},
   "source": [
    "## **Solutions**"
   ]
  },
  {
   "cell_type": "markdown",
   "id": "fc525ccb-5dc6-4a42-9fa6-85fdb920460b",
   "metadata": {},
   "source": [
    "Provided $a \\ne b$, we can use an elementary algebraic method called <ins>[completeing the square](https://en.wikipedia.org/wiki/Completing_the_square)</ins> to show that a quadratic equation has the following solution:\n",
    "\n",
    "<center> $$\n",
    "x = \\dfrac{-b \\pm \\sqrt{b^2-4ac}}{2a}\n",
    "$$ </center>"
   ]
  },
  {
   "attachments": {},
   "cell_type": "markdown",
   "id": "a0a27773",
   "metadata": {},
   "source": [
    "## **Discriminant**"
   ]
  },
  {
   "cell_type": "markdown",
   "id": "ab55afe0-d926-477d-afc6-025aff4b3d91",
   "metadata": {},
   "source": [
    "The quantity $\\Delta$ = $b^2$ - $4ac$ is called the **discriminant** of the equation and decides the nature of its solutions. The table below shows the various possibilities.\n"
   ]
  }
 ],
 "metadata": {
  "kernelspec": {
   "display_name": "Python 3 (ipykernel)",
   "language": "python",
   "name": "python3"
  },
  "language_info": {
   "codemirror_mode": {
    "name": "ipython",
    "version": 3
   },
   "file_extension": ".py",
   "mimetype": "text/x-python",
   "name": "python",
   "nbconvert_exporter": "python",
   "pygments_lexer": "ipython3",
   "version": "3.12.3"
  },
  "toc": {
   "base_numbering": 1,
   "nav_menu": {},
   "number_sections": true,
   "sideBar": true,
   "skip_h1_title": false,
   "title_cell": "Table of Contents",
   "title_sidebar": "Contents",
   "toc_cell": false,
   "toc_position": {},
   "toc_section_display": true,
   "toc_window_display": false
  },
  "vscode": {
   "interpreter": {
    "hash": "31f2aee4e71d21fbe5cf8b01ff0e069b9275f58929596ceb00d14d90e3e16cd6"
   }
  }
 },
 "nbformat": 4,
 "nbformat_minor": 5
}
