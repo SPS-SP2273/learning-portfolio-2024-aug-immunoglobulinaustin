{
 "cells": [
  {
   "attachments": {},
   "cell_type": "markdown",
   "id": "123456",
   "metadata": {},
   "source": [
    "<div style=\"text-align:left;font-size:2em\"><span style=\"font-weight:bolder;font-size:1.25em\">SP2273 | Learning Portfolio</span><br><br><span style=\"font-weight:bold;color:darkred\">Using Jupyter (Need), Exercises</span></div>"
   ]
  },
  {
   "attachments": {},
   "cell_type": "markdown",
   "id": "fc91f47a",
   "metadata": {},
   "source": [
    "# Quadratic Equations"
   ]
  },
  {
   "attachments": {},
   "cell_type": "markdown",
   "id": "05d75986",
   "metadata": {},
   "source": [
    "## Introduction"
   ]
  },
  {
   "cell_type": "markdown",
   "id": "dfaf1401-3fc6-4328-b9ab-d222c50ad199",
   "metadata": {},
   "source": [
    "![](https://upload.wikimedia.org/wikipedia/commons/thumb/f/f8/Polynomialdeg2.svg/300px-Polynomialdeg2.svg.png)\n",
    "\n",
    "*(Image from the [Wikipedia page on Quadratic equations](https://en.wikipedia.org/wiki/Quadratic_equation)*\n",
    "\n",
    "The general form of a quadratic equation is: \n",
    "\n",
    "<center> $a{x}^2$ + $b{x}$ + c = 0 </center>"
   ]
  },
  {
   "attachments": {},
   "cell_type": "markdown",
   "id": "1aeea781",
   "metadata": {},
   "source": [
    "## **Solutions**"
   ]
  },
  {
   "cell_type": "markdown",
   "id": "fc525ccb-5dc6-4a42-9fa6-85fdb920460b",
   "metadata": {},
   "source": [
    "Provided $a \\ne b$, we can use an elementary algebraic method called <ins>[completeing the square](https://en.wikipedia.org/wiki/Completing_the_square)</ins> to show that a quadratic equation has the following solution:\n",
    "\n",
    "<center> $$\n",
    "x = \\dfrac{-b \\pm \\sqrt{b^2-4ac}}{2a}\n",
    "$$ </center>"
   ]
  },
  {
   "attachments": {},
   "cell_type": "markdown",
   "id": "a0a27773",
   "metadata": {},
   "source": [
    "## **Discriminant**"
   ]
  },
  {
   "cell_type": "markdown",
   "id": "ab55afe0-d926-477d-afc6-025aff4b3d91",
   "metadata": {},
   "source": [
    "The quantity $\\Delta$ = $b^2$ - $4ac$ is called the **discriminant** of the equation and decides the nature of its solutions. The table below shows the various possibilities.\n",
    "\n",
    "| Discriminant                   | Roots                               |   |   |   |\n",
    "|--------------------------------|-------------------------------------|---|---|---|\n",
    "| $\\Delta$ = $b^2$ - $4ac$ = 0   | A single solution of $-b/(2a)$        |   |   |   |\n",
    "| $\\Delta$ = $b^2$ - $4ac$ $\\gt$ 0 | Two distinct solutions              |   |   |   |\n",
    "| $\\Delta$ = $b^2$ - $4ac$ $\\lt$ 0 | No real solutions; both are complex |   |   |   |"
   ]
  },
  {
   "cell_type": "markdown",
   "id": "9ea40ff9-de13-47dd-bdf6-f8ebd5e8ef7a",
   "metadata": {},
   "source": [
    "# Exercise 2\n",
    "\n",
    "1. Git repository is essentially a library to store your jupyter notebooks & associated files, where it records the previous versions of documents, provided that the user pushes it from your local drive to Git repository for cloud storage using Github Desktop.\n",
    "2. Git keeps tracks of <ins>changes and history</ins> in the files in our repository.\n",
    "3. Changes made to files locally on your drive through Jupyter Notebook will be listed in the \"changes\" tab of the Github desktop. Subsequently, you can choose the files to commit. Commiting is the act of choosing your desired file to be uploaded into Git repository through Github Desktop, and adding of a summary of the changes you have made to the file for easy reference.\n",
    "4. Pushing is the confirmationary step after committing, where your files are uploaded onto the Git Repository.\n",
    "5. Pulling is only available when changes are made in Git Repository directly (e.g., file name change, duplicate, move), where it extracts the edited file from Git Repository and replaces/adds/shifts it onto your local drive.\n",
    "6. Github Desktop serve to as a platform to sync between Github and your local drive. Github serves to keep records of your files and its history (track changes, edits etc.)"
   ]
  },
  {
   "cell_type": "markdown",
   "id": "e7f85e35-0c47-4a38-b4b1-73316f88c3b0",
   "metadata": {},
   "source": [
    "# Exercise 3\n",
    "$\\mu$ = $\\dfrac{1}{n}$ $\\sum\\limits_{i=1}^{n} x_i$ #using \\limits after \\sum allows limits to be added above and below the symbol\n",
    "\n",
    "$\\sigma$ = $\\sqrt{\\dfrac{1}{n} \\sum\\limits_{i=1}^{n} (x_i - \\mu)^2}$ #if its all under the same sqrt, use one set of $ will do\n",
    "\n",
    "$r$ = $\\frac{\\sum_{i=1}^{n} (x_i - \\mu X)(y_i - \\mu Y)}{\\sqrt{\\sum_{i=1}^{n} (x_i - \\mu X)^2 \\sum_{i=1}^{n} (y_i - \\mu Y)^2}}$\n"
   ]
  }
 ],
 "metadata": {
  "kernelspec": {
   "display_name": "Python 3 (ipykernel)",
   "language": "python",
   "name": "python3"
  },
  "language_info": {
   "codemirror_mode": {
    "name": "ipython",
    "version": 3
   },
   "file_extension": ".py",
   "mimetype": "text/x-python",
   "name": "python",
   "nbconvert_exporter": "python",
   "pygments_lexer": "ipython3",
   "version": "3.12.3"
  },
  "toc": {
   "base_numbering": 1,
   "nav_menu": {},
   "number_sections": true,
   "sideBar": true,
   "skip_h1_title": false,
   "title_cell": "Table of Contents",
   "title_sidebar": "Contents",
   "toc_cell": false,
   "toc_position": {},
   "toc_section_display": true,
   "toc_window_display": false
  },
  "vscode": {
   "interpreter": {
    "hash": "31f2aee4e71d21fbe5cf8b01ff0e069b9275f58929596ceb00d14d90e3e16cd6"
   }
  }
 },
 "nbformat": 4,
 "nbformat_minor": 5
}
